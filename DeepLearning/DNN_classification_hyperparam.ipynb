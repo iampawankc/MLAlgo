{
 "cells": [
  {
   "cell_type": "code",
   "execution_count": 2,
   "metadata": {},
   "outputs": [],
   "source": [
    "import numpy as np\n",
    "import pandas as pd\n",
    "import sklearn\n",
    "from sklearn.datasets import load_digits"
   ]
  },
  {
   "cell_type": "code",
   "execution_count": 3,
   "metadata": {},
   "outputs": [
    {
     "data": {
      "text/html": [
       "<div>\n",
       "<style scoped>\n",
       "    .dataframe tbody tr th:only-of-type {\n",
       "        vertical-align: middle;\n",
       "    }\n",
       "\n",
       "    .dataframe tbody tr th {\n",
       "        vertical-align: top;\n",
       "    }\n",
       "\n",
       "    .dataframe thead th {\n",
       "        text-align: right;\n",
       "    }\n",
       "</style>\n",
       "<table border=\"1\" class=\"dataframe\">\n",
       "  <thead>\n",
       "    <tr style=\"text-align: right;\">\n",
       "      <th></th>\n",
       "      <th>RowNumber</th>\n",
       "      <th>CustomerId</th>\n",
       "      <th>Surname</th>\n",
       "      <th>CreditScore</th>\n",
       "      <th>Geography</th>\n",
       "      <th>Gender</th>\n",
       "      <th>Age</th>\n",
       "      <th>Tenure</th>\n",
       "      <th>Balance</th>\n",
       "      <th>NumOfProducts</th>\n",
       "      <th>HasCrCard</th>\n",
       "      <th>IsActiveMember</th>\n",
       "      <th>EstimatedSalary</th>\n",
       "      <th>Exited</th>\n",
       "    </tr>\n",
       "  </thead>\n",
       "  <tbody>\n",
       "    <tr>\n",
       "      <th>0</th>\n",
       "      <td>1</td>\n",
       "      <td>15634602</td>\n",
       "      <td>Hargrave</td>\n",
       "      <td>619</td>\n",
       "      <td>France</td>\n",
       "      <td>Female</td>\n",
       "      <td>42</td>\n",
       "      <td>2</td>\n",
       "      <td>0.00</td>\n",
       "      <td>1</td>\n",
       "      <td>1</td>\n",
       "      <td>1</td>\n",
       "      <td>101348.88</td>\n",
       "      <td>1</td>\n",
       "    </tr>\n",
       "    <tr>\n",
       "      <th>1</th>\n",
       "      <td>2</td>\n",
       "      <td>15647311</td>\n",
       "      <td>Hill</td>\n",
       "      <td>608</td>\n",
       "      <td>Spain</td>\n",
       "      <td>Female</td>\n",
       "      <td>41</td>\n",
       "      <td>1</td>\n",
       "      <td>83807.86</td>\n",
       "      <td>1</td>\n",
       "      <td>0</td>\n",
       "      <td>1</td>\n",
       "      <td>112542.58</td>\n",
       "      <td>0</td>\n",
       "    </tr>\n",
       "    <tr>\n",
       "      <th>2</th>\n",
       "      <td>3</td>\n",
       "      <td>15619304</td>\n",
       "      <td>Onio</td>\n",
       "      <td>502</td>\n",
       "      <td>France</td>\n",
       "      <td>Female</td>\n",
       "      <td>42</td>\n",
       "      <td>8</td>\n",
       "      <td>159660.80</td>\n",
       "      <td>3</td>\n",
       "      <td>1</td>\n",
       "      <td>0</td>\n",
       "      <td>113931.57</td>\n",
       "      <td>1</td>\n",
       "    </tr>\n",
       "    <tr>\n",
       "      <th>3</th>\n",
       "      <td>4</td>\n",
       "      <td>15701354</td>\n",
       "      <td>Boni</td>\n",
       "      <td>699</td>\n",
       "      <td>France</td>\n",
       "      <td>Female</td>\n",
       "      <td>39</td>\n",
       "      <td>1</td>\n",
       "      <td>0.00</td>\n",
       "      <td>2</td>\n",
       "      <td>0</td>\n",
       "      <td>0</td>\n",
       "      <td>93826.63</td>\n",
       "      <td>0</td>\n",
       "    </tr>\n",
       "    <tr>\n",
       "      <th>4</th>\n",
       "      <td>5</td>\n",
       "      <td>15737888</td>\n",
       "      <td>Mitchell</td>\n",
       "      <td>850</td>\n",
       "      <td>Spain</td>\n",
       "      <td>Female</td>\n",
       "      <td>43</td>\n",
       "      <td>2</td>\n",
       "      <td>125510.82</td>\n",
       "      <td>1</td>\n",
       "      <td>1</td>\n",
       "      <td>1</td>\n",
       "      <td>79084.10</td>\n",
       "      <td>0</td>\n",
       "    </tr>\n",
       "  </tbody>\n",
       "</table>\n",
       "</div>"
      ],
      "text/plain": [
       "   RowNumber  CustomerId   Surname  CreditScore Geography  Gender  Age  \\\n",
       "0          1    15634602  Hargrave          619    France  Female   42   \n",
       "1          2    15647311      Hill          608     Spain  Female   41   \n",
       "2          3    15619304      Onio          502    France  Female   42   \n",
       "3          4    15701354      Boni          699    France  Female   39   \n",
       "4          5    15737888  Mitchell          850     Spain  Female   43   \n",
       "\n",
       "   Tenure    Balance  NumOfProducts  HasCrCard  IsActiveMember  \\\n",
       "0       2       0.00              1          1               1   \n",
       "1       1   83807.86              1          0               1   \n",
       "2       8  159660.80              3          1               0   \n",
       "3       1       0.00              2          0               0   \n",
       "4       2  125510.82              1          1               1   \n",
       "\n",
       "   EstimatedSalary  Exited  \n",
       "0        101348.88       1  \n",
       "1        112542.58       0  \n",
       "2        113931.57       1  \n",
       "3         93826.63       0  \n",
       "4         79084.10       0  "
      ]
     },
     "execution_count": 3,
     "metadata": {},
     "output_type": "execute_result"
    }
   ],
   "source": [
    "dataset = pd.read_csv('/Users/pawankumarkc/Documents/vscode_workspace/MLAlgo/datasets/Churn_Modelling.csv')\n",
    "dataset.head()"
   ]
  },
  {
   "cell_type": "code",
   "execution_count": 4,
   "metadata": {},
   "outputs": [
    {
     "data": {
      "text/plain": [
       "0    7963\n",
       "1    2037\n",
       "Name: Exited, dtype: int64"
      ]
     },
     "execution_count": 4,
     "metadata": {},
     "output_type": "execute_result"
    }
   ],
   "source": [
    "dataset['Exited'].value_counts()\n",
    "\n",
    "#Imbalanced data"
   ]
  },
  {
   "cell_type": "code",
   "execution_count": 5,
   "metadata": {},
   "outputs": [
    {
     "data": {
      "text/html": [
       "<div>\n",
       "<style scoped>\n",
       "    .dataframe tbody tr th:only-of-type {\n",
       "        vertical-align: middle;\n",
       "    }\n",
       "\n",
       "    .dataframe tbody tr th {\n",
       "        vertical-align: top;\n",
       "    }\n",
       "\n",
       "    .dataframe thead th {\n",
       "        text-align: right;\n",
       "    }\n",
       "</style>\n",
       "<table border=\"1\" class=\"dataframe\">\n",
       "  <thead>\n",
       "    <tr style=\"text-align: right;\">\n",
       "      <th></th>\n",
       "      <th>CreditScore</th>\n",
       "      <th>Geography</th>\n",
       "      <th>Gender</th>\n",
       "      <th>Age</th>\n",
       "      <th>Tenure</th>\n",
       "      <th>Balance</th>\n",
       "      <th>NumOfProducts</th>\n",
       "      <th>HasCrCard</th>\n",
       "      <th>IsActiveMember</th>\n",
       "      <th>EstimatedSalary</th>\n",
       "      <th>Exited</th>\n",
       "    </tr>\n",
       "  </thead>\n",
       "  <tbody>\n",
       "    <tr>\n",
       "      <th>0</th>\n",
       "      <td>619</td>\n",
       "      <td>France</td>\n",
       "      <td>Female</td>\n",
       "      <td>42</td>\n",
       "      <td>2</td>\n",
       "      <td>0.00</td>\n",
       "      <td>1</td>\n",
       "      <td>1</td>\n",
       "      <td>1</td>\n",
       "      <td>101348.88</td>\n",
       "      <td>1</td>\n",
       "    </tr>\n",
       "    <tr>\n",
       "      <th>1</th>\n",
       "      <td>608</td>\n",
       "      <td>Spain</td>\n",
       "      <td>Female</td>\n",
       "      <td>41</td>\n",
       "      <td>1</td>\n",
       "      <td>83807.86</td>\n",
       "      <td>1</td>\n",
       "      <td>0</td>\n",
       "      <td>1</td>\n",
       "      <td>112542.58</td>\n",
       "      <td>0</td>\n",
       "    </tr>\n",
       "    <tr>\n",
       "      <th>2</th>\n",
       "      <td>502</td>\n",
       "      <td>France</td>\n",
       "      <td>Female</td>\n",
       "      <td>42</td>\n",
       "      <td>8</td>\n",
       "      <td>159660.80</td>\n",
       "      <td>3</td>\n",
       "      <td>1</td>\n",
       "      <td>0</td>\n",
       "      <td>113931.57</td>\n",
       "      <td>1</td>\n",
       "    </tr>\n",
       "    <tr>\n",
       "      <th>3</th>\n",
       "      <td>699</td>\n",
       "      <td>France</td>\n",
       "      <td>Female</td>\n",
       "      <td>39</td>\n",
       "      <td>1</td>\n",
       "      <td>0.00</td>\n",
       "      <td>2</td>\n",
       "      <td>0</td>\n",
       "      <td>0</td>\n",
       "      <td>93826.63</td>\n",
       "      <td>0</td>\n",
       "    </tr>\n",
       "    <tr>\n",
       "      <th>4</th>\n",
       "      <td>850</td>\n",
       "      <td>Spain</td>\n",
       "      <td>Female</td>\n",
       "      <td>43</td>\n",
       "      <td>2</td>\n",
       "      <td>125510.82</td>\n",
       "      <td>1</td>\n",
       "      <td>1</td>\n",
       "      <td>1</td>\n",
       "      <td>79084.10</td>\n",
       "      <td>0</td>\n",
       "    </tr>\n",
       "  </tbody>\n",
       "</table>\n",
       "</div>"
      ],
      "text/plain": [
       "   CreditScore Geography  Gender  Age  Tenure    Balance  NumOfProducts  \\\n",
       "0          619    France  Female   42       2       0.00              1   \n",
       "1          608     Spain  Female   41       1   83807.86              1   \n",
       "2          502    France  Female   42       8  159660.80              3   \n",
       "3          699    France  Female   39       1       0.00              2   \n",
       "4          850     Spain  Female   43       2  125510.82              1   \n",
       "\n",
       "   HasCrCard  IsActiveMember  EstimatedSalary  Exited  \n",
       "0          1               1        101348.88       1  \n",
       "1          0               1        112542.58       0  \n",
       "2          1               0        113931.57       1  \n",
       "3          0               0         93826.63       0  \n",
       "4          1               1         79084.10       0  "
      ]
     },
     "execution_count": 5,
     "metadata": {},
     "output_type": "execute_result"
    }
   ],
   "source": [
    "dataset = dataset.iloc[:,3:]\n",
    "dataset.head()"
   ]
  },
  {
   "cell_type": "code",
   "execution_count": 6,
   "metadata": {},
   "outputs": [
    {
     "data": {
      "text/plain": [
       "CreditScore        0\n",
       "Geography          0\n",
       "Gender             0\n",
       "Age                0\n",
       "Tenure             0\n",
       "Balance            0\n",
       "NumOfProducts      0\n",
       "HasCrCard          0\n",
       "IsActiveMember     0\n",
       "EstimatedSalary    0\n",
       "Exited             0\n",
       "dtype: int64"
      ]
     },
     "execution_count": 6,
     "metadata": {},
     "output_type": "execute_result"
    }
   ],
   "source": [
    "dataset.isnull().sum()"
   ]
  },
  {
   "cell_type": "code",
   "execution_count": 7,
   "metadata": {},
   "outputs": [
    {
     "name": "stdout",
     "output_type": "stream",
     "text": [
      "<class 'pandas.core.frame.DataFrame'>\n",
      "RangeIndex: 10000 entries, 0 to 9999\n",
      "Data columns (total 11 columns):\n",
      " #   Column           Non-Null Count  Dtype  \n",
      "---  ------           --------------  -----  \n",
      " 0   CreditScore      10000 non-null  int64  \n",
      " 1   Geography        10000 non-null  object \n",
      " 2   Gender           10000 non-null  object \n",
      " 3   Age              10000 non-null  int64  \n",
      " 4   Tenure           10000 non-null  int64  \n",
      " 5   Balance          10000 non-null  float64\n",
      " 6   NumOfProducts    10000 non-null  int64  \n",
      " 7   HasCrCard        10000 non-null  int64  \n",
      " 8   IsActiveMember   10000 non-null  int64  \n",
      " 9   EstimatedSalary  10000 non-null  float64\n",
      " 10  Exited           10000 non-null  int64  \n",
      "dtypes: float64(2), int64(7), object(2)\n",
      "memory usage: 859.5+ KB\n"
     ]
    }
   ],
   "source": [
    "dataset.info()"
   ]
  },
  {
   "cell_type": "code",
   "execution_count": 8,
   "metadata": {},
   "outputs": [],
   "source": [
    "dataset = pd.get_dummies(dataset, columns=['Geography','Gender'], drop_first=True)"
   ]
  },
  {
   "cell_type": "code",
   "execution_count": 9,
   "metadata": {},
   "outputs": [
    {
     "data": {
      "text/html": [
       "<div>\n",
       "<style scoped>\n",
       "    .dataframe tbody tr th:only-of-type {\n",
       "        vertical-align: middle;\n",
       "    }\n",
       "\n",
       "    .dataframe tbody tr th {\n",
       "        vertical-align: top;\n",
       "    }\n",
       "\n",
       "    .dataframe thead th {\n",
       "        text-align: right;\n",
       "    }\n",
       "</style>\n",
       "<table border=\"1\" class=\"dataframe\">\n",
       "  <thead>\n",
       "    <tr style=\"text-align: right;\">\n",
       "      <th></th>\n",
       "      <th>CreditScore</th>\n",
       "      <th>Age</th>\n",
       "      <th>Tenure</th>\n",
       "      <th>Balance</th>\n",
       "      <th>NumOfProducts</th>\n",
       "      <th>HasCrCard</th>\n",
       "      <th>IsActiveMember</th>\n",
       "      <th>EstimatedSalary</th>\n",
       "      <th>Exited</th>\n",
       "      <th>Geography_Germany</th>\n",
       "      <th>Geography_Spain</th>\n",
       "      <th>Gender_Male</th>\n",
       "    </tr>\n",
       "  </thead>\n",
       "  <tbody>\n",
       "    <tr>\n",
       "      <th>0</th>\n",
       "      <td>619</td>\n",
       "      <td>42</td>\n",
       "      <td>2</td>\n",
       "      <td>0.00</td>\n",
       "      <td>1</td>\n",
       "      <td>1</td>\n",
       "      <td>1</td>\n",
       "      <td>101348.88</td>\n",
       "      <td>1</td>\n",
       "      <td>0</td>\n",
       "      <td>0</td>\n",
       "      <td>0</td>\n",
       "    </tr>\n",
       "    <tr>\n",
       "      <th>1</th>\n",
       "      <td>608</td>\n",
       "      <td>41</td>\n",
       "      <td>1</td>\n",
       "      <td>83807.86</td>\n",
       "      <td>1</td>\n",
       "      <td>0</td>\n",
       "      <td>1</td>\n",
       "      <td>112542.58</td>\n",
       "      <td>0</td>\n",
       "      <td>0</td>\n",
       "      <td>1</td>\n",
       "      <td>0</td>\n",
       "    </tr>\n",
       "    <tr>\n",
       "      <th>2</th>\n",
       "      <td>502</td>\n",
       "      <td>42</td>\n",
       "      <td>8</td>\n",
       "      <td>159660.80</td>\n",
       "      <td>3</td>\n",
       "      <td>1</td>\n",
       "      <td>0</td>\n",
       "      <td>113931.57</td>\n",
       "      <td>1</td>\n",
       "      <td>0</td>\n",
       "      <td>0</td>\n",
       "      <td>0</td>\n",
       "    </tr>\n",
       "    <tr>\n",
       "      <th>3</th>\n",
       "      <td>699</td>\n",
       "      <td>39</td>\n",
       "      <td>1</td>\n",
       "      <td>0.00</td>\n",
       "      <td>2</td>\n",
       "      <td>0</td>\n",
       "      <td>0</td>\n",
       "      <td>93826.63</td>\n",
       "      <td>0</td>\n",
       "      <td>0</td>\n",
       "      <td>0</td>\n",
       "      <td>0</td>\n",
       "    </tr>\n",
       "    <tr>\n",
       "      <th>4</th>\n",
       "      <td>850</td>\n",
       "      <td>43</td>\n",
       "      <td>2</td>\n",
       "      <td>125510.82</td>\n",
       "      <td>1</td>\n",
       "      <td>1</td>\n",
       "      <td>1</td>\n",
       "      <td>79084.10</td>\n",
       "      <td>0</td>\n",
       "      <td>0</td>\n",
       "      <td>1</td>\n",
       "      <td>0</td>\n",
       "    </tr>\n",
       "  </tbody>\n",
       "</table>\n",
       "</div>"
      ],
      "text/plain": [
       "   CreditScore  Age  Tenure    Balance  NumOfProducts  HasCrCard  \\\n",
       "0          619   42       2       0.00              1          1   \n",
       "1          608   41       1   83807.86              1          0   \n",
       "2          502   42       8  159660.80              3          1   \n",
       "3          699   39       1       0.00              2          0   \n",
       "4          850   43       2  125510.82              1          1   \n",
       "\n",
       "   IsActiveMember  EstimatedSalary  Exited  Geography_Germany  \\\n",
       "0               1        101348.88       1                  0   \n",
       "1               1        112542.58       0                  0   \n",
       "2               0        113931.57       1                  0   \n",
       "3               0         93826.63       0                  0   \n",
       "4               1         79084.10       0                  0   \n",
       "\n",
       "   Geography_Spain  Gender_Male  \n",
       "0                0            0  \n",
       "1                1            0  \n",
       "2                0            0  \n",
       "3                0            0  \n",
       "4                1            0  "
      ]
     },
     "execution_count": 9,
     "metadata": {},
     "output_type": "execute_result"
    }
   ],
   "source": [
    "dataset.head()"
   ]
  },
  {
   "cell_type": "code",
   "execution_count": 10,
   "metadata": {},
   "outputs": [],
   "source": [
    "## Split the data into dep and ind variable\n",
    "\n",
    "x = dataset.drop(['Exited'], axis=1) \n",
    "y = dataset[['Exited']]"
   ]
  },
  {
   "cell_type": "code",
   "execution_count": 11,
   "metadata": {},
   "outputs": [
    {
     "name": "stdout",
     "output_type": "stream",
     "text": [
      "Exited\n",
      "0         7963\n",
      "1         2037\n",
      "dtype: int64\n",
      "Exited\n",
      "0         7963\n",
      "1         7963\n",
      "dtype: int64\n"
     ]
    }
   ],
   "source": [
    "# Balance the data\n",
    "\n",
    "from imblearn.over_sampling import SMOTE\n",
    "smote = SMOTE()\n",
    "x_smote, y_smote = smote.fit_resample(x, y)\n",
    "print(y.value_counts())\n",
    "print(y_smote.value_counts())"
   ]
  },
  {
   "cell_type": "code",
   "execution_count": 12,
   "metadata": {},
   "outputs": [],
   "source": [
    "from sklearn.model_selection import train_test_split\n",
    "x_train, x_test, y_train, y_test = train_test_split(x_smote, y_smote, test_size=0.25, random_state=101)"
   ]
  },
  {
   "cell_type": "code",
   "execution_count": 13,
   "metadata": {},
   "outputs": [],
   "source": [
    "from sklearn.preprocessing import StandardScaler\n",
    "\n",
    "sc = StandardScaler()\n",
    "x_train = sc.fit_transform(x_train)\n",
    "x_test = sc.transform(x_test)"
   ]
  },
  {
   "cell_type": "code",
   "execution_count": 13,
   "metadata": {},
   "outputs": [],
   "source": [
    "#Hyperparam tuning\n",
    "\n",
    "#1. How many no. of hidden layer we should have?\n",
    "#2. How many no. of neurons we should have in each hidden layer?\n",
    "#3. Which activation to use in each hidden layer?\n",
    "#4. What is the best learning rate?\n",
    "\n",
    "from kerastuner.tuners import RandomSearch\n"
   ]
  },
  {
   "cell_type": "code",
   "execution_count": 14,
   "metadata": {},
   "outputs": [],
   "source": [
    "import tensorflow as tf\n",
    "from tensorflow import keras\n",
    "from keras import Sequential\n",
    "from keras.layers import Dense, Dropout, BatchNormalization"
   ]
  },
  {
   "cell_type": "code",
   "execution_count": null,
   "metadata": {},
   "outputs": [],
   "source": [
    "# Multi layer preceptron\n",
    "\n",
    "model = Sequential()\n",
    "model.add(Dense(32, activation='relu',input_dim=11))\n",
    "model.add(Dropout(0.5))\n",
    "model.add(BatchNormalization())\n",
    "\n",
    "model.add(Dense(32, activation='relu'))\n",
    "model.add(Dropout(0.5))\n",
    "model.add(BatchNormalization())\n",
    "\n",
    "model.add(Dense(1, activation='sigmoid'))\n",
    "\n",
    "model.summary()"
   ]
  },
  {
   "cell_type": "code",
   "execution_count": 28,
   "metadata": {},
   "outputs": [],
   "source": [
    "def build_model(hp):\n",
    "    model = Sequential()\n",
    "    #Assign hyperparam tuning - how many hidden layer??\n",
    "    counter=0\n",
    "    for i in range(hp.Int('no_hidden_layer', min_value=1, max_value=10)):\n",
    "        if counter==0:\n",
    "            model.add(Dense(hp.Int('no_nuerons'+ str(i), min_value=8, max_value=128, step=8), \n",
    "                                   activation=hp.Choice('activation_func'+str(i), values=['relu','leaky_relu']), input_dim=11))\n",
    "            model.add(Dropout(hp.Choice(\"Dropout\"+str(i), values=[0.1,0.2,0.3,0.4,0.5])))\n",
    "        else:\n",
    "            model.add(Dense(hp.Int('no_nuerons'+ str(i), min_value=8, max_value=128, step=8), \n",
    "                        activation=hp.Choice('activation_func'+str(i), values=['relu','leaky_relu'])))\n",
    "            model.add(Dropout(hp.Choice(\"Dropout\"+str(i), values=[0.1,0.2,0.3,0.4,0.5])))\n",
    "        counter+=1\n",
    "\n",
    "    model.add(Dense(1, activation='sigmoid')) # output layer, binary class= sigmoid\n",
    "    model.compile(optimizer=hp.Choice(\"Optimizer\", values=['adam', 'rmsprop','sgd']),\n",
    "                   loss='binary_crossentropy', metrics=['accuracy'])\n",
    "    return model\n",
    "    "
   ]
  },
  {
   "cell_type": "code",
   "execution_count": 29,
   "metadata": {},
   "outputs": [],
   "source": [
    "from kerastuner.tuners import RandomSearch\n",
    "import kerastuner as kt\n",
    "\n",
    "tuner = kt.RandomSearch(\n",
    "    build_model,\n",
    "    objective='val_accuracy',\n",
    "    max_trials=5,\n",
    "    directory='my_own_dir', project_name='HyperParam'\n",
    ")"
   ]
  },
  {
   "cell_type": "code",
   "execution_count": 30,
   "metadata": {},
   "outputs": [
    {
     "name": "stdout",
     "output_type": "stream",
     "text": [
      "Trial 5 Complete [00h 00m 01s]\n",
      "val_accuracy: 0.5657960772514343\n",
      "\n",
      "Best val_accuracy So Far: 0.5673028826713562\n",
      "Total elapsed time: 00h 00m 07s\n"
     ]
    }
   ],
   "source": [
    "tuner.search(x_train, y_train, epochs=5, validation_data=(x_test, y_test))"
   ]
  },
  {
   "cell_type": "code",
   "execution_count": 31,
   "metadata": {},
   "outputs": [
    {
     "data": {
      "text/plain": [
       "{'no_hidden_layer': 1,\n",
       " 'no_nuerons0': 112,\n",
       " 'activation_func0': 'leaky_relu',\n",
       " 'Dropout0': 0.2,\n",
       " 'Optimizer': 'adam',\n",
       " 'no_nuerons1': 128,\n",
       " 'activation_func1': 'relu',\n",
       " 'Dropout1': 0.1,\n",
       " 'no_nuerons2': 104,\n",
       " 'activation_func2': 'relu',\n",
       " 'Dropout2': 0.5,\n",
       " 'no_nuerons3': 120,\n",
       " 'activation_func3': 'leaky_relu',\n",
       " 'Dropout3': 0.4,\n",
       " 'no_nuerons4': 40,\n",
       " 'activation_func4': 'leaky_relu',\n",
       " 'Dropout4': 0.3,\n",
       " 'no_nuerons5': 32,\n",
       " 'activation_func5': 'leaky_relu',\n",
       " 'Dropout5': 0.2}"
      ]
     },
     "execution_count": 31,
     "metadata": {},
     "output_type": "execute_result"
    }
   ],
   "source": [
    "tuner.get_best_hyperparameters()[0].values"
   ]
  },
  {
   "cell_type": "code",
   "execution_count": 32,
   "metadata": {},
   "outputs": [],
   "source": [
    "model = tuner.get_best_models(num_models=1)[0]"
   ]
  },
  {
   "cell_type": "code",
   "execution_count": 33,
   "metadata": {},
   "outputs": [
    {
     "name": "stdout",
     "output_type": "stream",
     "text": [
      "Epoch 6/100\n",
      "374/374 [==============================] - 0s 559us/step - loss: 138.3109 - accuracy: 0.5110 - val_loss: 25.3471 - val_accuracy: 0.4992\n",
      "Epoch 7/100\n",
      "374/374 [==============================] - 0s 422us/step - loss: 49.9668 - accuracy: 0.5201 - val_loss: 17.5625 - val_accuracy: 0.5266\n",
      "Epoch 8/100\n",
      "374/374 [==============================] - 0s 421us/step - loss: 24.6668 - accuracy: 0.5233 - val_loss: 11.3523 - val_accuracy: 0.5678\n",
      "Epoch 9/100\n",
      "374/374 [==============================] - 0s 424us/step - loss: 19.0744 - accuracy: 0.5267 - val_loss: 22.2065 - val_accuracy: 0.5306\n",
      "Epoch 10/100\n",
      "374/374 [==============================] - 0s 429us/step - loss: 15.6286 - accuracy: 0.5280 - val_loss: 19.6709 - val_accuracy: 0.5093\n",
      "Epoch 11/100\n",
      "374/374 [==============================] - 0s 432us/step - loss: 13.0507 - accuracy: 0.5308 - val_loss: 2.8307 - val_accuracy: 0.5972\n",
      "Epoch 12/100\n",
      "374/374 [==============================] - 0s 425us/step - loss: 12.2712 - accuracy: 0.5234 - val_loss: 12.2323 - val_accuracy: 0.4706\n",
      "Epoch 13/100\n",
      "374/374 [==============================] - 0s 484us/step - loss: 10.5552 - accuracy: 0.5303 - val_loss: 19.5173 - val_accuracy: 0.5718\n",
      "Epoch 14/100\n",
      "374/374 [==============================] - 0s 430us/step - loss: 10.7217 - accuracy: 0.5279 - val_loss: 3.0965 - val_accuracy: 0.5173\n",
      "Epoch 15/100\n",
      "374/374 [==============================] - 0s 424us/step - loss: 8.4775 - accuracy: 0.5285 - val_loss: 3.7731 - val_accuracy: 0.5480\n",
      "Epoch 16/100\n",
      "374/374 [==============================] - 0s 421us/step - loss: 8.2772 - accuracy: 0.5300 - val_loss: 12.1937 - val_accuracy: 0.4854\n",
      "Epoch 17/100\n",
      "374/374 [==============================] - 0s 423us/step - loss: 5.2931 - accuracy: 0.5315 - val_loss: 2.4337 - val_accuracy: 0.5224\n",
      "Epoch 18/100\n",
      "374/374 [==============================] - 0s 423us/step - loss: 4.9205 - accuracy: 0.5356 - val_loss: 7.0656 - val_accuracy: 0.4940\n",
      "Epoch 19/100\n",
      "374/374 [==============================] - 0s 421us/step - loss: 4.5343 - accuracy: 0.5317 - val_loss: 2.8127 - val_accuracy: 0.5291\n",
      "Epoch 20/100\n",
      "374/374 [==============================] - 0s 418us/step - loss: 3.9271 - accuracy: 0.5337 - val_loss: 1.2429 - val_accuracy: 0.5158\n",
      "Epoch 21/100\n",
      "374/374 [==============================] - 0s 424us/step - loss: 2.9221 - accuracy: 0.5329 - val_loss: 3.8722 - val_accuracy: 0.4513\n",
      "Epoch 22/100\n",
      "374/374 [==============================] - 0s 420us/step - loss: 2.0991 - accuracy: 0.5398 - val_loss: 1.1483 - val_accuracy: 0.5733\n",
      "Epoch 23/100\n",
      "374/374 [==============================] - 0s 420us/step - loss: 1.9754 - accuracy: 0.5326 - val_loss: 1.4853 - val_accuracy: 0.5693\n",
      "Epoch 24/100\n",
      "374/374 [==============================] - 0s 421us/step - loss: 1.7842 - accuracy: 0.5291 - val_loss: 1.9644 - val_accuracy: 0.5103\n",
      "Epoch 25/100\n",
      "374/374 [==============================] - 0s 482us/step - loss: 1.2837 - accuracy: 0.5339 - val_loss: 1.2960 - val_accuracy: 0.5387\n",
      "Epoch 26/100\n",
      "374/374 [==============================] - 0s 423us/step - loss: 1.0548 - accuracy: 0.5386 - val_loss: 0.8310 - val_accuracy: 0.5711\n",
      "Epoch 27/100\n",
      "374/374 [==============================] - 0s 420us/step - loss: 1.0206 - accuracy: 0.5399 - val_loss: 0.7099 - val_accuracy: 0.5628\n",
      "Epoch 28/100\n",
      "374/374 [==============================] - 0s 423us/step - loss: 0.9142 - accuracy: 0.5457 - val_loss: 0.9176 - val_accuracy: 0.5512\n",
      "Epoch 29/100\n",
      "374/374 [==============================] - 0s 421us/step - loss: 0.8188 - accuracy: 0.5533 - val_loss: 0.7375 - val_accuracy: 0.5289\n",
      "Epoch 30/100\n",
      "374/374 [==============================] - 0s 433us/step - loss: 0.7635 - accuracy: 0.5483 - val_loss: 0.6777 - val_accuracy: 0.5060\n",
      "Epoch 31/100\n",
      "374/374 [==============================] - 0s 422us/step - loss: 0.7167 - accuracy: 0.5641 - val_loss: 0.8568 - val_accuracy: 0.5414\n",
      "Epoch 32/100\n",
      "374/374 [==============================] - 0s 421us/step - loss: 0.7341 - accuracy: 0.5580 - val_loss: 0.7478 - val_accuracy: 0.5756\n",
      "Epoch 33/100\n",
      "374/374 [==============================] - 0s 420us/step - loss: 0.7260 - accuracy: 0.5528 - val_loss: 0.6757 - val_accuracy: 0.5681\n",
      "Epoch 34/100\n",
      "374/374 [==============================] - 0s 425us/step - loss: 0.7364 - accuracy: 0.5516 - val_loss: 0.7410 - val_accuracy: 0.5331\n",
      "Epoch 35/100\n",
      "374/374 [==============================] - 0s 433us/step - loss: 0.7278 - accuracy: 0.5592 - val_loss: 0.6487 - val_accuracy: 0.6354\n",
      "Epoch 36/100\n",
      "374/374 [==============================] - 0s 496us/step - loss: 0.7478 - accuracy: 0.5529 - val_loss: 0.7621 - val_accuracy: 0.5010\n",
      "Epoch 37/100\n",
      "374/374 [==============================] - 0s 425us/step - loss: 0.7774 - accuracy: 0.5474 - val_loss: 0.9862 - val_accuracy: 0.5718\n",
      "Epoch 38/100\n",
      "374/374 [==============================] - 0s 435us/step - loss: 0.7180 - accuracy: 0.5571 - val_loss: 0.6698 - val_accuracy: 0.5706\n",
      "Epoch 39/100\n",
      "374/374 [==============================] - 0s 424us/step - loss: 0.7950 - accuracy: 0.5483 - val_loss: 1.0711 - val_accuracy: 0.5261\n",
      "Epoch 40/100\n",
      "374/374 [==============================] - 0s 425us/step - loss: 0.8057 - accuracy: 0.5367 - val_loss: 0.6689 - val_accuracy: 0.6178\n",
      "Epoch 41/100\n",
      "374/374 [==============================] - 0s 425us/step - loss: 0.7557 - accuracy: 0.5563 - val_loss: 0.8414 - val_accuracy: 0.4992\n",
      "Epoch 42/100\n",
      "374/374 [==============================] - 0s 422us/step - loss: 0.7695 - accuracy: 0.5570 - val_loss: 0.8950 - val_accuracy: 0.5439\n",
      "Epoch 43/100\n",
      "374/374 [==============================] - 0s 422us/step - loss: 0.7699 - accuracy: 0.5555 - val_loss: 0.8339 - val_accuracy: 0.5357\n",
      "Epoch 44/100\n",
      "374/374 [==============================] - 0s 425us/step - loss: 0.7973 - accuracy: 0.5407 - val_loss: 0.9850 - val_accuracy: 0.5191\n",
      "Epoch 45/100\n",
      "374/374 [==============================] - 0s 421us/step - loss: 0.7676 - accuracy: 0.5522 - val_loss: 0.7814 - val_accuracy: 0.5309\n",
      "Epoch 46/100\n",
      "374/374 [==============================] - 0s 422us/step - loss: 0.7936 - accuracy: 0.5457 - val_loss: 0.8519 - val_accuracy: 0.5414\n",
      "Epoch 47/100\n",
      "374/374 [==============================] - 0s 423us/step - loss: 0.7752 - accuracy: 0.5613 - val_loss: 0.9702 - val_accuracy: 0.5331\n",
      "Epoch 48/100\n",
      "374/374 [==============================] - 0s 421us/step - loss: 0.8162 - accuracy: 0.5450 - val_loss: 0.7542 - val_accuracy: 0.5470\n",
      "Epoch 49/100\n",
      "374/374 [==============================] - 0s 478us/step - loss: 0.8623 - accuracy: 0.5503 - val_loss: 0.6699 - val_accuracy: 0.5919\n",
      "Epoch 50/100\n",
      "374/374 [==============================] - 0s 423us/step - loss: 0.7407 - accuracy: 0.5630 - val_loss: 0.6750 - val_accuracy: 0.5789\n",
      "Epoch 51/100\n",
      "374/374 [==============================] - 0s 418us/step - loss: 0.7688 - accuracy: 0.5573 - val_loss: 0.7886 - val_accuracy: 0.5555\n",
      "Epoch 52/100\n",
      "374/374 [==============================] - 0s 420us/step - loss: 0.8178 - accuracy: 0.5527 - val_loss: 0.6849 - val_accuracy: 0.4977\n",
      "Epoch 53/100\n",
      "374/374 [==============================] - 0s 421us/step - loss: 0.8531 - accuracy: 0.5519 - val_loss: 0.6864 - val_accuracy: 0.5595\n",
      "Epoch 54/100\n",
      "374/374 [==============================] - 0s 424us/step - loss: 0.7769 - accuracy: 0.5585 - val_loss: 0.7377 - val_accuracy: 0.5003\n",
      "Epoch 55/100\n",
      "374/374 [==============================] - 0s 428us/step - loss: 0.7701 - accuracy: 0.5620 - val_loss: 0.8237 - val_accuracy: 0.5618\n",
      "Epoch 56/100\n",
      "374/374 [==============================] - 0s 422us/step - loss: 0.7798 - accuracy: 0.5634 - val_loss: 1.3404 - val_accuracy: 0.5000\n",
      "Epoch 57/100\n",
      "374/374 [==============================] - 0s 424us/step - loss: 0.7540 - accuracy: 0.5662 - val_loss: 0.7045 - val_accuracy: 0.5824\n",
      "Epoch 58/100\n",
      "374/374 [==============================] - 0s 422us/step - loss: 0.8273 - accuracy: 0.5602 - val_loss: 1.1585 - val_accuracy: 0.5495\n",
      "Epoch 59/100\n",
      "374/374 [==============================] - 0s 421us/step - loss: 0.8067 - accuracy: 0.5590 - val_loss: 0.6689 - val_accuracy: 0.6067\n",
      "Epoch 60/100\n",
      "374/374 [==============================] - 0s 420us/step - loss: 0.8399 - accuracy: 0.5519 - val_loss: 0.6756 - val_accuracy: 0.5829\n",
      "Epoch 61/100\n",
      "374/374 [==============================] - 0s 423us/step - loss: 0.7441 - accuracy: 0.5820 - val_loss: 0.7131 - val_accuracy: 0.5959\n",
      "Epoch 62/100\n",
      "374/374 [==============================] - 0s 486us/step - loss: 0.8181 - accuracy: 0.5656 - val_loss: 0.6510 - val_accuracy: 0.6321\n",
      "Epoch 63/100\n",
      "374/374 [==============================] - 0s 422us/step - loss: 0.7602 - accuracy: 0.5729 - val_loss: 0.8963 - val_accuracy: 0.5279\n",
      "Epoch 64/100\n",
      "374/374 [==============================] - 0s 424us/step - loss: 0.8264 - accuracy: 0.5620 - val_loss: 0.6679 - val_accuracy: 0.5736\n",
      "Epoch 65/100\n",
      "374/374 [==============================] - 0s 421us/step - loss: 0.7452 - accuracy: 0.5801 - val_loss: 0.7459 - val_accuracy: 0.5829\n",
      "Epoch 66/100\n",
      "374/374 [==============================] - 0s 422us/step - loss: 0.7283 - accuracy: 0.5872 - val_loss: 0.6996 - val_accuracy: 0.5987\n",
      "Epoch 67/100\n",
      "374/374 [==============================] - 0s 425us/step - loss: 0.7752 - accuracy: 0.5739 - val_loss: 0.6410 - val_accuracy: 0.6273\n",
      "Epoch 68/100\n",
      "374/374 [==============================] - 0s 422us/step - loss: 0.8095 - accuracy: 0.5738 - val_loss: 0.7981 - val_accuracy: 0.5424\n",
      "Epoch 69/100\n",
      "374/374 [==============================] - 0s 421us/step - loss: 0.7507 - accuracy: 0.5785 - val_loss: 0.7109 - val_accuracy: 0.5600\n",
      "Epoch 70/100\n",
      "374/374 [==============================] - 0s 424us/step - loss: 0.9583 - accuracy: 0.5589 - val_loss: 0.6457 - val_accuracy: 0.6321\n",
      "Epoch 71/100\n",
      "374/374 [==============================] - 0s 422us/step - loss: 0.7333 - accuracy: 0.5905 - val_loss: 0.6703 - val_accuracy: 0.5221\n",
      "Epoch 72/100\n",
      "374/374 [==============================] - 0s 427us/step - loss: 0.7229 - accuracy: 0.5898 - val_loss: 0.8489 - val_accuracy: 0.5671\n",
      "Epoch 73/100\n",
      "374/374 [==============================] - 0s 423us/step - loss: 0.7645 - accuracy: 0.5779 - val_loss: 1.3750 - val_accuracy: 0.5316\n",
      "Epoch 74/100\n",
      "374/374 [==============================] - 0s 480us/step - loss: 0.7619 - accuracy: 0.5816 - val_loss: 1.0246 - val_accuracy: 0.5460\n",
      "Epoch 75/100\n",
      "374/374 [==============================] - 0s 423us/step - loss: 0.7507 - accuracy: 0.5923 - val_loss: 1.0788 - val_accuracy: 0.5357\n",
      "Epoch 76/100\n",
      "374/374 [==============================] - 0s 422us/step - loss: 0.7769 - accuracy: 0.5849 - val_loss: 1.2573 - val_accuracy: 0.5065\n",
      "Epoch 77/100\n",
      "374/374 [==============================] - 0s 427us/step - loss: 0.7576 - accuracy: 0.5826 - val_loss: 1.0256 - val_accuracy: 0.5040\n",
      "Epoch 78/100\n",
      "374/374 [==============================] - 0s 420us/step - loss: 0.7680 - accuracy: 0.5836 - val_loss: 0.8769 - val_accuracy: 0.5301\n",
      "Epoch 79/100\n",
      "374/374 [==============================] - 0s 425us/step - loss: 0.7837 - accuracy: 0.5845 - val_loss: 0.9016 - val_accuracy: 0.5836\n",
      "Epoch 80/100\n",
      "374/374 [==============================] - 0s 421us/step - loss: 0.7837 - accuracy: 0.5824 - val_loss: 0.6572 - val_accuracy: 0.6138\n",
      "Epoch 81/100\n",
      "374/374 [==============================] - 0s 422us/step - loss: 0.7658 - accuracy: 0.5897 - val_loss: 0.6466 - val_accuracy: 0.6105\n",
      "Epoch 82/100\n",
      "374/374 [==============================] - 0s 422us/step - loss: 0.7357 - accuracy: 0.6037 - val_loss: 0.7856 - val_accuracy: 0.6123\n",
      "Epoch 83/100\n",
      "374/374 [==============================] - 0s 423us/step - loss: 0.8593 - accuracy: 0.5826 - val_loss: 1.0661 - val_accuracy: 0.5060\n",
      "Epoch 84/100\n",
      "374/374 [==============================] - 0s 422us/step - loss: 0.7754 - accuracy: 0.5903 - val_loss: 0.8585 - val_accuracy: 0.5537\n",
      "Epoch 85/100\n",
      "374/374 [==============================] - 0s 424us/step - loss: 0.8203 - accuracy: 0.5810 - val_loss: 0.6217 - val_accuracy: 0.6406\n",
      "Epoch 86/100\n",
      "374/374 [==============================] - 0s 419us/step - loss: 0.7366 - accuracy: 0.5902 - val_loss: 0.6961 - val_accuracy: 0.5992\n",
      "Epoch 87/100\n",
      "374/374 [==============================] - 0s 481us/step - loss: 0.7393 - accuracy: 0.6026 - val_loss: 0.6250 - val_accuracy: 0.6519\n",
      "Epoch 88/100\n",
      "374/374 [==============================] - 0s 420us/step - loss: 0.7455 - accuracy: 0.5965 - val_loss: 0.7895 - val_accuracy: 0.5429\n",
      "Epoch 89/100\n",
      "374/374 [==============================] - 0s 421us/step - loss: 0.7157 - accuracy: 0.6058 - val_loss: 0.6096 - val_accuracy: 0.6572\n",
      "Epoch 90/100\n",
      "374/374 [==============================] - 0s 421us/step - loss: 0.7963 - accuracy: 0.5934 - val_loss: 0.8181 - val_accuracy: 0.5058\n",
      "Epoch 91/100\n",
      "374/374 [==============================] - 0s 420us/step - loss: 0.7616 - accuracy: 0.5911 - val_loss: 0.6926 - val_accuracy: 0.5773\n",
      "Epoch 92/100\n",
      "374/374 [==============================] - 0s 421us/step - loss: 0.7580 - accuracy: 0.5992 - val_loss: 0.8831 - val_accuracy: 0.5527\n",
      "Epoch 93/100\n",
      "374/374 [==============================] - 0s 422us/step - loss: 0.8654 - accuracy: 0.5798 - val_loss: 0.9219 - val_accuracy: 0.5244\n",
      "Epoch 94/100\n",
      "374/374 [==============================] - 0s 421us/step - loss: 0.6991 - accuracy: 0.6113 - val_loss: 0.6512 - val_accuracy: 0.6278\n",
      "Epoch 95/100\n",
      "374/374 [==============================] - 0s 421us/step - loss: 0.7758 - accuracy: 0.5892 - val_loss: 1.4607 - val_accuracy: 0.5311\n",
      "Epoch 96/100\n",
      "374/374 [==============================] - 0s 420us/step - loss: 0.7822 - accuracy: 0.5859 - val_loss: 0.6405 - val_accuracy: 0.6318\n",
      "Epoch 97/100\n",
      "374/374 [==============================] - 0s 421us/step - loss: 0.7226 - accuracy: 0.6134 - val_loss: 1.1969 - val_accuracy: 0.5058\n",
      "Epoch 98/100\n",
      "374/374 [==============================] - 0s 421us/step - loss: 0.7543 - accuracy: 0.6134 - val_loss: 1.5990 - val_accuracy: 0.5126\n",
      "Epoch 99/100\n",
      "374/374 [==============================] - 0s 421us/step - loss: 0.7907 - accuracy: 0.6078 - val_loss: 0.6252 - val_accuracy: 0.6426\n",
      "Epoch 100/100\n",
      "374/374 [==============================] - 0s 478us/step - loss: 0.7891 - accuracy: 0.6051 - val_loss: 0.6428 - val_accuracy: 0.6165\n"
     ]
    },
    {
     "data": {
      "text/plain": [
       "<keras.src.callbacks.History at 0x2966b40d0>"
      ]
     },
     "execution_count": 33,
     "metadata": {},
     "output_type": "execute_result"
    }
   ],
   "source": [
    "model.fit(x_train, y_train, batch_size=32, epochs=100, initial_epoch=5, validation_data=(x_test, y_test))"
   ]
  },
  {
   "cell_type": "markdown",
   "metadata": {},
   "source": [
    "## pytorch DNN"
   ]
  },
  {
   "cell_type": "code",
   "execution_count": 35,
   "metadata": {},
   "outputs": [],
   "source": [
    "import torch\n",
    "from torch import nn    #neural network\n",
    "from torch.nn import functional as f    #functional api\n",
    "import torch.optim as optim\n",
    "from torch.utils.data import DataLoader, Dataset\n",
    "\n",
    "#Brest cancer datset - classification\n",
    "import numpy as np\n",
    "import pandas as pd\n",
    "import matplotlib.pyplot as plt\n",
    "from sklearn.datasets import load_breast_cancer\n",
    "from sklearn.model_selection import train_test_split\n",
    "from sklearn.preprocessing import StandardScaler\n",
    "from sklearn.metrics import confusion_matrix, classification_report\n",
    "\n",
    "from tqdm import tqdm #Progress package"
   ]
  },
  {
   "cell_type": "code",
   "execution_count": 36,
   "metadata": {},
   "outputs": [
    {
     "data": {
      "text/plain": [
       "{'data': array([[1.799e+01, 1.038e+01, 1.228e+02, ..., 2.654e-01, 4.601e-01,\n",
       "         1.189e-01],\n",
       "        [2.057e+01, 1.777e+01, 1.329e+02, ..., 1.860e-01, 2.750e-01,\n",
       "         8.902e-02],\n",
       "        [1.969e+01, 2.125e+01, 1.300e+02, ..., 2.430e-01, 3.613e-01,\n",
       "         8.758e-02],\n",
       "        ...,\n",
       "        [1.660e+01, 2.808e+01, 1.083e+02, ..., 1.418e-01, 2.218e-01,\n",
       "         7.820e-02],\n",
       "        [2.060e+01, 2.933e+01, 1.401e+02, ..., 2.650e-01, 4.087e-01,\n",
       "         1.240e-01],\n",
       "        [7.760e+00, 2.454e+01, 4.792e+01, ..., 0.000e+00, 2.871e-01,\n",
       "         7.039e-02]]),\n",
       " 'target': array([0, 0, 0, 0, 0, 0, 0, 0, 0, 0, 0, 0, 0, 0, 0, 0, 0, 0, 0, 1, 1, 1,\n",
       "        0, 0, 0, 0, 0, 0, 0, 0, 0, 0, 0, 0, 0, 0, 0, 1, 0, 0, 0, 0, 0, 0,\n",
       "        0, 0, 1, 0, 1, 1, 1, 1, 1, 0, 0, 1, 0, 0, 1, 1, 1, 1, 0, 1, 0, 0,\n",
       "        1, 1, 1, 1, 0, 1, 0, 0, 1, 0, 1, 0, 0, 1, 1, 1, 0, 0, 1, 0, 0, 0,\n",
       "        1, 1, 1, 0, 1, 1, 0, 0, 1, 1, 1, 0, 0, 1, 1, 1, 1, 0, 1, 1, 0, 1,\n",
       "        1, 1, 1, 1, 1, 1, 1, 0, 0, 0, 1, 0, 0, 1, 1, 1, 0, 0, 1, 0, 1, 0,\n",
       "        0, 1, 0, 0, 1, 1, 0, 1, 1, 0, 1, 1, 1, 1, 0, 1, 1, 1, 1, 1, 1, 1,\n",
       "        1, 1, 0, 1, 1, 1, 1, 0, 0, 1, 0, 1, 1, 0, 0, 1, 1, 0, 0, 1, 1, 1,\n",
       "        1, 0, 1, 1, 0, 0, 0, 1, 0, 1, 0, 1, 1, 1, 0, 1, 1, 0, 0, 1, 0, 0,\n",
       "        0, 0, 1, 0, 0, 0, 1, 0, 1, 0, 1, 1, 0, 1, 0, 0, 0, 0, 1, 1, 0, 0,\n",
       "        1, 1, 1, 0, 1, 1, 1, 1, 1, 0, 0, 1, 1, 0, 1, 1, 0, 0, 1, 0, 1, 1,\n",
       "        1, 1, 0, 1, 1, 1, 1, 1, 0, 1, 0, 0, 0, 0, 0, 0, 0, 0, 0, 0, 0, 0,\n",
       "        0, 0, 1, 1, 1, 1, 1, 1, 0, 1, 0, 1, 1, 0, 1, 1, 0, 1, 0, 0, 1, 1,\n",
       "        1, 1, 1, 1, 1, 1, 1, 1, 1, 1, 1, 0, 1, 1, 0, 1, 0, 1, 1, 1, 1, 1,\n",
       "        1, 1, 1, 1, 1, 1, 1, 1, 1, 0, 1, 1, 1, 0, 1, 0, 1, 1, 1, 1, 0, 0,\n",
       "        0, 1, 1, 1, 1, 0, 1, 0, 1, 0, 1, 1, 1, 0, 1, 1, 1, 1, 1, 1, 1, 0,\n",
       "        0, 0, 1, 1, 1, 1, 1, 1, 1, 1, 1, 1, 1, 0, 0, 1, 0, 0, 0, 1, 0, 0,\n",
       "        1, 1, 1, 1, 1, 0, 1, 1, 1, 1, 1, 0, 1, 1, 1, 0, 1, 1, 0, 0, 1, 1,\n",
       "        1, 1, 1, 1, 0, 1, 1, 1, 1, 1, 1, 1, 0, 1, 1, 1, 1, 1, 0, 1, 1, 0,\n",
       "        1, 1, 1, 1, 1, 1, 1, 1, 1, 1, 1, 1, 0, 1, 0, 0, 1, 0, 1, 1, 1, 1,\n",
       "        1, 0, 1, 1, 0, 1, 0, 1, 1, 0, 1, 0, 1, 1, 1, 1, 1, 1, 1, 1, 0, 0,\n",
       "        1, 1, 1, 1, 1, 1, 0, 1, 1, 1, 1, 1, 1, 1, 1, 1, 1, 0, 1, 1, 1, 1,\n",
       "        1, 1, 1, 0, 1, 0, 1, 1, 0, 1, 1, 1, 1, 1, 0, 0, 1, 0, 1, 0, 1, 1,\n",
       "        1, 1, 1, 0, 1, 1, 0, 1, 0, 1, 0, 0, 1, 1, 1, 0, 1, 1, 1, 1, 1, 1,\n",
       "        1, 1, 1, 1, 1, 0, 1, 0, 0, 1, 1, 1, 1, 1, 1, 1, 1, 1, 1, 1, 1, 1,\n",
       "        1, 1, 1, 1, 1, 1, 1, 1, 1, 1, 1, 1, 0, 0, 0, 0, 0, 0, 1]),\n",
       " 'frame': None,\n",
       " 'target_names': array(['malignant', 'benign'], dtype='<U9'),\n",
       " 'DESCR': '.. _breast_cancer_dataset:\\n\\nBreast cancer wisconsin (diagnostic) dataset\\n--------------------------------------------\\n\\n**Data Set Characteristics:**\\n\\n    :Number of Instances: 569\\n\\n    :Number of Attributes: 30 numeric, predictive attributes and the class\\n\\n    :Attribute Information:\\n        - radius (mean of distances from center to points on the perimeter)\\n        - texture (standard deviation of gray-scale values)\\n        - perimeter\\n        - area\\n        - smoothness (local variation in radius lengths)\\n        - compactness (perimeter^2 / area - 1.0)\\n        - concavity (severity of concave portions of the contour)\\n        - concave points (number of concave portions of the contour)\\n        - symmetry\\n        - fractal dimension (\"coastline approximation\" - 1)\\n\\n        The mean, standard error, and \"worst\" or largest (mean of the three\\n        worst/largest values) of these features were computed for each image,\\n        resulting in 30 features.  For instance, field 0 is Mean Radius, field\\n        10 is Radius SE, field 20 is Worst Radius.\\n\\n        - class:\\n                - WDBC-Malignant\\n                - WDBC-Benign\\n\\n    :Summary Statistics:\\n\\n    ===================================== ====== ======\\n                                           Min    Max\\n    ===================================== ====== ======\\n    radius (mean):                        6.981  28.11\\n    texture (mean):                       9.71   39.28\\n    perimeter (mean):                     43.79  188.5\\n    area (mean):                          143.5  2501.0\\n    smoothness (mean):                    0.053  0.163\\n    compactness (mean):                   0.019  0.345\\n    concavity (mean):                     0.0    0.427\\n    concave points (mean):                0.0    0.201\\n    symmetry (mean):                      0.106  0.304\\n    fractal dimension (mean):             0.05   0.097\\n    radius (standard error):              0.112  2.873\\n    texture (standard error):             0.36   4.885\\n    perimeter (standard error):           0.757  21.98\\n    area (standard error):                6.802  542.2\\n    smoothness (standard error):          0.002  0.031\\n    compactness (standard error):         0.002  0.135\\n    concavity (standard error):           0.0    0.396\\n    concave points (standard error):      0.0    0.053\\n    symmetry (standard error):            0.008  0.079\\n    fractal dimension (standard error):   0.001  0.03\\n    radius (worst):                       7.93   36.04\\n    texture (worst):                      12.02  49.54\\n    perimeter (worst):                    50.41  251.2\\n    area (worst):                         185.2  4254.0\\n    smoothness (worst):                   0.071  0.223\\n    compactness (worst):                  0.027  1.058\\n    concavity (worst):                    0.0    1.252\\n    concave points (worst):               0.0    0.291\\n    symmetry (worst):                     0.156  0.664\\n    fractal dimension (worst):            0.055  0.208\\n    ===================================== ====== ======\\n\\n    :Missing Attribute Values: None\\n\\n    :Class Distribution: 212 - Malignant, 357 - Benign\\n\\n    :Creator:  Dr. William H. Wolberg, W. Nick Street, Olvi L. Mangasarian\\n\\n    :Donor: Nick Street\\n\\n    :Date: November, 1995\\n\\nThis is a copy of UCI ML Breast Cancer Wisconsin (Diagnostic) datasets.\\nhttps://goo.gl/U2Uwz2\\n\\nFeatures are computed from a digitized image of a fine needle\\naspirate (FNA) of a breast mass.  They describe\\ncharacteristics of the cell nuclei present in the image.\\n\\nSeparating plane described above was obtained using\\nMultisurface Method-Tree (MSM-T) [K. P. Bennett, \"Decision Tree\\nConstruction Via Linear Programming.\" Proceedings of the 4th\\nMidwest Artificial Intelligence and Cognitive Science Society,\\npp. 97-101, 1992], a classification method which uses linear\\nprogramming to construct a decision tree.  Relevant features\\nwere selected using an exhaustive search in the space of 1-4\\nfeatures and 1-3 separating planes.\\n\\nThe actual linear program used to obtain the separating plane\\nin the 3-dimensional space is that described in:\\n[K. P. Bennett and O. L. Mangasarian: \"Robust Linear\\nProgramming Discrimination of Two Linearly Inseparable Sets\",\\nOptimization Methods and Software 1, 1992, 23-34].\\n\\nThis database is also available through the UW CS ftp server:\\n\\nftp ftp.cs.wisc.edu\\ncd math-prog/cpo-dataset/machine-learn/WDBC/\\n\\n.. topic:: References\\n\\n   - W.N. Street, W.H. Wolberg and O.L. Mangasarian. Nuclear feature extraction \\n     for breast tumor diagnosis. IS&T/SPIE 1993 International Symposium on \\n     Electronic Imaging: Science and Technology, volume 1905, pages 861-870,\\n     San Jose, CA, 1993.\\n   - O.L. Mangasarian, W.N. Street and W.H. Wolberg. Breast cancer diagnosis and \\n     prognosis via linear programming. Operations Research, 43(4), pages 570-577, \\n     July-August 1995.\\n   - W.H. Wolberg, W.N. Street, and O.L. Mangasarian. Machine learning techniques\\n     to diagnose breast cancer from fine-needle aspirates. Cancer Letters 77 (1994) \\n     163-171.',\n",
       " 'feature_names': array(['mean radius', 'mean texture', 'mean perimeter', 'mean area',\n",
       "        'mean smoothness', 'mean compactness', 'mean concavity',\n",
       "        'mean concave points', 'mean symmetry', 'mean fractal dimension',\n",
       "        'radius error', 'texture error', 'perimeter error', 'area error',\n",
       "        'smoothness error', 'compactness error', 'concavity error',\n",
       "        'concave points error', 'symmetry error',\n",
       "        'fractal dimension error', 'worst radius', 'worst texture',\n",
       "        'worst perimeter', 'worst area', 'worst smoothness',\n",
       "        'worst compactness', 'worst concavity', 'worst concave points',\n",
       "        'worst symmetry', 'worst fractal dimension'], dtype='<U23'),\n",
       " 'filename': 'breast_cancer.csv',\n",
       " 'data_module': 'sklearn.datasets.data'}"
      ]
     },
     "execution_count": 36,
     "metadata": {},
     "output_type": "execute_result"
    }
   ],
   "source": [
    "#loading dataset\n",
    "\n",
    "data = load_breast_cancer()\n",
    "data"
   ]
  },
  {
   "cell_type": "code",
   "execution_count": 37,
   "metadata": {},
   "outputs": [
    {
     "name": "stdout",
     "output_type": "stream",
     "text": [
      "Size x = (569, 30)\n",
      "Size y =  (569,)\n"
     ]
    }
   ],
   "source": [
    "x = data['data']\n",
    "y = data['target']\n",
    "\n",
    "print(f\"Size x = {x.shape}\")\n",
    "print(f\"Size y =  {y.shape}\")\n"
   ]
  },
  {
   "cell_type": "code",
   "execution_count": 40,
   "metadata": {},
   "outputs": [
    {
     "data": {
      "text/plain": [
       "<bound method NDFrame.head of         0      1       2       3        4        5        6        7       8   \\\n",
       "0    17.99  10.38  122.80  1001.0  0.11840  0.27760  0.30010  0.14710  0.2419   \n",
       "1    20.57  17.77  132.90  1326.0  0.08474  0.07864  0.08690  0.07017  0.1812   \n",
       "2    19.69  21.25  130.00  1203.0  0.10960  0.15990  0.19740  0.12790  0.2069   \n",
       "3    11.42  20.38   77.58   386.1  0.14250  0.28390  0.24140  0.10520  0.2597   \n",
       "4    20.29  14.34  135.10  1297.0  0.10030  0.13280  0.19800  0.10430  0.1809   \n",
       "..     ...    ...     ...     ...      ...      ...      ...      ...     ...   \n",
       "564  21.56  22.39  142.00  1479.0  0.11100  0.11590  0.24390  0.13890  0.1726   \n",
       "565  20.13  28.25  131.20  1261.0  0.09780  0.10340  0.14400  0.09791  0.1752   \n",
       "566  16.60  28.08  108.30   858.1  0.08455  0.10230  0.09251  0.05302  0.1590   \n",
       "567  20.60  29.33  140.10  1265.0  0.11780  0.27700  0.35140  0.15200  0.2397   \n",
       "568   7.76  24.54   47.92   181.0  0.05263  0.04362  0.00000  0.00000  0.1587   \n",
       "\n",
       "          9   ...      20     21      22      23       24       25      26  \\\n",
       "0    0.07871  ...  25.380  17.33  184.60  2019.0  0.16220  0.66560  0.7119   \n",
       "1    0.05667  ...  24.990  23.41  158.80  1956.0  0.12380  0.18660  0.2416   \n",
       "2    0.05999  ...  23.570  25.53  152.50  1709.0  0.14440  0.42450  0.4504   \n",
       "3    0.09744  ...  14.910  26.50   98.87   567.7  0.20980  0.86630  0.6869   \n",
       "4    0.05883  ...  22.540  16.67  152.20  1575.0  0.13740  0.20500  0.4000   \n",
       "..       ...  ...     ...    ...     ...     ...      ...      ...     ...   \n",
       "564  0.05623  ...  25.450  26.40  166.10  2027.0  0.14100  0.21130  0.4107   \n",
       "565  0.05533  ...  23.690  38.25  155.00  1731.0  0.11660  0.19220  0.3215   \n",
       "566  0.05648  ...  18.980  34.12  126.70  1124.0  0.11390  0.30940  0.3403   \n",
       "567  0.07016  ...  25.740  39.42  184.60  1821.0  0.16500  0.86810  0.9387   \n",
       "568  0.05884  ...   9.456  30.37   59.16   268.6  0.08996  0.06444  0.0000   \n",
       "\n",
       "         27      28       29  \n",
       "0    0.2654  0.4601  0.11890  \n",
       "1    0.1860  0.2750  0.08902  \n",
       "2    0.2430  0.3613  0.08758  \n",
       "3    0.2575  0.6638  0.17300  \n",
       "4    0.1625  0.2364  0.07678  \n",
       "..      ...     ...      ...  \n",
       "564  0.2216  0.2060  0.07115  \n",
       "565  0.1628  0.2572  0.06637  \n",
       "566  0.1418  0.2218  0.07820  \n",
       "567  0.2650  0.4087  0.12400  \n",
       "568  0.0000  0.2871  0.07039  \n",
       "\n",
       "[569 rows x 30 columns]>"
      ]
     },
     "execution_count": 40,
     "metadata": {},
     "output_type": "execute_result"
    }
   ],
   "source": [
    "pd.DataFrame(x).head"
   ]
  },
  {
   "cell_type": "code",
   "execution_count": 42,
   "metadata": {},
   "outputs": [
    {
     "data": {
      "text/plain": [
       "1    357\n",
       "0    212\n",
       "dtype: int64"
      ]
     },
     "execution_count": 42,
     "metadata": {},
     "output_type": "execute_result"
    }
   ],
   "source": [
    "pd.DataFrame(y).value_counts()  #Data is balanced"
   ]
  },
  {
   "cell_type": "code",
   "execution_count": 61,
   "metadata": {},
   "outputs": [
    {
     "data": {
      "text/plain": [
       "((426, 30), (426,), (143, 30), (143,))"
      ]
     },
     "execution_count": 61,
     "metadata": {},
     "output_type": "execute_result"
    }
   ],
   "source": [
    "x_train, x_test, y_train, y_test = train_test_split(x,y, test_size=0.25, random_state=42, stratify=y)\n",
    "x_train.shape, y_train.shape, x_test.shape, y_test.shape"
   ]
  },
  {
   "cell_type": "code",
   "execution_count": 62,
   "metadata": {},
   "outputs": [],
   "source": [
    "sc = StandardScaler()\n",
    "x_train = sc.fit_transform(x_train)\n",
    "x_test = sc.transform(x_test)"
   ]
  },
  {
   "cell_type": "code",
   "execution_count": 63,
   "metadata": {},
   "outputs": [],
   "source": [
    "class Hyperparameters():\n",
    "    def __init__(self):\n",
    "        self.number_of_epochs = 50\n",
    "        self.batch_size=8\n",
    "        self.learning_rate=0.01\n",
    "        self.shuffle = True"
   ]
  },
  {
   "cell_type": "code",
   "execution_count": 64,
   "metadata": {},
   "outputs": [],
   "source": [
    "#Train data\n",
    "\n",
    "class TrainData(Dataset):\n",
    "    def __init__(self, x_train, y_train):\n",
    "        self.x_train = torch.tensor(x_train, dtype=torch.float32)\n",
    "        self.y_train = torch.tensor(y_train, dtype=torch.float32)\n",
    "\n",
    "    def __getitem__(self, index):\n",
    "        return self.x_train[index], self.y_train[index]\n",
    "    \n",
    "    def __len__(self):\n",
    "        return len(self.x_train)\n",
    "    \n",
    "train_data = TrainData(x_train, y_train)\n",
    "\n"
   ]
  },
  {
   "cell_type": "code",
   "execution_count": 65,
   "metadata": {},
   "outputs": [],
   "source": [
    "#Test data\n",
    "\n",
    "class TestData(Dataset):\n",
    "    def __init__(self, x_test):\n",
    "        self.x_train = torch.tensor(x_test, dtype=torch.float32)\n",
    "\n",
    "    def __getitem__(self, index):\n",
    "        return self.x_test[index]\n",
    "    \n",
    "    def __len__(self):\n",
    "        return len(self.x_test)\n",
    "    \n",
    "test_data = TestData(x_test)"
   ]
  },
  {
   "cell_type": "code",
   "execution_count": 66,
   "metadata": {},
   "outputs": [],
   "source": [
    "#Declaring the train and test dataset loaders\n",
    "\n",
    "hyperparameters = Hyperparameters()\n",
    "train_loader = DataLoader(dataset= train_data, batch_size=hyperparameters.batch_size, \n",
    "                          shuffle=hyperparameters.shuffle)\n",
    "test_loader = DataLoader(dataset=test_data, batch_size=1)"
   ]
  },
  {
   "cell_type": "code",
   "execution_count": 67,
   "metadata": {},
   "outputs": [],
   "source": [
    "#Define the model\n",
    "\n",
    "class BrestCancerClassification(nn.Module):\n",
    "    def __init__(self, input_shape):\n",
    "        super(BrestCancerClassification, self).__init__()\n",
    "\n",
    "        self.fc1 = nn.Linear(input_shape, 64)\n",
    "        self.fc2 = nn.Linear(64, 128)\n",
    "        self.fc3 = nn.Linear(128, 1)\n",
    "\n",
    "    def forward(self, x):\n",
    "        x = torch.relu(self.fc1(x))\n",
    "        x = torch.relu(self.fc2(x))\n",
    "        x = torch.sigmoid(self.fc3(x))\n",
    "\n",
    "        return x"
   ]
  },
  {
   "cell_type": "code",
   "execution_count": 68,
   "metadata": {},
   "outputs": [
    {
     "name": "stdout",
     "output_type": "stream",
     "text": [
      "zsh:1: command not found: nvidia\n"
     ]
    }
   ],
   "source": [
    "#Checking the GPU\n",
    "!nvidia -smi"
   ]
  },
  {
   "cell_type": "code",
   "execution_count": 69,
   "metadata": {},
   "outputs": [
    {
     "name": "stdout",
     "output_type": "stream",
     "text": [
      "cpu\n"
     ]
    }
   ],
   "source": [
    "device = torch.device('cuda' if torch.cuda.is_available() else 'cpu')\n",
    "print(device)"
   ]
  },
  {
   "cell_type": "code",
   "execution_count": 70,
   "metadata": {},
   "outputs": [
    {
     "data": {
      "text/plain": [
       "(426, 30)"
      ]
     },
     "execution_count": 70,
     "metadata": {},
     "output_type": "execute_result"
    }
   ],
   "source": [
    "x_train.shape"
   ]
  },
  {
   "cell_type": "code",
   "execution_count": 72,
   "metadata": {},
   "outputs": [
    {
     "data": {
      "text/plain": [
       "BrestCancerClassification(\n",
       "  (fc1): Linear(in_features=30, out_features=64, bias=True)\n",
       "  (fc2): Linear(in_features=64, out_features=128, bias=True)\n",
       "  (fc3): Linear(in_features=128, out_features=1, bias=True)\n",
       ")"
      ]
     },
     "execution_count": 72,
     "metadata": {},
     "output_type": "execute_result"
    }
   ],
   "source": [
    "#building model\n",
    "model = BrestCancerClassification(input_shape=x_train.shape[1])\n",
    "#declaring the Optimizer\n",
    "optimizer = optim.Adam(model.parameters(), lr = hyperparameters.learning_rate)\n",
    "#declaring the loss function\n",
    "criterian = nn.BCELoss()\n",
    "#moving model to device\n",
    "model.to(device)"
   ]
  },
  {
   "cell_type": "code",
   "execution_count": 73,
   "metadata": {},
   "outputs": [],
   "source": [
    "#This function is responsible for calculating the accuracy for a given batch\n",
    "\n",
    "def binary_acc(y_pred, y):\n",
    "    results = torch.round(y_pred)\n",
    "    correct_results_sum = (results == y).sum().float()\n",
    "    acc = correct_results_sum / y.shape[0]\n",
    "    acc = torch.round(acc*100)\n"
   ]
  },
  {
   "cell_type": "code",
   "execution_count": 74,
   "metadata": {},
   "outputs": [
    {
     "ename": "AttributeError",
     "evalue": "'NoneType' object has no attribute 'item'",
     "output_type": "error",
     "traceback": [
      "\u001b[0;31m---------------------------------------------------------------------------\u001b[0m",
      "\u001b[0;31mAttributeError\u001b[0m                            Traceback (most recent call last)",
      "\u001b[1;32m/Users/pawankumarkc/Documents/vscode_workspace/MLAlgo/DeepLearning/DNN_classification_hyperparam.ipynb Cell 40\u001b[0m line \u001b[0;36m2\n\u001b[1;32m     <a href='vscode-notebook-cell:/Users/pawankumarkc/Documents/vscode_workspace/MLAlgo/DeepLearning/DNN_classification_hyperparam.ipynb#Y112sZmlsZQ%3D%3D?line=23'>24</a>\u001b[0m     optimizer\u001b[39m.\u001b[39mstep()\n\u001b[1;32m     <a href='vscode-notebook-cell:/Users/pawankumarkc/Documents/vscode_workspace/MLAlgo/DeepLearning/DNN_classification_hyperparam.ipynb#Y112sZmlsZQ%3D%3D?line=24'>25</a>\u001b[0m     epoch_loss \u001b[39m+\u001b[39m\u001b[39m=\u001b[39m loss\u001b[39m.\u001b[39mitem()\n\u001b[0;32m---> <a href='vscode-notebook-cell:/Users/pawankumarkc/Documents/vscode_workspace/MLAlgo/DeepLearning/DNN_classification_hyperparam.ipynb#Y112sZmlsZQ%3D%3D?line=25'>26</a>\u001b[0m     epoch_accuracy \u001b[39m+\u001b[39m\u001b[39m=\u001b[39m acc\u001b[39m.\u001b[39;49mitem()\n\u001b[1;32m     <a href='vscode-notebook-cell:/Users/pawankumarkc/Documents/vscode_workspace/MLAlgo/DeepLearning/DNN_classification_hyperparam.ipynb#Y112sZmlsZQ%3D%3D?line=27'>28</a>\u001b[0m \u001b[39mif\u001b[39;00m i \u001b[39m%\u001b[39m \u001b[39m5\u001b[39m \u001b[39m==\u001b[39m \u001b[39m0\u001b[39m:\n\u001b[1;32m     <a href='vscode-notebook-cell:/Users/pawankumarkc/Documents/vscode_workspace/MLAlgo/DeepLearning/DNN_classification_hyperparam.ipynb#Y112sZmlsZQ%3D%3D?line=28'>29</a>\u001b[0m     \u001b[39mprint\u001b[39m(\u001b[39mf\u001b[39m\u001b[39m'\u001b[39m\u001b[39mEpoch \u001b[39m\u001b[39m{\u001b[39;00mi\u001b[39m+\u001b[39m\u001b[39m0.3\u001b[39m\u001b[39m}\u001b[39;00m\u001b[39m: | Loss: \u001b[39m\u001b[39m{\u001b[39;00mepoch_loss\u001b[39m \u001b[39m\u001b[39m/\u001b[39m\u001b[39m \u001b[39m\u001b[39mlen\u001b[39m(train_loader)\u001b[39m:\u001b[39;00m\u001b[39m.5f\u001b[39m\u001b[39m}\u001b[39;00m\u001b[39m | Acc: \u001b[39m\u001b[39m{\u001b[39;00mepoch_accuracy\u001b[39m/\u001b[39m\u001b[39mlen\u001b[39m(train_loader)\u001b[39m:\u001b[39;00m\u001b[39m.3f \u001b[39m\u001b[39m}\u001b[39;00m\u001b[39m'\u001b[39m)\n",
      "\u001b[0;31mAttributeError\u001b[0m: 'NoneType' object has no attribute 'item'"
     ]
    }
   ],
   "source": [
    "#Training the model \n",
    "losses = []\n",
    "accuracies = []\n",
    "model.train()\n",
    "\n",
    "#putting the model in train mode\n",
    "for i in range(1, hyperparameters.number_of_epochs+1):\n",
    "    epoch_loss = 0\n",
    "    epoch_accuracy = 0\n",
    "    for data in train_loader:\n",
    "        x_train, y_train = data\n",
    "        x_train = x_train.to(device)    #Moving the input features to device\n",
    "        y_train = y_train.to(device)\n",
    "\n",
    "        optimizer.zero_grad()\n",
    "        #Zeroing the gradinets so that they don't accumulate the next batch\n",
    "\n",
    "        y_pred = model(x_train)\n",
    "        loss = criterian(y_pred, y_train.reshape(-1,1))\n",
    "\n",
    "        acc = binary_acc(y_pred, y_train.reshape(-1,1))\n",
    "\n",
    "        loss.backward()\n",
    "        optimizer.step()\n",
    "        epoch_loss += loss.item()\n",
    "        epoch_accuracy += acc.item()\n",
    "\n",
    "    if i % 5 == 0:\n",
    "        print(f'Epoch {i+0.3}: | Loss: {epoch_loss / len(train_loader):.5f} | Acc: {epoch_accuracy/len(train_loader):.3f }')\n",
    "        losses.append(epoch_loss/len(train_loader))\n",
    "        accuracies.append(epoch_loss/len(train_loader))\n",
    "        \n"
   ]
  },
  {
   "cell_type": "code",
   "execution_count": null,
   "metadata": {},
   "outputs": [],
   "source": [
    "#plotting the losses\n",
    "\n"
   ]
  }
 ],
 "metadata": {
  "kernelspec": {
   "display_name": "Python 3",
   "language": "python",
   "name": "python3"
  },
  "language_info": {
   "codemirror_mode": {
    "name": "ipython",
    "version": 3
   },
   "file_extension": ".py",
   "mimetype": "text/x-python",
   "name": "python",
   "nbconvert_exporter": "python",
   "pygments_lexer": "ipython3",
   "version": "3.11.1"
  },
  "orig_nbformat": 4
 },
 "nbformat": 4,
 "nbformat_minor": 2
}
