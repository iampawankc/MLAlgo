{
 "cells": [
  {
   "cell_type": "code",
   "execution_count": 1,
   "metadata": {},
   "outputs": [],
   "source": [
    "import numpy as np\n",
    "import pandas as pd\n",
    "import matplotlib.pyplot as plt\n",
    "import seaborn as sns\n",
    "\n",
    "import tensorflow as tf\n",
    "from tensorflow import keras\n",
    "from keras import Sequential\n",
    "from keras.layers import *"
   ]
  },
  {
   "cell_type": "code",
   "execution_count": 2,
   "metadata": {},
   "outputs": [],
   "source": [
    "from keras.datasets import mnist"
   ]
  },
  {
   "cell_type": "code",
   "execution_count": 3,
   "metadata": {},
   "outputs": [],
   "source": [
    "(x_train, y_train), (x_test, y_test) = keras.datasets.mnist.load_data()"
   ]
  },
  {
   "cell_type": "code",
   "execution_count": 4,
   "metadata": {},
   "outputs": [
    {
     "data": {
      "text/plain": [
       "(60000, 28, 28)"
      ]
     },
     "execution_count": 4,
     "metadata": {},
     "output_type": "execute_result"
    }
   ],
   "source": [
    "x_train.shape"
   ]
  },
  {
   "cell_type": "code",
   "execution_count": 5,
   "metadata": {},
   "outputs": [
    {
     "data": {
      "text/plain": [
       "(10000, 28, 28)"
      ]
     },
     "execution_count": 5,
     "metadata": {},
     "output_type": "execute_result"
    }
   ],
   "source": [
    "x_test.shape"
   ]
  },
  {
   "cell_type": "code",
   "execution_count": 6,
   "metadata": {},
   "outputs": [],
   "source": [
    "x_train = x_train.reshape(x_train.shape[0], 28, 28, 1)\n",
    "x_test = x_test.reshape(x_test.shape[0], 28, 28, 1)\n",
    "\n",
    "\n",
    "input_shape = (28,28,1)\n",
    "\n",
    "x_train = x_train/255.0\n",
    "x_test = x_test/255.0\n",
    "\n",
    "y_train = keras.utils.to_categorical(y_train)\n",
    "y_test = keras.utils.to_categorical(y_test)\n"
   ]
  },
  {
   "cell_type": "code",
   "execution_count": 9,
   "metadata": {},
   "outputs": [],
   "source": [
    "#Building the model - MLP\n",
    "\n",
    "def model_building(optimizer):\n",
    "    model = Sequential()\n",
    "    model.add(Flatten())\n",
    "    model.add(Dense(128, activation='relu', input_shape = input_shape)) #input_dimention for tabular data, input_share for image data\n",
    "    model.add(Dense(128, activation='relu'))\n",
    "    model.add(Dense(10, activation='Softmax'))\n",
    "    model.compile(loss=keras.losses.categorical_crossentropy, optimizer=optimizer, metrics=['accuracy'])\n",
    "\n",
    "    return model\n"
   ]
  },
  {
   "cell_type": "code",
   "execution_count": 10,
   "metadata": {},
   "outputs": [
    {
     "name": "stdout",
     "output_type": "stream",
     "text": [
      "Epoch 1/10\n",
      "938/938 [==============================] - 1s 820us/step - loss: 1.6350 - accuracy: 0.6025 - val_loss: 1.0248 - val_accuracy: 0.7981\n",
      "Epoch 2/10\n",
      "938/938 [==============================] - 1s 771us/step - loss: 0.8031 - accuracy: 0.8275 - val_loss: 0.6214 - val_accuracy: 0.8552\n",
      "Epoch 3/10\n",
      "938/938 [==============================] - 1s 749us/step - loss: 0.5699 - accuracy: 0.8626 - val_loss: 0.4898 - val_accuracy: 0.8768\n",
      "Epoch 4/10\n",
      "938/938 [==============================] - 1s 748us/step - loss: 0.4772 - accuracy: 0.8782 - val_loss: 0.4271 - val_accuracy: 0.8904\n",
      "Epoch 5/10\n",
      "938/938 [==============================] - 1s 729us/step - loss: 0.4275 - accuracy: 0.8877 - val_loss: 0.3896 - val_accuracy: 0.8961\n",
      "Epoch 6/10\n",
      "938/938 [==============================] - 1s 729us/step - loss: 0.3960 - accuracy: 0.8940 - val_loss: 0.3650 - val_accuracy: 0.9009\n",
      "Epoch 7/10\n",
      "938/938 [==============================] - 1s 727us/step - loss: 0.3738 - accuracy: 0.8979 - val_loss: 0.3468 - val_accuracy: 0.9062\n",
      "Epoch 8/10\n",
      "938/938 [==============================] - 1s 736us/step - loss: 0.3568 - accuracy: 0.9018 - val_loss: 0.3335 - val_accuracy: 0.9084\n",
      "Epoch 9/10\n",
      "938/938 [==============================] - 1s 729us/step - loss: 0.3435 - accuracy: 0.9040 - val_loss: 0.3222 - val_accuracy: 0.9101\n",
      "Epoch 10/10\n",
      "938/938 [==============================] - 1s 729us/step - loss: 0.3323 - accuracy: 0.9066 - val_loss: 0.3124 - val_accuracy: 0.9116\n",
      "Epoch 1/10\n",
      "938/938 [==============================] - 1s 889us/step - loss: 2.3205 - accuracy: 0.0794 - val_loss: 2.2858 - val_accuracy: 0.1059\n",
      "Epoch 2/10\n",
      "938/938 [==============================] - 1s 845us/step - loss: 2.2399 - accuracy: 0.1569 - val_loss: 2.2046 - val_accuracy: 0.1933\n",
      "Epoch 3/10\n",
      "938/938 [==============================] - 1s 819us/step - loss: 2.1604 - accuracy: 0.2607 - val_loss: 2.1218 - val_accuracy: 0.2938\n",
      "Epoch 4/10\n",
      "938/938 [==============================] - 1s 807us/step - loss: 2.0774 - accuracy: 0.3603 - val_loss: 2.0338 - val_accuracy: 0.3867\n",
      "Epoch 5/10\n",
      "938/938 [==============================] - 1s 814us/step - loss: 1.9897 - accuracy: 0.4454 - val_loss: 1.9416 - val_accuracy: 0.4725\n",
      "Epoch 6/10\n",
      "938/938 [==============================] - 1s 845us/step - loss: 1.8979 - accuracy: 0.5211 - val_loss: 1.8460 - val_accuracy: 0.5500\n",
      "Epoch 7/10\n",
      "938/938 [==============================] - 1s 828us/step - loss: 1.8036 - accuracy: 0.5836 - val_loss: 1.7492 - val_accuracy: 0.6102\n",
      "Epoch 8/10\n",
      "938/938 [==============================] - 1s 871us/step - loss: 1.7080 - accuracy: 0.6343 - val_loss: 1.6514 - val_accuracy: 0.6508\n",
      "Epoch 9/10\n",
      "938/938 [==============================] - 1s 850us/step - loss: 1.6122 - accuracy: 0.6738 - val_loss: 1.5550 - val_accuracy: 0.6856\n",
      "Epoch 10/10\n",
      "938/938 [==============================] - 1s 828us/step - loss: 1.5184 - accuracy: 0.7004 - val_loss: 1.4613 - val_accuracy: 0.7147\n",
      "Epoch 1/10\n",
      "938/938 [==============================] - 1s 747us/step - loss: 0.9092 - accuracy: 0.7786 - val_loss: 0.4096 - val_accuracy: 0.8910\n",
      "Epoch 2/10\n",
      "938/938 [==============================] - 1s 679us/step - loss: 0.3695 - accuracy: 0.8969 - val_loss: 0.3177 - val_accuracy: 0.9113\n",
      "Epoch 3/10\n",
      "938/938 [==============================] - 1s 683us/step - loss: 0.3093 - accuracy: 0.9125 - val_loss: 0.2762 - val_accuracy: 0.9221\n",
      "Epoch 4/10\n",
      "938/938 [==============================] - 1s 718us/step - loss: 0.2757 - accuracy: 0.9215 - val_loss: 0.2565 - val_accuracy: 0.9258\n",
      "Epoch 5/10\n",
      "938/938 [==============================] - 1s 678us/step - loss: 0.2514 - accuracy: 0.9283 - val_loss: 0.2339 - val_accuracy: 0.9348\n",
      "Epoch 6/10\n",
      "938/938 [==============================] - 1s 678us/step - loss: 0.2319 - accuracy: 0.9340 - val_loss: 0.2214 - val_accuracy: 0.9377\n",
      "Epoch 7/10\n",
      "938/938 [==============================] - 1s 675us/step - loss: 0.2156 - accuracy: 0.9388 - val_loss: 0.2090 - val_accuracy: 0.9409\n",
      "Epoch 8/10\n",
      "938/938 [==============================] - 1s 699us/step - loss: 0.2013 - accuracy: 0.9428 - val_loss: 0.1939 - val_accuracy: 0.9441\n",
      "Epoch 9/10\n",
      "938/938 [==============================] - 1s 676us/step - loss: 0.1887 - accuracy: 0.9468 - val_loss: 0.1844 - val_accuracy: 0.9464\n",
      "Epoch 10/10\n",
      "938/938 [==============================] - 1s 684us/step - loss: 0.1777 - accuracy: 0.9497 - val_loss: 0.1804 - val_accuracy: 0.9470\n",
      "Epoch 1/10\n",
      "938/938 [==============================] - 1s 945us/step - loss: 0.2563 - accuracy: 0.9255 - val_loss: 0.1347 - val_accuracy: 0.9597\n",
      "Epoch 2/10\n",
      "938/938 [==============================] - 1s 897us/step - loss: 0.1120 - accuracy: 0.9657 - val_loss: 0.1163 - val_accuracy: 0.9645\n",
      "Epoch 3/10\n",
      "938/938 [==============================] - 1s 869us/step - loss: 0.0777 - accuracy: 0.9772 - val_loss: 0.1037 - val_accuracy: 0.9682\n",
      "Epoch 4/10\n",
      "938/938 [==============================] - 1s 866us/step - loss: 0.0589 - accuracy: 0.9814 - val_loss: 0.1063 - val_accuracy: 0.9669\n",
      "Epoch 5/10\n",
      "938/938 [==============================] - 1s 883us/step - loss: 0.0487 - accuracy: 0.9853 - val_loss: 0.0871 - val_accuracy: 0.9751\n",
      "Epoch 6/10\n",
      "938/938 [==============================] - 1s 869us/step - loss: 0.0384 - accuracy: 0.9885 - val_loss: 0.0911 - val_accuracy: 0.9764\n",
      "Epoch 7/10\n",
      "938/938 [==============================] - 1s 878us/step - loss: 0.0323 - accuracy: 0.9902 - val_loss: 0.0894 - val_accuracy: 0.9786\n",
      "Epoch 8/10\n",
      "938/938 [==============================] - 1s 869us/step - loss: 0.0267 - accuracy: 0.9913 - val_loss: 0.0983 - val_accuracy: 0.9787\n",
      "Epoch 9/10\n",
      "938/938 [==============================] - 1s 890us/step - loss: 0.0231 - accuracy: 0.9930 - val_loss: 0.0968 - val_accuracy: 0.9789\n",
      "Epoch 10/10\n",
      "938/938 [==============================] - 1s 866us/step - loss: 0.0198 - accuracy: 0.9940 - val_loss: 0.0987 - val_accuracy: 0.9800\n",
      "Epoch 1/10\n",
      "938/938 [==============================] - 1s 843us/step - loss: 0.2622 - accuracy: 0.9239 - val_loss: 0.1214 - val_accuracy: 0.9621\n",
      "Epoch 2/10\n",
      "938/938 [==============================] - 1s 800us/step - loss: 0.1053 - accuracy: 0.9687 - val_loss: 0.0889 - val_accuracy: 0.9714\n",
      "Epoch 3/10\n",
      "938/938 [==============================] - 1s 766us/step - loss: 0.0711 - accuracy: 0.9782 - val_loss: 0.0869 - val_accuracy: 0.9719\n",
      "Epoch 4/10\n",
      "938/938 [==============================] - 1s 779us/step - loss: 0.0542 - accuracy: 0.9830 - val_loss: 0.1013 - val_accuracy: 0.9704\n",
      "Epoch 5/10\n",
      "938/938 [==============================] - 1s 772us/step - loss: 0.0419 - accuracy: 0.9864 - val_loss: 0.0959 - val_accuracy: 0.9721\n",
      "Epoch 6/10\n",
      "938/938 [==============================] - 1s 788us/step - loss: 0.0324 - accuracy: 0.9896 - val_loss: 0.0796 - val_accuracy: 0.9769\n",
      "Epoch 7/10\n",
      "938/938 [==============================] - 1s 777us/step - loss: 0.0267 - accuracy: 0.9912 - val_loss: 0.0811 - val_accuracy: 0.9769\n",
      "Epoch 8/10\n",
      "938/938 [==============================] - 1s 772us/step - loss: 0.0242 - accuracy: 0.9922 - val_loss: 0.0850 - val_accuracy: 0.9748\n",
      "Epoch 9/10\n",
      "938/938 [==============================] - 1s 777us/step - loss: 0.0173 - accuracy: 0.9944 - val_loss: 0.0859 - val_accuracy: 0.9763\n",
      "Epoch 10/10\n",
      "938/938 [==============================] - 1s 794us/step - loss: 0.0177 - accuracy: 0.9943 - val_loss: 0.0838 - val_accuracy: 0.9788\n"
     ]
    }
   ],
   "source": [
    "optimizers = ['Adagrad', 'Adadelta', 'SGD', 'RMSprop', 'Adam']\n",
    "\n",
    "for i in optimizers:\n",
    "    model = model_building(i)\n",
    "    history = model.fit(x_train, y_train, batch_size=64, epochs=10, validation_data=(x_test, y_test))"
   ]
  },
  {
   "cell_type": "markdown",
   "metadata": {},
   "source": [
    "'Adagrad'\n",
    "938/938 [==============================] - 1s 729us/step - loss: 0.3323 - accuracy: 0.9066 - val_loss: 0.3124 - val_accuracy: 0.9116\n",
    "\n",
    "'Adadelta'\n",
    "938/938  [==============================] - 1s 828us/step - loss: 1.5184 - accuracy: 0.7004 - val_loss: 1.4613 - val_accuracy: 0.7147\n",
    "\n",
    "'SGD'\n",
    "938/938 [==============================] - 1s 684us/step - loss: 0.1777 - accuracy: 0.9497 - val_loss: 0.1804 - val_accuracy: 0.9470\n",
    "\n",
    "'RMSprop'\n",
    "938/938 [==============================] - 1s 866us/step - loss: 0.0198 - accuracy: 0.9940 - val_loss: 0.0987 - val_accuracy: 0.9800\n",
    "\n",
    "'Adam'\n",
    "938/938 [==============================] - 1s 794us/step - loss: 0.0177 - accuracy: 0.9943 - val_loss: 0.0838 - val_accuracy: 0.9788\n"
   ]
  },
  {
   "cell_type": "markdown",
   "metadata": {},
   "source": [
    "Conclusion: Adam is the best optimization method comparing other optimization techniques"
   ]
  },
  {
   "cell_type": "code",
   "execution_count": 12,
   "metadata": {},
   "outputs": [
    {
     "name": "stderr",
     "output_type": "stream",
     "text": [
      "WARNING:absl:At this time, the v2.11+ optimizer `tf.keras.optimizers.RMSprop` runs slowly on M1/M2 Macs, please use the legacy Keras optimizer instead, located at `tf.keras.optimizers.legacy.RMSprop`.\n"
     ]
    }
   ],
   "source": [
    "#Approach 1\n",
    "from keras.optimizers import RMSprop\n",
    "\n",
    "optimizer = RMSprop(0.01) #Define learning rate 0.01 by using RMSprop\n",
    "\n",
    "#Learning rate is taken to be 0.1, 0.01 OR 0.001 and this may represent a good starting point on your problems"
   ]
  },
  {
   "cell_type": "code",
   "execution_count": null,
   "metadata": {},
   "outputs": [],
   "source": [
    "#Approach 2\n",
    "# from keras.optimizers import SGD\n",
    "\n",
    "# optimizer = SGD(momentum=0, nesterov=False) #SGD function\n",
    "# optimizer = SGD(momentum=0.9, nesterov=False) #Momentum function\n",
    "# optimizer = SGD(momentum=0.9, nesterov=True) #Nag function\n",
    "\n",
    "#Pleae try to figure out accuracy and loss function"
   ]
  },
  {
   "cell_type": "code",
   "execution_count": 13,
   "metadata": {},
   "outputs": [
    {
     "name": "stderr",
     "output_type": "stream",
     "text": [
      "WARNING:absl:There is a known slowdown when using v2.11+ Keras optimizers on M1/M2 Macs. Falling back to the legacy Keras optimizer, i.e., `tf.keras.optimizers.legacy.RMSprop`.\n"
     ]
    },
    {
     "name": "stdout",
     "output_type": "stream",
     "text": [
      "Epoch 1/10\n",
      "938/938 [==============================] - 1s 956us/step - loss: 0.3223 - accuracy: 0.9125 - val_loss: 0.2575 - val_accuracy: 0.9392\n",
      "Epoch 2/10\n",
      "938/938 [==============================] - 1s 912us/step - loss: 0.2196 - accuracy: 0.9500 - val_loss: 0.1765 - val_accuracy: 0.9612\n",
      "Epoch 3/10\n",
      "938/938 [==============================] - 1s 879us/step - loss: 0.2044 - accuracy: 0.9570 - val_loss: 0.2838 - val_accuracy: 0.9473\n",
      "Epoch 4/10\n",
      "938/938 [==============================] - 1s 873us/step - loss: 0.2047 - accuracy: 0.9592 - val_loss: 0.3939 - val_accuracy: 0.9458\n",
      "Epoch 5/10\n",
      "938/938 [==============================] - 1s 881us/step - loss: 0.1879 - accuracy: 0.9627 - val_loss: 0.2042 - val_accuracy: 0.9633\n",
      "Epoch 6/10\n",
      "938/938 [==============================] - 1s 931us/step - loss: 0.1785 - accuracy: 0.9637 - val_loss: 0.2576 - val_accuracy: 0.9566\n",
      "Epoch 7/10\n",
      "938/938 [==============================] - 1s 866us/step - loss: 0.1900 - accuracy: 0.9652 - val_loss: 0.3006 - val_accuracy: 0.9647\n",
      "Epoch 8/10\n",
      "938/938 [==============================] - 1s 872us/step - loss: 0.1860 - accuracy: 0.9665 - val_loss: 0.3638 - val_accuracy: 0.9414\n",
      "Epoch 9/10\n",
      "938/938 [==============================] - 1s 867us/step - loss: 0.1927 - accuracy: 0.9656 - val_loss: 0.3678 - val_accuracy: 0.9537\n",
      "Epoch 10/10\n",
      "938/938 [==============================] - 1s 896us/step - loss: 0.1904 - accuracy: 0.9664 - val_loss: 0.4133 - val_accuracy: 0.9609\n"
     ]
    }
   ],
   "source": [
    "model = Sequential()\n",
    "model.add(Flatten())\n",
    "model.add(Dense(128, activation='relu', input_shape = input_shape)) #input_dimention for tabular data, input_share for image data\n",
    "model.add(Dense(128, activation='relu'))\n",
    "model.add(Dense(10, activation='Softmax'))\n",
    "model.compile(loss=keras.losses.categorical_crossentropy, optimizer=optimizer, metrics=['accuracy'])\n",
    "\n",
    "history = model.fit(x_train, y_train, batch_size=64, epochs=10, validation_data=(x_test, y_test))"
   ]
  },
  {
   "cell_type": "markdown",
   "metadata": {},
   "source": [
    "## Early stopping "
   ]
  },
  {
   "cell_type": "code",
   "execution_count": 14,
   "metadata": {},
   "outputs": [],
   "source": [
    "#Early stopping - is a hyper parameter tuning\n",
    "\n",
    "callback = keras.callbacks.EarlyStopping(\n",
    "    monitor=\"val_loss\",\n",
    "    min_delta=0.001, #Learning rate\n",
    "    patience=20, #No. of times to check for training and validation loss, compare changes and finalise. Here we are checking val_loss\n",
    "    verbose=1 # 0/1 to see the output  \n",
    ")"
   ]
  },
  {
   "cell_type": "code",
   "execution_count": 15,
   "metadata": {},
   "outputs": [
    {
     "name": "stdout",
     "output_type": "stream",
     "text": [
      "Epoch 1/5000\n",
      "938/938 [==============================] - 1s 1ms/step - loss: 0.2617 - accuracy: 0.9251 - val_loss: 0.1253 - val_accuracy: 0.9624\n",
      "Epoch 2/5000\n",
      "938/938 [==============================] - 1s 1ms/step - loss: 0.1067 - accuracy: 0.9684 - val_loss: 0.0935 - val_accuracy: 0.9707\n",
      "Epoch 3/5000\n",
      "938/938 [==============================] - 1s 798us/step - loss: 0.0735 - accuracy: 0.9781 - val_loss: 0.0799 - val_accuracy: 0.9753\n",
      "Epoch 4/5000\n",
      "938/938 [==============================] - 1s 798us/step - loss: 0.0550 - accuracy: 0.9827 - val_loss: 0.0851 - val_accuracy: 0.9733\n",
      "Epoch 5/5000\n",
      "938/938 [==============================] - 1s 818us/step - loss: 0.0419 - accuracy: 0.9866 - val_loss: 0.0759 - val_accuracy: 0.9783\n",
      "Epoch 6/5000\n",
      "938/938 [==============================] - 1s 794us/step - loss: 0.0326 - accuracy: 0.9890 - val_loss: 0.0763 - val_accuracy: 0.9783\n",
      "Epoch 7/5000\n",
      "938/938 [==============================] - 1s 791us/step - loss: 0.0289 - accuracy: 0.9901 - val_loss: 0.0874 - val_accuracy: 0.9751\n",
      "Epoch 8/5000\n",
      "938/938 [==============================] - 1s 803us/step - loss: 0.0230 - accuracy: 0.9925 - val_loss: 0.0833 - val_accuracy: 0.9777\n",
      "Epoch 9/5000\n",
      "938/938 [==============================] - 1s 823us/step - loss: 0.0189 - accuracy: 0.9939 - val_loss: 0.0793 - val_accuracy: 0.9801\n",
      "Epoch 10/5000\n",
      "938/938 [==============================] - 1s 792us/step - loss: 0.0165 - accuracy: 0.9946 - val_loss: 0.0881 - val_accuracy: 0.9786\n",
      "Epoch 11/5000\n",
      "938/938 [==============================] - 1s 791us/step - loss: 0.0159 - accuracy: 0.9944 - val_loss: 0.0844 - val_accuracy: 0.9796\n",
      "Epoch 12/5000\n",
      "938/938 [==============================] - 1s 804us/step - loss: 0.0127 - accuracy: 0.9954 - val_loss: 0.1049 - val_accuracy: 0.9750\n",
      "Epoch 13/5000\n",
      "938/938 [==============================] - 1s 833us/step - loss: 0.0135 - accuracy: 0.9953 - val_loss: 0.0905 - val_accuracy: 0.9787\n",
      "Epoch 14/5000\n",
      "938/938 [==============================] - 1s 793us/step - loss: 0.0109 - accuracy: 0.9963 - val_loss: 0.1067 - val_accuracy: 0.9795\n",
      "Epoch 15/5000\n",
      "938/938 [==============================] - 1s 794us/step - loss: 0.0113 - accuracy: 0.9961 - val_loss: 0.1123 - val_accuracy: 0.9766\n",
      "Epoch 16/5000\n",
      "938/938 [==============================] - 1s 829us/step - loss: 0.0098 - accuracy: 0.9965 - val_loss: 0.1080 - val_accuracy: 0.9787\n",
      "Epoch 17/5000\n",
      "938/938 [==============================] - 1s 795us/step - loss: 0.0096 - accuracy: 0.9966 - val_loss: 0.1035 - val_accuracy: 0.9791\n",
      "Epoch 18/5000\n",
      "938/938 [==============================] - 1s 787us/step - loss: 0.0095 - accuracy: 0.9970 - val_loss: 0.1175 - val_accuracy: 0.9790\n",
      "Epoch 19/5000\n",
      "938/938 [==============================] - 1s 807us/step - loss: 0.0099 - accuracy: 0.9966 - val_loss: 0.1213 - val_accuracy: 0.9785\n",
      "Epoch 20/5000\n",
      "938/938 [==============================] - 1s 838us/step - loss: 0.0061 - accuracy: 0.9980 - val_loss: 0.1267 - val_accuracy: 0.9761\n",
      "Epoch 21/5000\n",
      "938/938 [==============================] - 1s 798us/step - loss: 0.0081 - accuracy: 0.9972 - val_loss: 0.1299 - val_accuracy: 0.9772\n",
      "Epoch 22/5000\n",
      "938/938 [==============================] - 1s 799us/step - loss: 0.0085 - accuracy: 0.9970 - val_loss: 0.1085 - val_accuracy: 0.9801\n",
      "Epoch 23/5000\n",
      "938/938 [==============================] - 1s 792us/step - loss: 0.0078 - accuracy: 0.9973 - val_loss: 0.1410 - val_accuracy: 0.9773\n",
      "Epoch 24/5000\n",
      "938/938 [==============================] - 1s 824us/step - loss: 0.0081 - accuracy: 0.9975 - val_loss: 0.1443 - val_accuracy: 0.9760\n",
      "Epoch 25/5000\n",
      "938/938 [==============================] - 1s 793us/step - loss: 0.0071 - accuracy: 0.9978 - val_loss: 0.1159 - val_accuracy: 0.9803\n",
      "Epoch 25: early stopping\n"
     ]
    }
   ],
   "source": [
    "model = Sequential()\n",
    "model.add(Flatten())\n",
    "model.add(Dense(128, activation='relu', input_shape = input_shape)) #input_dimention for tabular data, input_share for image data\n",
    "model.add(Dense(128, activation='relu'))\n",
    "model.add(Dense(10, activation='Softmax'))\n",
    "model.compile(loss=keras.losses.categorical_crossentropy, optimizer='Adam', metrics=['accuracy'])\n",
    "\n",
    "history = model.fit(x_train, y_train, batch_size=64, epochs=5000, validation_data=(x_test, y_test), callbacks=callback)\n",
    "\n",
    "#Here we specify 5000 ephocs and set early stopping for system to automitacally stop when it reaches best training and validation loss"
   ]
  },
  {
   "cell_type": "code",
   "execution_count": 16,
   "metadata": {},
   "outputs": [
    {
     "data": {
      "image/png": "[encoded data removed]",
      "text/plain": [
       "<Figure size 640x480 with 1 Axes>"
      ]
     },
     "metadata": {},
     "output_type": "display_data"
    }
   ],
   "source": [
    "plt.plot(history.history['loss'], label='train')\n",
    "plt.plot(history.history['val_loss'], label='test')\n",
    "plt.legend()\n",
    "plt.show()"
   ]
  },
  {
   "cell_type": "code",
   "execution_count": 17,
   "metadata": {},
   "outputs": [
    {
     "data": {
      "image/png": "[encoded data removed]",
      "text/plain": [
       "<Figure size 640x480 with 1 Axes>"
      ]
     },
     "metadata": {},
     "output_type": "display_data"
    }
   ],
   "source": [
    "plt.plot(history.history['accuracy'], label='train')\n",
    "plt.plot(history.history['val_accuracy'], label='test')\n",
    "plt.legend()\n",
    "plt.show()"
   ]
  }
 ],
 "metadata": {
  "kernelspec": {
   "display_name": "Python 3",
   "language": "python",
   "name": "python3"
  },
  "language_info": {
   "codemirror_mode": {
    "name": "ipython",
    "version": 3
   },
   "file_extension": ".py",
   "mimetype": "text/x-python",
   "name": "python",
   "nbconvert_exporter": "python",
   "pygments_lexer": "ipython3",
   "version": "3.11.1"
  },
  "orig_nbformat": 4
 },
 "nbformat": 4,
 "nbformat_minor": 2
}
