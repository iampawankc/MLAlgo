{
 "cells": [
  {
   "cell_type": "code",
   "execution_count": 1,
   "metadata": {},
   "outputs": [],
   "source": [
    "import numpy as np\n",
    "import pandas as pd\n",
    "import os\n",
    "\n",
    "import nltk\n",
    "import gensim\n",
    "from gensim.utils import simple_preprocess\n",
    "from nltk import word_tokenize, sent_tokenize"
   ]
  },
  {
   "cell_type": "code",
   "execution_count": 2,
   "metadata": {},
   "outputs": [
    {
     "data": {
      "text/plain": [
       "['005ssb.txt', '001ssb.txt', '003ssb.txt', '004ssb.txt', '002ssb.txt']"
      ]
     },
     "execution_count": 2,
     "metadata": {},
     "output_type": "execute_result"
    }
   ],
   "source": [
    "os.listdir('/Users/pawankumarkc/Documents/vscode_workspace/MLAlgo/datasets/NLP/GOT')"
   ]
  },
  {
   "cell_type": "code",
   "execution_count": 3,
   "metadata": {},
   "outputs": [],
   "source": [
    "story = []\n",
    "for filename in os.listdir('/Users/pawankumarkc/Documents/vscode_workspace/MLAlgo/datasets/NLP/GOT'):\n",
    "    f = open(os.path.join('/Users/pawankumarkc/Documents/vscode_workspace/MLAlgo/datasets/NLP/GOT',filename), encoding='cp1252')\n",
    "    corpus = f.read()\n",
    "    raw_sent = sent_tokenize(corpus)\n",
    "    for sent in raw_sent:\n",
    "        story.append(simple_preprocess(sent))"
   ]
  },
  {
   "cell_type": "code",
   "execution_count": 4,
   "metadata": {},
   "outputs": [
    {
     "data": {
      "text/plain": [
       "145020"
      ]
     },
     "execution_count": 4,
     "metadata": {},
     "output_type": "execute_result"
    }
   ],
   "source": [
    "len(story)"
   ]
  },
  {
   "cell_type": "markdown",
   "metadata": {},
   "source": [
    "## Building Word2Vec model"
   ]
  },
  {
   "cell_type": "code",
   "execution_count": null,
   "metadata": {},
   "outputs": [],
   "source": [
    "# Using NLTK package, do preprocessing (Stopword removal, regex) before applying model"
   ]
  },
  {
   "cell_type": "code",
   "execution_count": 5,
   "metadata": {},
   "outputs": [],
   "source": [
    "# CBOW method\n",
    "model = gensim.models.Word2Vec(window=10, min_count=2, vector_size=200, sg=0)\n",
    "# sg=skipgram(sg=0 cbow, sg=1 skipgram)\n",
    "\n",
    "\n",
    "# SkipGram method\n",
    "#model = gensim.models.Word2Vec(window=10, min_count=2, vector_size=200, sg=1)"
   ]
  },
  {
   "cell_type": "code",
   "execution_count": 6,
   "metadata": {},
   "outputs": [],
   "source": [
    "model.build_vocab(story)\n"
   ]
  },
  {
   "cell_type": "code",
   "execution_count": 7,
   "metadata": {},
   "outputs": [
    {
     "data": {
      "text/plain": [
       "(6570592, 8628190)"
      ]
     },
     "execution_count": 7,
     "metadata": {},
     "output_type": "execute_result"
    }
   ],
   "source": [
    "model.train(story, total_examples=model.corpus_count, epochs=model.epochs)"
   ]
  },
  {
   "cell_type": "code",
   "execution_count": 8,
   "metadata": {},
   "outputs": [
    {
     "data": {
      "text/plain": [
       "[('stormborn', 0.8248000741004944),\n",
       " ('targaryen', 0.7632849216461182),\n",
       " ('unburnt', 0.7238025069236755),\n",
       " ('elia', 0.709078311920166),\n",
       " ('queen', 0.6990686058998108),\n",
       " ('princess', 0.6788715124130249),\n",
       " ('myrcella', 0.6750263571739197),\n",
       " ('khal', 0.6543248295783997),\n",
       " ('viserys', 0.6511610150337219),\n",
       " ('drogo', 0.6488072872161865)]"
      ]
     },
     "execution_count": 8,
     "metadata": {},
     "output_type": "execute_result"
    }
   ],
   "source": [
    "model.wv.most_similar('daenerys')"
   ]
  },
  {
   "cell_type": "code",
   "execution_count": 16,
   "metadata": {},
   "outputs": [
    {
     "data": {
      "text/plain": [
       "'jon'"
      ]
     },
     "execution_count": 16,
     "metadata": {},
     "output_type": "execute_result"
    }
   ],
   "source": [
    "model.wv.doesnt_match(['gilly','jon','arya','sansa','robb','bran','yara'])"
   ]
  },
  {
   "cell_type": "code",
   "execution_count": 10,
   "metadata": {},
   "outputs": [
    {
     "data": {
      "text/plain": [
       "0.8434797"
      ]
     },
     "execution_count": 10,
     "metadata": {},
     "output_type": "execute_result"
    }
   ],
   "source": [
    "model.wv.similarity('arya','sansa')"
   ]
  },
  {
   "cell_type": "code",
   "execution_count": 11,
   "metadata": {},
   "outputs": [
    {
     "data": {
      "text/plain": [
       "0.43773323"
      ]
     },
     "execution_count": 11,
     "metadata": {},
     "output_type": "execute_result"
    }
   ],
   "source": [
    "model.wv.similarity('arya','jon')"
   ]
  },
  {
   "cell_type": "code",
   "execution_count": 12,
   "metadata": {},
   "outputs": [
    {
     "data": {
      "text/plain": [
       "0.6883682"
      ]
     },
     "execution_count": 12,
     "metadata": {},
     "output_type": "execute_result"
    }
   ],
   "source": [
    "model.wv.similarity('arya','gilly')"
   ]
  },
  {
   "cell_type": "code",
   "execution_count": 17,
   "metadata": {},
   "outputs": [
    {
     "data": {
      "text/plain": [
       "array([-1.0905302 , -0.83278435, -0.47314724, -1.566763  , -1.8888296 ,\n",
       "       -0.11776717,  1.629224  ,  1.0632418 , -0.47459778, -0.9540141 ,\n",
       "       -0.33028573,  1.1189613 , -0.3664085 ,  2.369468  , -1.2848294 ,\n",
       "        1.1485298 , -0.28167167, -1.0649779 , -0.26588348,  4.2329493 ,\n",
       "       -0.36231762, -1.3565168 , -3.0393085 , -2.3462143 , -0.7546361 ,\n",
       "       -1.7381217 ,  2.222006  , -0.65667874,  0.3293215 ,  0.5966546 ,\n",
       "        0.10741167, -1.6784691 , -0.17687434,  0.4053559 ,  0.9560009 ,\n",
       "       -0.696652  ,  1.278542  ,  0.16672094,  1.4032052 , -0.3142948 ,\n",
       "        2.1144385 , -0.05544019, -0.8220676 ,  1.2937717 ,  3.094142  ,\n",
       "       -0.9132332 , -1.8638092 ,  1.0562348 , -1.5959618 ,  1.6944206 ,\n",
       "        0.5234432 , -1.0938116 , -2.144504  , -2.0439456 ,  1.9317715 ,\n",
       "       -0.6575481 ,  0.98461914,  0.04785062,  0.1800323 , -1.4403671 ,\n",
       "        0.26594454,  0.11660068,  0.4960095 , -0.6345922 , -0.6041502 ,\n",
       "       -1.2170506 ,  0.44846523, -1.2375637 , -1.0599616 ,  0.3847128 ,\n",
       "        0.00438915, -0.74190676,  0.45433542,  0.61033374,  1.1815016 ,\n",
       "        1.4316187 ,  0.8476521 ,  0.13043141, -0.31344235, -0.43699232,\n",
       "       -0.02972629, -0.35517228, -0.73465526,  0.8021735 ,  0.1339912 ,\n",
       "        0.735488  , -0.42583588, -1.4124049 ,  0.5776483 ,  0.3009034 ,\n",
       "        0.06197022,  0.91265273, -0.43243647, -0.35325822, -0.5040248 ,\n",
       "       -1.6559199 ,  0.5843347 ,  1.1863179 ,  2.6155384 ,  0.42906493,\n",
       "       -0.9207651 ,  1.6725565 ,  1.3777391 , -1.1788361 , -0.6536755 ,\n",
       "       -2.1690304 ,  0.09143041,  1.0284662 , -0.68780696,  0.41893724,\n",
       "       -0.4148906 , -0.3811429 , -2.0761707 ,  0.92675644, -1.4218222 ,\n",
       "        0.29217267, -1.1788152 ,  2.82567   ,  0.8033229 ,  3.3080788 ,\n",
       "        0.49689218, -2.8611283 , -1.7887328 ,  1.3138883 ,  2.1329515 ,\n",
       "       -2.5998404 ,  0.8294558 , -1.8564966 , -0.07075742, -0.8868447 ,\n",
       "       -0.18392012, -0.97926015,  0.3710614 , -1.1388143 , -1.4745088 ,\n",
       "        0.54180366,  0.37016004, -2.0529017 ,  0.7561361 ,  0.96130115,\n",
       "        0.07717158,  1.4245627 , -0.18800846,  0.6453482 ,  1.6050433 ,\n",
       "        1.0263027 ,  1.6608323 ,  0.9786756 , -0.499333  ,  0.04514289,\n",
       "        1.843403  , -0.18952079, -1.0424503 ,  0.45367602, -2.6250648 ,\n",
       "        0.2399841 , -0.24007128,  0.99753815,  3.1280084 ,  1.1047492 ,\n",
       "       -0.14655173, -1.4328014 , -1.4570407 ,  1.8807833 ,  0.7029144 ,\n",
       "       -0.05963778,  0.09196818,  1.5578909 ,  0.9562702 , -1.4968688 ,\n",
       "        0.2855273 ,  0.05994595, -0.07710282, -0.81386924, -1.5099868 ,\n",
       "        0.57712054, -2.071759  , -0.15580605, -1.3667743 ,  1.0074341 ,\n",
       "        1.6200731 , -1.0946212 , -0.14302683,  0.40458253,  3.770538  ,\n",
       "        1.5056629 ,  1.8528936 ,  1.6582328 , -0.79120755, -1.5011864 ,\n",
       "        0.3417096 ,  1.6607347 , -2.1496153 , -2.1099412 ,  0.20581138,\n",
       "        0.5785506 , -1.4953552 , -1.0444478 ,  1.1525376 ,  0.36903092],\n",
       "      dtype=float32)"
      ]
     },
     "execution_count": 17,
     "metadata": {},
     "output_type": "execute_result"
    }
   ],
   "source": [
    "model.wv['king']"
   ]
  },
  {
   "cell_type": "code",
   "execution_count": 18,
   "metadata": {},
   "outputs": [
    {
     "data": {
      "text/plain": [
       "numpy.ndarray"
      ]
     },
     "execution_count": 18,
     "metadata": {},
     "output_type": "execute_result"
    }
   ],
   "source": [
    "type(model.wv['king'])"
   ]
  },
  {
   "cell_type": "code",
   "execution_count": 20,
   "metadata": {},
   "outputs": [
    {
     "data": {
      "text/plain": [
       "['the',\n",
       " 'and',\n",
       " 'to',\n",
       " 'of',\n",
       " 'he',\n",
       " 'his',\n",
       " 'was',\n",
       " 'you',\n",
       " 'her',\n",
       " 'in',\n",
       " 'it',\n",
       " 'had',\n",
       " 'that',\n",
       " 'she',\n",
       " 'as',\n",
       " 'with',\n",
       " 'him',\n",
       " 'not',\n",
       " 'but',\n",
       " 'for',\n",
       " 'they',\n",
       " 'is',\n",
       " 'at',\n",
       " 'on',\n",
       " 'said',\n",
       " 'my',\n",
       " 'have',\n",
       " 'be',\n",
       " 'lord',\n",
       " 'them',\n",
       " 'no',\n",
       " 'from',\n",
       " 'would',\n",
       " 'were',\n",
       " 'me',\n",
       " 'your',\n",
       " 'one',\n",
       " 'all',\n",
       " 'when',\n",
       " 'will',\n",
       " 'ser',\n",
       " 'if',\n",
       " 'so',\n",
       " 'their',\n",
       " 'we',\n",
       " 'could',\n",
       " 'are',\n",
       " 'man',\n",
       " 'there',\n",
       " 'this',\n",
       " 'up',\n",
       " 'been',\n",
       " 'what',\n",
       " 'did',\n",
       " 'by',\n",
       " 'king',\n",
       " 'do',\n",
       " 'men',\n",
       " 'back',\n",
       " 'out',\n",
       " 'more',\n",
       " 'or',\n",
       " 'who',\n",
       " 'down',\n",
       " 'well',\n",
       " 'than',\n",
       " 'only',\n",
       " 'like',\n",
       " 'jon',\n",
       " 'some',\n",
       " 'father',\n",
       " 'old',\n",
       " 'hand',\n",
       " 'even',\n",
       " 'too',\n",
       " 'tyrion',\n",
       " 'before',\n",
       " 'never',\n",
       " 'an',\n",
       " 'off',\n",
       " 'see',\n",
       " 'know',\n",
       " 'into',\n",
       " 'made',\n",
       " 'now',\n",
       " 'eyes',\n",
       " 'black',\n",
       " 'told',\n",
       " 'lady',\n",
       " 'thought',\n",
       " 'time',\n",
       " 'then',\n",
       " 'how',\n",
       " 'long',\n",
       " 'has',\n",
       " 'can',\n",
       " 'might',\n",
       " 'us',\n",
       " 'come',\n",
       " 'where',\n",
       " 'here',\n",
       " 'through',\n",
       " 'face',\n",
       " 'still',\n",
       " 'head',\n",
       " 'red',\n",
       " 'll',\n",
       " 'way',\n",
       " 'boy',\n",
       " 'page',\n",
       " 'must',\n",
       " 'once',\n",
       " 'queen',\n",
       " 'good',\n",
       " 'two',\n",
       " 'brother',\n",
       " 'night',\n",
       " 'over',\n",
       " 'little',\n",
       " 'about',\n",
       " 'took',\n",
       " 'other',\n",
       " 'came',\n",
       " 'though',\n",
       " 'again',\n",
       " 'say',\n",
       " 'three',\n",
       " 'should',\n",
       " 'away',\n",
       " 'dead',\n",
       " 'son',\n",
       " 'own',\n",
       " 'blood',\n",
       " 'am',\n",
       " 'take',\n",
       " 'go',\n",
       " 'half',\n",
       " 'make',\n",
       " 'arya',\n",
       " 'saw',\n",
       " 'day',\n",
       " 'white',\n",
       " 'jaime',\n",
       " 'first',\n",
       " 'himself',\n",
       " 'our',\n",
       " 'look',\n",
       " 'want',\n",
       " 'after',\n",
       " 'much',\n",
       " 'enough',\n",
       " 'sword',\n",
       " 'tell',\n",
       " 'girl',\n",
       " 'bran',\n",
       " 'great',\n",
       " 'its',\n",
       " 'looked',\n",
       " 'left',\n",
       " 'knew',\n",
       " 'asked',\n",
       " 'gave',\n",
       " 'maester',\n",
       " 'called',\n",
       " 'wall',\n",
       " 'every',\n",
       " 'heard',\n",
       " 'sansa',\n",
       " 'let',\n",
       " 'yet',\n",
       " 'went',\n",
       " 'turned',\n",
       " 'dany',\n",
       " 'why',\n",
       " 'behind',\n",
       " 'need',\n",
       " 'around',\n",
       " 'just',\n",
       " 'woman',\n",
       " 'another',\n",
       " 'snow',\n",
       " 'beneath',\n",
       " 'across',\n",
       " 'knight',\n",
       " 'keep',\n",
       " 'grace',\n",
       " 'found',\n",
       " 'gold',\n",
       " 'any',\n",
       " 'last',\n",
       " 'cersei',\n",
       " 'castle',\n",
       " 'those',\n",
       " 'stark',\n",
       " 'gods',\n",
       " 'think',\n",
       " 'hair',\n",
       " 'many',\n",
       " 'feet',\n",
       " 'against',\n",
       " 'hands',\n",
       " 'stannis',\n",
       " 'mother',\n",
       " 'catelyn',\n",
       " 'robert',\n",
       " 'seemed',\n",
       " 'prince',\n",
       " 'may',\n",
       " 'ever',\n",
       " 'robb',\n",
       " 'done',\n",
       " 'don',\n",
       " 'find',\n",
       " 'lannister',\n",
       " 're',\n",
       " 'hear',\n",
       " 'name',\n",
       " 'grey',\n",
       " 'horse',\n",
       " 'high',\n",
       " 'put',\n",
       " 'stone',\n",
       " 'wine',\n",
       " 'hard',\n",
       " 'water',\n",
       " 'upon',\n",
       " 'fire',\n",
       " 'iron',\n",
       " 'until',\n",
       " 'these',\n",
       " 'voice',\n",
       " 'gone',\n",
       " 'give',\n",
       " 'sam',\n",
       " 'better',\n",
       " 'seen',\n",
       " 'shall',\n",
       " 'ned',\n",
       " 'always',\n",
       " 'years',\n",
       " 'between',\n",
       " 'dark',\n",
       " 'place',\n",
       " 'small',\n",
       " 'cold',\n",
       " 'winterfell',\n",
       " 'most',\n",
       " 'hundred',\n",
       " 'stood',\n",
       " 'end',\n",
       " 'sister',\n",
       " 'words',\n",
       " 'sea',\n",
       " 'right',\n",
       " 'nothing',\n",
       " 'walls',\n",
       " 'fingers',\n",
       " 'same',\n",
       " 'house',\n",
       " 'cloak',\n",
       " 'young',\n",
       " 'does',\n",
       " 'beside',\n",
       " 'get',\n",
       " 'mouth',\n",
       " 'seven',\n",
       " 'watch',\n",
       " 'door',\n",
       " 'joffrey',\n",
       " 'green',\n",
       " 'big',\n",
       " 'under',\n",
       " 'few',\n",
       " 'sent',\n",
       " 'perhaps',\n",
       " 'almost',\n",
       " 'such',\n",
       " 'wanted',\n",
       " 'daughter',\n",
       " 'true',\n",
       " 'while',\n",
       " 'leave',\n",
       " 'wind',\n",
       " 'city',\n",
       " 'light',\n",
       " 'arms',\n",
       " 'children',\n",
       " 'herself',\n",
       " 'sweet',\n",
       " 'others',\n",
       " 'lost',\n",
       " 'theon',\n",
       " 'each',\n",
       " 'felt',\n",
       " 'side',\n",
       " 'yes',\n",
       " 'brothers',\n",
       " 'best',\n",
       " 'very',\n",
       " 'die',\n",
       " 'brought',\n",
       " 'soon',\n",
       " 'far',\n",
       " 'died',\n",
       " 'north',\n",
       " 'child',\n",
       " 'fear',\n",
       " 'along',\n",
       " 'word',\n",
       " 'brienne',\n",
       " 'both',\n",
       " 'taken',\n",
       " 'battle',\n",
       " 'help',\n",
       " 'new',\n",
       " 'tywin',\n",
       " 'lords',\n",
       " 'davos',\n",
       " 'something',\n",
       " 've',\n",
       " 'mean',\n",
       " 'wife',\n",
       " 'hall',\n",
       " 'rest',\n",
       " 'kill',\n",
       " 'strong',\n",
       " 'steel',\n",
       " 'began',\n",
       " 'won',\n",
       " 'sound',\n",
       " 'dragon',\n",
       " 'past',\n",
       " 'life',\n",
       " 'tower',\n",
       " 'killed',\n",
       " 'arm',\n",
       " 'sons',\n",
       " 'tried',\n",
       " 'free',\n",
       " 'thing',\n",
       " 'bear',\n",
       " 'days',\n",
       " 'bloody',\n",
       " 'heart',\n",
       " 'pale',\n",
       " 'love',\n",
       " 'moment',\n",
       " 'sat',\n",
       " 'bring',\n",
       " 'bed',\n",
       " 'close',\n",
       " 'knights',\n",
       " 'cut',\n",
       " 'wolf',\n",
       " 'smile',\n",
       " 'horses',\n",
       " 'death',\n",
       " 'inside',\n",
       " 'four',\n",
       " 'brown',\n",
       " 'dragons',\n",
       " 'hot',\n",
       " 'silver',\n",
       " 'part',\n",
       " 'bastard',\n",
       " 'open',\n",
       " 'nor',\n",
       " 'thousand',\n",
       " 'landing',\n",
       " 'uncle',\n",
       " 'above',\n",
       " 'going',\n",
       " 'blue',\n",
       " 'captain',\n",
       " 'air',\n",
       " 'please',\n",
       " 'laughed',\n",
       " 'river',\n",
       " 'sun',\n",
       " 'rose',\n",
       " 'fell',\n",
       " 'war',\n",
       " 'golden',\n",
       " 'sleep',\n",
       " 'swords',\n",
       " 'without',\n",
       " 'speak',\n",
       " 'renly',\n",
       " 'full',\n",
       " 'fool',\n",
       " 'certain',\n",
       " 'beyond',\n",
       " 'feel',\n",
       " 'send',\n",
       " 'fight',\n",
       " 'tongue',\n",
       " 'got',\n",
       " 'set',\n",
       " 'rode',\n",
       " 'thick',\n",
       " 'world',\n",
       " 'throat',\n",
       " 'deep',\n",
       " 'legs',\n",
       " 'call',\n",
       " 'honor',\n",
       " 'trees',\n",
       " 'rock',\n",
       " 'tall',\n",
       " 'table',\n",
       " 'pulled',\n",
       " 'mormont',\n",
       " 'broken',\n",
       " 'women',\n",
       " 'steps',\n",
       " 'things',\n",
       " 'next',\n",
       " 'hodor',\n",
       " 'heavy',\n",
       " 'burned',\n",
       " 'oh',\n",
       " 'toward',\n",
       " 'together',\n",
       " 'given',\n",
       " 'skin',\n",
       " 'since',\n",
       " 'alone',\n",
       " 'moved',\n",
       " 'smiled',\n",
       " 'dwarf',\n",
       " 'storm',\n",
       " 'raised',\n",
       " 'ride',\n",
       " 'ask',\n",
       " 'eye',\n",
       " 'hope',\n",
       " 'soft',\n",
       " 'reached',\n",
       " 'second',\n",
       " 'frey',\n",
       " 'remember',\n",
       " 'someone',\n",
       " 'remembered',\n",
       " 'coming',\n",
       " 'hold',\n",
       " 'cannot',\n",
       " 'meant',\n",
       " 'morning',\n",
       " 'ten',\n",
       " 'teeth',\n",
       " 'else',\n",
       " 'throne',\n",
       " 'command',\n",
       " 'which',\n",
       " 'fat',\n",
       " 'truth',\n",
       " 'walder',\n",
       " 'commander',\n",
       " 'doubt',\n",
       " 'ground',\n",
       " 'jorah',\n",
       " 'cup',\n",
       " 'outside',\n",
       " 'known',\n",
       " 'wore',\n",
       " 'ran',\n",
       " 'gate',\n",
       " 'held',\n",
       " 'room',\n",
       " 'closed',\n",
       " 'home',\n",
       " 'matter',\n",
       " 'sky',\n",
       " 'south',\n",
       " 'wood',\n",
       " 'wed',\n",
       " 'dozen',\n",
       " 'people',\n",
       " 'neck',\n",
       " 'food',\n",
       " 'riverrun',\n",
       " 'near',\n",
       " 'instead',\n",
       " 'turn',\n",
       " 'talk',\n",
       " 'none',\n",
       " 'ships',\n",
       " 'below',\n",
       " 'tyrell',\n",
       " 'moon',\n",
       " 'shadow',\n",
       " 'lips',\n",
       " 'summer',\n",
       " 'bolton',\n",
       " 'watched',\n",
       " 'times',\n",
       " 'leather',\n",
       " 'varys',\n",
       " 'shoulder',\n",
       " 'septon',\n",
       " 'warm',\n",
       " 'believe',\n",
       " 'caught',\n",
       " 'least',\n",
       " 'guards',\n",
       " 'answer',\n",
       " 'blade',\n",
       " 'god',\n",
       " 'wondered',\n",
       " 'ice',\n",
       " 'opened',\n",
       " 'mine',\n",
       " 'barristan',\n",
       " 'shield',\n",
       " 'armor',\n",
       " 'safe',\n",
       " 'six',\n",
       " 'kept',\n",
       " 'return',\n",
       " 'wish',\n",
       " 'tommen',\n",
       " 'used',\n",
       " 'smell',\n",
       " 'less',\n",
       " 'foot',\n",
       " 'being',\n",
       " 'squire',\n",
       " 'floor',\n",
       " 'eddard',\n",
       " 'empty',\n",
       " 'followed',\n",
       " 'run',\n",
       " 'friends',\n",
       " 'serve',\n",
       " 'boys',\n",
       " 'beard',\n",
       " 'wedding',\n",
       " 'cloaks',\n",
       " 'baratheon',\n",
       " 'wrong',\n",
       " 'eat',\n",
       " 'daenerys',\n",
       " 'ghost',\n",
       " 'five',\n",
       " 'hound',\n",
       " 'flesh',\n",
       " 'sight',\n",
       " 'ship',\n",
       " 'strength',\n",
       " 'returned',\n",
       " 'nose',\n",
       " 'bones',\n",
       " 'crown',\n",
       " 'yellow',\n",
       " 'chest',\n",
       " 'covered',\n",
       " 'commanded',\n",
       " 'says',\n",
       " 'petyr',\n",
       " 'sometimes',\n",
       " 'aemon',\n",
       " 'filled',\n",
       " 'led',\n",
       " 'friend',\n",
       " 'common',\n",
       " 'aye',\n",
       " 'yours',\n",
       " 'fighting',\n",
       " 'flames',\n",
       " 'spoke',\n",
       " 'show',\n",
       " 'huge',\n",
       " 'asha',\n",
       " 'aside',\n",
       " 'lysa',\n",
       " 'crow',\n",
       " 'belly',\n",
       " 'master',\n",
       " 'breath',\n",
       " 'seem',\n",
       " 'yard',\n",
       " 'gates',\n",
       " 'waiting',\n",
       " 'within',\n",
       " 'looking',\n",
       " 'wooden',\n",
       " 'wet',\n",
       " 'realm',\n",
       " 'thin',\n",
       " 'work',\n",
       " 'bad',\n",
       " 'promised',\n",
       " 'use',\n",
       " 'tree',\n",
       " 'grew',\n",
       " 'later',\n",
       " 'husband',\n",
       " 'onto',\n",
       " 'wildlings',\n",
       " 'loved',\n",
       " 'afraid',\n",
       " 'greyjoy',\n",
       " 'girls',\n",
       " 'shoulders',\n",
       " 'rain',\n",
       " 'shouted',\n",
       " 'walked',\n",
       " 'maid',\n",
       " 'late',\n",
       " 'remained',\n",
       " 'guard',\n",
       " 'mance',\n",
       " 'meereen',\n",
       " 'fall',\n",
       " 'liked',\n",
       " 'littlefinger',\n",
       " 'year',\n",
       " 'margaery',\n",
       " 'dog',\n",
       " 'hurt',\n",
       " 'passed',\n",
       " 'balon',\n",
       " 'taste',\n",
       " 'drew',\n",
       " 'dothraki',\n",
       " 'lay',\n",
       " 'song',\n",
       " 'realized',\n",
       " 'spear',\n",
       " 'pushed',\n",
       " 'named',\n",
       " 'sure',\n",
       " 'finally',\n",
       " 'whispered',\n",
       " 'reach',\n",
       " 'different',\n",
       " 'brave',\n",
       " 'stand',\n",
       " 'wolves',\n",
       " 'suddenly',\n",
       " 'poor',\n",
       " 'stay',\n",
       " 'drogo',\n",
       " 'kingsguard',\n",
       " 'arryn',\n",
       " 'stop',\n",
       " 'kingdoms',\n",
       " 'ears',\n",
       " 'broke',\n",
       " 'edmure',\n",
       " 'burning',\n",
       " 'princess',\n",
       " 'faces',\n",
       " 'lannisters',\n",
       " 'dream',\n",
       " 'direwolf',\n",
       " 'axe',\n",
       " 'tears',\n",
       " 'west',\n",
       " 'heir',\n",
       " 'clegane',\n",
       " 'either',\n",
       " 'darkness',\n",
       " 'drink',\n",
       " 'raven',\n",
       " 'pointed',\n",
       " 'hill',\n",
       " 'try',\n",
       " 'forward',\n",
       " 'pain',\n",
       " 'sworn',\n",
       " 'lie',\n",
       " 'khal',\n",
       " 'truly',\n",
       " 'dagger',\n",
       " 'kings',\n",
       " 'grown',\n",
       " 'seat',\n",
       " 'road',\n",
       " 'born',\n",
       " 'harrenhal',\n",
       " 'care',\n",
       " 'bronn',\n",
       " 'helm',\n",
       " 'round',\n",
       " 'feast',\n",
       " 'meat',\n",
       " 'understand',\n",
       " 'amongst',\n",
       " 'pycelle',\n",
       " 'quick',\n",
       " 'lifted',\n",
       " 'longer',\n",
       " 'reminded',\n",
       " 'whilst',\n",
       " 'maybe',\n",
       " 'mountain',\n",
       " 'short',\n",
       " 'step',\n",
       " 'rodrik',\n",
       " 'ones',\n",
       " 'melisandre',\n",
       " 'pretty',\n",
       " 'third',\n",
       " 'lands',\n",
       " 'aegon',\n",
       " 'worse',\n",
       " 'stopped',\n",
       " 'bit',\n",
       " 'sit',\n",
       " 'save',\n",
       " 'victarion',\n",
       " 'sharp',\n",
       " 'knows',\n",
       " 'whose',\n",
       " 'smoke',\n",
       " 'live',\n",
       " 'horn',\n",
       " 'window',\n",
       " 'pray',\n",
       " 'leg',\n",
       " 'westeros',\n",
       " 'younger',\n",
       " 'didn',\n",
       " 'twenty',\n",
       " 'heads',\n",
       " 'silk',\n",
       " 'ago',\n",
       " 'septa',\n",
       " 'pie',\n",
       " 'slaves',\n",
       " 'peace',\n",
       " 'low',\n",
       " 'hizdahr',\n",
       " 'laugh',\n",
       " 'wants',\n",
       " 'bread',\n",
       " 'mind',\n",
       " 'east',\n",
       " 'blind',\n",
       " 'sooner',\n",
       " 'towers',\n",
       " 'mad',\n",
       " 'myself',\n",
       " 'reek',\n",
       " 'bright',\n",
       " 'camp',\n",
       " 'slain',\n",
       " 'coin',\n",
       " 'making',\n",
       " 'older',\n",
       " 'narrow',\n",
       " 'walk',\n",
       " 'served',\n",
       " 'point',\n",
       " 'salt',\n",
       " 'drowned',\n",
       " 'wait',\n",
       " 'glanced',\n",
       " 'cheeks',\n",
       " 'luwin',\n",
       " 'cousin',\n",
       " 'knife',\n",
       " 'shook',\n",
       " 'quiet',\n",
       " 'stepped',\n",
       " 'often',\n",
       " 'targaryen',\n",
       " 'sort',\n",
       " 'touched',\n",
       " 'riding',\n",
       " 'naked',\n",
       " 'loras',\n",
       " 'twisted',\n",
       " 'choice',\n",
       " 'during',\n",
       " 'lion',\n",
       " 'fish',\n",
       " 'forgotten',\n",
       " 'kevan',\n",
       " 'silence',\n",
       " 'read',\n",
       " 'ramsay',\n",
       " 'hung',\n",
       " 'gift',\n",
       " 'fallen',\n",
       " 'running',\n",
       " 'replied',\n",
       " 'knees',\n",
       " 'large',\n",
       " 'fought',\n",
       " 'silent',\n",
       " 'company',\n",
       " 'cat',\n",
       " 'ahead',\n",
       " 'dogs',\n",
       " 'beautiful',\n",
       " 'needs',\n",
       " 'rhaegar',\n",
       " 'dawn',\n",
       " 'sept',\n",
       " 'pass',\n",
       " 'casterly',\n",
       " 'dorne',\n",
       " 'knee',\n",
       " 'tully',\n",
       " 'themselves',\n",
       " 'mud',\n",
       " 'stupid',\n",
       " 'court',\n",
       " 'gregor',\n",
       " 'body',\n",
       " 'singer',\n",
       " 'trying',\n",
       " 'age',\n",
       " 'meera',\n",
       " 'top',\n",
       " 'kind',\n",
       " 'swear',\n",
       " 'offered',\n",
       " 'gendry',\n",
       " 'whole',\n",
       " 'clothes',\n",
       " 'closer',\n",
       " 'leaves',\n",
       " 'anything',\n",
       " 'kiss',\n",
       " 'agreed',\n",
       " 'pay',\n",
       " 'threw',\n",
       " 'wonder',\n",
       " 'whatever',\n",
       " 'answered',\n",
       " 'climbed',\n",
       " 'saddle',\n",
       " 'saying',\n",
       " 'wide',\n",
       " 'comes',\n",
       " 'stars',\n",
       " 'trust',\n",
       " 'chain',\n",
       " 'host',\n",
       " 'stones',\n",
       " 'yourself',\n",
       " 'trident',\n",
       " 'pleased',\n",
       " 'fair',\n",
       " 'eight',\n",
       " 'insisted',\n",
       " 'hour',\n",
       " 'yunkai',\n",
       " 'dry',\n",
       " 'ear',\n",
       " 'spears',\n",
       " 'dying',\n",
       " 'fast',\n",
       " 'service',\n",
       " 'carried',\n",
       " 'doors',\n",
       " 'ought',\n",
       " 'council',\n",
       " 'mail',\n",
       " 'woods',\n",
       " 'fist',\n",
       " 'fine',\n",
       " 'wildling',\n",
       " 'needed',\n",
       " 'milk',\n",
       " 'thank',\n",
       " 'join',\n",
       " 'wasn',\n",
       " 'crossed',\n",
       " 'quentyn',\n",
       " 'gilly',\n",
       " 'finger',\n",
       " 'shadows',\n",
       " 'doing',\n",
       " 'tent',\n",
       " 'boots',\n",
       " 'land',\n",
       " 'bird',\n",
       " 'win',\n",
       " 'helped',\n",
       " 'somehow',\n",
       " 'folk',\n",
       " 'crows',\n",
       " 'imp',\n",
       " 'names',\n",
       " 'banners',\n",
       " 'letter',\n",
       " 'kissed',\n",
       " 'winter',\n",
       " 'screamed',\n",
       " 'pink',\n",
       " 'angry',\n",
       " 'frightened',\n",
       " 'alive',\n",
       " 'learn',\n",
       " 'torch',\n",
       " 'chair',\n",
       " 'eunuch',\n",
       " 'daughters',\n",
       " 'watching',\n",
       " 'harm',\n",
       " 'dragonstone',\n",
       " 'fires',\n",
       " 'tarly',\n",
       " 'serving',\n",
       " 'neither',\n",
       " 'easy',\n",
       " 'learned',\n",
       " 'standing',\n",
       " 'nine',\n",
       " 'wings',\n",
       " 'drunk',\n",
       " 'question',\n",
       " 'myrcella',\n",
       " 'nodded',\n",
       " 'sail',\n",
       " 'priest',\n",
       " 'sisters',\n",
       " 'bone',\n",
       " 'warned',\n",
       " 'giant',\n",
       " 'forth',\n",
       " 'harbor',\n",
       " 'slow',\n",
       " 'field',\n",
       " 'slipped',\n",
       " 'slid',\n",
       " 'dreams',\n",
       " 'falling',\n",
       " 'slowly',\n",
       " 'bronze',\n",
       " 'atop',\n",
       " 'promise',\n",
       " 'slave',\n",
       " 'line',\n",
       " 'move',\n",
       " 'illyrio',\n",
       " 'rise',\n",
       " 'whore',\n",
       " 'flowers',\n",
       " 'laughter',\n",
       " 'makes',\n",
       " 'pyke',\n",
       " 'bay',\n",
       " 'grass',\n",
       " 'declared',\n",
       " 'faced',\n",
       " 'earth',\n",
       " 'loose',\n",
       " 'front',\n",
       " 'twice',\n",
       " 'viserys',\n",
       " 'lived',\n",
       " 'power',\n",
       " 'happened',\n",
       " 'because',\n",
       " 'cell',\n",
       " 'play',\n",
       " 'dance',\n",
       " 'oldtown',\n",
       " 'break',\n",
       " 'chains',\n",
       " 'clean',\n",
       " 'surely',\n",
       " 'aerys',\n",
       " 'claim',\n",
       " 'unless',\n",
       " 'jeyne',\n",
       " 'eyrie',\n",
       " 'fresh',\n",
       " 'cried',\n",
       " 'tormund',\n",
       " 'quite',\n",
       " 'laid',\n",
       " 'craster',\n",
       " 'pair',\n",
       " 'shouting',\n",
       " 'met',\n",
       " 'sad',\n",
       " 'morrow',\n",
       " 'game',\n",
       " 'already',\n",
       " 'rule',\n",
       " 'softly',\n",
       " 'touch',\n",
       " 'count',\n",
       " 'steward',\n",
       " 'woke',\n",
       " 'started',\n",
       " 'sense',\n",
       " 'afterward',\n",
       " 'mounted',\n",
       " 'captive',\n",
       " 'hide',\n",
       " 'waters',\n",
       " 'jojen',\n",
       " 'sudden',\n",
       " ...]"
      ]
     },
     "execution_count": 20,
     "metadata": {},
     "output_type": "execute_result"
    }
   ],
   "source": [
    "y=model.wv.index_to_key\n",
    "y"
   ]
  },
  {
   "cell_type": "code",
   "execution_count": 21,
   "metadata": {},
   "outputs": [
    {
     "data": {
      "text/plain": [
       "17453"
      ]
     },
     "execution_count": 21,
     "metadata": {},
     "output_type": "execute_result"
    }
   ],
   "source": [
    "len(y)"
   ]
  },
  {
   "cell_type": "code",
   "execution_count": 22,
   "metadata": {},
   "outputs": [
    {
     "data": {
      "text/plain": [
       "array([[-9.78587717e-02,  8.22335035e-02,  2.70588510e-03, ...,\n",
       "        -9.86609980e-02, -8.63710567e-02, -6.53437823e-02],\n",
       "       [ 1.05271772e-01, -1.01431750e-01, -1.04422726e-01, ...,\n",
       "        -2.89461538e-02, -2.67465394e-02, -9.64098424e-02],\n",
       "       [ 5.96309965e-03,  4.30085473e-02, -5.27310446e-02, ...,\n",
       "         2.22200155e-02,  5.82960136e-02, -1.08314395e-01],\n",
       "       ...,\n",
       "       [ 3.96799818e-02, -8.18412527e-02, -1.69718973e-02, ...,\n",
       "        -1.40330091e-01, -5.62090762e-02, -2.12976038e-02],\n",
       "       [-5.70242945e-03, -6.28512725e-02,  9.04713012e-03, ...,\n",
       "        -1.42768040e-01, -1.41096590e-02, -4.79011871e-02],\n",
       "       [ 3.24625857e-02, -5.67395575e-02,  1.94584252e-04, ...,\n",
       "        -2.02140257e-01,  6.11079019e-03, -2.26442353e-03]], dtype=float32)"
      ]
     },
     "execution_count": 22,
     "metadata": {},
     "output_type": "execute_result"
    }
   ],
   "source": [
    "#Getting in vector form as algo always works with numbers\n",
    "model.wv.get_normed_vectors()"
   ]
  },
  {
   "cell_type": "code",
   "execution_count": 23,
   "metadata": {},
   "outputs": [
    {
     "data": {
      "text/plain": [
       "(17453, 3)"
      ]
     },
     "execution_count": 23,
     "metadata": {},
     "output_type": "execute_result"
    }
   ],
   "source": [
    "from sklearn.decomposition import PCA\n",
    "\n",
    "pca = PCA(n_components=3)\n",
    "x = pca.fit_transform(model.wv.get_normed_vectors())\n",
    "x.shape"
   ]
  },
  {
   "cell_type": "code",
   "execution_count": 24,
   "metadata": {},
   "outputs": [
    {
     "data": {
      "application/vnd.plotly.v1+json": {
       "config": {
        "plotlyServerURL": "https://plot.ly"
       },
       "data": [
        {
         "hovertemplate": "color=warm<br>0=%{x}<br>1=%{y}<br>2=%{z}<extra></extra>",
         "legendgroup": "warm",
         "marker": {
          "color": "#636efa",
          "symbol": "circle"
         },
         "mode": "markers",
         "name": "warm",
         "scene": "scene",
         "showlegend": true,
         "type": "scatter3d",
         "x": [
          -0.365115761756897
         ],
         "y": [
          0.3303799629211426
         ],
         "z": [
          0.35441163182258606
         ]
        },
        {
         "hovertemplate": "color=believe<br>0=%{x}<br>1=%{y}<br>2=%{z}<extra></extra>",
         "legendgroup": "believe",
         "marker": {
          "color": "#EF553B",
          "symbol": "circle"
         },
         "mode": "markers",
         "name": "believe",
         "scene": "scene",
         "showlegend": true,
         "type": "scatter3d",
         "x": [
          0.7672086954116821
         ],
         "y": [
          0.36343345046043396
         ],
         "z": [
          0.2856670022010803
         ]
        },
        {
         "hovertemplate": "color=caught<br>0=%{x}<br>1=%{y}<br>2=%{z}<extra></extra>",
         "legendgroup": "caught",
         "marker": {
          "color": "#00cc96",
          "symbol": "circle"
         },
         "mode": "markers",
         "name": "caught",
         "scene": "scene",
         "showlegend": true,
         "type": "scatter3d",
         "x": [
          -0.32271209359169006
         ],
         "y": [
          0.28757867217063904
         ],
         "z": [
          0.6874437928199768
         ]
        },
        {
         "hovertemplate": "color=least<br>0=%{x}<br>1=%{y}<br>2=%{z}<extra></extra>",
         "legendgroup": "least",
         "marker": {
          "color": "#ab63fa",
          "symbol": "circle"
         },
         "mode": "markers",
         "name": "least",
         "scene": "scene",
         "showlegend": true,
         "type": "scatter3d",
         "x": [
          0.38187503814697266
         ],
         "y": [
          0.5568830966949463
         ],
         "z": [
          0.10748859494924545
         ]
        },
        {
         "hovertemplate": "color=guards<br>0=%{x}<br>1=%{y}<br>2=%{z}<extra></extra>",
         "legendgroup": "guards",
         "marker": {
          "color": "#FFA15A",
          "symbol": "circle"
         },
         "mode": "markers",
         "name": "guards",
         "scene": "scene",
         "showlegend": true,
         "type": "scatter3d",
         "x": [
          -0.0510844886302948
         ],
         "y": [
          0.5924699306488037
         ],
         "z": [
          -0.08577530086040497
         ]
        },
        {
         "hovertemplate": "color=answer<br>0=%{x}<br>1=%{y}<br>2=%{z}<extra></extra>",
         "legendgroup": "answer",
         "marker": {
          "color": "#19d3f3",
          "symbol": "circle"
         },
         "mode": "markers",
         "name": "answer",
         "scene": "scene",
         "showlegend": true,
         "type": "scatter3d",
         "x": [
          0.43107080459594727
         ],
         "y": [
          0.4860304892063141
         ],
         "z": [
          0.3578871786594391
         ]
        },
        {
         "hovertemplate": "color=blade<br>0=%{x}<br>1=%{y}<br>2=%{z}<extra></extra>",
         "legendgroup": "blade",
         "marker": {
          "color": "#FF6692",
          "symbol": "circle"
         },
         "mode": "markers",
         "name": "blade",
         "scene": "scene",
         "showlegend": true,
         "type": "scatter3d",
         "x": [
          -0.4118533134460449
         ],
         "y": [
          0.3338984549045563
         ],
         "z": [
          0.4426541030406952
         ]
        },
        {
         "hovertemplate": "color=god<br>0=%{x}<br>1=%{y}<br>2=%{z}<extra></extra>",
         "legendgroup": "god",
         "marker": {
          "color": "#B6E880",
          "symbol": "circle"
         },
         "mode": "markers",
         "name": "god",
         "scene": "scene",
         "showlegend": true,
         "type": "scatter3d",
         "x": [
          0.2684120535850525
         ],
         "y": [
          0.7280644178390503
         ],
         "z": [
          -0.24084776639938354
         ]
        },
        {
         "hovertemplate": "color=wondered<br>0=%{x}<br>1=%{y}<br>2=%{z}<extra></extra>",
         "legendgroup": "wondered",
         "marker": {
          "color": "#FF97FF",
          "symbol": "circle"
         },
         "mode": "markers",
         "name": "wondered",
         "scene": "scene",
         "showlegend": true,
         "type": "scatter3d",
         "x": [
          0.4066358804702759
         ],
         "y": [
          0.2743968963623047
         ],
         "z": [
          0.45088231563568115
         ]
        },
        {
         "hovertemplate": "color=ice<br>0=%{x}<br>1=%{y}<br>2=%{z}<extra></extra>",
         "legendgroup": "ice",
         "marker": {
          "color": "#FECB52",
          "symbol": "circle"
         },
         "mode": "markers",
         "name": "ice",
         "scene": "scene",
         "showlegend": true,
         "type": "scatter3d",
         "x": [
          -0.6124449372291565
         ],
         "y": [
          0.5501925945281982
         ],
         "z": [
          -0.07616657018661499
         ]
        },
        {
         "hovertemplate": "color=opened<br>0=%{x}<br>1=%{y}<br>2=%{z}<extra></extra>",
         "legendgroup": "opened",
         "marker": {
          "color": "#636efa",
          "symbol": "circle"
         },
         "mode": "markers",
         "name": "opened",
         "scene": "scene",
         "showlegend": true,
         "type": "scatter3d",
         "x": [
          -0.37831228971481323
         ],
         "y": [
          0.26560458540916443
         ],
         "z": [
          0.5659622550010681
         ]
        },
        {
         "hovertemplate": "color=mine<br>0=%{x}<br>1=%{y}<br>2=%{z}<extra></extra>",
         "legendgroup": "mine",
         "marker": {
          "color": "#EF553B",
          "symbol": "circle"
         },
         "mode": "markers",
         "name": "mine",
         "scene": "scene",
         "showlegend": true,
         "type": "scatter3d",
         "x": [
          0.47101354598999023
         ],
         "y": [
          0.3675484359264374
         ],
         "z": [
          -0.10106725990772247
         ]
        },
        {
         "hovertemplate": "color=barristan<br>0=%{x}<br>1=%{y}<br>2=%{z}<extra></extra>",
         "legendgroup": "barristan",
         "marker": {
          "color": "#00cc96",
          "symbol": "circle"
         },
         "mode": "markers",
         "name": "barristan",
         "scene": "scene",
         "showlegend": true,
         "type": "scatter3d",
         "x": [
          0.2851908802986145
         ],
         "y": [
          0.29536837339401245
         ],
         "z": [
          0.17859217524528503
         ]
        },
        {
         "hovertemplate": "color=shield<br>0=%{x}<br>1=%{y}<br>2=%{z}<extra></extra>",
         "legendgroup": "shield",
         "marker": {
          "color": "#ab63fa",
          "symbol": "circle"
         },
         "mode": "markers",
         "name": "shield",
         "scene": "scene",
         "showlegend": true,
         "type": "scatter3d",
         "x": [
          -0.32921895384788513
         ],
         "y": [
          0.4237994849681854
         ],
         "z": [
          0.18582285940647125
         ]
        },
        {
         "hovertemplate": "color=armor<br>0=%{x}<br>1=%{y}<br>2=%{z}<extra></extra>",
         "legendgroup": "armor",
         "marker": {
          "color": "#FFA15A",
          "symbol": "circle"
         },
         "mode": "markers",
         "name": "armor",
         "scene": "scene",
         "showlegend": true,
         "type": "scatter3d",
         "x": [
          -0.33756598830223083
         ],
         "y": [
          0.3186284303665161
         ],
         "z": [
          0.001647263765335083
         ]
        },
        {
         "hovertemplate": "color=safe<br>0=%{x}<br>1=%{y}<br>2=%{z}<extra></extra>",
         "legendgroup": "safe",
         "marker": {
          "color": "#19d3f3",
          "symbol": "circle"
         },
         "mode": "markers",
         "name": "safe",
         "scene": "scene",
         "showlegend": true,
         "type": "scatter3d",
         "x": [
          0.43132179975509644
         ],
         "y": [
          0.5809227824211121
         ],
         "z": [
          0.1020975187420845
         ]
        },
        {
         "hovertemplate": "color=six<br>0=%{x}<br>1=%{y}<br>2=%{z}<extra></extra>",
         "legendgroup": "six",
         "marker": {
          "color": "#FF6692",
          "symbol": "circle"
         },
         "mode": "markers",
         "name": "six",
         "scene": "scene",
         "showlegend": true,
         "type": "scatter3d",
         "x": [
          0.01807970553636551
         ],
         "y": [
          0.46502530574798584
         ],
         "z": [
          -0.28966283798217773
         ]
        },
        {
         "hovertemplate": "color=kept<br>0=%{x}<br>1=%{y}<br>2=%{z}<extra></extra>",
         "legendgroup": "kept",
         "marker": {
          "color": "#B6E880",
          "symbol": "circle"
         },
         "mode": "markers",
         "name": "kept",
         "scene": "scene",
         "showlegend": true,
         "type": "scatter3d",
         "x": [
          0.04848729819059372
         ],
         "y": [
          0.3774402141571045
         ],
         "z": [
          0.645183801651001
         ]
        },
        {
         "hovertemplate": "color=return<br>0=%{x}<br>1=%{y}<br>2=%{z}<extra></extra>",
         "legendgroup": "return",
         "marker": {
          "color": "#FF97FF",
          "symbol": "circle"
         },
         "mode": "markers",
         "name": "return",
         "scene": "scene",
         "showlegend": true,
         "type": "scatter3d",
         "x": [
          0.5806552171707153
         ],
         "y": [
          0.6637003421783447
         ],
         "z": [
          0.2875380516052246
         ]
        },
        {
         "hovertemplate": "color=wish<br>0=%{x}<br>1=%{y}<br>2=%{z}<extra></extra>",
         "legendgroup": "wish",
         "marker": {
          "color": "#FECB52",
          "symbol": "circle"
         },
         "mode": "markers",
         "name": "wish",
         "scene": "scene",
         "showlegend": true,
         "type": "scatter3d",
         "x": [
          0.7434452176094055
         ],
         "y": [
          0.3806173503398895
         ],
         "z": [
          0.3531021177768707
         ]
        },
        {
         "hovertemplate": "color=tommen<br>0=%{x}<br>1=%{y}<br>2=%{z}<extra></extra>",
         "legendgroup": "tommen",
         "marker": {
          "color": "#636efa",
          "symbol": "circle"
         },
         "mode": "markers",
         "name": "tommen",
         "scene": "scene",
         "showlegend": true,
         "type": "scatter3d",
         "x": [
          0.4672577381134033
         ],
         "y": [
          0.34949859976768494
         ],
         "z": [
          0.11286523938179016
         ]
        },
        {
         "hovertemplate": "color=used<br>0=%{x}<br>1=%{y}<br>2=%{z}<extra></extra>",
         "legendgroup": "used",
         "marker": {
          "color": "#EF553B",
          "symbol": "circle"
         },
         "mode": "markers",
         "name": "used",
         "scene": "scene",
         "showlegend": true,
         "type": "scatter3d",
         "x": [
          0.34386351704597473
         ],
         "y": [
          0.3624112904071808
         ],
         "z": [
          0.42849597334861755
         ]
        },
        {
         "hovertemplate": "color=smell<br>0=%{x}<br>1=%{y}<br>2=%{z}<extra></extra>",
         "legendgroup": "smell",
         "marker": {
          "color": "#00cc96",
          "symbol": "circle"
         },
         "mode": "markers",
         "name": "smell",
         "scene": "scene",
         "showlegend": true,
         "type": "scatter3d",
         "x": [
          -0.17528779804706573
         ],
         "y": [
          0.37909093499183655
         ],
         "z": [
          0.24214552342891693
         ]
        },
        {
         "hovertemplate": "color=less<br>0=%{x}<br>1=%{y}<br>2=%{z}<extra></extra>",
         "legendgroup": "less",
         "marker": {
          "color": "#ab63fa",
          "symbol": "circle"
         },
         "mode": "markers",
         "name": "less",
         "scene": "scene",
         "showlegend": true,
         "type": "scatter3d",
         "x": [
          0.3744705021381378
         ],
         "y": [
          0.37027111649513245
         ],
         "z": [
          -0.021890481933951378
         ]
        },
        {
         "hovertemplate": "color=foot<br>0=%{x}<br>1=%{y}<br>2=%{z}<extra></extra>",
         "legendgroup": "foot",
         "marker": {
          "color": "#FFA15A",
          "symbol": "circle"
         },
         "mode": "markers",
         "name": "foot",
         "scene": "scene",
         "showlegend": true,
         "type": "scatter3d",
         "x": [
          -0.4952797591686249
         ],
         "y": [
          0.5307899117469788
         ],
         "z": [
          0.17881165444850922
         ]
        },
        {
         "hovertemplate": "color=being<br>0=%{x}<br>1=%{y}<br>2=%{z}<extra></extra>",
         "legendgroup": "being",
         "marker": {
          "color": "#19d3f3",
          "symbol": "circle"
         },
         "mode": "markers",
         "name": "being",
         "scene": "scene",
         "showlegend": true,
         "type": "scatter3d",
         "x": [
          0.39344027638435364
         ],
         "y": [
          0.43619009852409363
         ],
         "z": [
          -0.25829222798347473
         ]
        },
        {
         "hovertemplate": "color=squire<br>0=%{x}<br>1=%{y}<br>2=%{z}<extra></extra>",
         "legendgroup": "squire",
         "marker": {
          "color": "#FF6692",
          "symbol": "circle"
         },
         "mode": "markers",
         "name": "squire",
         "scene": "scene",
         "showlegend": true,
         "type": "scatter3d",
         "x": [
          0.40767937898635864
         ],
         "y": [
          0.11418170481920242
         ],
         "z": [
          0.12670117616653442
         ]
        },
        {
         "hovertemplate": "color=floor<br>0=%{x}<br>1=%{y}<br>2=%{z}<extra></extra>",
         "legendgroup": "floor",
         "marker": {
          "color": "#B6E880",
          "symbol": "circle"
         },
         "mode": "markers",
         "name": "floor",
         "scene": "scene",
         "showlegend": true,
         "type": "scatter3d",
         "x": [
          -0.6970600485801697
         ],
         "y": [
          0.46070295572280884
         ],
         "z": [
          0.23166890442371368
         ]
        },
        {
         "hovertemplate": "color=eddard<br>0=%{x}<br>1=%{y}<br>2=%{z}<extra></extra>",
         "legendgroup": "eddard",
         "marker": {
          "color": "#FF97FF",
          "symbol": "circle"
         },
         "mode": "markers",
         "name": "eddard",
         "scene": "scene",
         "showlegend": true,
         "type": "scatter3d",
         "x": [
          0.4042787253856659
         ],
         "y": [
          0.3192478120326996
         ],
         "z": [
          0.10899683088064194
         ]
        },
        {
         "hovertemplate": "color=empty<br>0=%{x}<br>1=%{y}<br>2=%{z}<extra></extra>",
         "legendgroup": "empty",
         "marker": {
          "color": "#FECB52",
          "symbol": "circle"
         },
         "mode": "markers",
         "name": "empty",
         "scene": "scene",
         "showlegend": true,
         "type": "scatter3d",
         "x": [
          -0.4819236695766449
         ],
         "y": [
          0.4747293293476105
         ],
         "z": [
          0.05100659281015396
         ]
        },
        {
         "hovertemplate": "color=followed<br>0=%{x}<br>1=%{y}<br>2=%{z}<extra></extra>",
         "legendgroup": "followed",
         "marker": {
          "color": "#636efa",
          "symbol": "circle"
         },
         "mode": "markers",
         "name": "followed",
         "scene": "scene",
         "showlegend": true,
         "type": "scatter3d",
         "x": [
          -0.26069554686546326
         ],
         "y": [
          0.35623812675476074
         ],
         "z": [
          0.46179553866386414
         ]
        },
        {
         "hovertemplate": "color=run<br>0=%{x}<br>1=%{y}<br>2=%{z}<extra></extra>",
         "legendgroup": "run",
         "marker": {
          "color": "#EF553B",
          "symbol": "circle"
         },
         "mode": "markers",
         "name": "run",
         "scene": "scene",
         "showlegend": true,
         "type": "scatter3d",
         "x": [
          0.09221147745847702
         ],
         "y": [
          0.5591191053390503
         ],
         "z": [
          0.4530656337738037
         ]
        },
        {
         "hovertemplate": "color=friends<br>0=%{x}<br>1=%{y}<br>2=%{z}<extra></extra>",
         "legendgroup": "friends",
         "marker": {
          "color": "#00cc96",
          "symbol": "circle"
         },
         "mode": "markers",
         "name": "friends",
         "scene": "scene",
         "showlegend": true,
         "type": "scatter3d",
         "x": [
          0.5226266384124756
         ],
         "y": [
          0.6309264898300171
         ],
         "z": [
          -0.19911010563373566
         ]
        },
        {
         "hovertemplate": "color=serve<br>0=%{x}<br>1=%{y}<br>2=%{z}<extra></extra>",
         "legendgroup": "serve",
         "marker": {
          "color": "#ab63fa",
          "symbol": "circle"
         },
         "mode": "markers",
         "name": "serve",
         "scene": "scene",
         "showlegend": true,
         "type": "scatter3d",
         "x": [
          0.627387523651123
         ],
         "y": [
          0.4551011323928833
         ],
         "z": [
          0.1807362586259842
         ]
        },
        {
         "hovertemplate": "color=boys<br>0=%{x}<br>1=%{y}<br>2=%{z}<extra></extra>",
         "legendgroup": "boys",
         "marker": {
          "color": "#FFA15A",
          "symbol": "circle"
         },
         "mode": "markers",
         "name": "boys",
         "scene": "scene",
         "showlegend": true,
         "type": "scatter3d",
         "x": [
          0.14248338341712952
         ],
         "y": [
          0.5049991607666016
         ],
         "z": [
          -0.3566013276576996
         ]
        },
        {
         "hovertemplate": "color=beard<br>0=%{x}<br>1=%{y}<br>2=%{z}<extra></extra>",
         "legendgroup": "beard",
         "marker": {
          "color": "#19d3f3",
          "symbol": "circle"
         },
         "mode": "markers",
         "name": "beard",
         "scene": "scene",
         "showlegend": true,
         "type": "scatter3d",
         "x": [
          -0.3690958619117737
         ],
         "y": [
          0.11889398843050003
         ],
         "z": [
          0.27017492055892944
         ]
        },
        {
         "hovertemplate": "color=wedding<br>0=%{x}<br>1=%{y}<br>2=%{z}<extra></extra>",
         "legendgroup": "wedding",
         "marker": {
          "color": "#FF6692",
          "symbol": "circle"
         },
         "mode": "markers",
         "name": "wedding",
         "scene": "scene",
         "showlegend": true,
         "type": "scatter3d",
         "x": [
          0.4255894422531128
         ],
         "y": [
          0.5068873167037964
         ],
         "z": [
          0.11465608328580856
         ]
        },
        {
         "hovertemplate": "color=cloaks<br>0=%{x}<br>1=%{y}<br>2=%{z}<extra></extra>",
         "legendgroup": "cloaks",
         "marker": {
          "color": "#B6E880",
          "symbol": "circle"
         },
         "mode": "markers",
         "name": "cloaks",
         "scene": "scene",
         "showlegend": true,
         "type": "scatter3d",
         "x": [
          -0.2438478171825409
         ],
         "y": [
          0.5026582479476929
         ],
         "z": [
          -0.08804604411125183
         ]
        },
        {
         "hovertemplate": "color=baratheon<br>0=%{x}<br>1=%{y}<br>2=%{z}<extra></extra>",
         "legendgroup": "baratheon",
         "marker": {
          "color": "#FF97FF",
          "symbol": "circle"
         },
         "mode": "markers",
         "name": "baratheon",
         "scene": "scene",
         "showlegend": true,
         "type": "scatter3d",
         "x": [
          0.3757379353046417
         ],
         "y": [
          0.42976340651512146
         ],
         "z": [
          0.0240548737347126
         ]
        },
        {
         "hovertemplate": "color=wrong<br>0=%{x}<br>1=%{y}<br>2=%{z}<extra></extra>",
         "legendgroup": "wrong",
         "marker": {
          "color": "#FECB52",
          "symbol": "circle"
         },
         "mode": "markers",
         "name": "wrong",
         "scene": "scene",
         "showlegend": true,
         "type": "scatter3d",
         "x": [
          0.46012094616889954
         ],
         "y": [
          0.3034535348415375
         ],
         "z": [
          0.2090671807527542
         ]
        },
        {
         "hovertemplate": "color=eat<br>0=%{x}<br>1=%{y}<br>2=%{z}<extra></extra>",
         "legendgroup": "eat",
         "marker": {
          "color": "#636efa",
          "symbol": "circle"
         },
         "mode": "markers",
         "name": "eat",
         "scene": "scene",
         "showlegend": true,
         "type": "scatter3d",
         "x": [
          0.2711030840873718
         ],
         "y": [
          0.42459946870803833
         ],
         "z": [
          0.35978561639785767
         ]
        },
        {
         "hovertemplate": "color=daenerys<br>0=%{x}<br>1=%{y}<br>2=%{z}<extra></extra>",
         "legendgroup": "daenerys",
         "marker": {
          "color": "#EF553B",
          "symbol": "circle"
         },
         "mode": "markers",
         "name": "daenerys",
         "scene": "scene",
         "showlegend": true,
         "type": "scatter3d",
         "x": [
          0.47656309604644775
         ],
         "y": [
          0.4389890730381012
         ],
         "z": [
          0.004300137981772423
         ]
        },
        {
         "hovertemplate": "color=ghost<br>0=%{x}<br>1=%{y}<br>2=%{z}<extra></extra>",
         "legendgroup": "ghost",
         "marker": {
          "color": "#00cc96",
          "symbol": "circle"
         },
         "mode": "markers",
         "name": "ghost",
         "scene": "scene",
         "showlegend": true,
         "type": "scatter3d",
         "x": [
          -0.2781810462474823
         ],
         "y": [
          0.25977951288223267
         ],
         "z": [
          0.32592684030532837
         ]
        },
        {
         "hovertemplate": "color=five<br>0=%{x}<br>1=%{y}<br>2=%{z}<extra></extra>",
         "legendgroup": "five",
         "marker": {
          "color": "#ab63fa",
          "symbol": "circle"
         },
         "mode": "markers",
         "name": "five",
         "scene": "scene",
         "showlegend": true,
         "type": "scatter3d",
         "x": [
          0.09466500580310822
         ],
         "y": [
          0.4806689918041229
         ],
         "z": [
          -0.3561129570007324
         ]
        },
        {
         "hovertemplate": "color=hound<br>0=%{x}<br>1=%{y}<br>2=%{z}<extra></extra>",
         "legendgroup": "hound",
         "marker": {
          "color": "#FFA15A",
          "symbol": "circle"
         },
         "mode": "markers",
         "name": "hound",
         "scene": "scene",
         "showlegend": true,
         "type": "scatter3d",
         "x": [
          0.010544502176344395
         ],
         "y": [
          0.25722888112068176
         ],
         "z": [
          0.3173408508300781
         ]
        },
        {
         "hovertemplate": "color=flesh<br>0=%{x}<br>1=%{y}<br>2=%{z}<extra></extra>",
         "legendgroup": "flesh",
         "marker": {
          "color": "#19d3f3",
          "symbol": "circle"
         },
         "mode": "markers",
         "name": "flesh",
         "scene": "scene",
         "showlegend": true,
         "type": "scatter3d",
         "x": [
          -0.5682762265205383
         ],
         "y": [
          0.3718876540660858
         ],
         "z": [
          0.16635507345199585
         ]
        },
        {
         "hovertemplate": "color=sight<br>0=%{x}<br>1=%{y}<br>2=%{z}<extra></extra>",
         "legendgroup": "sight",
         "marker": {
          "color": "#FF6692",
          "symbol": "circle"
         },
         "mode": "markers",
         "name": "sight",
         "scene": "scene",
         "showlegend": true,
         "type": "scatter3d",
         "x": [
          -0.06034431979060173
         ],
         "y": [
          0.6162652373313904
         ],
         "z": [
          0.1283760666847229
         ]
        },
        {
         "hovertemplate": "color=ship<br>0=%{x}<br>1=%{y}<br>2=%{z}<extra></extra>",
         "legendgroup": "ship",
         "marker": {
          "color": "#B6E880",
          "symbol": "circle"
         },
         "mode": "markers",
         "name": "ship",
         "scene": "scene",
         "showlegend": true,
         "type": "scatter3d",
         "x": [
          0.019591476768255234
         ],
         "y": [
          0.755011260509491
         ],
         "z": [
          -0.09356072545051575
         ]
        },
        {
         "hovertemplate": "color=strength<br>0=%{x}<br>1=%{y}<br>2=%{z}<extra></extra>",
         "legendgroup": "strength",
         "marker": {
          "color": "#FF97FF",
          "symbol": "circle"
         },
         "mode": "markers",
         "name": "strength",
         "scene": "scene",
         "showlegend": true,
         "type": "scatter3d",
         "x": [
          0.2777385711669922
         ],
         "y": [
          0.746329128742218
         ],
         "z": [
          -0.05959830805659294
         ]
        },
        {
         "hovertemplate": "color=returned<br>0=%{x}<br>1=%{y}<br>2=%{z}<extra></extra>",
         "legendgroup": "returned",
         "marker": {
          "color": "#FECB52",
          "symbol": "circle"
         },
         "mode": "markers",
         "name": "returned",
         "scene": "scene",
         "showlegend": true,
         "type": "scatter3d",
         "x": [
          0.3150567412376404
         ],
         "y": [
          0.4672662913799286
         ],
         "z": [
          0.3679969012737274
         ]
        },
        {
         "hovertemplate": "color=nose<br>0=%{x}<br>1=%{y}<br>2=%{z}<extra></extra>",
         "legendgroup": "nose",
         "marker": {
          "color": "#636efa",
          "symbol": "circle"
         },
         "mode": "markers",
         "name": "nose",
         "scene": "scene",
         "showlegend": true,
         "type": "scatter3d",
         "x": [
          -0.3210761845111847
         ],
         "y": [
          0.15733300149440765
         ],
         "z": [
          0.4423290491104126
         ]
        },
        {
         "hovertemplate": "color=bones<br>0=%{x}<br>1=%{y}<br>2=%{z}<extra></extra>",
         "legendgroup": "bones",
         "marker": {
          "color": "#EF553B",
          "symbol": "circle"
         },
         "mode": "markers",
         "name": "bones",
         "scene": "scene",
         "showlegend": true,
         "type": "scatter3d",
         "x": [
          -0.3803453743457794
         ],
         "y": [
          0.5392470955848694
         ],
         "z": [
          -0.1792043000459671
         ]
        },
        {
         "hovertemplate": "color=crown<br>0=%{x}<br>1=%{y}<br>2=%{z}<extra></extra>",
         "legendgroup": "crown",
         "marker": {
          "color": "#00cc96",
          "symbol": "circle"
         },
         "mode": "markers",
         "name": "crown",
         "scene": "scene",
         "showlegend": true,
         "type": "scatter3d",
         "x": [
          0.1315310001373291
         ],
         "y": [
          0.4308663308620453
         ],
         "z": [
          0.08547339588403702
         ]
        },
        {
         "hovertemplate": "color=yellow<br>0=%{x}<br>1=%{y}<br>2=%{z}<extra></extra>",
         "legendgroup": "yellow",
         "marker": {
          "color": "#ab63fa",
          "symbol": "circle"
         },
         "mode": "markers",
         "name": "yellow",
         "scene": "scene",
         "showlegend": true,
         "type": "scatter3d",
         "x": [
          -0.5323386788368225
         ],
         "y": [
          0.19089680910110474
         ],
         "z": [
          -0.03766847401857376
         ]
        },
        {
         "hovertemplate": "color=chest<br>0=%{x}<br>1=%{y}<br>2=%{z}<extra></extra>",
         "legendgroup": "chest",
         "marker": {
          "color": "#FFA15A",
          "symbol": "circle"
         },
         "mode": "markers",
         "name": "chest",
         "scene": "scene",
         "showlegend": true,
         "type": "scatter3d",
         "x": [
          -0.5852788090705872
         ],
         "y": [
          0.21872316300868988
         ],
         "z": [
          0.4584346413612366
         ]
        },
        {
         "hovertemplate": "color=covered<br>0=%{x}<br>1=%{y}<br>2=%{z}<extra></extra>",
         "legendgroup": "covered",
         "marker": {
          "color": "#19d3f3",
          "symbol": "circle"
         },
         "mode": "markers",
         "name": "covered",
         "scene": "scene",
         "showlegend": true,
         "type": "scatter3d",
         "x": [
          -0.6535097360610962
         ],
         "y": [
          0.17201289534568787
         ],
         "z": [
          0.23758184909820557
         ]
        },
        {
         "hovertemplate": "color=commanded<br>0=%{x}<br>1=%{y}<br>2=%{z}<extra></extra>",
         "legendgroup": "commanded",
         "marker": {
          "color": "#FF6692",
          "symbol": "circle"
         },
         "mode": "markers",
         "name": "commanded",
         "scene": "scene",
         "showlegend": true,
         "type": "scatter3d",
         "x": [
          0.4255877435207367
         ],
         "y": [
          0.3124251961708069
         ],
         "z": [
          0.5300426483154297
         ]
        },
        {
         "hovertemplate": "color=says<br>0=%{x}<br>1=%{y}<br>2=%{z}<extra></extra>",
         "legendgroup": "says",
         "marker": {
          "color": "#B6E880",
          "symbol": "circle"
         },
         "mode": "markers",
         "name": "says",
         "scene": "scene",
         "showlegend": true,
         "type": "scatter3d",
         "x": [
          0.7443526387214661
         ],
         "y": [
          0.2811189889907837
         ],
         "z": [
          0.3413785994052887
         ]
        },
        {
         "hovertemplate": "color=petyr<br>0=%{x}<br>1=%{y}<br>2=%{z}<extra></extra>",
         "legendgroup": "petyr",
         "marker": {
          "color": "#FF97FF",
          "symbol": "circle"
         },
         "mode": "markers",
         "name": "petyr",
         "scene": "scene",
         "showlegend": true,
         "type": "scatter3d",
         "x": [
          0.494533896446228
         ],
         "y": [
          0.13089348375797272
         ],
         "z": [
          0.19117267429828644
         ]
        },
        {
         "hovertemplate": "color=sometimes<br>0=%{x}<br>1=%{y}<br>2=%{z}<extra></extra>",
         "legendgroup": "sometimes",
         "marker": {
          "color": "#FECB52",
          "symbol": "circle"
         },
         "mode": "markers",
         "name": "sometimes",
         "scene": "scene",
         "showlegend": true,
         "type": "scatter3d",
         "x": [
          0.04110874980688095
         ],
         "y": [
          0.30155789852142334
         ],
         "z": [
          0.26094138622283936
         ]
        },
        {
         "hovertemplate": "color=aemon<br>0=%{x}<br>1=%{y}<br>2=%{z}<extra></extra>",
         "legendgroup": "aemon",
         "marker": {
          "color": "#636efa",
          "symbol": "circle"
         },
         "mode": "markers",
         "name": "aemon",
         "scene": "scene",
         "showlegend": true,
         "type": "scatter3d",
         "x": [
          0.35137689113616943
         ],
         "y": [
          0.13820905983448029
         ],
         "z": [
          0.14661577343940735
         ]
        },
        {
         "hovertemplate": "color=filled<br>0=%{x}<br>1=%{y}<br>2=%{z}<extra></extra>",
         "legendgroup": "filled",
         "marker": {
          "color": "#EF553B",
          "symbol": "circle"
         },
         "mode": "markers",
         "name": "filled",
         "scene": "scene",
         "showlegend": true,
         "type": "scatter3d",
         "x": [
          -0.39826110005378723
         ],
         "y": [
          0.20226043462753296
         ],
         "z": [
          0.31586650013923645
         ]
        },
        {
         "hovertemplate": "color=led<br>0=%{x}<br>1=%{y}<br>2=%{z}<extra></extra>",
         "legendgroup": "led",
         "marker": {
          "color": "#00cc96",
          "symbol": "circle"
         },
         "mode": "markers",
         "name": "led",
         "scene": "scene",
         "showlegend": true,
         "type": "scatter3d",
         "x": [
          -0.08463513851165771
         ],
         "y": [
          0.50501549243927
         ],
         "z": [
          0.4090249538421631
         ]
        },
        {
         "hovertemplate": "color=friend<br>0=%{x}<br>1=%{y}<br>2=%{z}<extra></extra>",
         "legendgroup": "friend",
         "marker": {
          "color": "#ab63fa",
          "symbol": "circle"
         },
         "mode": "markers",
         "name": "friend",
         "scene": "scene",
         "showlegend": true,
         "type": "scatter3d",
         "x": [
          0.6620811223983765
         ],
         "y": [
          0.4019737243652344
         ],
         "z": [
          0.20777194201946259
         ]
        },
        {
         "hovertemplate": "color=common<br>0=%{x}<br>1=%{y}<br>2=%{z}<extra></extra>",
         "legendgroup": "common",
         "marker": {
          "color": "#FFA15A",
          "symbol": "circle"
         },
         "mode": "markers",
         "name": "common",
         "scene": "scene",
         "showlegend": true,
         "type": "scatter3d",
         "x": [
          0.2038356363773346
         ],
         "y": [
          0.41058409214019775
         ],
         "z": [
          -0.3149152398109436
         ]
        },
        {
         "hovertemplate": "color=aye<br>0=%{x}<br>1=%{y}<br>2=%{z}<extra></extra>",
         "legendgroup": "aye",
         "marker": {
          "color": "#19d3f3",
          "symbol": "circle"
         },
         "mode": "markers",
         "name": "aye",
         "scene": "scene",
         "showlegend": true,
         "type": "scatter3d",
         "x": [
          0.5602926015853882
         ],
         "y": [
          0.1813153177499771
         ],
         "z": [
          -0.07578026503324509
         ]
        },
        {
         "hovertemplate": "color=yours<br>0=%{x}<br>1=%{y}<br>2=%{z}<extra></extra>",
         "legendgroup": "yours",
         "marker": {
          "color": "#FF6692",
          "symbol": "circle"
         },
         "mode": "markers",
         "name": "yours",
         "scene": "scene",
         "showlegend": true,
         "type": "scatter3d",
         "x": [
          0.5071402192115784
         ],
         "y": [
          0.3767351508140564
         ],
         "z": [
          0.034427132457494736
         ]
        },
        {
         "hovertemplate": "color=fighting<br>0=%{x}<br>1=%{y}<br>2=%{z}<extra></extra>",
         "legendgroup": "fighting",
         "marker": {
          "color": "#B6E880",
          "symbol": "circle"
         },
         "mode": "markers",
         "name": "fighting",
         "scene": "scene",
         "showlegend": true,
         "type": "scatter3d",
         "x": [
          0.14669978618621826
         ],
         "y": [
          0.7189371585845947
         ],
         "z": [
          -0.4435761272907257
         ]
        },
        {
         "hovertemplate": "color=flames<br>0=%{x}<br>1=%{y}<br>2=%{z}<extra></extra>",
         "legendgroup": "flames",
         "marker": {
          "color": "#FF97FF",
          "symbol": "circle"
         },
         "mode": "markers",
         "name": "flames",
         "scene": "scene",
         "showlegend": true,
         "type": "scatter3d",
         "x": [
          -0.6407482028007507
         ],
         "y": [
          0.542319655418396
         ],
         "z": [
          0.09606180340051651
         ]
        },
        {
         "hovertemplate": "color=spoke<br>0=%{x}<br>1=%{y}<br>2=%{z}<extra></extra>",
         "legendgroup": "spoke",
         "marker": {
          "color": "#FECB52",
          "symbol": "circle"
         },
         "mode": "markers",
         "name": "spoke",
         "scene": "scene",
         "showlegend": true,
         "type": "scatter3d",
         "x": [
          0.2994130849838257
         ],
         "y": [
          0.19291292130947113
         ],
         "z": [
          0.5164222121238708
         ]
        },
        {
         "hovertemplate": "color=show<br>0=%{x}<br>1=%{y}<br>2=%{z}<extra></extra>",
         "legendgroup": "show",
         "marker": {
          "color": "#636efa",
          "symbol": "circle"
         },
         "mode": "markers",
         "name": "show",
         "scene": "scene",
         "showlegend": true,
         "type": "scatter3d",
         "x": [
          0.42271819710731506
         ],
         "y": [
          0.45219188928604126
         ],
         "z": [
          0.4810834228992462
         ]
        },
        {
         "hovertemplate": "color=huge<br>0=%{x}<br>1=%{y}<br>2=%{z}<extra></extra>",
         "legendgroup": "huge",
         "marker": {
          "color": "#EF553B",
          "symbol": "circle"
         },
         "mode": "markers",
         "name": "huge",
         "scene": "scene",
         "showlegend": true,
         "type": "scatter3d",
         "x": [
          -0.6736553907394409
         ],
         "y": [
          0.2929360568523407
         ],
         "z": [
          -0.03690599650144577
         ]
        },
        {
         "hovertemplate": "color=asha<br>0=%{x}<br>1=%{y}<br>2=%{z}<extra></extra>",
         "legendgroup": "asha",
         "marker": {
          "color": "#00cc96",
          "symbol": "circle"
         },
         "mode": "markers",
         "name": "asha",
         "scene": "scene",
         "showlegend": true,
         "type": "scatter3d",
         "x": [
          0.25450238585472107
         ],
         "y": [
          0.3403160870075226
         ],
         "z": [
          0.012973498553037643
         ]
        },
        {
         "hovertemplate": "color=aside<br>0=%{x}<br>1=%{y}<br>2=%{z}<extra></extra>",
         "legendgroup": "aside",
         "marker": {
          "color": "#ab63fa",
          "symbol": "circle"
         },
         "mode": "markers",
         "name": "aside",
         "scene": "scene",
         "showlegend": true,
         "type": "scatter3d",
         "x": [
          -0.21394550800323486
         ],
         "y": [
          0.32906147837638855
         ],
         "z": [
          0.48033851385116577
         ]
        },
        {
         "hovertemplate": "color=lysa<br>0=%{x}<br>1=%{y}<br>2=%{z}<extra></extra>",
         "legendgroup": "lysa",
         "marker": {
          "color": "#FFA15A",
          "symbol": "circle"
         },
         "mode": "markers",
         "name": "lysa",
         "scene": "scene",
         "showlegend": true,
         "type": "scatter3d",
         "x": [
          0.44932258129119873
         ],
         "y": [
          0.16974574327468872
         ],
         "z": [
          0.1286352425813675
         ]
        },
        {
         "hovertemplate": "color=crow<br>0=%{x}<br>1=%{y}<br>2=%{z}<extra></extra>",
         "legendgroup": "crow",
         "marker": {
          "color": "#19d3f3",
          "symbol": "circle"
         },
         "mode": "markers",
         "name": "crow",
         "scene": "scene",
         "showlegend": true,
         "type": "scatter3d",
         "x": [
          0.20285649597644806
         ],
         "y": [
          0.557593584060669
         ],
         "z": [
          -0.04503348097205162
         ]
        },
        {
         "hovertemplate": "color=belly<br>0=%{x}<br>1=%{y}<br>2=%{z}<extra></extra>",
         "legendgroup": "belly",
         "marker": {
          "color": "#FF6692",
          "symbol": "circle"
         },
         "mode": "markers",
         "name": "belly",
         "scene": "scene",
         "showlegend": true,
         "type": "scatter3d",
         "x": [
          -0.4424947500228882
         ],
         "y": [
          0.3565213084220886
         ],
         "z": [
          0.4942576587200165
         ]
        },
        {
         "hovertemplate": "color=master<br>0=%{x}<br>1=%{y}<br>2=%{z}<extra></extra>",
         "legendgroup": "master",
         "marker": {
          "color": "#B6E880",
          "symbol": "circle"
         },
         "mode": "markers",
         "name": "master",
         "scene": "scene",
         "showlegend": true,
         "type": "scatter3d",
         "x": [
          0.4888988733291626
         ],
         "y": [
          0.29848042130470276
         ],
         "z": [
          -0.147268608212471
         ]
        },
        {
         "hovertemplate": "color=breath<br>0=%{x}<br>1=%{y}<br>2=%{z}<extra></extra>",
         "legendgroup": "breath",
         "marker": {
          "color": "#FF97FF",
          "symbol": "circle"
         },
         "mode": "markers",
         "name": "breath",
         "scene": "scene",
         "showlegend": true,
         "type": "scatter3d",
         "x": [
          -0.4537908434867859
         ],
         "y": [
          0.4178043007850647
         ],
         "z": [
          0.4564134478569031
         ]
        },
        {
         "hovertemplate": "color=seem<br>0=%{x}<br>1=%{y}<br>2=%{z}<extra></extra>",
         "legendgroup": "seem",
         "marker": {
          "color": "#FECB52",
          "symbol": "circle"
         },
         "mode": "markers",
         "name": "seem",
         "scene": "scene",
         "showlegend": true,
         "type": "scatter3d",
         "x": [
          0.4360184967517853
         ],
         "y": [
          0.367032527923584
         ],
         "z": [
          0.25778359174728394
         ]
        },
        {
         "hovertemplate": "color=yard<br>0=%{x}<br>1=%{y}<br>2=%{z}<extra></extra>",
         "legendgroup": "yard",
         "marker": {
          "color": "#636efa",
          "symbol": "circle"
         },
         "mode": "markers",
         "name": "yard",
         "scene": "scene",
         "showlegend": true,
         "type": "scatter3d",
         "x": [
          -0.4962988793849945
         ],
         "y": [
          0.6171550154685974
         ],
         "z": [
          0.06778238713741302
         ]
        },
        {
         "hovertemplate": "color=gates<br>0=%{x}<br>1=%{y}<br>2=%{z}<extra></extra>",
         "legendgroup": "gates",
         "marker": {
          "color": "#EF553B",
          "symbol": "circle"
         },
         "mode": "markers",
         "name": "gates",
         "scene": "scene",
         "showlegend": true,
         "type": "scatter3d",
         "x": [
          -0.21234934031963348
         ],
         "y": [
          0.7944841980934143
         ],
         "z": [
          -0.12368827313184738
         ]
        },
        {
         "hovertemplate": "color=waiting<br>0=%{x}<br>1=%{y}<br>2=%{z}<extra></extra>",
         "legendgroup": "waiting",
         "marker": {
          "color": "#00cc96",
          "symbol": "circle"
         },
         "mode": "markers",
         "name": "waiting",
         "scene": "scene",
         "showlegend": true,
         "type": "scatter3d",
         "x": [
          -0.01240287721157074
         ],
         "y": [
          0.600944459438324
         ],
         "z": [
          0.054623860865831375
         ]
        },
        {
         "hovertemplate": "color=within<br>0=%{x}<br>1=%{y}<br>2=%{z}<extra></extra>",
         "legendgroup": "within",
         "marker": {
          "color": "#ab63fa",
          "symbol": "circle"
         },
         "mode": "markers",
         "name": "within",
         "scene": "scene",
         "showlegend": true,
         "type": "scatter3d",
         "x": [
          -0.18512000143527985
         ],
         "y": [
          0.6046632528305054
         ],
         "z": [
          -0.22082984447479248
         ]
        },
        {
         "hovertemplate": "color=looking<br>0=%{x}<br>1=%{y}<br>2=%{z}<extra></extra>",
         "legendgroup": "looking",
         "marker": {
          "color": "#FFA15A",
          "symbol": "circle"
         },
         "mode": "markers",
         "name": "looking",
         "scene": "scene",
         "showlegend": true,
         "type": "scatter3d",
         "x": [
          -0.06492366641759872
         ],
         "y": [
          0.444315642118454
         ],
         "z": [
          0.3122280240058899
         ]
        },
        {
         "hovertemplate": "color=wooden<br>0=%{x}<br>1=%{y}<br>2=%{z}<extra></extra>",
         "legendgroup": "wooden",
         "marker": {
          "color": "#19d3f3",
          "symbol": "circle"
         },
         "mode": "markers",
         "name": "wooden",
         "scene": "scene",
         "showlegend": true,
         "type": "scatter3d",
         "x": [
          -0.6968391537666321
         ],
         "y": [
          0.4037068784236908
         ],
         "z": [
          -0.01336881797760725
         ]
        },
        {
         "hovertemplate": "color=wet<br>0=%{x}<br>1=%{y}<br>2=%{z}<extra></extra>",
         "legendgroup": "wet",
         "marker": {
          "color": "#FF6692",
          "symbol": "circle"
         },
         "mode": "markers",
         "name": "wet",
         "scene": "scene",
         "showlegend": true,
         "type": "scatter3d",
         "x": [
          -0.6189093589782715
         ],
         "y": [
          0.2436016947031021
         ],
         "z": [
          0.3196926414966583
         ]
        },
        {
         "hovertemplate": "color=realm<br>0=%{x}<br>1=%{y}<br>2=%{z}<extra></extra>",
         "legendgroup": "realm",
         "marker": {
          "color": "#B6E880",
          "symbol": "circle"
         },
         "mode": "markers",
         "name": "realm",
         "scene": "scene",
         "showlegend": true,
         "type": "scatter3d",
         "x": [
          0.5264750719070435
         ],
         "y": [
          0.7157161831855774
         ],
         "z": [
          -0.29716721177101135
         ]
        },
        {
         "hovertemplate": "color=thin<br>0=%{x}<br>1=%{y}<br>2=%{z}<extra></extra>",
         "legendgroup": "thin",
         "marker": {
          "color": "#FF97FF",
          "symbol": "circle"
         },
         "mode": "markers",
         "name": "thin",
         "scene": "scene",
         "showlegend": true,
         "type": "scatter3d",
         "x": [
          -0.6161301732063293
         ],
         "y": [
          0.10655851662158966
         ],
         "z": [
          0.21518316864967346
         ]
        },
        {
         "hovertemplate": "color=work<br>0=%{x}<br>1=%{y}<br>2=%{z}<extra></extra>",
         "legendgroup": "work",
         "marker": {
          "color": "#FECB52",
          "symbol": "circle"
         },
         "mode": "markers",
         "name": "work",
         "scene": "scene",
         "showlegend": true,
         "type": "scatter3d",
         "x": [
          0.4234001934528351
         ],
         "y": [
          0.5374005436897278
         ],
         "z": [
          0.05988110974431038
         ]
        },
        {
         "hovertemplate": "color=bad<br>0=%{x}<br>1=%{y}<br>2=%{z}<extra></extra>",
         "legendgroup": "bad",
         "marker": {
          "color": "#636efa",
          "symbol": "circle"
         },
         "mode": "markers",
         "name": "bad",
         "scene": "scene",
         "showlegend": true,
         "type": "scatter3d",
         "x": [
          0.32863283157348633
         ],
         "y": [
          0.20007875561714172
         ],
         "z": [
          0.12239047884941101
         ]
        },
        {
         "hovertemplate": "color=promised<br>0=%{x}<br>1=%{y}<br>2=%{z}<extra></extra>",
         "legendgroup": "promised",
         "marker": {
          "color": "#EF553B",
          "symbol": "circle"
         },
         "mode": "markers",
         "name": "promised",
         "scene": "scene",
         "showlegend": true,
         "type": "scatter3d",
         "x": [
          0.7023218274116516
         ],
         "y": [
          0.4087163507938385
         ],
         "z": [
          0.4576120674610138
         ]
        },
        {
         "hovertemplate": "color=use<br>0=%{x}<br>1=%{y}<br>2=%{z}<extra></extra>",
         "legendgroup": "use",
         "marker": {
          "color": "#00cc96",
          "symbol": "circle"
         },
         "mode": "markers",
         "name": "use",
         "scene": "scene",
         "showlegend": true,
         "type": "scatter3d",
         "x": [
          0.5101510286331177
         ],
         "y": [
          0.4598086476325989
         ],
         "z": [
          0.22361887991428375
         ]
        },
        {
         "hovertemplate": "color=tree<br>0=%{x}<br>1=%{y}<br>2=%{z}<extra></extra>",
         "legendgroup": "tree",
         "marker": {
          "color": "#ab63fa",
          "symbol": "circle"
         },
         "mode": "markers",
         "name": "tree",
         "scene": "scene",
         "showlegend": true,
         "type": "scatter3d",
         "x": [
          -0.658112645149231
         ],
         "y": [
          0.4346242845058441
         ],
         "z": [
          0.07372425496578217
         ]
        },
        {
         "hovertemplate": "color=grew<br>0=%{x}<br>1=%{y}<br>2=%{z}<extra></extra>",
         "legendgroup": "grew",
         "marker": {
          "color": "#FFA15A",
          "symbol": "circle"
         },
         "mode": "markers",
         "name": "grew",
         "scene": "scene",
         "showlegend": true,
         "type": "scatter3d",
         "x": [
          -0.390028715133667
         ],
         "y": [
          0.2880852520465851
         ],
         "z": [
          0.2166936993598938
         ]
        },
        {
         "hovertemplate": "color=later<br>0=%{x}<br>1=%{y}<br>2=%{z}<extra></extra>",
         "legendgroup": "later",
         "marker": {
          "color": "#19d3f3",
          "symbol": "circle"
         },
         "mode": "markers",
         "name": "later",
         "scene": "scene",
         "showlegend": true,
         "type": "scatter3d",
         "x": [
          0.038477808237075806
         ],
         "y": [
          0.36310654878616333
         ],
         "z": [
          0.11985562741756439
         ]
        },
        {
         "hovertemplate": "color=husband<br>0=%{x}<br>1=%{y}<br>2=%{z}<extra></extra>",
         "legendgroup": "husband",
         "marker": {
          "color": "#FF6692",
          "symbol": "circle"
         },
         "mode": "markers",
         "name": "husband",
         "scene": "scene",
         "showlegend": true,
         "type": "scatter3d",
         "x": [
          0.5601837038993835
         ],
         "y": [
          0.35105976462364197
         ],
         "z": [
          0.2125021070241928
         ]
        },
        {
         "hovertemplate": "color=onto<br>0=%{x}<br>1=%{y}<br>2=%{z}<extra></extra>",
         "legendgroup": "onto",
         "marker": {
          "color": "#B6E880",
          "symbol": "circle"
         },
         "mode": "markers",
         "name": "onto",
         "scene": "scene",
         "showlegend": true,
         "type": "scatter3d",
         "x": [
          -0.45939940214157104
         ],
         "y": [
          0.24319766461849213
         ],
         "z": [
          0.5665568113327026
         ]
        },
        {
         "hovertemplate": "color=wildlings<br>0=%{x}<br>1=%{y}<br>2=%{z}<extra></extra>",
         "legendgroup": "wildlings",
         "marker": {
          "color": "#FF97FF",
          "symbol": "circle"
         },
         "mode": "markers",
         "name": "wildlings",
         "scene": "scene",
         "showlegend": true,
         "type": "scatter3d",
         "x": [
          0.10450907051563263
         ],
         "y": [
          0.796604573726654
         ],
         "z": [
          -0.33130332827568054
         ]
        },
        {
         "hovertemplate": "color=loved<br>0=%{x}<br>1=%{y}<br>2=%{z}<extra></extra>",
         "legendgroup": "loved",
         "marker": {
          "color": "#FECB52",
          "symbol": "circle"
         },
         "mode": "markers",
         "name": "loved",
         "scene": "scene",
         "showlegend": true,
         "type": "scatter3d",
         "x": [
          0.6073135137557983
         ],
         "y": [
          0.14272016286849976
         ],
         "z": [
          0.42338138818740845
         ]
        }
       ],
       "layout": {
        "legend": {
         "title": {
          "text": "color"
         },
         "tracegroupgap": 0
        },
        "margin": {
         "t": 60
        },
        "scene": {
         "domain": {
          "x": [
           0,
           1
          ],
          "y": [
           0,
           1
          ]
         },
         "xaxis": {
          "title": {
           "text": "0"
          }
         },
         "yaxis": {
          "title": {
           "text": "1"
          }
         },
         "zaxis": {
          "title": {
           "text": "2"
          }
         }
        },
        "template": {
         "data": {
          "bar": [
           {
            "error_x": {
             "color": "#2a3f5f"
            },
            "error_y": {
             "color": "#2a3f5f"
            },
            "marker": {
             "line": {
              "color": "#E5ECF6",
              "width": 0.5
             },
             "pattern": {
              "fillmode": "overlay",
              "size": 10,
              "solidity": 0.2
             }
            },
            "type": "bar"
           }
          ],
          "barpolar": [
           {
            "marker": {
             "line": {
              "color": "#E5ECF6",
              "width": 0.5
             },
             "pattern": {
              "fillmode": "overlay",
              "size": 10,
              "solidity": 0.2
             }
            },
            "type": "barpolar"
           }
          ],
          "carpet": [
           {
            "aaxis": {
             "endlinecolor": "#2a3f5f",
             "gridcolor": "white",
             "linecolor": "white",
             "minorgridcolor": "white",
             "startlinecolor": "#2a3f5f"
            },
            "baxis": {
             "endlinecolor": "#2a3f5f",
             "gridcolor": "white",
             "linecolor": "white",
             "minorgridcolor": "white",
             "startlinecolor": "#2a3f5f"
            },
            "type": "carpet"
           }
          ],
          "choropleth": [
           {
            "colorbar": {
             "outlinewidth": 0,
             "ticks": ""
            },
            "type": "choropleth"
           }
          ],
          "contour": [
           {
            "colorbar": {
             "outlinewidth": 0,
             "ticks": ""
            },
            "colorscale": [
             [
              0,
              "#0d0887"
             ],
             [
              0.1111111111111111,
              "#46039f"
             ],
             [
              0.2222222222222222,
              "#7201a8"
             ],
             [
              0.3333333333333333,
              "#9c179e"
             ],
             [
              0.4444444444444444,
              "#bd3786"
             ],
             [
              0.5555555555555556,
              "#d8576b"
             ],
             [
              0.6666666666666666,
              "#ed7953"
             ],
             [
              0.7777777777777778,
              "#fb9f3a"
             ],
             [
              0.8888888888888888,
              "#fdca26"
             ],
             [
              1,
              "#f0f921"
             ]
            ],
            "type": "contour"
           }
          ],
          "contourcarpet": [
           {
            "colorbar": {
             "outlinewidth": 0,
             "ticks": ""
            },
            "type": "contourcarpet"
           }
          ],
          "heatmap": [
           {
            "colorbar": {
             "outlinewidth": 0,
             "ticks": ""
            },
            "colorscale": [
             [
              0,
              "#0d0887"
             ],
             [
              0.1111111111111111,
              "#46039f"
             ],
             [
              0.2222222222222222,
              "#7201a8"
             ],
             [
              0.3333333333333333,
              "#9c179e"
             ],
             [
              0.4444444444444444,
              "#bd3786"
             ],
             [
              0.5555555555555556,
              "#d8576b"
             ],
             [
              0.6666666666666666,
              "#ed7953"
             ],
             [
              0.7777777777777778,
              "#fb9f3a"
             ],
             [
              0.8888888888888888,
              "#fdca26"
             ],
             [
              1,
              "#f0f921"
             ]
            ],
            "type": "heatmap"
           }
          ],
          "heatmapgl": [
           {
            "colorbar": {
             "outlinewidth": 0,
             "ticks": ""
            },
            "colorscale": [
             [
              0,
              "#0d0887"
             ],
             [
              0.1111111111111111,
              "#46039f"
             ],
             [
              0.2222222222222222,
              "#7201a8"
             ],
             [
              0.3333333333333333,
              "#9c179e"
             ],
             [
              0.4444444444444444,
              "#bd3786"
             ],
             [
              0.5555555555555556,
              "#d8576b"
             ],
             [
              0.6666666666666666,
              "#ed7953"
             ],
             [
              0.7777777777777778,
              "#fb9f3a"
             ],
             [
              0.8888888888888888,
              "#fdca26"
             ],
             [
              1,
              "#f0f921"
             ]
            ],
            "type": "heatmapgl"
           }
          ],
          "histogram": [
           {
            "marker": {
             "pattern": {
              "fillmode": "overlay",
              "size": 10,
              "solidity": 0.2
             }
            },
            "type": "histogram"
           }
          ],
          "histogram2d": [
           {
            "colorbar": {
             "outlinewidth": 0,
             "ticks": ""
            },
            "colorscale": [
             [
              0,
              "#0d0887"
             ],
             [
              0.1111111111111111,
              "#46039f"
             ],
             [
              0.2222222222222222,
              "#7201a8"
             ],
             [
              0.3333333333333333,
              "#9c179e"
             ],
             [
              0.4444444444444444,
              "#bd3786"
             ],
             [
              0.5555555555555556,
              "#d8576b"
             ],
             [
              0.6666666666666666,
              "#ed7953"
             ],
             [
              0.7777777777777778,
              "#fb9f3a"
             ],
             [
              0.8888888888888888,
              "#fdca26"
             ],
             [
              1,
              "#f0f921"
             ]
            ],
            "type": "histogram2d"
           }
          ],
          "histogram2dcontour": [
           {
            "colorbar": {
             "outlinewidth": 0,
             "ticks": ""
            },
            "colorscale": [
             [
              0,
              "#0d0887"
             ],
             [
              0.1111111111111111,
              "#46039f"
             ],
             [
              0.2222222222222222,
              "#7201a8"
             ],
             [
              0.3333333333333333,
              "#9c179e"
             ],
             [
              0.4444444444444444,
              "#bd3786"
             ],
             [
              0.5555555555555556,
              "#d8576b"
             ],
             [
              0.6666666666666666,
              "#ed7953"
             ],
             [
              0.7777777777777778,
              "#fb9f3a"
             ],
             [
              0.8888888888888888,
              "#fdca26"
             ],
             [
              1,
              "#f0f921"
             ]
            ],
            "type": "histogram2dcontour"
           }
          ],
          "mesh3d": [
           {
            "colorbar": {
             "outlinewidth": 0,
             "ticks": ""
            },
            "type": "mesh3d"
           }
          ],
          "parcoords": [
           {
            "line": {
             "colorbar": {
              "outlinewidth": 0,
              "ticks": ""
             }
            },
            "type": "parcoords"
           }
          ],
          "pie": [
           {
            "automargin": true,
            "type": "pie"
           }
          ],
          "scatter": [
           {
            "fillpattern": {
             "fillmode": "overlay",
             "size": 10,
             "solidity": 0.2
            },
            "type": "scatter"
           }
          ],
          "scatter3d": [
           {
            "line": {
             "colorbar": {
              "outlinewidth": 0,
              "ticks": ""
             }
            },
            "marker": {
             "colorbar": {
              "outlinewidth": 0,
              "ticks": ""
             }
            },
            "type": "scatter3d"
           }
          ],
          "scattercarpet": [
           {
            "marker": {
             "colorbar": {
              "outlinewidth": 0,
              "ticks": ""
             }
            },
            "type": "scattercarpet"
           }
          ],
          "scattergeo": [
           {
            "marker": {
             "colorbar": {
              "outlinewidth": 0,
              "ticks": ""
             }
            },
            "type": "scattergeo"
           }
          ],
          "scattergl": [
           {
            "marker": {
             "colorbar": {
              "outlinewidth": 0,
              "ticks": ""
             }
            },
            "type": "scattergl"
           }
          ],
          "scattermapbox": [
           {
            "marker": {
             "colorbar": {
              "outlinewidth": 0,
              "ticks": ""
             }
            },
            "type": "scattermapbox"
           }
          ],
          "scatterpolar": [
           {
            "marker": {
             "colorbar": {
              "outlinewidth": 0,
              "ticks": ""
             }
            },
            "type": "scatterpolar"
           }
          ],
          "scatterpolargl": [
           {
            "marker": {
             "colorbar": {
              "outlinewidth": 0,
              "ticks": ""
             }
            },
            "type": "scatterpolargl"
           }
          ],
          "scatterternary": [
           {
            "marker": {
             "colorbar": {
              "outlinewidth": 0,
              "ticks": ""
             }
            },
            "type": "scatterternary"
           }
          ],
          "surface": [
           {
            "colorbar": {
             "outlinewidth": 0,
             "ticks": ""
            },
            "colorscale": [
             [
              0,
              "#0d0887"
             ],
             [
              0.1111111111111111,
              "#46039f"
             ],
             [
              0.2222222222222222,
              "#7201a8"
             ],
             [
              0.3333333333333333,
              "#9c179e"
             ],
             [
              0.4444444444444444,
              "#bd3786"
             ],
             [
              0.5555555555555556,
              "#d8576b"
             ],
             [
              0.6666666666666666,
              "#ed7953"
             ],
             [
              0.7777777777777778,
              "#fb9f3a"
             ],
             [
              0.8888888888888888,
              "#fdca26"
             ],
             [
              1,
              "#f0f921"
             ]
            ],
            "type": "surface"
           }
          ],
          "table": [
           {
            "cells": {
             "fill": {
              "color": "#EBF0F8"
             },
             "line": {
              "color": "white"
             }
            },
            "header": {
             "fill": {
              "color": "#C8D4E3"
             },
             "line": {
              "color": "white"
             }
            },
            "type": "table"
           }
          ]
         },
         "layout": {
          "annotationdefaults": {
           "arrowcolor": "#2a3f5f",
           "arrowhead": 0,
           "arrowwidth": 1
          },
          "autotypenumbers": "strict",
          "coloraxis": {
           "colorbar": {
            "outlinewidth": 0,
            "ticks": ""
           }
          },
          "colorscale": {
           "diverging": [
            [
             0,
             "#8e0152"
            ],
            [
             0.1,
             "#c51b7d"
            ],
            [
             0.2,
             "#de77ae"
            ],
            [
             0.3,
             "#f1b6da"
            ],
            [
             0.4,
             "#fde0ef"
            ],
            [
             0.5,
             "#f7f7f7"
            ],
            [
             0.6,
             "#e6f5d0"
            ],
            [
             0.7,
             "#b8e186"
            ],
            [
             0.8,
             "#7fbc41"
            ],
            [
             0.9,
             "#4d9221"
            ],
            [
             1,
             "#276419"
            ]
           ],
           "sequential": [
            [
             0,
             "#0d0887"
            ],
            [
             0.1111111111111111,
             "#46039f"
            ],
            [
             0.2222222222222222,
             "#7201a8"
            ],
            [
             0.3333333333333333,
             "#9c179e"
            ],
            [
             0.4444444444444444,
             "#bd3786"
            ],
            [
             0.5555555555555556,
             "#d8576b"
            ],
            [
             0.6666666666666666,
             "#ed7953"
            ],
            [
             0.7777777777777778,
             "#fb9f3a"
            ],
            [
             0.8888888888888888,
             "#fdca26"
            ],
            [
             1,
             "#f0f921"
            ]
           ],
           "sequentialminus": [
            [
             0,
             "#0d0887"
            ],
            [
             0.1111111111111111,
             "#46039f"
            ],
            [
             0.2222222222222222,
             "#7201a8"
            ],
            [
             0.3333333333333333,
             "#9c179e"
            ],
            [
             0.4444444444444444,
             "#bd3786"
            ],
            [
             0.5555555555555556,
             "#d8576b"
            ],
            [
             0.6666666666666666,
             "#ed7953"
            ],
            [
             0.7777777777777778,
             "#fb9f3a"
            ],
            [
             0.8888888888888888,
             "#fdca26"
            ],
            [
             1,
             "#f0f921"
            ]
           ]
          },
          "colorway": [
           "#636efa",
           "#EF553B",
           "#00cc96",
           "#ab63fa",
           "#FFA15A",
           "#19d3f3",
           "#FF6692",
           "#B6E880",
           "#FF97FF",
           "#FECB52"
          ],
          "font": {
           "color": "#2a3f5f"
          },
          "geo": {
           "bgcolor": "white",
           "lakecolor": "white",
           "landcolor": "#E5ECF6",
           "showlakes": true,
           "showland": true,
           "subunitcolor": "white"
          },
          "hoverlabel": {
           "align": "left"
          },
          "hovermode": "closest",
          "mapbox": {
           "style": "light"
          },
          "paper_bgcolor": "white",
          "plot_bgcolor": "#E5ECF6",
          "polar": {
           "angularaxis": {
            "gridcolor": "white",
            "linecolor": "white",
            "ticks": ""
           },
           "bgcolor": "#E5ECF6",
           "radialaxis": {
            "gridcolor": "white",
            "linecolor": "white",
            "ticks": ""
           }
          },
          "scene": {
           "xaxis": {
            "backgroundcolor": "#E5ECF6",
            "gridcolor": "white",
            "gridwidth": 2,
            "linecolor": "white",
            "showbackground": true,
            "ticks": "",
            "zerolinecolor": "white"
           },
           "yaxis": {
            "backgroundcolor": "#E5ECF6",
            "gridcolor": "white",
            "gridwidth": 2,
            "linecolor": "white",
            "showbackground": true,
            "ticks": "",
            "zerolinecolor": "white"
           },
           "zaxis": {
            "backgroundcolor": "#E5ECF6",
            "gridcolor": "white",
            "gridwidth": 2,
            "linecolor": "white",
            "showbackground": true,
            "ticks": "",
            "zerolinecolor": "white"
           }
          },
          "shapedefaults": {
           "line": {
            "color": "#2a3f5f"
           }
          },
          "ternary": {
           "aaxis": {
            "gridcolor": "white",
            "linecolor": "white",
            "ticks": ""
           },
           "baxis": {
            "gridcolor": "white",
            "linecolor": "white",
            "ticks": ""
           },
           "bgcolor": "#E5ECF6",
           "caxis": {
            "gridcolor": "white",
            "linecolor": "white",
            "ticks": ""
           }
          },
          "title": {
           "x": 0.05
          },
          "xaxis": {
           "automargin": true,
           "gridcolor": "white",
           "linecolor": "white",
           "ticks": "",
           "title": {
            "standoff": 15
           },
           "zerolinecolor": "white",
           "zerolinewidth": 2
          },
          "yaxis": {
           "automargin": true,
           "gridcolor": "white",
           "linecolor": "white",
           "ticks": "",
           "title": {
            "standoff": 15
           },
           "zerolinecolor": "white",
           "zerolinewidth": 2
          }
         }
        }
       }
      }
     },
     "metadata": {},
     "output_type": "display_data"
    }
   ],
   "source": [
    "import plotly.express as px\n",
    "fig = px.scatter_3d(x[500:600], x=0, y=1, z=2, color=y[500:600])\n",
    "fig.show()"
   ]
  },
  {
   "cell_type": "code",
   "execution_count": null,
   "metadata": {},
   "outputs": [],
   "source": []
  },
  {
   "cell_type": "code",
   "execution_count": null,
   "metadata": {},
   "outputs": [],
   "source": []
  },
  {
   "cell_type": "code",
   "execution_count": null,
   "metadata": {},
   "outputs": [],
   "source": []
  },
  {
   "cell_type": "code",
   "execution_count": null,
   "metadata": {},
   "outputs": [],
   "source": []
  },
  {
   "cell_type": "code",
   "execution_count": null,
   "metadata": {},
   "outputs": [],
   "source": []
  },
  {
   "cell_type": "code",
   "execution_count": null,
   "metadata": {},
   "outputs": [],
   "source": []
  }
 ],
 "metadata": {
  "kernelspec": {
   "display_name": "Python 3",
   "language": "python",
   "name": "python3"
  },
  "language_info": {
   "codemirror_mode": {
    "name": "ipython",
    "version": 3
   },
   "file_extension": ".py",
   "mimetype": "text/x-python",
   "name": "python",
   "nbconvert_exporter": "python",
   "pygments_lexer": "ipython3",
   "version": "3.11.1"
  }
 },
 "nbformat": 4,
 "nbformat_minor": 2
}
