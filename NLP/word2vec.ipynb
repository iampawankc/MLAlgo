{
  "cells": [
    {
      "cell_type": "markdown",
      "metadata": {
        "id": "JjwnZUeWFTNP"
      },
      "source": [
        "# Pre Trained model"
      ]
    },
    {
      "cell_type": "code",
      "execution_count": 2,
      "metadata": {
        "id": "9TFratpxFXhq"
      },
      "outputs": [],
      "source": [
        "import gensim\n",
        "from gensim.models import Word2Vec, KeyedVectors"
      ]
    },
    {
      "cell_type": "code",
      "execution_count": 3,
      "metadata": {
        "id": "mA7ni3zAFjQO"
      },
      "outputs": [],
      "source": [
        "!mkdir -p ~/.kaggle\n",
        "!cp kaggle.json ~/.kaggle/"
      ]
    },
    {
      "cell_type": "code",
      "execution_count": 4,
      "metadata": {
        "colab": {
          "base_uri": "https://localhost:8080/"
        },
        "id": "kAV97nw9Gb4E",
        "outputId": "798ce398-5274-4eb2-f7ea-7ef661ca3640"
      },
      "outputs": [
        {
          "name": "stdout",
          "output_type": "stream",
          "text": [
            "Warning: Your Kaggle API key is readable by other users on this system! To fix this, you can run 'chmod 600 /root/.kaggle/kaggle.json'\n",
            "Downloading googlenewsvectorsnegative300.zip to /content\n",
            "100% 3.17G/3.17G [00:34<00:00, 53.9MB/s]\n",
            "100% 3.17G/3.17G [00:34<00:00, 98.6MB/s]\n"
          ]
        }
      ],
      "source": [
        "!kaggle datasets download -d leadbest/googlenewsvectorsnegative300"
      ]
    },
    {
      "cell_type": "code",
      "execution_count": 6,
      "metadata": {
        "id": "DD4MjC85Gc3D"
      },
      "outputs": [],
      "source": [
        "import zipfile\n",
        "zip_ref = zipfile.ZipFile('/content/googlenewsvectorsnegative300.zip')\n",
        "zip_ref.extractall('/content')\n",
        "zip_ref.close()"
      ]
    },
    {
      "cell_type": "code",
      "execution_count": 7,
      "metadata": {
        "colab": {
          "base_uri": "https://localhost:8080/"
        },
        "id": "fnZQqzCyIoCn",
        "outputId": "134e2707-fd25-4fc4-da85-301ddd89c2ac"
      },
      "outputs": [
        {
          "name": "stdout",
          "output_type": "stream",
          "text": [
            "Collecting wget\n",
            "  Downloading wget-3.2.zip (10 kB)\n",
            "  Preparing metadata (setup.py) ... \u001b[?25l\u001b[?25hdone\n",
            "Building wheels for collected packages: wget\n",
            "  Building wheel for wget (setup.py) ... \u001b[?25l\u001b[?25hdone\n",
            "  Created wheel for wget: filename=wget-3.2-py3-none-any.whl size=9655 sha256=ca3f4a9e58fb8579975a9ece953e45401d14cc07d6d866da5334b31d08eb62ed\n",
            "  Stored in directory: /root/.cache/pip/wheels/8b/f1/7f/5c94f0a7a505ca1c81cd1d9208ae2064675d97582078e6c769\n",
            "Successfully built wget\n",
            "Installing collected packages: wget\n",
            "Successfully installed wget-3.2\n"
          ]
        }
      ],
      "source": [
        "!pip install wget"
      ]
    },
    {
      "cell_type": "code",
      "execution_count": 9,
      "metadata": {
        "id": "v9sHDVv7IoFE"
      },
      "outputs": [],
      "source": [
        "model = KeyedVectors.load_word2vec_format('/content/GoogleNews-vectors-negative300.bin.gz', binary=True)"
      ]
    },
    {
      "cell_type": "code",
      "execution_count": 10,
      "metadata": {
        "colab": {
          "base_uri": "https://localhost:8080/"
        },
        "id": "347rnocAGc4b",
        "outputId": "98baf402-7a67-49e1-d0cd-7619a5f60d89"
      },
      "outputs": [
        {
          "data": {
            "text/plain": [
              "<gensim.models.keyedvectors.KeyedVectors at 0x7d97966dbc10>"
            ]
          },
          "execution_count": 10,
          "metadata": {},
          "output_type": "execute_result"
        }
      ],
      "source": [
        "model"
      ]
    },
    {
      "cell_type": "code",
      "execution_count": 11,
      "metadata": {
        "colab": {
          "base_uri": "https://localhost:8080/"
        },
        "id": "4SBJ6-9LKEr2",
        "outputId": "388e3deb-aa56-49ec-f778-c77cf3366de1"
      },
      "outputs": [
        {
          "data": {
            "text/plain": [
              "array([ 0.04052734,  0.0625    , -0.01745605,  0.07861328,  0.03271484,\n",
              "       -0.01263428,  0.00964355,  0.12353516, -0.02148438,  0.15234375,\n",
              "       -0.05834961, -0.10644531,  0.02124023,  0.13574219, -0.13183594,\n",
              "        0.17675781,  0.27148438,  0.13769531, -0.17382812, -0.14160156,\n",
              "       -0.03076172,  0.19628906, -0.03295898,  0.125     ,  0.25390625,\n",
              "        0.12695312, -0.15234375,  0.03198242,  0.01135254, -0.01361084,\n",
              "       -0.12890625,  0.01019287,  0.23925781, -0.08447266,  0.140625  ,\n",
              "        0.13085938, -0.04516602,  0.06494141,  0.02539062,  0.05615234,\n",
              "        0.24609375, -0.20507812,  0.23632812, -0.00860596, -0.02294922,\n",
              "        0.05078125,  0.10644531, -0.03564453,  0.08740234, -0.05712891,\n",
              "        0.08496094,  0.23535156, -0.10107422, -0.03564453, -0.04736328,\n",
              "        0.04736328, -0.14550781, -0.10986328,  0.14746094, -0.23242188,\n",
              "       -0.07275391,  0.19628906, -0.37890625, -0.07226562,  0.04833984,\n",
              "        0.11914062,  0.06103516, -0.12109375, -0.27929688,  0.05200195,\n",
              "        0.04907227, -0.02709961,  0.1328125 ,  0.03369141, -0.32226562,\n",
              "        0.04223633, -0.08789062,  0.15429688,  0.09472656,  0.10351562,\n",
              "       -0.02856445,  0.00128174, -0.00427246,  0.24609375, -0.05957031,\n",
              "       -0.16894531, -0.09619141,  0.16796875,  0.0133667 ,  0.04882812,\n",
              "        0.08349609,  0.06347656, -0.00872803, -0.08642578, -0.03857422,\n",
              "       -0.08251953,  0.15722656,  0.22753906, -0.00762939, -0.19921875,\n",
              "       -0.06347656,  0.12792969, -0.06347656, -0.03027344,  0.0456543 ,\n",
              "        0.06298828, -0.02526855, -0.06787109, -0.01141357, -0.13574219,\n",
              "        0.02978516,  0.10400391, -0.15917969, -0.08447266,  0.29882812,\n",
              "       -0.12597656,  0.11425781, -0.08105469, -0.09082031, -0.07910156,\n",
              "       -0.11181641, -0.09619141,  0.02770996,  0.14257812, -0.26757812,\n",
              "       -0.09375   ,  0.03979492, -0.17871094, -0.02819824,  0.01464844,\n",
              "       -0.31640625, -0.24511719, -0.08935547,  0.09716797, -0.00964355,\n",
              "       -0.14746094,  0.15234375,  0.21582031,  0.05981445,  0.23828125,\n",
              "       -0.05151367,  0.14941406,  0.13574219, -0.03222656, -0.265625  ,\n",
              "       -0.11181641, -0.23046875, -0.140625  ,  0.25585938, -0.15429688,\n",
              "        0.1796875 ,  0.15527344, -0.21582031,  0.36328125, -0.1015625 ,\n",
              "        0.04980469,  0.07177734, -0.14550781, -0.03198242,  0.00952148,\n",
              "       -0.12109375,  0.12109375,  0.09765625,  0.07763672,  0.3203125 ,\n",
              "       -0.22265625, -0.08447266, -0.10742188,  0.11279297, -0.13867188,\n",
              "       -0.21875   ,  0.0145874 ,  0.13378906, -0.00921631,  0.00921631,\n",
              "        0.16894531,  0.16894531, -0.078125  , -0.00665283,  0.03735352,\n",
              "       -0.10888672, -0.25390625,  0.01452637, -0.09716797, -0.19628906,\n",
              "       -0.01782227, -0.28125   , -0.02050781, -0.02905273, -0.09375   ,\n",
              "       -0.17675781,  0.21484375, -0.05224609, -0.11572266, -0.01977539,\n",
              "       -0.10839844, -0.01342773, -0.15332031, -0.140625  , -0.11816406,\n",
              "        0.09228516,  0.109375  ,  0.05761719, -0.03466797,  0.03564453,\n",
              "       -0.12011719, -0.14257812, -0.00072479, -0.06689453,  0.11914062,\n",
              "       -0.10449219,  0.07861328, -0.12792969,  0.09570312, -0.00817871,\n",
              "        0.07128906,  0.20703125, -0.03149414,  0.09570312,  0.17285156,\n",
              "       -0.07958984, -0.02429199, -0.07519531, -0.07568359,  0.09521484,\n",
              "       -0.06494141, -0.00689697, -0.09033203,  0.03100586,  0.19921875,\n",
              "       -0.10644531, -0.11474609,  0.18652344, -0.05078125,  0.0859375 ,\n",
              "        0.00128937, -0.18847656, -0.20019531, -0.02832031,  0.11328125,\n",
              "        0.25976562,  0.22070312,  0.04101562,  0.00171661,  0.07568359,\n",
              "       -0.01196289,  0.0177002 , -0.05883789, -0.25976562, -0.234375  ,\n",
              "       -0.04956055,  0.25976562,  0.15332031,  0.15136719,  0.08300781,\n",
              "       -0.15527344,  0.04931641,  0.07519531, -0.05078125, -0.1328125 ,\n",
              "       -0.13574219,  0.04199219, -0.14257812,  0.02099609,  0.07861328,\n",
              "        0.01611328,  0.01623535, -0.21582031,  0.01599121, -0.04882812,\n",
              "       -0.02404785,  0.13476562,  0.08496094, -0.01196289,  0.10009766,\n",
              "       -0.13867188,  0.08056641, -0.22070312, -0.12011719,  0.18945312,\n",
              "        0.05444336, -0.05053711,  0.00147247,  0.14160156, -0.06494141,\n",
              "       -0.05566406, -0.09033203, -0.0267334 , -0.10498047,  0.02416992,\n",
              "        0.01422119,  0.1875    , -0.16503906,  0.01538086, -0.04174805,\n",
              "        0.05444336, -0.01184082, -0.15625   ,  0.00193024, -0.06982422],\n",
              "      dtype=float32)"
            ]
          },
          "execution_count": 11,
          "metadata": {},
          "output_type": "execute_result"
        }
      ],
      "source": [
        "#System generated token words for:\n",
        "model['good']"
      ]
    },
    {
      "cell_type": "code",
      "execution_count": 12,
      "metadata": {
        "colab": {
          "base_uri": "https://localhost:8080/"
        },
        "id": "zOUxmuwVKExy",
        "outputId": "6d763988-cc19-469c-8269-14a4088ca953"
      },
      "outputs": [
        {
          "data": {
            "text/plain": [
              "300"
            ]
          },
          "execution_count": 12,
          "metadata": {},
          "output_type": "execute_result"
        }
      ],
      "source": [
        "len(model['good'])"
      ]
    },
    {
      "cell_type": "code",
      "execution_count": 13,
      "metadata": {
        "colab": {
          "base_uri": "https://localhost:8080/"
        },
        "id": "-wQrdGpeKQCM",
        "outputId": "10f3f03d-7dbf-457b-b652-c9bffddfa8a9"
      },
      "outputs": [
        {
          "data": {
            "text/plain": [
              "[('great', 0.7291510105133057),\n",
              " ('bad', 0.7190051078796387),\n",
              " ('terrific', 0.6889115571975708),\n",
              " ('decent', 0.6837348341941833),\n",
              " ('nice', 0.6836092472076416),\n",
              " ('excellent', 0.644292950630188),\n",
              " ('fantastic', 0.6407778263092041),\n",
              " ('better', 0.6120728850364685),\n",
              " ('solid', 0.5806034803390503),\n",
              " ('lousy', 0.576420247554779)]"
            ]
          },
          "execution_count": 13,
          "metadata": {},
          "output_type": "execute_result"
        }
      ],
      "source": [
        "#Similar words for given words\n",
        "model.most_similar('good')"
      ]
    },
    {
      "cell_type": "code",
      "execution_count": 14,
      "metadata": {
        "colab": {
          "base_uri": "https://localhost:8080/"
        },
        "id": "hfMaricEKQJc",
        "outputId": "ebe5888e-4b06-49a6-fda6-e2252ef92f65"
      },
      "outputs": [
        {
          "data": {
            "text/plain": [
              "[('women', 0.767493724822998),\n",
              " ('Men', 0.6301247477531433),\n",
              " ('males', 0.6242231130599976),\n",
              " ('mens', 0.5807526707649231),\n",
              " ('boys', 0.5781347751617432),\n",
              " ('man', 0.5489763021469116),\n",
              " ('females', 0.5481874346733093),\n",
              " ('teenagers', 0.5462744832038879),\n",
              " ('girls', 0.540932834148407),\n",
              " ('ladies', 0.5234237909317017)]"
            ]
          },
          "execution_count": 14,
          "metadata": {},
          "output_type": "execute_result"
        }
      ],
      "source": [
        "model.most_similar('men')\n"
      ]
    },
    {
      "cell_type": "code",
      "execution_count": 15,
      "metadata": {
        "colab": {
          "base_uri": "https://localhost:8080/"
        },
        "id": "Gdbw4ExdKltO",
        "outputId": "2cff6239-382c-451b-88bb-4419c11e584e"
      },
      "outputs": [
        {
          "data": {
            "text/plain": [
              "[('Tendulkar', 0.8437850475311279),\n",
              " ('Sachin_Tendulkar', 0.8199735879898071),\n",
              " ('Sourav', 0.8156815767288208),\n",
              " ('Yuvraj', 0.8009966611862183),\n",
              " ('Dhoni', 0.8007310032844543),\n",
              " ('Ganguly', 0.7933521270751953),\n",
              " ('Kapil', 0.7776494026184082),\n",
              " ('Yuvi', 0.773607075214386),\n",
              " ('Laxman', 0.7617191672325134),\n",
              " ('Murali', 0.757654070854187)]"
            ]
          },
          "execution_count": 15,
          "metadata": {},
          "output_type": "execute_result"
        }
      ],
      "source": [
        "model.most_similar('Sachin')\n"
      ]
    },
    {
      "cell_type": "code",
      "execution_count": 16,
      "metadata": {
        "colab": {
          "base_uri": "https://localhost:8080/"
        },
        "id": "xxOrctQzKpuU",
        "outputId": "c17901fd-69d3-4424-990c-c0db47e72295"
      },
      "outputs": [
        {
          "data": {
            "text/plain": [
              "[('Telugu', 0.8363234996795654),\n",
              " ('Marathi', 0.8172723054885864),\n",
              " ('Malayalam', 0.7683844566345215),\n",
              " ('Oriya', 0.751862108707428),\n",
              " ('Kannada_films', 0.7311466932296753),\n",
              " ('Konkani', 0.7196025252342224),\n",
              " ('Hindi', 0.7131072282791138),\n",
              " ('Tollywood', 0.7126798033714294),\n",
              " ('Kannada_cinema', 0.7006999254226685),\n",
              " ('Bengali', 0.6978732943534851)]"
            ]
          },
          "execution_count": 16,
          "metadata": {},
          "output_type": "execute_result"
        }
      ],
      "source": [
        "model.most_similar('Kannada')"
      ]
    },
    {
      "cell_type": "code",
      "execution_count": 17,
      "metadata": {
        "colab": {
          "base_uri": "https://localhost:8080/",
          "height": 346
        },
        "id": "H5sKR4OHKpxE",
        "outputId": "d5fcc202-a549-47b7-9056-e28b7851467a"
      },
      "outputs": [
        {
          "ename": "KeyError",
          "evalue": "ignored",
          "output_type": "error",
          "traceback": [
            "\u001b[0;31m---------------------------------------------------------------------------\u001b[0m",
            "\u001b[0;31mKeyError\u001b[0m                                  Traceback (most recent call last)",
            "\u001b[0;32m<ipython-input-17-16c286279495>\u001b[0m in \u001b[0;36m<cell line: 1>\u001b[0;34m()\u001b[0m\n\u001b[0;32m----> 1\u001b[0;31m \u001b[0mmodel\u001b[0m\u001b[0;34m.\u001b[0m\u001b[0mmost_similar\u001b[0m\u001b[0;34m(\u001b[0m\u001b[0;34m'India is in a growth stage'\u001b[0m\u001b[0;34m)\u001b[0m\u001b[0;34m\u001b[0m\u001b[0;34m\u001b[0m\u001b[0m\n\u001b[0m",
            "\u001b[0;32m/usr/local/lib/python3.10/dist-packages/gensim/models/keyedvectors.py\u001b[0m in \u001b[0;36mmost_similar\u001b[0;34m(self, positive, negative, topn, clip_start, clip_end, restrict_vocab, indexer)\u001b[0m\n\u001b[1;32m    839\u001b[0m \u001b[0;34m\u001b[0m\u001b[0m\n\u001b[1;32m    840\u001b[0m         \u001b[0;31m# compute the weighted average of all keys\u001b[0m\u001b[0;34m\u001b[0m\u001b[0;34m\u001b[0m\u001b[0m\n\u001b[0;32m--> 841\u001b[0;31m         \u001b[0mmean\u001b[0m \u001b[0;34m=\u001b[0m \u001b[0mself\u001b[0m\u001b[0;34m.\u001b[0m\u001b[0mget_mean_vector\u001b[0m\u001b[0;34m(\u001b[0m\u001b[0mkeys\u001b[0m\u001b[0;34m,\u001b[0m \u001b[0mweight\u001b[0m\u001b[0;34m,\u001b[0m \u001b[0mpre_normalize\u001b[0m\u001b[0;34m=\u001b[0m\u001b[0;32mTrue\u001b[0m\u001b[0;34m,\u001b[0m \u001b[0mpost_normalize\u001b[0m\u001b[0;34m=\u001b[0m\u001b[0;32mTrue\u001b[0m\u001b[0;34m,\u001b[0m \u001b[0mignore_missing\u001b[0m\u001b[0;34m=\u001b[0m\u001b[0;32mFalse\u001b[0m\u001b[0;34m)\u001b[0m\u001b[0;34m\u001b[0m\u001b[0;34m\u001b[0m\u001b[0m\n\u001b[0m\u001b[1;32m    842\u001b[0m         all_keys = [\n\u001b[1;32m    843\u001b[0m             \u001b[0mself\u001b[0m\u001b[0;34m.\u001b[0m\u001b[0mget_index\u001b[0m\u001b[0;34m(\u001b[0m\u001b[0mkey\u001b[0m\u001b[0;34m)\u001b[0m \u001b[0;32mfor\u001b[0m \u001b[0mkey\u001b[0m \u001b[0;32min\u001b[0m \u001b[0mkeys\u001b[0m \u001b[0;32mif\u001b[0m \u001b[0misinstance\u001b[0m\u001b[0;34m(\u001b[0m\u001b[0mkey\u001b[0m\u001b[0;34m,\u001b[0m \u001b[0m_KEY_TYPES\u001b[0m\u001b[0;34m)\u001b[0m \u001b[0;32mand\u001b[0m \u001b[0mself\u001b[0m\u001b[0;34m.\u001b[0m\u001b[0mhas_index_for\u001b[0m\u001b[0;34m(\u001b[0m\u001b[0mkey\u001b[0m\u001b[0;34m)\u001b[0m\u001b[0;34m\u001b[0m\u001b[0;34m\u001b[0m\u001b[0m\n",
            "\u001b[0;32m/usr/local/lib/python3.10/dist-packages/gensim/models/keyedvectors.py\u001b[0m in \u001b[0;36mget_mean_vector\u001b[0;34m(self, keys, weights, pre_normalize, post_normalize, ignore_missing)\u001b[0m\n\u001b[1;32m    516\u001b[0m                 \u001b[0mtotal_weight\u001b[0m \u001b[0;34m+=\u001b[0m \u001b[0mabs\u001b[0m\u001b[0;34m(\u001b[0m\u001b[0mweights\u001b[0m\u001b[0;34m[\u001b[0m\u001b[0midx\u001b[0m\u001b[0;34m]\u001b[0m\u001b[0;34m)\u001b[0m\u001b[0;34m\u001b[0m\u001b[0;34m\u001b[0m\u001b[0m\n\u001b[1;32m    517\u001b[0m             \u001b[0;32melif\u001b[0m \u001b[0;32mnot\u001b[0m \u001b[0mignore_missing\u001b[0m\u001b[0;34m:\u001b[0m\u001b[0;34m\u001b[0m\u001b[0;34m\u001b[0m\u001b[0m\n\u001b[0;32m--> 518\u001b[0;31m                 \u001b[0;32mraise\u001b[0m \u001b[0mKeyError\u001b[0m\u001b[0;34m(\u001b[0m\u001b[0;34mf\"Key '{key}' not present in vocabulary\"\u001b[0m\u001b[0;34m)\u001b[0m\u001b[0;34m\u001b[0m\u001b[0;34m\u001b[0m\u001b[0m\n\u001b[0m\u001b[1;32m    519\u001b[0m \u001b[0;34m\u001b[0m\u001b[0m\n\u001b[1;32m    520\u001b[0m         \u001b[0;32mif\u001b[0m \u001b[0mtotal_weight\u001b[0m \u001b[0;34m>\u001b[0m \u001b[0;36m0\u001b[0m\u001b[0;34m:\u001b[0m\u001b[0;34m\u001b[0m\u001b[0;34m\u001b[0m\u001b[0m\n",
            "\u001b[0;31mKeyError\u001b[0m: \"Key 'India is in a growth stage' not present in vocabulary\""
          ]
        }
      ],
      "source": [
        "model.most_similar('India is in a growth stage')"
      ]
    },
    {
      "cell_type": "code",
      "execution_count": 19,
      "metadata": {
        "colab": {
          "base_uri": "https://localhost:8080/"
        },
        "id": "-2M66C0DLgR-",
        "outputId": "73116e3e-a8fe-40ff-df2e-511f8e038134"
      },
      "outputs": [
        {
          "data": {
            "text/plain": [
              "0.76640123"
            ]
          },
          "execution_count": 19,
          "metadata": {},
          "output_type": "execute_result"
        }
      ],
      "source": [
        "model.similarity('man','woman')"
      ]
    },
    {
      "cell_type": "code",
      "execution_count": 20,
      "metadata": {
        "colab": {
          "base_uri": "https://localhost:8080/"
        },
        "id": "9l2aR_ZZLgUf",
        "outputId": "f0183804-6a61-4e0d-aab6-8778ef6053ce"
      },
      "outputs": [
        {
          "data": {
            "text/plain": [
              "0.18008712"
            ]
          },
          "execution_count": 20,
          "metadata": {},
          "output_type": "execute_result"
        }
      ],
      "source": [
        "model.similarity('man','bottle')"
      ]
    },
    {
      "cell_type": "code",
      "execution_count": 21,
      "metadata": {
        "colab": {
          "base_uri": "https://localhost:8080/"
        },
        "id": "jM2xCuCDLsEO",
        "outputId": "3ef015b6-32ab-47ab-8855-7d91cb7c5488"
      },
      "outputs": [
        {
          "data": {
            "text/plain": [
              "0.035492986"
            ]
          },
          "execution_count": 21,
          "metadata": {},
          "output_type": "execute_result"
        }
      ],
      "source": [
        "model.similarity('man','Python')"
      ]
    },
    {
      "cell_type": "code",
      "execution_count": 23,
      "metadata": {
        "colab": {
          "base_uri": "https://localhost:8080/",
          "height": 35
        },
        "id": "vHdR6uFPLvqt",
        "outputId": "29f73854-4245-4c51-871c-01e8a76912f5"
      },
      "outputs": [
        {
          "data": {
            "application/vnd.google.colaboratory.intrinsic+json": {
              "type": "string"
            },
            "text/plain": [
              "'Monkey'"
            ]
          },
          "execution_count": 23,
          "metadata": {},
          "output_type": "execute_result"
        }
      ],
      "source": [
        "model.doesnt_match(['PHP','Java','Monkey'])"
      ]
    },
    {
      "cell_type": "code",
      "execution_count": 24,
      "metadata": {
        "colab": {
          "base_uri": "https://localhost:8080/"
        },
        "id": "CIqhIIC9MTfX",
        "outputId": "5f3538d2-e82f-4cb6-e001-71ef1bbe5537"
      },
      "outputs": [
        {
          "data": {
            "text/plain": [
              "array([-8.65173340e-02, -1.91772461e-01, -2.19238281e-01,  1.03515625e-01,\n",
              "        1.40625000e-01, -7.15026855e-02,  1.14624023e-01,  6.80541992e-02,\n",
              "        1.88964844e-01,  1.20368958e-01, -2.63671875e-01,  6.83593750e-02,\n",
              "        4.24804688e-02, -6.73828125e-02, -5.29785156e-02, -7.05566406e-02,\n",
              "       -2.01171875e-01,  5.37109375e-03, -4.58984375e-02,  3.23974609e-01,\n",
              "        1.19750977e-01,  9.22088623e-02, -2.00195312e-02, -2.23632812e-01,\n",
              "        2.38037109e-02,  1.07421875e-02, -3.38867188e-01, -1.71875000e-01,\n",
              "        1.22070312e-01, -1.00097656e-01, -5.68847656e-02, -2.33276367e-01,\n",
              "       -2.33886719e-01,  8.91113281e-03, -2.08007812e-01, -6.73828125e-02,\n",
              "        2.99804688e-01,  8.52661133e-02, -4.70214844e-01, -1.45874023e-01,\n",
              "       -2.84912109e-01, -2.98095703e-01, -1.14257812e-01,  2.05505371e-01,\n",
              "       -1.51367188e-02,  1.03271484e-01,  1.55273438e-01, -1.09863281e-01,\n",
              "        1.77001953e-02, -2.53906250e-02,  1.57226562e-01, -8.50601196e-02,\n",
              "       -1.53564453e-01,  1.22070312e-02,  5.81054688e-02,  2.49023438e-02,\n",
              "       -9.27734375e-02, -2.28271484e-02, -1.13281250e-01, -7.77587891e-02,\n",
              "        2.12402344e-01,  1.28906250e-01,  2.49023438e-02,  1.20605469e-01,\n",
              "        8.03222656e-02, -3.22265625e-02,  5.05371094e-02,  2.35839844e-01,\n",
              "        1.07421875e-02,  3.19824219e-02,  1.41357422e-01, -7.12890625e-02,\n",
              "        8.05664062e-02,  2.72460938e-01,  1.48681641e-01,  4.90722656e-02,\n",
              "        1.35009766e-01,  3.05175781e-02,  5.02197266e-01,  1.57958984e-01,\n",
              "       -1.45019531e-01,  1.88476562e-01,  8.28857422e-02, -2.97851562e-02,\n",
              "       -3.02246094e-01,  1.51306152e-01, -2.04101562e-01,  7.94677734e-02,\n",
              "        1.95312500e-01,  9.55810547e-02, -1.31835938e-02, -2.78564453e-01,\n",
              "       -2.66479492e-01, -1.92993164e-01,  8.30078125e-02,  2.06695557e-01,\n",
              "        1.85485840e-01,  6.15234375e-02,  1.85546875e-02,  5.67626953e-02,\n",
              "       -1.29394531e-01, -2.91015625e-01, -5.07812500e-02, -1.92382812e-01,\n",
              "        2.44140625e-04,  2.94189453e-02, -3.44726562e-01, -3.16335678e-01,\n",
              "        2.02392578e-01, -1.46484375e-03,  2.08129883e-02,  3.32519531e-01,\n",
              "        2.34985352e-01,  1.11083984e-02,  1.43890381e-02, -3.73168945e-01,\n",
              "        8.54492188e-03, -2.34130859e-01,  2.29888916e-01,  2.73437500e-01,\n",
              "        3.73535156e-02,  2.07092285e-01,  3.24707031e-02, -7.32421875e-02,\n",
              "        6.15234375e-02,  9.17968750e-02, -1.28906250e-01,  1.62231445e-01,\n",
              "       -8.30078125e-03,  2.66113281e-02, -1.51367188e-01,  7.51953125e-02,\n",
              "       -2.39746094e-01,  2.83264160e-01,  1.67236328e-01,  1.12121582e-01,\n",
              "        2.24609375e-02, -4.85839844e-02, -1.25000000e-01, -4.88281250e-03,\n",
              "       -6.07910156e-02, -3.38378906e-01, -2.18505859e-02, -4.73632812e-02,\n",
              "        1.46484375e-01, -1.61132812e-02,  4.29687500e-02, -1.61132812e-01,\n",
              "       -2.85156250e-01,  1.21704102e-01,  1.85546875e-02,  4.87060547e-02,\n",
              "        3.39843750e-01, -2.41699219e-01,  1.58447266e-01,  3.95507812e-02,\n",
              "       -1.25915527e-01, -1.10748291e-01,  1.38671875e-01,  6.04858398e-02,\n",
              "       -1.28417969e-01,  3.51562500e-02,  3.59375000e-01,  2.10449219e-01,\n",
              "       -1.00341797e-01, -1.03027344e-01, -1.04492188e-01, -2.31933594e-01,\n",
              "        9.20410156e-02,  1.48895264e-01, -1.34338379e-01,  4.93164062e-02,\n",
              "        9.91210938e-02, -7.56835938e-02,  2.14843750e-02, -1.37023926e-01,\n",
              "        1.48925781e-02,  1.51977539e-01, -6.81152344e-02,  7.05566406e-02,\n",
              "       -2.40234375e-01, -1.33026123e-01, -1.38916016e-01, -2.41210938e-01,\n",
              "       -4.98046875e-02, -2.61230469e-02,  3.60351562e-01,  2.77343750e-01,\n",
              "       -6.83593750e-03,  2.64404297e-01, -8.01239014e-02,  2.11914062e-01,\n",
              "        3.05557251e-02,  7.32421875e-04, -8.65478516e-02,  2.55371094e-01,\n",
              "       -4.90722656e-02, -6.93359375e-02,  1.11816406e-01,  1.14746094e-02,\n",
              "       -1.27929688e-01, -1.83593750e-01, -8.34960938e-02, -5.65185547e-02,\n",
              "       -2.09960938e-02, -8.78906250e-02, -7.45849609e-02,  3.68652344e-01,\n",
              "        2.05322266e-01, -1.19384766e-01, -3.61328125e-02,  3.22998047e-01,\n",
              "        1.68457031e-02, -2.13134766e-01,  1.26831055e-01,  1.46484375e-03,\n",
              "        9.25292969e-02, -4.05273438e-02,  2.16308594e-01,  1.09375000e-01,\n",
              "       -7.39746094e-02,  1.30615234e-01,  2.11914062e-01, -6.76269531e-02,\n",
              "        7.22656250e-02, -2.06604004e-01, -1.25488281e-01,  1.34277344e-02,\n",
              "        4.15039062e-03,  1.15783691e-01,  5.10253906e-02,  3.03955078e-02,\n",
              "       -2.95898438e-01,  5.21850586e-03, -2.72949219e-01, -2.86254883e-02,\n",
              "        1.31835938e-01, -1.10511780e-01, -4.06951904e-02,  5.20019531e-02,\n",
              "        1.23046875e-01, -3.08715820e-01,  8.05664062e-02, -2.56835938e-01,\n",
              "        1.04370117e-01,  2.14843750e-02, -8.72192383e-02,  2.36999512e-01,\n",
              "       -1.27502441e-01, -1.92138672e-01, -9.27734375e-02,  1.79443359e-01,\n",
              "        7.66601562e-02, -4.37011719e-02,  6.05468750e-02,  1.31835938e-02,\n",
              "       -2.00317383e-01, -7.11669922e-02, -2.92968750e-03, -1.48559570e-01,\n",
              "       -4.62646484e-02,  1.46484375e-01, -1.10839844e-01, -9.86328125e-02,\n",
              "        7.40966797e-02, -5.00488281e-02, -7.56835938e-02,  6.39648438e-02,\n",
              "        1.59179688e-01,  1.98730469e-01,  8.66699219e-02,  1.99829102e-01,\n",
              "       -1.22314453e-01,  3.84277344e-01,  1.79809570e-01, -1.33789062e-01,\n",
              "       -8.44726562e-02, -9.03320312e-02, -1.16699219e-01,  5.68847656e-02,\n",
              "       -3.95507812e-02, -1.37207031e-01,  2.23876953e-01, -6.89735413e-02,\n",
              "       -3.56445312e-02, -6.81762695e-02, -7.25097656e-02, -9.49707031e-02,\n",
              "       -1.92111969e-01,  1.27929688e-01, -4.95300293e-02, -2.35351562e-01,\n",
              "       -1.98242188e-01, -1.75781250e-02, -2.45605469e-01, -1.56250000e-01,\n",
              "       -2.24609375e-02,  7.22656250e-02,  1.21826172e-01,  1.98608398e-01],\n",
              "      dtype=float32)"
            ]
          },
          "execution_count": 24,
          "metadata": {},
          "output_type": "execute_result"
        }
      ],
      "source": [
        "vec = model['King'] - model['man'] + model['woman']\n",
        "vec"
      ]
    },
    {
      "cell_type": "code",
      "execution_count": 25,
      "metadata": {
        "colab": {
          "base_uri": "https://localhost:8080/"
        },
        "id": "9avN0CZHMThs",
        "outputId": "804f0318-93ff-4d46-b80b-a9173921d17f"
      },
      "outputs": [
        {
          "data": {
            "text/plain": [
              "[('King', 0.7780153751373291),\n",
              " ('Queen', 0.55495285987854),\n",
              " ('Oprah_BFF_Gayle', 0.4718775153160095),\n",
              " ('Princess', 0.464548259973526),\n",
              " ('Geoffrey_Rush_Exit', 0.46232518553733826),\n",
              " ('K._Letourneau', 0.45581626892089844),\n",
              " ('Alveda_C.', 0.4519498348236084),\n",
              " ('L._Bonauto', 0.45188432931900024),\n",
              " ('Yvonne_Stickney', 0.45108562707901),\n",
              " ('Mecklenburg_Strelitz', 0.4499910771846771)]"
            ]
          },
          "execution_count": 25,
          "metadata": {},
          "output_type": "execute_result"
        }
      ],
      "source": [
        "model.most_similar(vec)"
      ]
    },
    {
      "cell_type": "markdown",
      "metadata": {
        "id": "OLY683f8Psfi"
      },
      "source": [
        "# Self -Trained model"
      ]
    },
    {
      "cell_type": "code",
      "execution_count": 27,
      "metadata": {
        "id": "3HkUldgnObXU"
      },
      "outputs": [],
      "source": [
        "import numpy as np\n",
        "import pandas as pd\n"
      ]
    },
    {
      "cell_type": "code",
      "execution_count": 26,
      "metadata": {
        "colab": {
          "base_uri": "https://localhost:8080/"
        },
        "id": "Vy7D15AOObaF",
        "outputId": "58337155-e852-4ab1-bd54-4c2f5e884a29"
      },
      "outputs": [
        {
          "name": "stdout",
          "output_type": "stream",
          "text": [
            "Warning: Your Kaggle API key is readable by other users on this system! To fix this, you can run 'chmod 600 /root/.kaggle/kaggle.json'\n",
            "Downloading reviews-cell-phones-and-accessories-5.zip to /content\n",
            " 74% 33.0M/44.3M [00:00<00:00, 90.4MB/s]\n",
            "100% 44.3M/44.3M [00:00<00:00, 102MB/s] \n"
          ]
        }
      ],
      "source": [
        "!kaggle datasets download -d zainabhaddad/reviews-cell-phones-and-accessories-5"
      ]
    },
    {
      "cell_type": "code",
      "execution_count": 28,
      "metadata": {
        "id": "yj2cC-HWQblW"
      },
      "outputs": [],
      "source": [
        "zip_ref = zipfile.ZipFile('/content/reviews-cell-phones-and-accessories-5.zip')\n",
        "zip_ref.extractall('/content')\n",
        "zip_ref.close()"
      ]
    },
    {
      "cell_type": "code",
      "execution_count": 30,
      "metadata": {
        "id": "n-a7pEVnOblJ"
      },
      "outputs": [],
      "source": [
        "dataset = pd.read_json('/content/Cell_Phones_and_Accessories_5.json', lines=True)"
      ]
    },
    {
      "cell_type": "code",
      "execution_count": 31,
      "metadata": {
        "colab": {
          "base_uri": "https://localhost:8080/",
          "height": 414
        },
        "id": "sJNLtx8vQy3n",
        "outputId": "51b658ba-d7c6-435d-ff2b-a327fe4be854"
      },
      "outputs": [
        {
          "data": {
            "text/html": [
              "\n",
              "  <div id=\"df-74f177e4-a3f6-405e-bdc9-35f1370c4e51\" class=\"colab-df-container\">\n",
              "    <div>\n",
              "<style scoped>\n",
              "    .dataframe tbody tr th:only-of-type {\n",
              "        vertical-align: middle;\n",
              "    }\n",
              "\n",
              "    .dataframe tbody tr th {\n",
              "        vertical-align: top;\n",
              "    }\n",
              "\n",
              "    .dataframe thead th {\n",
              "        text-align: right;\n",
              "    }\n",
              "</style>\n",
              "<table border=\"1\" class=\"dataframe\">\n",
              "  <thead>\n",
              "    <tr style=\"text-align: right;\">\n",
              "      <th></th>\n",
              "      <th>reviewerID</th>\n",
              "      <th>asin</th>\n",
              "      <th>reviewerName</th>\n",
              "      <th>helpful</th>\n",
              "      <th>reviewText</th>\n",
              "      <th>overall</th>\n",
              "      <th>summary</th>\n",
              "      <th>unixReviewTime</th>\n",
              "      <th>reviewTime</th>\n",
              "    </tr>\n",
              "  </thead>\n",
              "  <tbody>\n",
              "    <tr>\n",
              "      <th>0</th>\n",
              "      <td>A30TL5EWN6DFXT</td>\n",
              "      <td>120401325X</td>\n",
              "      <td>christina</td>\n",
              "      <td>[0, 0]</td>\n",
              "      <td>They look good and stick good! I just don't li...</td>\n",
              "      <td>4</td>\n",
              "      <td>Looks Good</td>\n",
              "      <td>1400630400</td>\n",
              "      <td>05 21, 2014</td>\n",
              "    </tr>\n",
              "    <tr>\n",
              "      <th>1</th>\n",
              "      <td>ASY55RVNIL0UD</td>\n",
              "      <td>120401325X</td>\n",
              "      <td>emily l.</td>\n",
              "      <td>[0, 0]</td>\n",
              "      <td>These stickers work like the review says they ...</td>\n",
              "      <td>5</td>\n",
              "      <td>Really great product.</td>\n",
              "      <td>1389657600</td>\n",
              "      <td>01 14, 2014</td>\n",
              "    </tr>\n",
              "    <tr>\n",
              "      <th>2</th>\n",
              "      <td>A2TMXE2AFO7ONB</td>\n",
              "      <td>120401325X</td>\n",
              "      <td>Erica</td>\n",
              "      <td>[0, 0]</td>\n",
              "      <td>These are awesome and make my phone look so st...</td>\n",
              "      <td>5</td>\n",
              "      <td>LOVE LOVE LOVE</td>\n",
              "      <td>1403740800</td>\n",
              "      <td>06 26, 2014</td>\n",
              "    </tr>\n",
              "    <tr>\n",
              "      <th>3</th>\n",
              "      <td>AWJ0WZQYMYFQ4</td>\n",
              "      <td>120401325X</td>\n",
              "      <td>JM</td>\n",
              "      <td>[4, 4]</td>\n",
              "      <td>Item arrived in great time and was in perfect ...</td>\n",
              "      <td>4</td>\n",
              "      <td>Cute!</td>\n",
              "      <td>1382313600</td>\n",
              "      <td>10 21, 2013</td>\n",
              "    </tr>\n",
              "    <tr>\n",
              "      <th>4</th>\n",
              "      <td>ATX7CZYFXI1KW</td>\n",
              "      <td>120401325X</td>\n",
              "      <td>patrice m rogoza</td>\n",
              "      <td>[2, 3]</td>\n",
              "      <td>awesome! stays on, and looks great. can be use...</td>\n",
              "      <td>5</td>\n",
              "      <td>leopard home button sticker for iphone 4s</td>\n",
              "      <td>1359849600</td>\n",
              "      <td>02 3, 2013</td>\n",
              "    </tr>\n",
              "  </tbody>\n",
              "</table>\n",
              "</div>\n",
              "    <div class=\"colab-df-buttons\">\n",
              "\n",
              "  <div class=\"colab-df-container\">\n",
              "    <button class=\"colab-df-convert\" onclick=\"convertToInteractive('df-74f177e4-a3f6-405e-bdc9-35f1370c4e51')\"\n",
              "            title=\"Convert this dataframe to an interactive table.\"\n",
              "            style=\"display:none;\">\n",
              "\n",
              "  <svg xmlns=\"http://www.w3.org/2000/svg\" height=\"24px\" viewBox=\"0 -960 960 960\">\n",
              "    <path d=\"M120-120v-720h720v720H120Zm60-500h600v-160H180v160Zm220 220h160v-160H400v160Zm0 220h160v-160H400v160ZM180-400h160v-160H180v160Zm440 0h160v-160H620v160ZM180-180h160v-160H180v160Zm440 0h160v-160H620v160Z\"/>\n",
              "  </svg>\n",
              "    </button>\n",
              "\n",
              "  <style>\n",
              "    .colab-df-container {\n",
              "      display:flex;\n",
              "      gap: 12px;\n",
              "    }\n",
              "\n",
              "    .colab-df-convert {\n",
              "      background-color: #E8F0FE;\n",
              "      border: none;\n",
              "      border-radius: 50%;\n",
              "      cursor: pointer;\n",
              "      display: none;\n",
              "      fill: #1967D2;\n",
              "      height: 32px;\n",
              "      padding: 0 0 0 0;\n",
              "      width: 32px;\n",
              "    }\n",
              "\n",
              "    .colab-df-convert:hover {\n",
              "      background-color: #E2EBFA;\n",
              "      box-shadow: 0px 1px 2px rgba(60, 64, 67, 0.3), 0px 1px 3px 1px rgba(60, 64, 67, 0.15);\n",
              "      fill: #174EA6;\n",
              "    }\n",
              "\n",
              "    .colab-df-buttons div {\n",
              "      margin-bottom: 4px;\n",
              "    }\n",
              "\n",
              "    [theme=dark] .colab-df-convert {\n",
              "      background-color: #3B4455;\n",
              "      fill: #D2E3FC;\n",
              "    }\n",
              "\n",
              "    [theme=dark] .colab-df-convert:hover {\n",
              "      background-color: #434B5C;\n",
              "      box-shadow: 0px 1px 3px 1px rgba(0, 0, 0, 0.15);\n",
              "      filter: drop-shadow(0px 1px 2px rgba(0, 0, 0, 0.3));\n",
              "      fill: #FFFFFF;\n",
              "    }\n",
              "  </style>\n",
              "\n",
              "    <script>\n",
              "      const buttonEl =\n",
              "        document.querySelector('#df-74f177e4-a3f6-405e-bdc9-35f1370c4e51 button.colab-df-convert');\n",
              "      buttonEl.style.display =\n",
              "        google.colab.kernel.accessAllowed ? 'block' : 'none';\n",
              "\n",
              "      async function convertToInteractive(key) {\n",
              "        const element = document.querySelector('#df-74f177e4-a3f6-405e-bdc9-35f1370c4e51');\n",
              "        const dataTable =\n",
              "          await google.colab.kernel.invokeFunction('convertToInteractive',\n",
              "                                                    [key], {});\n",
              "        if (!dataTable) return;\n",
              "\n",
              "        const docLinkHtml = 'Like what you see? Visit the ' +\n",
              "          '<a target=\"_blank\" href=https://colab.research.google.com/notebooks/data_table.ipynb>data table notebook</a>'\n",
              "          + ' to learn more about interactive tables.';\n",
              "        element.innerHTML = '';\n",
              "        dataTable['output_type'] = 'display_data';\n",
              "        await google.colab.output.renderOutput(dataTable, element);\n",
              "        const docLink = document.createElement('div');\n",
              "        docLink.innerHTML = docLinkHtml;\n",
              "        element.appendChild(docLink);\n",
              "      }\n",
              "    </script>\n",
              "  </div>\n",
              "\n",
              "\n",
              "<div id=\"df-8720e646-911b-495b-88c2-d3765f9f9511\">\n",
              "  <button class=\"colab-df-quickchart\" onclick=\"quickchart('df-8720e646-911b-495b-88c2-d3765f9f9511')\"\n",
              "            title=\"Suggest charts\"\n",
              "            style=\"display:none;\">\n",
              "\n",
              "<svg xmlns=\"http://www.w3.org/2000/svg\" height=\"24px\"viewBox=\"0 0 24 24\"\n",
              "     width=\"24px\">\n",
              "    <g>\n",
              "        <path d=\"M19 3H5c-1.1 0-2 .9-2 2v14c0 1.1.9 2 2 2h14c1.1 0 2-.9 2-2V5c0-1.1-.9-2-2-2zM9 17H7v-7h2v7zm4 0h-2V7h2v10zm4 0h-2v-4h2v4z\"/>\n",
              "    </g>\n",
              "</svg>\n",
              "  </button>\n",
              "\n",
              "<style>\n",
              "  .colab-df-quickchart {\n",
              "      --bg-color: #E8F0FE;\n",
              "      --fill-color: #1967D2;\n",
              "      --hover-bg-color: #E2EBFA;\n",
              "      --hover-fill-color: #174EA6;\n",
              "      --disabled-fill-color: #AAA;\n",
              "      --disabled-bg-color: #DDD;\n",
              "  }\n",
              "\n",
              "  [theme=dark] .colab-df-quickchart {\n",
              "      --bg-color: #3B4455;\n",
              "      --fill-color: #D2E3FC;\n",
              "      --hover-bg-color: #434B5C;\n",
              "      --hover-fill-color: #FFFFFF;\n",
              "      --disabled-bg-color: #3B4455;\n",
              "      --disabled-fill-color: #666;\n",
              "  }\n",
              "\n",
              "  .colab-df-quickchart {\n",
              "    background-color: var(--bg-color);\n",
              "    border: none;\n",
              "    border-radius: 50%;\n",
              "    cursor: pointer;\n",
              "    display: none;\n",
              "    fill: var(--fill-color);\n",
              "    height: 32px;\n",
              "    padding: 0;\n",
              "    width: 32px;\n",
              "  }\n",
              "\n",
              "  .colab-df-quickchart:hover {\n",
              "    background-color: var(--hover-bg-color);\n",
              "    box-shadow: 0 1px 2px rgba(60, 64, 67, 0.3), 0 1px 3px 1px rgba(60, 64, 67, 0.15);\n",
              "    fill: var(--button-hover-fill-color);\n",
              "  }\n",
              "\n",
              "  .colab-df-quickchart-complete:disabled,\n",
              "  .colab-df-quickchart-complete:disabled:hover {\n",
              "    background-color: var(--disabled-bg-color);\n",
              "    fill: var(--disabled-fill-color);\n",
              "    box-shadow: none;\n",
              "  }\n",
              "\n",
              "  .colab-df-spinner {\n",
              "    border: 2px solid var(--fill-color);\n",
              "    border-color: transparent;\n",
              "    border-bottom-color: var(--fill-color);\n",
              "    animation:\n",
              "      spin 1s steps(1) infinite;\n",
              "  }\n",
              "\n",
              "  @keyframes spin {\n",
              "    0% {\n",
              "      border-color: transparent;\n",
              "      border-bottom-color: var(--fill-color);\n",
              "      border-left-color: var(--fill-color);\n",
              "    }\n",
              "    20% {\n",
              "      border-color: transparent;\n",
              "      border-left-color: var(--fill-color);\n",
              "      border-top-color: var(--fill-color);\n",
              "    }\n",
              "    30% {\n",
              "      border-color: transparent;\n",
              "      border-left-color: var(--fill-color);\n",
              "      border-top-color: var(--fill-color);\n",
              "      border-right-color: var(--fill-color);\n",
              "    }\n",
              "    40% {\n",
              "      border-color: transparent;\n",
              "      border-right-color: var(--fill-color);\n",
              "      border-top-color: var(--fill-color);\n",
              "    }\n",
              "    60% {\n",
              "      border-color: transparent;\n",
              "      border-right-color: var(--fill-color);\n",
              "    }\n",
              "    80% {\n",
              "      border-color: transparent;\n",
              "      border-right-color: var(--fill-color);\n",
              "      border-bottom-color: var(--fill-color);\n",
              "    }\n",
              "    90% {\n",
              "      border-color: transparent;\n",
              "      border-bottom-color: var(--fill-color);\n",
              "    }\n",
              "  }\n",
              "</style>\n",
              "\n",
              "  <script>\n",
              "    async function quickchart(key) {\n",
              "      const quickchartButtonEl =\n",
              "        document.querySelector('#' + key + ' button');\n",
              "      quickchartButtonEl.disabled = true;  // To prevent multiple clicks.\n",
              "      quickchartButtonEl.classList.add('colab-df-spinner');\n",
              "      try {\n",
              "        const charts = await google.colab.kernel.invokeFunction(\n",
              "            'suggestCharts', [key], {});\n",
              "      } catch (error) {\n",
              "        console.error('Error during call to suggestCharts:', error);\n",
              "      }\n",
              "      quickchartButtonEl.classList.remove('colab-df-spinner');\n",
              "      quickchartButtonEl.classList.add('colab-df-quickchart-complete');\n",
              "    }\n",
              "    (() => {\n",
              "      let quickchartButtonEl =\n",
              "        document.querySelector('#df-8720e646-911b-495b-88c2-d3765f9f9511 button');\n",
              "      quickchartButtonEl.style.display =\n",
              "        google.colab.kernel.accessAllowed ? 'block' : 'none';\n",
              "    })();\n",
              "  </script>\n",
              "</div>\n",
              "\n",
              "    </div>\n",
              "  </div>\n"
            ],
            "text/plain": [
              "       reviewerID        asin      reviewerName helpful  \\\n",
              "0  A30TL5EWN6DFXT  120401325X         christina  [0, 0]   \n",
              "1   ASY55RVNIL0UD  120401325X          emily l.  [0, 0]   \n",
              "2  A2TMXE2AFO7ONB  120401325X             Erica  [0, 0]   \n",
              "3   AWJ0WZQYMYFQ4  120401325X                JM  [4, 4]   \n",
              "4   ATX7CZYFXI1KW  120401325X  patrice m rogoza  [2, 3]   \n",
              "\n",
              "                                          reviewText  overall  \\\n",
              "0  They look good and stick good! I just don't li...        4   \n",
              "1  These stickers work like the review says they ...        5   \n",
              "2  These are awesome and make my phone look so st...        5   \n",
              "3  Item arrived in great time and was in perfect ...        4   \n",
              "4  awesome! stays on, and looks great. can be use...        5   \n",
              "\n",
              "                                     summary  unixReviewTime   reviewTime  \n",
              "0                                 Looks Good      1400630400  05 21, 2014  \n",
              "1                      Really great product.      1389657600  01 14, 2014  \n",
              "2                             LOVE LOVE LOVE      1403740800  06 26, 2014  \n",
              "3                                      Cute!      1382313600  10 21, 2013  \n",
              "4  leopard home button sticker for iphone 4s      1359849600   02 3, 2013  "
            ]
          },
          "execution_count": 31,
          "metadata": {},
          "output_type": "execute_result"
        }
      ],
      "source": [
        "dataset.head()"
      ]
    },
    {
      "cell_type": "code",
      "execution_count": 32,
      "metadata": {
        "colab": {
          "base_uri": "https://localhost:8080/"
        },
        "id": "Lb48QzfXQy5_",
        "outputId": "3342779f-8f3f-40af-c9bb-40303722e89c"
      },
      "outputs": [
        {
          "data": {
            "text/plain": [
              "(194439, 9)"
            ]
          },
          "execution_count": 32,
          "metadata": {},
          "output_type": "execute_result"
        }
      ],
      "source": [
        "dataset.shape"
      ]
    },
    {
      "cell_type": "code",
      "execution_count": 33,
      "metadata": {
        "colab": {
          "base_uri": "https://localhost:8080/",
          "height": 53
        },
        "id": "jeD9b1aFTGoS",
        "outputId": "326fae00-a48a-4171-d9c9-ab2d17a10952"
      },
      "outputs": [
        {
          "data": {
            "application/vnd.google.colaboratory.intrinsic+json": {
              "type": "string"
            },
            "text/plain": [
              "\"They look good and stick good! I just don't like the rounded shape because I was always bumping it and Siri kept popping up and it was irritating. I just won't buy a product like this again\""
            ]
          },
          "execution_count": 33,
          "metadata": {},
          "output_type": "execute_result"
        }
      ],
      "source": [
        "dataset['reviewText'][0]"
      ]
    },
    {
      "cell_type": "code",
      "execution_count": 34,
      "metadata": {
        "id": "WmdGH2ntTQQK"
      },
      "outputs": [],
      "source": [
        "# Data pre-processing\n",
        "review_text = dataset.reviewText.apply(gensim.utils.simple_preprocess)\n",
        "# words are splitted, converted to lower case"
      ]
    },
    {
      "cell_type": "code",
      "execution_count": 35,
      "metadata": {
        "colab": {
          "base_uri": "https://localhost:8080/"
        },
        "id": "tkk28legTks-",
        "outputId": "4c5d80df-ca75-4522-fa54-a279148731b0"
      },
      "outputs": [
        {
          "data": {
            "text/plain": [
              "0         [they, look, good, and, stick, good, just, don...\n",
              "1         [these, stickers, work, like, the, review, say...\n",
              "2         [these, are, awesome, and, make, my, phone, lo...\n",
              "3         [item, arrived, in, great, time, and, was, in,...\n",
              "4         [awesome, stays, on, and, looks, great, can, b...\n",
              "                                ...                        \n",
              "194434    [works, great, just, like, my, original, one, ...\n",
              "194435    [great, product, great, packaging, high, quali...\n",
              "194436    [this, is, great, cable, just, as, good, as, t...\n",
              "194437    [really, like, it, becasue, it, works, well, w...\n",
              "194438    [product, as, described, have, wasted, lot, of...\n",
              "Name: reviewText, Length: 194439, dtype: object"
            ]
          },
          "execution_count": 35,
          "metadata": {},
          "output_type": "execute_result"
        }
      ],
      "source": [
        "review_text"
      ]
    },
    {
      "cell_type": "code",
      "execution_count": 38,
      "metadata": {
        "colab": {
          "base_uri": "https://localhost:8080/",
          "height": 53
        },
        "id": "4oyWReC2UF9m",
        "outputId": "eca9ba33-eba3-4ae1-b466-e6e3a440cf6e"
      },
      "outputs": [
        {
          "data": {
            "application/vnd.google.colaboratory.intrinsic+json": {
              "type": "string"
            },
            "text/plain": [
              "\"They look good and stick good! I just don't like the rounded shape because I was always bumping it and Siri kept popping up and it was irritating. I just won't buy a product like this again\""
            ]
          },
          "execution_count": 38,
          "metadata": {},
          "output_type": "execute_result"
        }
      ],
      "source": [
        "dataset['reviewText'][0]\n"
      ]
    },
    {
      "cell_type": "code",
      "execution_count": 36,
      "metadata": {
        "colab": {
          "base_uri": "https://localhost:8080/"
        },
        "id": "1D4k5Y9XT7tr",
        "outputId": "f4036546-ec0c-4efe-f8ba-edd7f498a917"
      },
      "outputs": [
        {
          "data": {
            "text/plain": [
              "['they',\n",
              " 'look',\n",
              " 'good',\n",
              " 'and',\n",
              " 'stick',\n",
              " 'good',\n",
              " 'just',\n",
              " 'don',\n",
              " 'like',\n",
              " 'the',\n",
              " 'rounded',\n",
              " 'shape',\n",
              " 'because',\n",
              " 'was',\n",
              " 'always',\n",
              " 'bumping',\n",
              " 'it',\n",
              " 'and',\n",
              " 'siri',\n",
              " 'kept',\n",
              " 'popping',\n",
              " 'up',\n",
              " 'and',\n",
              " 'it',\n",
              " 'was',\n",
              " 'irritating',\n",
              " 'just',\n",
              " 'won',\n",
              " 'buy',\n",
              " 'product',\n",
              " 'like',\n",
              " 'this',\n",
              " 'again']"
            ]
          },
          "execution_count": 36,
          "metadata": {},
          "output_type": "execute_result"
        }
      ],
      "source": [
        "review_text[0]\n",
        "# Don't is converted to don\n",
        "# Preprocessing better do manually rather than using pre-processing"
      ]
    },
    {
      "cell_type": "markdown",
      "metadata": {
        "id": "UWf357y0U0dR"
      },
      "source": [
        "### model building"
      ]
    },
    {
      "cell_type": "code",
      "execution_count": 39,
      "metadata": {
        "id": "XDljZtu5T7q9"
      },
      "outputs": [],
      "source": [
        "model = gensim.models.Word2Vec(window=5, min_count=2)\n",
        "# window=5, 5 words left, 5 words right and 1 middle\n",
        "# min_count, works when atleast 2 words are there in a sentense"
      ]
    },
    {
      "cell_type": "code",
      "execution_count": 40,
      "metadata": {
        "id": "pJ14rgdIT7n8"
      },
      "outputs": [],
      "source": [
        "model.build_vocab(review_text, progress_per=1000)"
      ]
    },
    {
      "cell_type": "code",
      "execution_count": 41,
      "metadata": {
        "colab": {
          "base_uri": "https://localhost:8080/"
        },
        "id": "6pEkQvhXVMQY",
        "outputId": "7139d99e-5a81-4d2f-d947-720ef2f915c2"
      },
      "outputs": [
        {
          "data": {
            "text/plain": [
              "(61504017, 83868975)"
            ]
          },
          "execution_count": 41,
          "metadata": {},
          "output_type": "execute_result"
        }
      ],
      "source": [
        "model.train(review_text, total_examples=model.corpus_count, epochs=model.epochs)"
      ]
    },
    {
      "cell_type": "code",
      "execution_count": 43,
      "metadata": {
        "colab": {
          "base_uri": "https://localhost:8080/"
        },
        "id": "yFtBnQICVMNx",
        "outputId": "d03b6dd7-c20a-4e62-a746-a11ce96ef228"
      },
      "outputs": [
        {
          "data": {
            "text/plain": [
              "[('decent', 0.8383193016052246),\n",
              " ('great', 0.8000329732894897),\n",
              " ('fantastic', 0.7491316199302673),\n",
              " ('nice', 0.7323794960975647),\n",
              " ('superb', 0.6738772988319397),\n",
              " ('excellent', 0.6732774376869202),\n",
              " ('wonderful', 0.6473463773727417),\n",
              " ('awesome', 0.6400060057640076),\n",
              " ('outstanding', 0.6397878527641296),\n",
              " ('amazing', 0.6382524967193604)]"
            ]
          },
          "execution_count": 43,
          "metadata": {},
          "output_type": "execute_result"
        }
      ],
      "source": [
        "model.wv.most_similar('good')"
      ]
    },
    {
      "cell_type": "code",
      "execution_count": 44,
      "metadata": {
        "colab": {
          "base_uri": "https://localhost:8080/"
        },
        "id": "cnArBKOwXvX1",
        "outputId": "459bca63-d1c4-4455-abd1-c3b210d85080"
      },
      "outputs": [
        {
          "data": {
            "text/plain": [
              "[('gsm', 0.7524382472038269),\n",
              " ('cellular', 0.739999532699585),\n",
              " ('prepaid', 0.713213324546814),\n",
              " ('mifi', 0.6999682188034058),\n",
              " ('tmobile', 0.6942026615142822),\n",
              " ('cdma', 0.687919020652771),\n",
              " ('att', 0.6812017560005188),\n",
              " ('broadband', 0.6792197823524475),\n",
              " ('metropcs', 0.6738963723182678),\n",
              " ('sprint', 0.6679237484931946)]"
            ]
          },
          "execution_count": 44,
          "metadata": {},
          "output_type": "execute_result"
        }
      ],
      "source": [
        "model.wv.most_similar('mobile')\n"
      ]
    },
    {
      "cell_type": "code",
      "execution_count": 45,
      "metadata": {
        "colab": {
          "base_uri": "https://localhost:8080/"
        },
        "id": "ed8g92eTXxv4",
        "outputId": "5e4e4e5d-e08d-4925-8519-aff936e0a332"
      },
      "outputs": [
        {
          "data": {
            "text/plain": [
              "0.62001055"
            ]
          },
          "execution_count": 45,
          "metadata": {},
          "output_type": "execute_result"
        }
      ],
      "source": [
        "model.wv.similarity(w1='good', w2='bad')"
      ]
    },
    {
      "cell_type": "code",
      "execution_count": 46,
      "metadata": {
        "colab": {
          "base_uri": "https://localhost:8080/"
        },
        "id": "DBk7MkQZX6kk",
        "outputId": "74cda057-f291-4eb8-c39a-8d6c104dd1a2"
      },
      "outputs": [
        {
          "data": {
            "text/plain": [
              "0.80003303"
            ]
          },
          "execution_count": 46,
          "metadata": {},
          "output_type": "execute_result"
        }
      ],
      "source": [
        "model.wv.similarity(w1='good', w2='great')"
      ]
    },
    {
      "cell_type": "code",
      "execution_count": 48,
      "metadata": {
        "colab": {
          "base_uri": "https://localhost:8080/"
        },
        "id": "f5gmaU0hYj6t",
        "outputId": "0ddfe42d-e378-42bb-8698-50ff09e50a3c"
      },
      "outputs": [
        {
          "data": {
            "text/plain": [
              "0.80003303"
            ]
          },
          "execution_count": 48,
          "metadata": {},
          "output_type": "execute_result"
        }
      ],
      "source": [
        "model.wv.similarity('good','great')"
      ]
    },
    {
      "cell_type": "code",
      "execution_count": 49,
      "metadata": {
        "colab": {
          "base_uri": "https://localhost:8080/",
          "height": 35
        },
        "id": "vCSy6tNKX-oa",
        "outputId": "f38ba1ae-4413-4f08-b33d-12c6b69a7952"
      },
      "outputs": [
        {
          "data": {
            "application/vnd.google.colaboratory.intrinsic+json": {
              "type": "string"
            },
            "text/plain": [
              "'sports'"
            ]
          },
          "execution_count": 49,
          "metadata": {},
          "output_type": "execute_result"
        }
      ],
      "source": [
        "model.wv.doesnt_match(['man','woman','sports'])"
      ]
    }
  ],
  "metadata": {
    "colab": {
      "provenance": []
    },
    "kernelspec": {
      "display_name": "Python 3",
      "name": "python3"
    },
    "language_info": {
      "codemirror_mode": {
        "name": "ipython",
        "version": 3
      },
      "file_extension": ".py",
      "mimetype": "text/x-python",
      "name": "python",
      "nbconvert_exporter": "python",
      "pygments_lexer": "ipython3",
      "version": "3.11.1"
    }
  },
  "nbformat": 4,
  "nbformat_minor": 0
}
