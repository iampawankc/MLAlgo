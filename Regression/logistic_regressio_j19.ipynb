{
 "cells": [
  {
   "cell_type": "code",
   "execution_count": 1,
   "metadata": {},
   "outputs": [],
   "source": [
    "import numpy as np\n",
    "import pandas as pd\n",
    "import matplotlib.pyplot as plt\n",
    "import seaborn as sns\n",
    "\n",
    "from sklearn.model_selection import train_test_split\n",
    "from sklearn.linear_model import LinearRegression\n",
    "from sklearn.metrics import r2_score"
   ]
  },
  {
   "cell_type": "code",
   "execution_count": 4,
   "metadata": {},
   "outputs": [],
   "source": [
    "#sigmoid = 1/(1+e^-z)\n",
    "\n",
    "def sigmoid(z):\n",
    "    return (1/(1+np.exp(-z)))"
   ]
  },
  {
   "cell_type": "code",
   "execution_count": 5,
   "metadata": {},
   "outputs": [
    {
     "data": {
      "text/plain": [
       "0.9933071490757153"
      ]
     },
     "execution_count": 5,
     "metadata": {},
     "output_type": "execute_result"
    }
   ],
   "source": [
    "sigmoid(5)"
   ]
  },
  {
   "cell_type": "code",
   "execution_count": 6,
   "metadata": {},
   "outputs": [
    {
     "data": {
      "text/plain": [
       "4.5397868702434395e-05"
      ]
     },
     "execution_count": 6,
     "metadata": {},
     "output_type": "execute_result"
    }
   ],
   "source": [
    "sigmoid(-10)"
   ]
  },
  {
   "cell_type": "code",
   "execution_count": 7,
   "metadata": {},
   "outputs": [
    {
     "name": "stderr",
     "output_type": "stream",
     "text": [
      "/var/folders/xf/kbnr5k6x1jdf2_jb1xc41d580000gn/T/ipykernel_2099/4087819928.py:4: RuntimeWarning: overflow encountered in exp\n",
      "  return (1/(1+np.exp(-z)))\n"
     ]
    },
    {
     "data": {
      "text/plain": [
       "0.0"
      ]
     },
     "execution_count": 7,
     "metadata": {},
     "output_type": "execute_result"
    }
   ],
   "source": [
    "sigmoid(-5000)"
   ]
  },
  {
   "cell_type": "code",
   "execution_count": 8,
   "metadata": {},
   "outputs": [
    {
     "data": {
      "text/plain": [
       "array([-100.        ,  -99.7997998 ,  -99.5995996 ,  -99.3993994 ,\n",
       "        -99.1991992 ,  -98.998999  ,  -98.7987988 ,  -98.5985986 ,\n",
       "        -98.3983984 ,  -98.1981982 ,  -97.997998  ,  -97.7977978 ,\n",
       "        -97.5975976 ,  -97.3973974 ,  -97.1971972 ,  -96.996997  ,\n",
       "        -96.7967968 ,  -96.5965966 ,  -96.3963964 ,  -96.1961962 ,\n",
       "        -95.995996  ,  -95.7957958 ,  -95.5955956 ,  -95.3953954 ,\n",
       "        -95.1951952 ,  -94.99499499,  -94.79479479,  -94.59459459,\n",
       "        -94.39439439,  -94.19419419,  -93.99399399,  -93.79379379,\n",
       "        -93.59359359,  -93.39339339,  -93.19319319,  -92.99299299,\n",
       "        -92.79279279,  -92.59259259,  -92.39239239,  -92.19219219,\n",
       "        -91.99199199,  -91.79179179,  -91.59159159,  -91.39139139,\n",
       "        -91.19119119,  -90.99099099,  -90.79079079,  -90.59059059,\n",
       "        -90.39039039,  -90.19019019,  -89.98998999,  -89.78978979,\n",
       "        -89.58958959,  -89.38938939,  -89.18918919,  -88.98898899,\n",
       "        -88.78878879,  -88.58858859,  -88.38838839,  -88.18818819,\n",
       "        -87.98798799,  -87.78778779,  -87.58758759,  -87.38738739,\n",
       "        -87.18718719,  -86.98698699,  -86.78678679,  -86.58658659,\n",
       "        -86.38638639,  -86.18618619,  -85.98598599,  -85.78578579,\n",
       "        -85.58558559,  -85.38538539,  -85.18518519,  -84.98498498,\n",
       "        -84.78478478,  -84.58458458,  -84.38438438,  -84.18418418,\n",
       "        -83.98398398,  -83.78378378,  -83.58358358,  -83.38338338,\n",
       "        -83.18318318,  -82.98298298,  -82.78278278,  -82.58258258,\n",
       "        -82.38238238,  -82.18218218,  -81.98198198,  -81.78178178,\n",
       "        -81.58158158,  -81.38138138,  -81.18118118,  -80.98098098,\n",
       "        -80.78078078,  -80.58058058,  -80.38038038,  -80.18018018,\n",
       "        -79.97997998,  -79.77977978,  -79.57957958,  -79.37937938,\n",
       "        -79.17917918,  -78.97897898,  -78.77877878,  -78.57857858,\n",
       "        -78.37837838,  -78.17817818,  -77.97797798,  -77.77777778,\n",
       "        -77.57757758,  -77.37737738,  -77.17717718,  -76.97697698,\n",
       "        -76.77677678,  -76.57657658,  -76.37637638,  -76.17617618,\n",
       "        -75.97597598,  -75.77577578,  -75.57557558,  -75.37537538,\n",
       "        -75.17517518,  -74.97497497,  -74.77477477,  -74.57457457,\n",
       "        -74.37437437,  -74.17417417,  -73.97397397,  -73.77377377,\n",
       "        -73.57357357,  -73.37337337,  -73.17317317,  -72.97297297,\n",
       "        -72.77277277,  -72.57257257,  -72.37237237,  -72.17217217,\n",
       "        -71.97197197,  -71.77177177,  -71.57157157,  -71.37137137,\n",
       "        -71.17117117,  -70.97097097,  -70.77077077,  -70.57057057,\n",
       "        -70.37037037,  -70.17017017,  -69.96996997,  -69.76976977,\n",
       "        -69.56956957,  -69.36936937,  -69.16916917,  -68.96896897,\n",
       "        -68.76876877,  -68.56856857,  -68.36836837,  -68.16816817,\n",
       "        -67.96796797,  -67.76776777,  -67.56756757,  -67.36736737,\n",
       "        -67.16716717,  -66.96696697,  -66.76676677,  -66.56656657,\n",
       "        -66.36636637,  -66.16616617,  -65.96596597,  -65.76576577,\n",
       "        -65.56556557,  -65.36536537,  -65.16516517,  -64.96496496,\n",
       "        -64.76476476,  -64.56456456,  -64.36436436,  -64.16416416,\n",
       "        -63.96396396,  -63.76376376,  -63.56356356,  -63.36336336,\n",
       "        -63.16316316,  -62.96296296,  -62.76276276,  -62.56256256,\n",
       "        -62.36236236,  -62.16216216,  -61.96196196,  -61.76176176,\n",
       "        -61.56156156,  -61.36136136,  -61.16116116,  -60.96096096,\n",
       "        -60.76076076,  -60.56056056,  -60.36036036,  -60.16016016,\n",
       "        -59.95995996,  -59.75975976,  -59.55955956,  -59.35935936,\n",
       "        -59.15915916,  -58.95895896,  -58.75875876,  -58.55855856,\n",
       "        -58.35835836,  -58.15815816,  -57.95795796,  -57.75775776,\n",
       "        -57.55755756,  -57.35735736,  -57.15715716,  -56.95695696,\n",
       "        -56.75675676,  -56.55655656,  -56.35635636,  -56.15615616,\n",
       "        -55.95595596,  -55.75575576,  -55.55555556,  -55.35535536,\n",
       "        -55.15515516,  -54.95495495,  -54.75475475,  -54.55455455,\n",
       "        -54.35435435,  -54.15415415,  -53.95395395,  -53.75375375,\n",
       "        -53.55355355,  -53.35335335,  -53.15315315,  -52.95295295,\n",
       "        -52.75275275,  -52.55255255,  -52.35235235,  -52.15215215,\n",
       "        -51.95195195,  -51.75175175,  -51.55155155,  -51.35135135,\n",
       "        -51.15115115,  -50.95095095,  -50.75075075,  -50.55055055,\n",
       "        -50.35035035,  -50.15015015,  -49.94994995,  -49.74974975,\n",
       "        -49.54954955,  -49.34934935,  -49.14914915,  -48.94894895,\n",
       "        -48.74874875,  -48.54854855,  -48.34834835,  -48.14814815,\n",
       "        -47.94794795,  -47.74774775,  -47.54754755,  -47.34734735,\n",
       "        -47.14714715,  -46.94694695,  -46.74674675,  -46.54654655,\n",
       "        -46.34634635,  -46.14614615,  -45.94594595,  -45.74574575,\n",
       "        -45.54554555,  -45.34534535,  -45.14514515,  -44.94494494,\n",
       "        -44.74474474,  -44.54454454,  -44.34434434,  -44.14414414,\n",
       "        -43.94394394,  -43.74374374,  -43.54354354,  -43.34334334,\n",
       "        -43.14314314,  -42.94294294,  -42.74274274,  -42.54254254,\n",
       "        -42.34234234,  -42.14214214,  -41.94194194,  -41.74174174,\n",
       "        -41.54154154,  -41.34134134,  -41.14114114,  -40.94094094,\n",
       "        -40.74074074,  -40.54054054,  -40.34034034,  -40.14014014,\n",
       "        -39.93993994,  -39.73973974,  -39.53953954,  -39.33933934,\n",
       "        -39.13913914,  -38.93893894,  -38.73873874,  -38.53853854,\n",
       "        -38.33833834,  -38.13813814,  -37.93793794,  -37.73773774,\n",
       "        -37.53753754,  -37.33733734,  -37.13713714,  -36.93693694,\n",
       "        -36.73673674,  -36.53653654,  -36.33633634,  -36.13613614,\n",
       "        -35.93593594,  -35.73573574,  -35.53553554,  -35.33533534,\n",
       "        -35.13513514,  -34.93493493,  -34.73473473,  -34.53453453,\n",
       "        -34.33433433,  -34.13413413,  -33.93393393,  -33.73373373,\n",
       "        -33.53353353,  -33.33333333,  -33.13313313,  -32.93293293,\n",
       "        -32.73273273,  -32.53253253,  -32.33233233,  -32.13213213,\n",
       "        -31.93193193,  -31.73173173,  -31.53153153,  -31.33133133,\n",
       "        -31.13113113,  -30.93093093,  -30.73073073,  -30.53053053,\n",
       "        -30.33033033,  -30.13013013,  -29.92992993,  -29.72972973,\n",
       "        -29.52952953,  -29.32932933,  -29.12912913,  -28.92892893,\n",
       "        -28.72872873,  -28.52852853,  -28.32832833,  -28.12812813,\n",
       "        -27.92792793,  -27.72772773,  -27.52752753,  -27.32732733,\n",
       "        -27.12712713,  -26.92692693,  -26.72672673,  -26.52652653,\n",
       "        -26.32632633,  -26.12612613,  -25.92592593,  -25.72572573,\n",
       "        -25.52552553,  -25.32532533,  -25.12512513,  -24.92492492,\n",
       "        -24.72472472,  -24.52452452,  -24.32432432,  -24.12412412,\n",
       "        -23.92392392,  -23.72372372,  -23.52352352,  -23.32332332,\n",
       "        -23.12312312,  -22.92292292,  -22.72272272,  -22.52252252,\n",
       "        -22.32232232,  -22.12212212,  -21.92192192,  -21.72172172,\n",
       "        -21.52152152,  -21.32132132,  -21.12112112,  -20.92092092,\n",
       "        -20.72072072,  -20.52052052,  -20.32032032,  -20.12012012,\n",
       "        -19.91991992,  -19.71971972,  -19.51951952,  -19.31931932,\n",
       "        -19.11911912,  -18.91891892,  -18.71871872,  -18.51851852,\n",
       "        -18.31831832,  -18.11811812,  -17.91791792,  -17.71771772,\n",
       "        -17.51751752,  -17.31731732,  -17.11711712,  -16.91691692,\n",
       "        -16.71671672,  -16.51651652,  -16.31631632,  -16.11611612,\n",
       "        -15.91591592,  -15.71571572,  -15.51551552,  -15.31531532,\n",
       "        -15.11511512,  -14.91491491,  -14.71471471,  -14.51451451,\n",
       "        -14.31431431,  -14.11411411,  -13.91391391,  -13.71371371,\n",
       "        -13.51351351,  -13.31331331,  -13.11311311,  -12.91291291,\n",
       "        -12.71271271,  -12.51251251,  -12.31231231,  -12.11211211,\n",
       "        -11.91191191,  -11.71171171,  -11.51151151,  -11.31131131,\n",
       "        -11.11111111,  -10.91091091,  -10.71071071,  -10.51051051,\n",
       "        -10.31031031,  -10.11011011,   -9.90990991,   -9.70970971,\n",
       "         -9.50950951,   -9.30930931,   -9.10910911,   -8.90890891,\n",
       "         -8.70870871,   -8.50850851,   -8.30830831,   -8.10810811,\n",
       "         -7.90790791,   -7.70770771,   -7.50750751,   -7.30730731,\n",
       "         -7.10710711,   -6.90690691,   -6.70670671,   -6.50650651,\n",
       "         -6.30630631,   -6.10610611,   -5.90590591,   -5.70570571,\n",
       "         -5.50550551,   -5.30530531,   -5.10510511,   -4.9049049 ,\n",
       "         -4.7047047 ,   -4.5045045 ,   -4.3043043 ,   -4.1041041 ,\n",
       "         -3.9039039 ,   -3.7037037 ,   -3.5035035 ,   -3.3033033 ,\n",
       "         -3.1031031 ,   -2.9029029 ,   -2.7027027 ,   -2.5025025 ,\n",
       "         -2.3023023 ,   -2.1021021 ,   -1.9019019 ,   -1.7017017 ,\n",
       "         -1.5015015 ,   -1.3013013 ,   -1.1011011 ,   -0.9009009 ,\n",
       "         -0.7007007 ,   -0.5005005 ,   -0.3003003 ,   -0.1001001 ,\n",
       "          0.1001001 ,    0.3003003 ,    0.5005005 ,    0.7007007 ,\n",
       "          0.9009009 ,    1.1011011 ,    1.3013013 ,    1.5015015 ,\n",
       "          1.7017017 ,    1.9019019 ,    2.1021021 ,    2.3023023 ,\n",
       "          2.5025025 ,    2.7027027 ,    2.9029029 ,    3.1031031 ,\n",
       "          3.3033033 ,    3.5035035 ,    3.7037037 ,    3.9039039 ,\n",
       "          4.1041041 ,    4.3043043 ,    4.5045045 ,    4.7047047 ,\n",
       "          4.9049049 ,    5.10510511,    5.30530531,    5.50550551,\n",
       "          5.70570571,    5.90590591,    6.10610611,    6.30630631,\n",
       "          6.50650651,    6.70670671,    6.90690691,    7.10710711,\n",
       "          7.30730731,    7.50750751,    7.70770771,    7.90790791,\n",
       "          8.10810811,    8.30830831,    8.50850851,    8.70870871,\n",
       "          8.90890891,    9.10910911,    9.30930931,    9.50950951,\n",
       "          9.70970971,    9.90990991,   10.11011011,   10.31031031,\n",
       "         10.51051051,   10.71071071,   10.91091091,   11.11111111,\n",
       "         11.31131131,   11.51151151,   11.71171171,   11.91191191,\n",
       "         12.11211211,   12.31231231,   12.51251251,   12.71271271,\n",
       "         12.91291291,   13.11311311,   13.31331331,   13.51351351,\n",
       "         13.71371371,   13.91391391,   14.11411411,   14.31431431,\n",
       "         14.51451451,   14.71471471,   14.91491491,   15.11511512,\n",
       "         15.31531532,   15.51551552,   15.71571572,   15.91591592,\n",
       "         16.11611612,   16.31631632,   16.51651652,   16.71671672,\n",
       "         16.91691692,   17.11711712,   17.31731732,   17.51751752,\n",
       "         17.71771772,   17.91791792,   18.11811812,   18.31831832,\n",
       "         18.51851852,   18.71871872,   18.91891892,   19.11911912,\n",
       "         19.31931932,   19.51951952,   19.71971972,   19.91991992,\n",
       "         20.12012012,   20.32032032,   20.52052052,   20.72072072,\n",
       "         20.92092092,   21.12112112,   21.32132132,   21.52152152,\n",
       "         21.72172172,   21.92192192,   22.12212212,   22.32232232,\n",
       "         22.52252252,   22.72272272,   22.92292292,   23.12312312,\n",
       "         23.32332332,   23.52352352,   23.72372372,   23.92392392,\n",
       "         24.12412412,   24.32432432,   24.52452452,   24.72472472,\n",
       "         24.92492492,   25.12512513,   25.32532533,   25.52552553,\n",
       "         25.72572573,   25.92592593,   26.12612613,   26.32632633,\n",
       "         26.52652653,   26.72672673,   26.92692693,   27.12712713,\n",
       "         27.32732733,   27.52752753,   27.72772773,   27.92792793,\n",
       "         28.12812813,   28.32832833,   28.52852853,   28.72872873,\n",
       "         28.92892893,   29.12912913,   29.32932933,   29.52952953,\n",
       "         29.72972973,   29.92992993,   30.13013013,   30.33033033,\n",
       "         30.53053053,   30.73073073,   30.93093093,   31.13113113,\n",
       "         31.33133133,   31.53153153,   31.73173173,   31.93193193,\n",
       "         32.13213213,   32.33233233,   32.53253253,   32.73273273,\n",
       "         32.93293293,   33.13313313,   33.33333333,   33.53353353,\n",
       "         33.73373373,   33.93393393,   34.13413413,   34.33433433,\n",
       "         34.53453453,   34.73473473,   34.93493493,   35.13513514,\n",
       "         35.33533534,   35.53553554,   35.73573574,   35.93593594,\n",
       "         36.13613614,   36.33633634,   36.53653654,   36.73673674,\n",
       "         36.93693694,   37.13713714,   37.33733734,   37.53753754,\n",
       "         37.73773774,   37.93793794,   38.13813814,   38.33833834,\n",
       "         38.53853854,   38.73873874,   38.93893894,   39.13913914,\n",
       "         39.33933934,   39.53953954,   39.73973974,   39.93993994,\n",
       "         40.14014014,   40.34034034,   40.54054054,   40.74074074,\n",
       "         40.94094094,   41.14114114,   41.34134134,   41.54154154,\n",
       "         41.74174174,   41.94194194,   42.14214214,   42.34234234,\n",
       "         42.54254254,   42.74274274,   42.94294294,   43.14314314,\n",
       "         43.34334334,   43.54354354,   43.74374374,   43.94394394,\n",
       "         44.14414414,   44.34434434,   44.54454454,   44.74474474,\n",
       "         44.94494494,   45.14514515,   45.34534535,   45.54554555,\n",
       "         45.74574575,   45.94594595,   46.14614615,   46.34634635,\n",
       "         46.54654655,   46.74674675,   46.94694695,   47.14714715,\n",
       "         47.34734735,   47.54754755,   47.74774775,   47.94794795,\n",
       "         48.14814815,   48.34834835,   48.54854855,   48.74874875,\n",
       "         48.94894895,   49.14914915,   49.34934935,   49.54954955,\n",
       "         49.74974975,   49.94994995,   50.15015015,   50.35035035,\n",
       "         50.55055055,   50.75075075,   50.95095095,   51.15115115,\n",
       "         51.35135135,   51.55155155,   51.75175175,   51.95195195,\n",
       "         52.15215215,   52.35235235,   52.55255255,   52.75275275,\n",
       "         52.95295295,   53.15315315,   53.35335335,   53.55355355,\n",
       "         53.75375375,   53.95395395,   54.15415415,   54.35435435,\n",
       "         54.55455455,   54.75475475,   54.95495495,   55.15515516,\n",
       "         55.35535536,   55.55555556,   55.75575576,   55.95595596,\n",
       "         56.15615616,   56.35635636,   56.55655656,   56.75675676,\n",
       "         56.95695696,   57.15715716,   57.35735736,   57.55755756,\n",
       "         57.75775776,   57.95795796,   58.15815816,   58.35835836,\n",
       "         58.55855856,   58.75875876,   58.95895896,   59.15915916,\n",
       "         59.35935936,   59.55955956,   59.75975976,   59.95995996,\n",
       "         60.16016016,   60.36036036,   60.56056056,   60.76076076,\n",
       "         60.96096096,   61.16116116,   61.36136136,   61.56156156,\n",
       "         61.76176176,   61.96196196,   62.16216216,   62.36236236,\n",
       "         62.56256256,   62.76276276,   62.96296296,   63.16316316,\n",
       "         63.36336336,   63.56356356,   63.76376376,   63.96396396,\n",
       "         64.16416416,   64.36436436,   64.56456456,   64.76476476,\n",
       "         64.96496496,   65.16516517,   65.36536537,   65.56556557,\n",
       "         65.76576577,   65.96596597,   66.16616617,   66.36636637,\n",
       "         66.56656657,   66.76676677,   66.96696697,   67.16716717,\n",
       "         67.36736737,   67.56756757,   67.76776777,   67.96796797,\n",
       "         68.16816817,   68.36836837,   68.56856857,   68.76876877,\n",
       "         68.96896897,   69.16916917,   69.36936937,   69.56956957,\n",
       "         69.76976977,   69.96996997,   70.17017017,   70.37037037,\n",
       "         70.57057057,   70.77077077,   70.97097097,   71.17117117,\n",
       "         71.37137137,   71.57157157,   71.77177177,   71.97197197,\n",
       "         72.17217217,   72.37237237,   72.57257257,   72.77277277,\n",
       "         72.97297297,   73.17317317,   73.37337337,   73.57357357,\n",
       "         73.77377377,   73.97397397,   74.17417417,   74.37437437,\n",
       "         74.57457457,   74.77477477,   74.97497497,   75.17517518,\n",
       "         75.37537538,   75.57557558,   75.77577578,   75.97597598,\n",
       "         76.17617618,   76.37637638,   76.57657658,   76.77677678,\n",
       "         76.97697698,   77.17717718,   77.37737738,   77.57757758,\n",
       "         77.77777778,   77.97797798,   78.17817818,   78.37837838,\n",
       "         78.57857858,   78.77877878,   78.97897898,   79.17917918,\n",
       "         79.37937938,   79.57957958,   79.77977978,   79.97997998,\n",
       "         80.18018018,   80.38038038,   80.58058058,   80.78078078,\n",
       "         80.98098098,   81.18118118,   81.38138138,   81.58158158,\n",
       "         81.78178178,   81.98198198,   82.18218218,   82.38238238,\n",
       "         82.58258258,   82.78278278,   82.98298298,   83.18318318,\n",
       "         83.38338338,   83.58358358,   83.78378378,   83.98398398,\n",
       "         84.18418418,   84.38438438,   84.58458458,   84.78478478,\n",
       "         84.98498498,   85.18518519,   85.38538539,   85.58558559,\n",
       "         85.78578579,   85.98598599,   86.18618619,   86.38638639,\n",
       "         86.58658659,   86.78678679,   86.98698699,   87.18718719,\n",
       "         87.38738739,   87.58758759,   87.78778779,   87.98798799,\n",
       "         88.18818819,   88.38838839,   88.58858859,   88.78878879,\n",
       "         88.98898899,   89.18918919,   89.38938939,   89.58958959,\n",
       "         89.78978979,   89.98998999,   90.19019019,   90.39039039,\n",
       "         90.59059059,   90.79079079,   90.99099099,   91.19119119,\n",
       "         91.39139139,   91.59159159,   91.79179179,   91.99199199,\n",
       "         92.19219219,   92.39239239,   92.59259259,   92.79279279,\n",
       "         92.99299299,   93.19319319,   93.39339339,   93.59359359,\n",
       "         93.79379379,   93.99399399,   94.19419419,   94.39439439,\n",
       "         94.59459459,   94.79479479,   94.99499499,   95.1951952 ,\n",
       "         95.3953954 ,   95.5955956 ,   95.7957958 ,   95.995996  ,\n",
       "         96.1961962 ,   96.3963964 ,   96.5965966 ,   96.7967968 ,\n",
       "         96.996997  ,   97.1971972 ,   97.3973974 ,   97.5975976 ,\n",
       "         97.7977978 ,   97.997998  ,   98.1981982 ,   98.3983984 ,\n",
       "         98.5985986 ,   98.7987988 ,   98.998999  ,   99.1991992 ,\n",
       "         99.3993994 ,   99.5995996 ,   99.7997998 ,  100.        ])"
      ]
     },
     "execution_count": 8,
     "metadata": {},
     "output_type": "execute_result"
    }
   ],
   "source": [
    "#Plotting sigmoid curve\n",
    "\n",
    "xvalue = np.linspace(-100, 100, 1000) #setting the range from -100 to 100 with 1000 values\n",
    "xvalue"
   ]
  },
  {
   "cell_type": "code",
   "execution_count": 11,
   "metadata": {},
   "outputs": [
    {
     "data": {
      "text/plain": [
       "[<matplotlib.lines.Line2D at 0x2810833d0>]"
      ]
     },
     "execution_count": 11,
     "metadata": {},
     "output_type": "execute_result"
    },
    {
     "data": {
      "image/png": "[encoded data removed]",
      "text/plain": [
       "<Figure size 640x480 with 1 Axes>"
      ]
     },
     "metadata": {},
     "output_type": "display_data"
    }
   ],
   "source": [
    "plt.plot(xvalue, sigmoid(xvalue), color='red')"
   ]
  }
 ],
 "metadata": {
  "kernelspec": {
   "display_name": "Python 3",
   "language": "python",
   "name": "python3"
  },
  "language_info": {
   "codemirror_mode": {
    "name": "ipython",
    "version": 3
   },
   "file_extension": ".py",
   "mimetype": "text/x-python",
   "name": "python",
   "nbconvert_exporter": "python",
   "pygments_lexer": "ipython3",
   "version": "3.11.1"
  },
  "orig_nbformat": 4
 },
 "nbformat": 4,
 "nbformat_minor": 2
}
