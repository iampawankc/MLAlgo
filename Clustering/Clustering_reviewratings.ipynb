{
 "cells": [
  {
   "cell_type": "code",
   "execution_count": 1,
   "metadata": {},
   "outputs": [],
   "source": [
    "import numpy as np\n",
    "import pandas as pd\n",
    "import matplotlib.pyplot as plt\n",
    "import seaborn as sns\n",
    "sns.set()\n",
    "\n",
    "import warnings\n",
    "warnings.filterwarnings('ignore')"
   ]
  },
  {
   "cell_type": "code",
   "execution_count": 2,
   "metadata": {},
   "outputs": [
    {
     "data": {
      "text/html": [
       "<div>\n",
       "<style scoped>\n",
       "    .dataframe tbody tr th:only-of-type {\n",
       "        vertical-align: middle;\n",
       "    }\n",
       "\n",
       "    .dataframe tbody tr th {\n",
       "        vertical-align: top;\n",
       "    }\n",
       "\n",
       "    .dataframe thead th {\n",
       "        text-align: right;\n",
       "    }\n",
       "</style>\n",
       "<table border=\"1\" class=\"dataframe\">\n",
       "  <thead>\n",
       "    <tr style=\"text-align: right;\">\n",
       "      <th></th>\n",
       "      <th>User</th>\n",
       "      <th>Churches</th>\n",
       "      <th>Resorts</th>\n",
       "      <th>Beaches</th>\n",
       "      <th>Parks</th>\n",
       "      <th>Theatres</th>\n",
       "      <th>Museums</th>\n",
       "      <th>Malls</th>\n",
       "      <th>Zoo</th>\n",
       "      <th>Restaurants</th>\n",
       "      <th>...</th>\n",
       "      <th>Art Galleries</th>\n",
       "      <th>Dance Clubs</th>\n",
       "      <th>Swimming Pools</th>\n",
       "      <th>Gyms</th>\n",
       "      <th>Bakeries</th>\n",
       "      <th>Spas</th>\n",
       "      <th>Cafes</th>\n",
       "      <th>View Points</th>\n",
       "      <th>Monuments</th>\n",
       "      <th>Gardens</th>\n",
       "    </tr>\n",
       "  </thead>\n",
       "  <tbody>\n",
       "    <tr>\n",
       "      <th>0</th>\n",
       "      <td>User 1</td>\n",
       "      <td>0.0</td>\n",
       "      <td>0.0</td>\n",
       "      <td>3.63</td>\n",
       "      <td>3.65</td>\n",
       "      <td>5.0</td>\n",
       "      <td>2.92</td>\n",
       "      <td>5.0</td>\n",
       "      <td>2.35</td>\n",
       "      <td>2.33</td>\n",
       "      <td>...</td>\n",
       "      <td>1.74</td>\n",
       "      <td>0.59</td>\n",
       "      <td>0.5</td>\n",
       "      <td>0.0</td>\n",
       "      <td>0.5</td>\n",
       "      <td>0.0</td>\n",
       "      <td>0.0</td>\n",
       "      <td>0.0</td>\n",
       "      <td>0.0</td>\n",
       "      <td>0.0</td>\n",
       "    </tr>\n",
       "    <tr>\n",
       "      <th>1</th>\n",
       "      <td>User 2</td>\n",
       "      <td>0.0</td>\n",
       "      <td>0.0</td>\n",
       "      <td>3.63</td>\n",
       "      <td>3.65</td>\n",
       "      <td>5.0</td>\n",
       "      <td>2.92</td>\n",
       "      <td>5.0</td>\n",
       "      <td>2.64</td>\n",
       "      <td>2.33</td>\n",
       "      <td>...</td>\n",
       "      <td>1.74</td>\n",
       "      <td>0.59</td>\n",
       "      <td>0.5</td>\n",
       "      <td>0.0</td>\n",
       "      <td>0.5</td>\n",
       "      <td>0.0</td>\n",
       "      <td>0.0</td>\n",
       "      <td>0.0</td>\n",
       "      <td>0.0</td>\n",
       "      <td>0.0</td>\n",
       "    </tr>\n",
       "    <tr>\n",
       "      <th>2</th>\n",
       "      <td>User 3</td>\n",
       "      <td>0.0</td>\n",
       "      <td>0.0</td>\n",
       "      <td>3.63</td>\n",
       "      <td>3.63</td>\n",
       "      <td>5.0</td>\n",
       "      <td>2.92</td>\n",
       "      <td>5.0</td>\n",
       "      <td>2.64</td>\n",
       "      <td>2.33</td>\n",
       "      <td>...</td>\n",
       "      <td>1.74</td>\n",
       "      <td>0.59</td>\n",
       "      <td>0.5</td>\n",
       "      <td>0.0</td>\n",
       "      <td>0.5</td>\n",
       "      <td>0.0</td>\n",
       "      <td>0.0</td>\n",
       "      <td>0.0</td>\n",
       "      <td>0.0</td>\n",
       "      <td>0.0</td>\n",
       "    </tr>\n",
       "    <tr>\n",
       "      <th>3</th>\n",
       "      <td>User 4</td>\n",
       "      <td>0.0</td>\n",
       "      <td>0.5</td>\n",
       "      <td>3.63</td>\n",
       "      <td>3.63</td>\n",
       "      <td>5.0</td>\n",
       "      <td>2.92</td>\n",
       "      <td>5.0</td>\n",
       "      <td>2.35</td>\n",
       "      <td>2.33</td>\n",
       "      <td>...</td>\n",
       "      <td>1.74</td>\n",
       "      <td>0.59</td>\n",
       "      <td>0.5</td>\n",
       "      <td>0.0</td>\n",
       "      <td>0.5</td>\n",
       "      <td>0.0</td>\n",
       "      <td>0.0</td>\n",
       "      <td>0.0</td>\n",
       "      <td>0.0</td>\n",
       "      <td>0.0</td>\n",
       "    </tr>\n",
       "    <tr>\n",
       "      <th>4</th>\n",
       "      <td>User 5</td>\n",
       "      <td>0.0</td>\n",
       "      <td>0.0</td>\n",
       "      <td>3.63</td>\n",
       "      <td>3.63</td>\n",
       "      <td>5.0</td>\n",
       "      <td>2.92</td>\n",
       "      <td>5.0</td>\n",
       "      <td>2.64</td>\n",
       "      <td>2.33</td>\n",
       "      <td>...</td>\n",
       "      <td>1.74</td>\n",
       "      <td>0.59</td>\n",
       "      <td>0.5</td>\n",
       "      <td>0.0</td>\n",
       "      <td>0.5</td>\n",
       "      <td>0.0</td>\n",
       "      <td>0.0</td>\n",
       "      <td>0.0</td>\n",
       "      <td>0.0</td>\n",
       "      <td>0.0</td>\n",
       "    </tr>\n",
       "  </tbody>\n",
       "</table>\n",
       "<p>5 rows × 25 columns</p>\n",
       "</div>"
      ],
      "text/plain": [
       "     User  Churches  Resorts  Beaches  Parks  Theatres  Museums  Malls   Zoo  \\\n",
       "0  User 1       0.0      0.0     3.63   3.65       5.0     2.92    5.0  2.35   \n",
       "1  User 2       0.0      0.0     3.63   3.65       5.0     2.92    5.0  2.64   \n",
       "2  User 3       0.0      0.0     3.63   3.63       5.0     2.92    5.0  2.64   \n",
       "3  User 4       0.0      0.5     3.63   3.63       5.0     2.92    5.0  2.35   \n",
       "4  User 5       0.0      0.0     3.63   3.63       5.0     2.92    5.0  2.64   \n",
       "\n",
       "   Restaurants  ...  Art Galleries  Dance Clubs  Swimming Pools  Gyms  \\\n",
       "0         2.33  ...           1.74         0.59             0.5   0.0   \n",
       "1         2.33  ...           1.74         0.59             0.5   0.0   \n",
       "2         2.33  ...           1.74         0.59             0.5   0.0   \n",
       "3         2.33  ...           1.74         0.59             0.5   0.0   \n",
       "4         2.33  ...           1.74         0.59             0.5   0.0   \n",
       "\n",
       "   Bakeries  Spas  Cafes  View Points  Monuments  Gardens  \n",
       "0       0.5   0.0    0.0          0.0        0.0      0.0  \n",
       "1       0.5   0.0    0.0          0.0        0.0      0.0  \n",
       "2       0.5   0.0    0.0          0.0        0.0      0.0  \n",
       "3       0.5   0.0    0.0          0.0        0.0      0.0  \n",
       "4       0.5   0.0    0.0          0.0        0.0      0.0  \n",
       "\n",
       "[5 rows x 25 columns]"
      ]
     },
     "execution_count": 2,
     "metadata": {},
     "output_type": "execute_result"
    }
   ],
   "source": [
    "dataset = pd.read_csv('/Users/pawankumarkc/Documents/vscode_workspace/MLAlgo/datasets/ReviewRatings.csv')\n",
    "dataset.head()"
   ]
  },
  {
   "cell_type": "code",
   "execution_count": 3,
   "metadata": {},
   "outputs": [
    {
     "data": {
      "text/plain": [
       "User              0\n",
       "Churches          0\n",
       "Resorts           0\n",
       "Beaches           0\n",
       "Parks             0\n",
       "Theatres          0\n",
       "Museums           0\n",
       "Malls             0\n",
       "Zoo               0\n",
       "Restaurants       0\n",
       "Bars              0\n",
       "Local Services    0\n",
       "Fast Food         0\n",
       "Lodgings          0\n",
       "Juice Bars        0\n",
       "Art Galleries     0\n",
       "Dance Clubs       0\n",
       "Swimming Pools    0\n",
       "Gyms              0\n",
       "Bakeries          0\n",
       "Spas              0\n",
       "Cafes             0\n",
       "View Points       0\n",
       "Monuments         0\n",
       "Gardens           0\n",
       "dtype: int64"
      ]
     },
     "execution_count": 3,
     "metadata": {},
     "output_type": "execute_result"
    }
   ],
   "source": [
    "dataset.isnull().sum()"
   ]
  },
  {
   "cell_type": "code",
   "execution_count": 7,
   "metadata": {},
   "outputs": [
    {
     "name": "stdout",
     "output_type": "stream",
     "text": [
      "<class 'pandas.core.frame.DataFrame'>\n",
      "RangeIndex: 5456 entries, 0 to 5455\n",
      "Data columns (total 25 columns):\n",
      " #   Column          Non-Null Count  Dtype  \n",
      "---  ------          --------------  -----  \n",
      " 0   User            5456 non-null   object \n",
      " 1   Churches        5456 non-null   float64\n",
      " 2   Resorts         5456 non-null   float64\n",
      " 3   Beaches         5456 non-null   float64\n",
      " 4   Parks           5456 non-null   float64\n",
      " 5   Theatres        5456 non-null   float64\n",
      " 6   Museums         5456 non-null   float64\n",
      " 7   Malls           5456 non-null   float64\n",
      " 8   Zoo             5456 non-null   float64\n",
      " 9   Restaurants     5456 non-null   float64\n",
      " 10  Bars            5456 non-null   float64\n",
      " 11  Local Services  5456 non-null   float64\n",
      " 12  Fast Food       5456 non-null   float64\n",
      " 13  Lodgings        5456 non-null   float64\n",
      " 14  Juice Bars      5456 non-null   float64\n",
      " 15  Art Galleries   5456 non-null   float64\n",
      " 16  Dance Clubs     5456 non-null   float64\n",
      " 17  Swimming Pools  5456 non-null   float64\n",
      " 18  Gyms            5456 non-null   float64\n",
      " 19  Bakeries        5456 non-null   float64\n",
      " 20  Spas            5456 non-null   float64\n",
      " 21  Cafes           5456 non-null   float64\n",
      " 22  View Points     5456 non-null   float64\n",
      " 23  Monuments       5456 non-null   float64\n",
      " 24  Gardens         5456 non-null   float64\n",
      "dtypes: float64(24), object(1)\n",
      "memory usage: 1.0+ MB\n"
     ]
    }
   ],
   "source": [
    "dataset.info()"
   ]
  },
  {
   "cell_type": "code",
   "execution_count": 10,
   "metadata": {},
   "outputs": [],
   "source": [
    "x = dataset.drop(columns=['User'])"
   ]
  },
  {
   "cell_type": "code",
   "execution_count": 11,
   "metadata": {},
   "outputs": [
    {
     "data": {
      "text/plain": [
       "array([[-1.75911777, -1.6320937 ,  0.91421654, ..., -1.09505221,\n",
       "        -1.16303953, -1.33211789],\n",
       "       [-1.75911777, -1.6320937 ,  0.91421654, ..., -1.09505221,\n",
       "        -1.16303953, -1.33211789],\n",
       "       [-1.75911777, -1.6320937 ,  0.91421654, ..., -1.09505221,\n",
       "        -1.16303953, -1.33211789],\n",
       "       ...,\n",
       "       [-0.6232054 ,  1.88579429,  1.23480615, ...,  2.03270857,\n",
       "         2.63413607, -0.38466551],\n",
       "       [-0.61112123,  1.21739557,  1.25083563, ...,  2.03270857,\n",
       "         2.63413607, -0.37612991],\n",
       "       [-0.61112123,  1.23146712,  2.01223593, ...,  2.03270857,\n",
       "         2.63413607, -0.33345187]])"
      ]
     },
     "execution_count": 11,
     "metadata": {},
     "output_type": "execute_result"
    }
   ],
   "source": [
    "#Scaling the data\n",
    "\n",
    "from sklearn.preprocessing import StandardScaler\n",
    "sc = StandardScaler()\n",
    "sc_x = sc.fit_transform(x)\n",
    "sc_x"
   ]
  },
  {
   "cell_type": "code",
   "execution_count": 17,
   "metadata": {},
   "outputs": [
    {
     "data": {
      "text/plain": [
       "[130943.99999999997,\n",
       " 112267.39268999005,\n",
       " 99754.77721476898,\n",
       " 92075.31103168015,\n",
       " 87491.7231268278,\n",
       " 83108.18750036719,\n",
       " 79747.55330486159,\n",
       " 76866.39628750413,\n",
       " 74510.83860648928]"
      ]
     },
     "execution_count": 17,
     "metadata": {},
     "output_type": "execute_result"
    }
   ],
   "source": [
    "# Elbow method\n",
    "\n",
    "from sklearn.cluster import KMeans\n",
    "\n",
    "wcss=[]\n",
    "\n",
    "for i in range(1, 10):\n",
    "    km = KMeans(n_clusters=i, random_state=101)\n",
    "    km.fit(sc_x)\n",
    "    wcss.append(km.inertia_)\n",
    "\n",
    "wcss"
   ]
  },
  {
   "cell_type": "code",
   "execution_count": 18,
   "metadata": {},
   "outputs": [
    {
     "data": {
      "text/plain": [
       "9"
      ]
     },
     "execution_count": 18,
     "metadata": {},
     "output_type": "execute_result"
    }
   ],
   "source": [
    "len(wcss)"
   ]
  },
  {
   "cell_type": "code",
   "execution_count": 19,
   "metadata": {},
   "outputs": [
    {
     "data": {
      "text/plain": [
       "[<matplotlib.lines.Line2D at 0x296a69350>]"
      ]
     },
     "execution_count": 19,
     "metadata": {},
     "output_type": "execute_result"
    },
    {
     "data": {
      "image/png": "[encoded data removed]",
      "text/plain": [
       "<Figure size 640x480 with 1 Axes>"
      ]
     },
     "metadata": {},
     "output_type": "display_data"
    }
   ],
   "source": [
    "plt.plot([i for i in range(1,10)], wcss)"
   ]
  },
  {
   "cell_type": "code",
   "execution_count": null,
   "metadata": {},
   "outputs": [],
   "source": []
  }
 ],
 "metadata": {
  "kernelspec": {
   "display_name": "Python 3",
   "language": "python",
   "name": "python3"
  },
  "language_info": {
   "codemirror_mode": {
    "name": "ipython",
    "version": 3
   },
   "file_extension": ".py",
   "mimetype": "text/x-python",
   "name": "python",
   "nbconvert_exporter": "python",
   "pygments_lexer": "ipython3",
   "version": "3.11.1"
  },
  "orig_nbformat": 4
 },
 "nbformat": 4,
 "nbformat_minor": 2
}
