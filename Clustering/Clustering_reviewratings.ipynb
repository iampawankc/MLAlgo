{
 "cells": [
  {
   "cell_type": "code",
   "execution_count": 1,
   "metadata": {},
   "outputs": [],
   "source": [
    "import numpy as np\n",
    "import pandas as pd\n",
    "import matplotlib.pyplot as plt\n",
    "import seaborn as sns\n",
    "sns.set()\n",
    "\n",
    "import warnings\n",
    "warnings.filterwarnings('ignore')"
   ]
  },
  {
   "cell_type": "code",
   "execution_count": 2,
   "metadata": {},
   "outputs": [
    {
     "data": {
      "text/html": [
       "<div>\n",
       "<style scoped>\n",
       "    .dataframe tbody tr th:only-of-type {\n",
       "        vertical-align: middle;\n",
       "    }\n",
       "\n",
       "    .dataframe tbody tr th {\n",
       "        vertical-align: top;\n",
       "    }\n",
       "\n",
       "    .dataframe thead th {\n",
       "        text-align: right;\n",
       "    }\n",
       "</style>\n",
       "<table border=\"1\" class=\"dataframe\">\n",
       "  <thead>\n",
       "    <tr style=\"text-align: right;\">\n",
       "      <th></th>\n",
       "      <th>User</th>\n",
       "      <th>Churches</th>\n",
       "      <th>Resorts</th>\n",
       "      <th>Beaches</th>\n",
       "      <th>Parks</th>\n",
       "      <th>Theatres</th>\n",
       "      <th>Museums</th>\n",
       "      <th>Malls</th>\n",
       "      <th>Zoo</th>\n",
       "      <th>Restaurants</th>\n",
       "      <th>...</th>\n",
       "      <th>Art Galleries</th>\n",
       "      <th>Dance Clubs</th>\n",
       "      <th>Swimming Pools</th>\n",
       "      <th>Gyms</th>\n",
       "      <th>Bakeries</th>\n",
       "      <th>Spas</th>\n",
       "      <th>Cafes</th>\n",
       "      <th>View Points</th>\n",
       "      <th>Monuments</th>\n",
       "      <th>Gardens</th>\n",
       "    </tr>\n",
       "  </thead>\n",
       "  <tbody>\n",
       "    <tr>\n",
       "      <th>0</th>\n",
       "      <td>User 1</td>\n",
       "      <td>0.0</td>\n",
       "      <td>0.0</td>\n",
       "      <td>3.63</td>\n",
       "      <td>3.65</td>\n",
       "      <td>5.0</td>\n",
       "      <td>2.92</td>\n",
       "      <td>5.0</td>\n",
       "      <td>2.35</td>\n",
       "      <td>2.33</td>\n",
       "      <td>...</td>\n",
       "      <td>1.74</td>\n",
       "      <td>0.59</td>\n",
       "      <td>0.5</td>\n",
       "      <td>0.0</td>\n",
       "      <td>0.5</td>\n",
       "      <td>0.0</td>\n",
       "      <td>0.0</td>\n",
       "      <td>0.0</td>\n",
       "      <td>0.0</td>\n",
       "      <td>0.0</td>\n",
       "    </tr>\n",
       "    <tr>\n",
       "      <th>1</th>\n",
       "      <td>User 2</td>\n",
       "      <td>0.0</td>\n",
       "      <td>0.0</td>\n",
       "      <td>3.63</td>\n",
       "      <td>3.65</td>\n",
       "      <td>5.0</td>\n",
       "      <td>2.92</td>\n",
       "      <td>5.0</td>\n",
       "      <td>2.64</td>\n",
       "      <td>2.33</td>\n",
       "      <td>...</td>\n",
       "      <td>1.74</td>\n",
       "      <td>0.59</td>\n",
       "      <td>0.5</td>\n",
       "      <td>0.0</td>\n",
       "      <td>0.5</td>\n",
       "      <td>0.0</td>\n",
       "      <td>0.0</td>\n",
       "      <td>0.0</td>\n",
       "      <td>0.0</td>\n",
       "      <td>0.0</td>\n",
       "    </tr>\n",
       "    <tr>\n",
       "      <th>2</th>\n",
       "      <td>User 3</td>\n",
       "      <td>0.0</td>\n",
       "      <td>0.0</td>\n",
       "      <td>3.63</td>\n",
       "      <td>3.63</td>\n",
       "      <td>5.0</td>\n",
       "      <td>2.92</td>\n",
       "      <td>5.0</td>\n",
       "      <td>2.64</td>\n",
       "      <td>2.33</td>\n",
       "      <td>...</td>\n",
       "      <td>1.74</td>\n",
       "      <td>0.59</td>\n",
       "      <td>0.5</td>\n",
       "      <td>0.0</td>\n",
       "      <td>0.5</td>\n",
       "      <td>0.0</td>\n",
       "      <td>0.0</td>\n",
       "      <td>0.0</td>\n",
       "      <td>0.0</td>\n",
       "      <td>0.0</td>\n",
       "    </tr>\n",
       "    <tr>\n",
       "      <th>3</th>\n",
       "      <td>User 4</td>\n",
       "      <td>0.0</td>\n",
       "      <td>0.5</td>\n",
       "      <td>3.63</td>\n",
       "      <td>3.63</td>\n",
       "      <td>5.0</td>\n",
       "      <td>2.92</td>\n",
       "      <td>5.0</td>\n",
       "      <td>2.35</td>\n",
       "      <td>2.33</td>\n",
       "      <td>...</td>\n",
       "      <td>1.74</td>\n",
       "      <td>0.59</td>\n",
       "      <td>0.5</td>\n",
       "      <td>0.0</td>\n",
       "      <td>0.5</td>\n",
       "      <td>0.0</td>\n",
       "      <td>0.0</td>\n",
       "      <td>0.0</td>\n",
       "      <td>0.0</td>\n",
       "      <td>0.0</td>\n",
       "    </tr>\n",
       "    <tr>\n",
       "      <th>4</th>\n",
       "      <td>User 5</td>\n",
       "      <td>0.0</td>\n",
       "      <td>0.0</td>\n",
       "      <td>3.63</td>\n",
       "      <td>3.63</td>\n",
       "      <td>5.0</td>\n",
       "      <td>2.92</td>\n",
       "      <td>5.0</td>\n",
       "      <td>2.64</td>\n",
       "      <td>2.33</td>\n",
       "      <td>...</td>\n",
       "      <td>1.74</td>\n",
       "      <td>0.59</td>\n",
       "      <td>0.5</td>\n",
       "      <td>0.0</td>\n",
       "      <td>0.5</td>\n",
       "      <td>0.0</td>\n",
       "      <td>0.0</td>\n",
       "      <td>0.0</td>\n",
       "      <td>0.0</td>\n",
       "      <td>0.0</td>\n",
       "    </tr>\n",
       "  </tbody>\n",
       "</table>\n",
       "<p>5 rows × 25 columns</p>\n",
       "</div>"
      ],
      "text/plain": [
       "     User  Churches  Resorts  Beaches  Parks  Theatres  Museums  Malls   Zoo  \\\n",
       "0  User 1       0.0      0.0     3.63   3.65       5.0     2.92    5.0  2.35   \n",
       "1  User 2       0.0      0.0     3.63   3.65       5.0     2.92    5.0  2.64   \n",
       "2  User 3       0.0      0.0     3.63   3.63       5.0     2.92    5.0  2.64   \n",
       "3  User 4       0.0      0.5     3.63   3.63       5.0     2.92    5.0  2.35   \n",
       "4  User 5       0.0      0.0     3.63   3.63       5.0     2.92    5.0  2.64   \n",
       "\n",
       "   Restaurants  ...  Art Galleries  Dance Clubs  Swimming Pools  Gyms  \\\n",
       "0         2.33  ...           1.74         0.59             0.5   0.0   \n",
       "1         2.33  ...           1.74         0.59             0.5   0.0   \n",
       "2         2.33  ...           1.74         0.59             0.5   0.0   \n",
       "3         2.33  ...           1.74         0.59             0.5   0.0   \n",
       "4         2.33  ...           1.74         0.59             0.5   0.0   \n",
       "\n",
       "   Bakeries  Spas  Cafes  View Points  Monuments  Gardens  \n",
       "0       0.5   0.0    0.0          0.0        0.0      0.0  \n",
       "1       0.5   0.0    0.0          0.0        0.0      0.0  \n",
       "2       0.5   0.0    0.0          0.0        0.0      0.0  \n",
       "3       0.5   0.0    0.0          0.0        0.0      0.0  \n",
       "4       0.5   0.0    0.0          0.0        0.0      0.0  \n",
       "\n",
       "[5 rows x 25 columns]"
      ]
     },
     "execution_count": 2,
     "metadata": {},
     "output_type": "execute_result"
    }
   ],
   "source": [
    "dataset = pd.read_csv('/Users/pawankumarkc/Documents/vscode_workspace/MLAlgo/datasets/ReviewRatings.csv')\n",
    "dataset.head()"
   ]
  },
  {
   "cell_type": "code",
   "execution_count": 3,
   "metadata": {},
   "outputs": [
    {
     "data": {
      "text/plain": [
       "User              0\n",
       "Churches          0\n",
       "Resorts           0\n",
       "Beaches           0\n",
       "Parks             0\n",
       "Theatres          0\n",
       "Museums           0\n",
       "Malls             0\n",
       "Zoo               0\n",
       "Restaurants       0\n",
       "Bars              0\n",
       "Local Services    0\n",
       "Fast Food         0\n",
       "Lodgings          0\n",
       "Juice Bars        0\n",
       "Art Galleries     0\n",
       "Dance Clubs       0\n",
       "Swimming Pools    0\n",
       "Gyms              0\n",
       "Bakeries          0\n",
       "Spas              0\n",
       "Cafes             0\n",
       "View Points       0\n",
       "Monuments         0\n",
       "Gardens           0\n",
       "dtype: int64"
      ]
     },
     "execution_count": 3,
     "metadata": {},
     "output_type": "execute_result"
    }
   ],
   "source": [
    "dataset.isnull().sum()"
   ]
  },
  {
   "cell_type": "code",
   "execution_count": 4,
   "metadata": {},
   "outputs": [
    {
     "name": "stdout",
     "output_type": "stream",
     "text": [
      "<class 'pandas.core.frame.DataFrame'>\n",
      "RangeIndex: 5456 entries, 0 to 5455\n",
      "Data columns (total 25 columns):\n",
      " #   Column          Non-Null Count  Dtype  \n",
      "---  ------          --------------  -----  \n",
      " 0   User            5456 non-null   object \n",
      " 1   Churches        5456 non-null   float64\n",
      " 2   Resorts         5456 non-null   float64\n",
      " 3   Beaches         5456 non-null   float64\n",
      " 4   Parks           5456 non-null   float64\n",
      " 5   Theatres        5456 non-null   float64\n",
      " 6   Museums         5456 non-null   float64\n",
      " 7   Malls           5456 non-null   float64\n",
      " 8   Zoo             5456 non-null   float64\n",
      " 9   Restaurants     5456 non-null   float64\n",
      " 10  Bars            5456 non-null   float64\n",
      " 11  Local Services  5456 non-null   float64\n",
      " 12  Fast Food       5456 non-null   float64\n",
      " 13  Lodgings        5456 non-null   float64\n",
      " 14  Juice Bars      5456 non-null   float64\n",
      " 15  Art Galleries   5456 non-null   float64\n",
      " 16  Dance Clubs     5456 non-null   float64\n",
      " 17  Swimming Pools  5456 non-null   float64\n",
      " 18  Gyms            5456 non-null   float64\n",
      " 19  Bakeries        5456 non-null   float64\n",
      " 20  Spas            5456 non-null   float64\n",
      " 21  Cafes           5456 non-null   float64\n",
      " 22  View Points     5456 non-null   float64\n",
      " 23  Monuments       5456 non-null   float64\n",
      " 24  Gardens         5456 non-null   float64\n",
      "dtypes: float64(24), object(1)\n",
      "memory usage: 1.0+ MB\n"
     ]
    }
   ],
   "source": [
    "dataset.info()"
   ]
  },
  {
   "cell_type": "code",
   "execution_count": 5,
   "metadata": {},
   "outputs": [],
   "source": [
    "x = dataset.drop(columns=['User'])"
   ]
  },
  {
   "cell_type": "code",
   "execution_count": 6,
   "metadata": {},
   "outputs": [
    {
     "data": {
      "text/plain": [
       "array([[-1.75911777, -1.6320937 ,  0.91421654, ..., -1.09505221,\n",
       "        -1.16303953, -1.33211789],\n",
       "       [-1.75911777, -1.6320937 ,  0.91421654, ..., -1.09505221,\n",
       "        -1.16303953, -1.33211789],\n",
       "       [-1.75911777, -1.6320937 ,  0.91421654, ..., -1.09505221,\n",
       "        -1.16303953, -1.33211789],\n",
       "       ...,\n",
       "       [-0.6232054 ,  1.88579429,  1.23480615, ...,  2.03270857,\n",
       "         2.63413607, -0.38466551],\n",
       "       [-0.61112123,  1.21739557,  1.25083563, ...,  2.03270857,\n",
       "         2.63413607, -0.37612991],\n",
       "       [-0.61112123,  1.23146712,  2.01223593, ...,  2.03270857,\n",
       "         2.63413607, -0.33345187]])"
      ]
     },
     "execution_count": 6,
     "metadata": {},
     "output_type": "execute_result"
    }
   ],
   "source": [
    "#Scaling the data\n",
    "\n",
    "from sklearn.preprocessing import StandardScaler\n",
    "sc = StandardScaler()\n",
    "sc_x = sc.fit_transform(x)\n",
    "sc_x"
   ]
  },
  {
   "cell_type": "code",
   "execution_count": 7,
   "metadata": {},
   "outputs": [
    {
     "data": {
      "text/plain": [
       "[130943.99999999997,\n",
       " 112267.39268999005,\n",
       " 99754.77721476898,\n",
       " 92075.31103168015,\n",
       " 87491.7231268278,\n",
       " 83108.18750036719,\n",
       " 79747.55330486159,\n",
       " 76866.39628750413,\n",
       " 74510.83860648928]"
      ]
     },
     "execution_count": 7,
     "metadata": {},
     "output_type": "execute_result"
    }
   ],
   "source": [
    "# Elbow method\n",
    "\n",
    "from sklearn.cluster import KMeans\n",
    "\n",
    "wcss=[]\n",
    "\n",
    "for i in range(1, 10):\n",
    "    km = KMeans(n_clusters=i, random_state=101)\n",
    "    km.fit(sc_x)\n",
    "    wcss.append(km.inertia_)\n",
    "\n",
    "wcss"
   ]
  },
  {
   "cell_type": "code",
   "execution_count": 8,
   "metadata": {},
   "outputs": [
    {
     "data": {
      "text/plain": [
       "9"
      ]
     },
     "execution_count": 8,
     "metadata": {},
     "output_type": "execute_result"
    }
   ],
   "source": [
    "len(wcss)"
   ]
  },
  {
   "cell_type": "code",
   "execution_count": 9,
   "metadata": {},
   "outputs": [
    {
     "data": {
      "text/plain": [
       "[<matplotlib.lines.Line2D at 0x17ee6f910>]"
      ]
     },
     "execution_count": 9,
     "metadata": {},
     "output_type": "execute_result"
    },
    {
     "data": {
      "image/png": "[encoded data removed]",
      "text/plain": [
       "<Figure size 640x480 with 1 Axes>"
      ]
     },
     "metadata": {},
     "output_type": "display_data"
    }
   ],
   "source": [
    "plt.plot([i for i in range(1,10)], wcss)"
   ]
  },
  {
   "cell_type": "code",
   "execution_count": 10,
   "metadata": {},
   "outputs": [
    {
     "name": "stdout",
     "output_type": "stream",
     "text": [
      "(5456, 24)\n",
      "(5456, 21)\n"
     ]
    }
   ],
   "source": [
    "from sklearn.decomposition import PCA\n",
    "\n",
    "pca = PCA(0.95)\n",
    "sc_x_pca = pca.fit_transform(sc_x)\n",
    "\n",
    "print(sc_x.shape)\n",
    "print(sc_x_pca.shape)\n"
   ]
  },
  {
   "cell_type": "code",
   "execution_count": 12,
   "metadata": {},
   "outputs": [
    {
     "data": {
      "text/plain": [
       "[<matplotlib.lines.Line2D at 0x28d15da90>]"
      ]
     },
     "execution_count": 12,
     "metadata": {},
     "output_type": "execute_result"
    },
    {
     "data": {
      "image/png": "[encoded data removed]",
      "text/plain": [
       "<Figure size 640x480 with 1 Axes>"
      ]
     },
     "metadata": {},
     "output_type": "display_data"
    }
   ],
   "source": [
    "from sklearn.cluster import KMeans\n",
    "\n",
    "wcss=[]\n",
    "\n",
    "for i in range(1, 10):\n",
    "    km = KMeans(n_clusters=i, random_state=101)\n",
    "    km.fit(sc_x_pca)\n",
    "    wcss.append(km.inertia_)\n",
    "\n",
    "plt.plot([i for i in range(1,10)], wcss)"
   ]
  },
  {
   "cell_type": "markdown",
   "metadata": {},
   "source": [
    "# Bank dataset"
   ]
  },
  {
   "cell_type": "code",
   "execution_count": 13,
   "metadata": {},
   "outputs": [
    {
     "data": {
      "text/html": [
       "<div>\n",
       "<style scoped>\n",
       "    .dataframe tbody tr th:only-of-type {\n",
       "        vertical-align: middle;\n",
       "    }\n",
       "\n",
       "    .dataframe tbody tr th {\n",
       "        vertical-align: top;\n",
       "    }\n",
       "\n",
       "    .dataframe thead th {\n",
       "        text-align: right;\n",
       "    }\n",
       "</style>\n",
       "<table border=\"1\" class=\"dataframe\">\n",
       "  <thead>\n",
       "    <tr style=\"text-align: right;\">\n",
       "      <th></th>\n",
       "      <th>Index</th>\n",
       "      <th>interest_rate</th>\n",
       "      <th>credit</th>\n",
       "      <th>Gender</th>\n",
       "      <th>previous</th>\n",
       "      <th>duration</th>\n",
       "      <th>Churn</th>\n",
       "    </tr>\n",
       "  </thead>\n",
       "  <tbody>\n",
       "    <tr>\n",
       "      <th>0</th>\n",
       "      <td>0</td>\n",
       "      <td>1.334</td>\n",
       "      <td>0</td>\n",
       "      <td>1</td>\n",
       "      <td>0</td>\n",
       "      <td>117</td>\n",
       "      <td>no</td>\n",
       "    </tr>\n",
       "    <tr>\n",
       "      <th>1</th>\n",
       "      <td>1</td>\n",
       "      <td>0.767</td>\n",
       "      <td>0</td>\n",
       "      <td>0</td>\n",
       "      <td>1</td>\n",
       "      <td>274</td>\n",
       "      <td>yes</td>\n",
       "    </tr>\n",
       "    <tr>\n",
       "      <th>2</th>\n",
       "      <td>2</td>\n",
       "      <td>4.858</td>\n",
       "      <td>0</td>\n",
       "      <td>1</td>\n",
       "      <td>0</td>\n",
       "      <td>167</td>\n",
       "      <td>no</td>\n",
       "    </tr>\n",
       "    <tr>\n",
       "      <th>3</th>\n",
       "      <td>3</td>\n",
       "      <td>4.120</td>\n",
       "      <td>0</td>\n",
       "      <td>0</td>\n",
       "      <td>0</td>\n",
       "      <td>686</td>\n",
       "      <td>yes</td>\n",
       "    </tr>\n",
       "    <tr>\n",
       "      <th>4</th>\n",
       "      <td>4</td>\n",
       "      <td>4.856</td>\n",
       "      <td>0</td>\n",
       "      <td>1</td>\n",
       "      <td>0</td>\n",
       "      <td>159</td>\n",
       "      <td>no</td>\n",
       "    </tr>\n",
       "  </tbody>\n",
       "</table>\n",
       "</div>"
      ],
      "text/plain": [
       "   Index  interest_rate  credit  Gender  previous  duration Churn\n",
       "0      0          1.334       0       1         0       117    no\n",
       "1      1          0.767       0       0         1       274   yes\n",
       "2      2          4.858       0       1         0       167    no\n",
       "3      3          4.120       0       0         0       686   yes\n",
       "4      4          4.856       0       1         0       159    no"
      ]
     },
     "execution_count": 13,
     "metadata": {},
     "output_type": "execute_result"
    }
   ],
   "source": [
    "bank_ds = pd.read_csv('/Users/pawankumarkc/Documents/vscode_workspace/MLAlgo/datasets/Bank-data.csv')\n",
    "bank_ds.head()"
   ]
  },
  {
   "cell_type": "code",
   "execution_count": 18,
   "metadata": {},
   "outputs": [],
   "source": [
    "bank_ds.drop(columns=['Index'], inplace=True)"
   ]
  },
  {
   "cell_type": "code",
   "execution_count": 19,
   "metadata": {},
   "outputs": [
    {
     "data": {
      "text/plain": [
       "interest_rate    0\n",
       "credit           0\n",
       "Gender           0\n",
       "previous         0\n",
       "duration         0\n",
       "Churn            0\n",
       "dtype: int64"
      ]
     },
     "execution_count": 19,
     "metadata": {},
     "output_type": "execute_result"
    }
   ],
   "source": [
    "bank_ds.isnull().sum()"
   ]
  },
  {
   "cell_type": "code",
   "execution_count": 20,
   "metadata": {},
   "outputs": [
    {
     "name": "stdout",
     "output_type": "stream",
     "text": [
      "<class 'pandas.core.frame.DataFrame'>\n",
      "RangeIndex: 518 entries, 0 to 517\n",
      "Data columns (total 6 columns):\n",
      " #   Column         Non-Null Count  Dtype  \n",
      "---  ------         --------------  -----  \n",
      " 0   interest_rate  518 non-null    float64\n",
      " 1   credit         518 non-null    int64  \n",
      " 2   Gender         518 non-null    int64  \n",
      " 3   previous       518 non-null    int64  \n",
      " 4   duration       518 non-null    int64  \n",
      " 5   Churn          518 non-null    object \n",
      "dtypes: float64(1), int64(4), object(1)\n",
      "memory usage: 24.4+ KB\n"
     ]
    }
   ],
   "source": [
    "bank_ds.info()"
   ]
  },
  {
   "cell_type": "code",
   "execution_count": 21,
   "metadata": {},
   "outputs": [],
   "source": [
    "x = bank_ds.drop(columns=['Churn'])"
   ]
  },
  {
   "cell_type": "code",
   "execution_count": 22,
   "metadata": {},
   "outputs": [
    {
     "data": {
      "text/plain": [
       "array([[-0.83643824, -0.18973666,  1.65124762, -0.38212262, -0.77850438],\n",
       "       [-1.13856587, -0.18973666, -0.60560269,  2.61696099, -0.32116532],\n",
       "       [ 1.04133564, -0.18973666,  1.65124762, -0.38212262, -0.632855  ],\n",
       "       ...,\n",
       "       [-1.07888634, -0.18973666, -0.60560269, -0.38212262, -0.27455752],\n",
       "       [-1.07995205, -0.18973666, -0.60560269,  2.61696099,  0.25851922],\n",
       "       [ 1.0983509 , -0.18973666, -0.60560269, -0.38212262, -0.70567969]])"
      ]
     },
     "execution_count": 22,
     "metadata": {},
     "output_type": "execute_result"
    }
   ],
   "source": [
    "sc = StandardScaler()\n",
    "sc_x = sc.fit_transform(x)\n",
    "sc_x"
   ]
  },
  {
   "cell_type": "code",
   "execution_count": 30,
   "metadata": {},
   "outputs": [
    {
     "data": {
      "text/plain": [
       "[<matplotlib.lines.Line2D at 0x28e624050>]"
      ]
     },
     "execution_count": 30,
     "metadata": {},
     "output_type": "execute_result"
    },
    {
     "data": {
      "image/png": "[encoded data removed]",
      "text/plain": [
       "<Figure size 640x480 with 1 Axes>"
      ]
     },
     "metadata": {},
     "output_type": "display_data"
    }
   ],
   "source": [
    "wcss=[]\n",
    "\n",
    "for i in range(1, 25):\n",
    "    km = KMeans(n_clusters=i, random_state=101)\n",
    "    km.fit(sc_x)\n",
    "    wcss.append(km.inertia_)\n",
    "\n",
    "plt.plot([i for i in range(1,25)], wcss, marker='o')"
   ]
  },
  {
   "cell_type": "code",
   "execution_count": 31,
   "metadata": {},
   "outputs": [
    {
     "data": {
      "text/plain": [
       "array([5, 3, 5, 1, 5, 2, 1, 5, 1, 1, 3, 1, 3, 1, 1, 2, 3, 4, 5, 1, 2, 3,\n",
       "       5, 1, 3, 5, 1, 1, 1, 1, 1, 5, 5, 2, 1, 5, 0, 1, 4, 5, 1, 2, 1, 5,\n",
       "       3, 2, 5, 5, 5, 2, 1, 1, 1, 1, 5, 3, 1, 3, 2, 3, 1, 5, 2, 2, 1, 5,\n",
       "       1, 1, 3, 1, 1, 2, 1, 4, 2, 5, 2, 5, 5, 1, 3, 2, 3, 1, 1, 0, 2, 2,\n",
       "       2, 1, 1, 1, 2, 2, 2, 2, 2, 1, 0, 1, 2, 1, 2, 2, 1, 5, 1, 2, 3, 5,\n",
       "       4, 2, 5, 1, 2, 1, 1, 5, 5, 1, 5, 5, 3, 0, 5, 0, 4, 2, 2, 2, 1, 5,\n",
       "       2, 1, 2, 5, 1, 2, 1, 5, 5, 5, 5, 2, 5, 4, 5, 5, 0, 2, 0, 1, 0, 5,\n",
       "       1, 4, 1, 0, 3, 0, 3, 2, 0, 1, 2, 1, 1, 2, 5, 1, 5, 3, 3, 1, 1, 0,\n",
       "       2, 4, 2, 4, 1, 5, 1, 1, 1, 1, 5, 1, 0, 2, 2, 5, 5, 5, 3, 1, 2, 1,\n",
       "       2, 2, 1, 1, 3, 2, 1, 1, 4, 1, 5, 0, 2, 5, 2, 2, 1, 1, 3, 4, 2, 5,\n",
       "       4, 2, 1, 5, 5, 5, 1, 4, 0, 0, 1, 5, 1, 0, 1, 0, 2, 5, 5, 2, 1, 4,\n",
       "       5, 5, 0, 0, 3, 1, 0, 4, 1, 2, 5, 1, 1, 2, 3, 5, 2, 1, 2, 2, 0, 1,\n",
       "       2, 1, 5, 5, 1, 1, 5, 2, 1, 1, 0, 2, 2, 5, 5, 5, 1, 5, 0, 0, 1, 0,\n",
       "       1, 0, 1, 2, 1, 2, 5, 2, 2, 1, 3, 5, 1, 2, 5, 5, 1, 1, 1, 2, 5, 0,\n",
       "       5, 3, 1, 3, 1, 3, 0, 2, 0, 2, 2, 5, 3, 1, 1, 1, 1, 4, 5, 2, 0, 2,\n",
       "       0, 0, 0, 3, 5, 2, 2, 2, 3, 3, 5, 1, 0, 5, 1, 3, 5, 0, 3, 1, 2, 5,\n",
       "       5, 2, 2, 1, 3, 4, 1, 3, 1, 1, 2, 5, 1, 0, 5, 3, 1, 1, 0, 0, 2, 2,\n",
       "       2, 1, 1, 1, 2, 3, 5, 2, 1, 1, 2, 1, 2, 2, 1, 2, 1, 5, 3, 2, 3, 5,\n",
       "       5, 5, 1, 1, 3, 2, 5, 2, 5, 5, 1, 3, 5, 0, 1, 3, 5, 1, 1, 2, 2, 5,\n",
       "       1, 1, 3, 3, 1, 1, 2, 1, 2, 3, 2, 1, 1, 2, 3, 1, 5, 5, 5, 5, 1, 2,\n",
       "       1, 1, 1, 5, 3, 1, 3, 5, 1, 1, 1, 2, 2, 5, 1, 2, 3, 1, 2, 3, 1, 5,\n",
       "       2, 1, 1, 1, 1, 0, 2, 2, 3, 1, 1, 0, 5, 3, 3, 5, 1, 1, 5, 2, 1, 1,\n",
       "       0, 2, 5, 1, 3, 1, 2, 1, 5, 1, 1, 5, 1, 4, 5, 2, 3, 1, 2, 2, 3, 1,\n",
       "       2, 1, 0, 3, 5, 1, 5, 5, 3, 2, 3, 1], dtype=int32)"
      ]
     },
     "execution_count": 31,
     "metadata": {},
     "output_type": "execute_result"
    }
   ],
   "source": [
    "# Lets take k=6\n",
    "\n",
    "km = KMeans(n_clusters=6, random_state=143)\n",
    "km.fit(sc_x)\n",
    "labels = km.labels_\n",
    "labels"
   ]
  },
  {
   "cell_type": "code",
   "execution_count": 33,
   "metadata": {},
   "outputs": [
    {
     "data": {
      "text/plain": [
       "array([3, 5, 3, 1, 3, 3, 5, 1, 1, 0, 5, 5, 5, 3, 5, 5, 3, 3, 5, 1, 1, 0,\n",
       "       5, 5, 5, 3, 5, 5, 0, 3, 3, 3, 1, 5, 3, 3, 2, 3, 2, 0, 3, 5, 3, 3,\n",
       "       3, 3, 3, 3, 3, 5, 1, 3, 3, 3, 3, 5, 3, 3, 1, 0, 3, 3, 1, 5, 5, 5,\n",
       "       3, 3, 1, 3, 3, 5, 5, 5, 0, 3, 5, 0, 3, 3, 5, 5, 3, 5, 5, 2, 3, 0,\n",
       "       5, 3, 5, 3, 5, 3, 0, 1, 1, 3, 2, 3, 1, 5, 1, 5, 5, 5, 5, 5, 5, 5,\n",
       "       0, 3, 3, 3, 0, 3, 3, 1, 0, 5, 3, 3, 5, 2, 5, 2, 5, 0, 5, 5, 3, 5,\n",
       "       5, 1, 5, 0, 0, 5, 5, 3, 3, 3, 1, 5, 1, 0, 5, 3, 4, 3, 2, 0, 2, 1,\n",
       "       3, 3, 1, 2, 1, 2, 5, 0, 1, 5, 3, 5, 3, 3, 3, 0, 0, 5, 5, 3, 3, 2,\n",
       "       5, 3, 0, 5, 5, 3, 5, 1, 3, 5, 3, 3, 4, 3, 5, 0, 3, 0, 5, 3, 0, 3,\n",
       "       0, 5, 3, 1, 5, 1, 3, 5, 5, 1, 5, 2, 5, 5, 1, 5, 3, 1, 1, 3, 5, 3,\n",
       "       0, 0, 3, 3, 1, 5, 1, 3, 2, 2, 0, 5, 0, 1, 1, 2, 5, 5, 5, 0, 3, 0,\n",
       "       3, 3, 2, 2, 0, 3, 1, 0, 3, 1, 3, 3, 3, 0, 5, 3, 0, 0, 0, 1, 2, 5,\n",
       "       3, 3, 5, 3, 0, 0, 1, 0, 0, 3, 2, 5, 0, 3, 5, 5, 1, 3, 1, 4, 5, 2,\n",
       "       3, 2, 5, 5, 3, 5, 0, 3, 5, 3, 3, 3, 3, 1, 5, 5, 3, 5, 3, 3, 5, 2,\n",
       "       0, 3, 3, 3, 3, 5, 2, 3, 2, 0, 0, 0, 3, 3, 3, 3, 3, 5, 5, 3, 2, 3,\n",
       "       2, 1, 2, 5, 3, 5, 1, 5, 1, 0, 0, 3, 2, 5, 3, 5, 0, 4, 5, 3, 0, 1,\n",
       "       3, 0, 1, 3, 0, 3, 3, 3, 3, 3, 5, 3, 0, 2, 5, 5, 0, 3, 2, 2, 5, 0,\n",
       "       0, 3, 5, 3, 1, 5, 5, 5, 3, 1, 5, 3, 5, 3, 3, 0, 3, 3, 0, 5, 2, 5,\n",
       "       5, 5, 0, 1, 5, 3, 0, 1, 3, 3, 0, 2, 5, 1, 0, 1, 0, 0, 5, 5, 0, 3,\n",
       "       0, 5, 0, 5, 0, 5, 5, 5, 0, 3, 5, 1, 1, 3, 0, 0, 5, 5, 3, 5, 5, 1,\n",
       "       3, 3, 5, 3, 1, 0, 5, 0, 1, 3, 1, 1, 3, 1, 3, 3, 2, 0, 3, 5, 3, 0,\n",
       "       0, 3, 3, 3, 3, 4, 5, 3, 0, 0, 5, 2, 0, 5, 5, 0, 5, 1, 3, 0, 5, 3,\n",
       "       2, 1, 1, 1, 1, 5, 3, 1, 1, 0, 3, 3, 3, 3, 5, 3, 0, 3, 3, 3, 3, 0,\n",
       "       0, 3, 1, 5, 0, 0, 5, 5, 1, 5, 0, 3], dtype=int32)"
      ]
     },
     "execution_count": 33,
     "metadata": {},
     "output_type": "execute_result"
    }
   ],
   "source": [
    "y_kmeans = km.fit_predict(x)\n",
    "y_kmeans"
   ]
  },
  {
   "cell_type": "code",
   "execution_count": 32,
   "metadata": {},
   "outputs": [
    {
     "data": {
      "text/plain": [
       "0.5611724770980228"
      ]
     },
     "execution_count": 32,
     "metadata": {},
     "output_type": "execute_result"
    }
   ],
   "source": [
    "from sklearn.metrics import silhouette_samples, silhouette_score\n",
    "\n",
    "silhouette_score(sc_x, labels, random_state=143)"
   ]
  },
  {
   "cell_type": "code",
   "execution_count": 37,
   "metadata": {},
   "outputs": [
    {
     "ename": "InvalidIndexError",
     "evalue": "(array([False, False, False, False, False, False, False, False, False,\n        True, False, False, False, False, False, False, False, False,\n       False, False, False,  True, False, False, False, False, False,\n       False,  True, False, False, False, False, False, False, False,\n       False, False, False,  True, False, False, False, False, False,\n       False, False, False, False, False, False, False, False, False,\n       False, False, False, False, False,  True, False, False, False,\n       False, False, False, False, False, False, False, False, False,\n       False, False,  True, False, False,  True, False, False, False,\n       False, False, False, False, False, False,  True, False, False,\n       False, False, False, False,  True, False, False, False, False,\n       False, False, False, False, False, False, False, False, False,\n       False, False,  True, False, False, False,  True, False, False,\n       False,  True, False, False, False, False, False, False, False,\n       False,  True, False, False, False, False, False, False, False,\n        True,  True, False, False, False, False, False, False, False,\n       False,  True, False, False, False, False, False,  True, False,\n       False, False, False, False, False, False, False, False,  True,\n       False, False, False, False, False, False, False,  True,  True,\n       False, False, False, False, False, False, False,  True, False,\n       False, False, False, False, False, False, False, False, False,\n       False, False,  True, False,  True, False, False,  True, False,\n        True, False, False, False, False, False, False, False, False,\n       False, False, False, False, False, False, False, False, False,\n       False, False, False, False,  True,  True, False, False, False,\n       False, False, False, False, False,  True, False,  True, False,\n       False, False, False, False, False,  True, False,  True, False,\n       False, False, False,  True, False, False,  True, False, False,\n       False, False, False,  True, False, False,  True,  True,  True,\n       False, False, False, False, False, False, False,  True,  True,\n       False,  True,  True, False, False, False,  True, False, False,\n       False, False, False, False, False, False, False, False, False,\n       False, False, False, False,  True, False, False, False, False,\n       False, False, False, False, False, False, False, False, False,\n       False, False,  True, False, False, False, False, False, False,\n       False, False,  True,  True,  True, False, False, False, False,\n       False, False, False, False, False, False, False, False, False,\n       False, False, False, False, False, False,  True,  True, False,\n       False, False, False, False,  True, False, False, False,  True,\n       False, False,  True, False, False,  True, False, False, False,\n       False, False, False, False,  True, False, False, False,  True,\n       False, False, False, False,  True,  True, False, False, False,\n       False, False, False, False, False, False, False, False, False,\n       False, False,  True, False, False,  True, False, False, False,\n       False, False,  True, False, False, False,  True, False, False,\n       False,  True, False, False, False,  True, False,  True,  True,\n       False, False,  True, False,  True, False,  True, False,  True,\n       False, False, False,  True, False, False, False, False, False,\n        True,  True, False, False, False, False, False, False, False,\n       False, False, False, False,  True, False,  True, False, False,\n       False, False, False, False, False, False, False,  True, False,\n       False, False,  True,  True, False, False, False, False, False,\n       False, False,  True,  True, False, False,  True, False, False,\n        True, False, False, False,  True, False, False, False, False,\n       False, False, False, False, False, False, False,  True, False,\n       False, False, False, False, False,  True, False, False, False,\n       False,  True,  True, False, False, False,  True,  True, False,\n       False, False, False,  True, False]), 0)",
     "output_type": "error",
     "traceback": [
      "\u001b[0;31m---------------------------------------------------------------------------\u001b[0m",
      "\u001b[0;31mTypeError\u001b[0m                                 Traceback (most recent call last)",
      "File \u001b[0;32m/Library/Frameworks/Python.framework/Versions/3.11/lib/python3.11/site-packages/pandas/core/indexes/base.py:3802\u001b[0m, in \u001b[0;36mIndex.get_loc\u001b[0;34m(self, key, method, tolerance)\u001b[0m\n\u001b[1;32m   3801\u001b[0m \u001b[39mtry\u001b[39;00m:\n\u001b[0;32m-> 3802\u001b[0m     \u001b[39mreturn\u001b[39;00m \u001b[39mself\u001b[39;49m\u001b[39m.\u001b[39;49m_engine\u001b[39m.\u001b[39;49mget_loc(casted_key)\n\u001b[1;32m   3803\u001b[0m \u001b[39mexcept\u001b[39;00m \u001b[39mKeyError\u001b[39;00m \u001b[39mas\u001b[39;00m err:\n",
      "File \u001b[0;32m/Library/Frameworks/Python.framework/Versions/3.11/lib/python3.11/site-packages/pandas/_libs/index.pyx:138\u001b[0m, in \u001b[0;36mpandas._libs.index.IndexEngine.get_loc\u001b[0;34m()\u001b[0m\n",
      "File \u001b[0;32m/Library/Frameworks/Python.framework/Versions/3.11/lib/python3.11/site-packages/pandas/_libs/index.pyx:144\u001b[0m, in \u001b[0;36mpandas._libs.index.IndexEngine.get_loc\u001b[0;34m()\u001b[0m\n",
      "\u001b[0;31mTypeError\u001b[0m: '(array([False, False, False, False, False, False, False, False, False,\n        True, False, False, False, False, False, False, False, False,\n       False, False, False,  True, False, False, False, False, False,\n       False,  True, False, False, False, False, False, False, False,\n       False, False, False,  True, False, False, False, False, False,\n       False, False, False, False, False, False, False, False, False,\n       False, False, False, False, False,  True, False, False, False,\n       False, False, False, False, False, False, False, False, False,\n       False, False,  True, False, False,  True, False, False, False,\n       False, False, False, False, False, False,  True, False, False,\n       False, False, False, False,  True, False, False, False, False,\n       False, False, False, False, False, False, False, False, False,\n       False, False,  True, False, False, False,  True, False, False,\n       False,  True, False, False, False, False, False, False, False,\n       False,  True, False, False, False, False, False, False, False,\n        True,  True, False, False, False, False, False, False, False,\n       False,  True, False, False, False, False, False,  True, False,\n       False, False, False, False, False, False, False, False,  True,\n       False, False, False, False, False, False, False,  True,  True,\n       False, False, False, False, False, False, False,  True, False,\n       False, False, False, False, False, False, False, False, False,\n       False, False,  True, False,  True, False, False,  True, False,\n        True, False, False, False, False, False, False, False, False,\n       False, False, False, False, False, False, False, False, False,\n       False, False, False, False,  True,  True, False, False, False,\n       False, False, False, False, False,  True, False,  True, False,\n       False, False, False, False, False,  True, False,  True, False,\n       False, False, False,  True, False, False,  True, False, False,\n       False, False, False,  True, False, False,  True,  True,  True,\n       False, False, False, False, False, False, False,  True,  True,\n       False,  True,  True, False, False, False,  True, False, False,\n       False, False, False, False, False, False, False, False, False,\n       False, False, False, False,  True, False, False, False, False,\n       False, False, False, False, False, False, False, False, False,\n       False, False,  True, False, False, False, False, False, False,\n       False, False,  True,  True,  True, False, False, False, False,\n       False, False, False, False, False, False, False, False, False,\n       False, False, False, False, False, False,  True,  True, False,\n       False, False, False, False,  True, False, False, False,  True,\n       False, False,  True, False, False,  True, False, False, False,\n       False, False, False, False,  True, False, False, False,  True,\n       False, False, False, False,  True,  True, False, False, False,\n       False, False, False, False, False, False, False, False, False,\n       False, False,  True, False, False,  True, False, False, False,\n       False, False,  True, False, False, False,  True, False, False,\n       False,  True, False, False, False,  True, False,  True,  True,\n       False, False,  True, False,  True, False,  True, False,  True,\n       False, False, False,  True, False, False, False, False, False,\n        True,  True, False, False, False, False, False, False, False,\n       False, False, False, False,  True, False,  True, False, False,\n       False, False, False, False, False, False, False,  True, False,\n       False, False,  True,  True, False, False, False, False, False,\n       False, False,  True,  True, False, False,  True, False, False,\n        True, False, False, False,  True, False, False, False, False,\n       False, False, False, False, False, False, False,  True, False,\n       False, False, False, False, False,  True, False, False, False,\n       False,  True,  True, False, False, False,  True,  True, False,\n       False, False, False,  True, False]), 0)' is an invalid key",
      "\nDuring handling of the above exception, another exception occurred:\n",
      "\u001b[0;31mInvalidIndexError\u001b[0m                         Traceback (most recent call last)",
      "Cell \u001b[0;32mIn[37], line 1\u001b[0m\n\u001b[0;32m----> 1\u001b[0m plt\u001b[39m.\u001b[39mscatter( x[y_kmeans\u001b[39m==\u001b[39;49m\u001b[39m0\u001b[39;49m,\u001b[39m0\u001b[39;49m], x[y_kmeans\u001b[39m==\u001b[39m\u001b[39m0\u001b[39m,\u001b[39m1\u001b[39m], s\u001b[39m=\u001b[39m\u001b[39m100\u001b[39m, c\u001b[39m=\u001b[39m\u001b[39m'\u001b[39m\u001b[39mred\u001b[39m\u001b[39m'\u001b[39m, label\u001b[39m=\u001b[39m\u001b[39m'\u001b[39m\u001b[39mCluster1\u001b[39m\u001b[39m'\u001b[39m )\n\u001b[1;32m      2\u001b[0m plt\u001b[39m.\u001b[39mscatter( x[y_kmeans\u001b[39m==\u001b[39m\u001b[39m1\u001b[39m,\u001b[39m0\u001b[39m], x[y_kmeans\u001b[39m==\u001b[39m\u001b[39m1\u001b[39m,\u001b[39m1\u001b[39m], s\u001b[39m=\u001b[39m\u001b[39m100\u001b[39m, c\u001b[39m=\u001b[39m\u001b[39m'\u001b[39m\u001b[39myellow\u001b[39m\u001b[39m'\u001b[39m, label\u001b[39m=\u001b[39m\u001b[39m'\u001b[39m\u001b[39mCluster2\u001b[39m\u001b[39m'\u001b[39m )\n\u001b[1;32m      3\u001b[0m plt\u001b[39m.\u001b[39mscatter( x[y_kmeans\u001b[39m==\u001b[39m\u001b[39m2\u001b[39m,\u001b[39m0\u001b[39m], x[y_kmeans\u001b[39m==\u001b[39m\u001b[39m2\u001b[39m,\u001b[39m1\u001b[39m], s\u001b[39m=\u001b[39m\u001b[39m100\u001b[39m, c\u001b[39m=\u001b[39m\u001b[39m'\u001b[39m\u001b[39mgreen\u001b[39m\u001b[39m'\u001b[39m, label\u001b[39m=\u001b[39m\u001b[39m'\u001b[39m\u001b[39mCluster3\u001b[39m\u001b[39m'\u001b[39m )\n",
      "File \u001b[0;32m/Library/Frameworks/Python.framework/Versions/3.11/lib/python3.11/site-packages/pandas/core/frame.py:3807\u001b[0m, in \u001b[0;36mDataFrame.__getitem__\u001b[0;34m(self, key)\u001b[0m\n\u001b[1;32m   3805\u001b[0m \u001b[39mif\u001b[39;00m \u001b[39mself\u001b[39m\u001b[39m.\u001b[39mcolumns\u001b[39m.\u001b[39mnlevels \u001b[39m>\u001b[39m \u001b[39m1\u001b[39m:\n\u001b[1;32m   3806\u001b[0m     \u001b[39mreturn\u001b[39;00m \u001b[39mself\u001b[39m\u001b[39m.\u001b[39m_getitem_multilevel(key)\n\u001b[0;32m-> 3807\u001b[0m indexer \u001b[39m=\u001b[39m \u001b[39mself\u001b[39;49m\u001b[39m.\u001b[39;49mcolumns\u001b[39m.\u001b[39;49mget_loc(key)\n\u001b[1;32m   3808\u001b[0m \u001b[39mif\u001b[39;00m is_integer(indexer):\n\u001b[1;32m   3809\u001b[0m     indexer \u001b[39m=\u001b[39m [indexer]\n",
      "File \u001b[0;32m/Library/Frameworks/Python.framework/Versions/3.11/lib/python3.11/site-packages/pandas/core/indexes/base.py:3809\u001b[0m, in \u001b[0;36mIndex.get_loc\u001b[0;34m(self, key, method, tolerance)\u001b[0m\n\u001b[1;32m   3804\u001b[0m         \u001b[39mraise\u001b[39;00m \u001b[39mKeyError\u001b[39;00m(key) \u001b[39mfrom\u001b[39;00m \u001b[39merr\u001b[39;00m\n\u001b[1;32m   3805\u001b[0m     \u001b[39mexcept\u001b[39;00m \u001b[39mTypeError\u001b[39;00m:\n\u001b[1;32m   3806\u001b[0m         \u001b[39m# If we have a listlike key, _check_indexing_error will raise\u001b[39;00m\n\u001b[1;32m   3807\u001b[0m         \u001b[39m#  InvalidIndexError. Otherwise we fall through and re-raise\u001b[39;00m\n\u001b[1;32m   3808\u001b[0m         \u001b[39m#  the TypeError.\u001b[39;00m\n\u001b[0;32m-> 3809\u001b[0m         \u001b[39mself\u001b[39;49m\u001b[39m.\u001b[39;49m_check_indexing_error(key)\n\u001b[1;32m   3810\u001b[0m         \u001b[39mraise\u001b[39;00m\n\u001b[1;32m   3812\u001b[0m \u001b[39m# GH#42269\u001b[39;00m\n",
      "File \u001b[0;32m/Library/Frameworks/Python.framework/Versions/3.11/lib/python3.11/site-packages/pandas/core/indexes/base.py:5925\u001b[0m, in \u001b[0;36mIndex._check_indexing_error\u001b[0;34m(self, key)\u001b[0m\n\u001b[1;32m   5921\u001b[0m \u001b[39mdef\u001b[39;00m \u001b[39m_check_indexing_error\u001b[39m(\u001b[39mself\u001b[39m, key):\n\u001b[1;32m   5922\u001b[0m     \u001b[39mif\u001b[39;00m \u001b[39mnot\u001b[39;00m is_scalar(key):\n\u001b[1;32m   5923\u001b[0m         \u001b[39m# if key is not a scalar, directly raise an error (the code below\u001b[39;00m\n\u001b[1;32m   5924\u001b[0m         \u001b[39m# would convert to numpy arrays and raise later any way) - GH29926\u001b[39;00m\n\u001b[0;32m-> 5925\u001b[0m         \u001b[39mraise\u001b[39;00m InvalidIndexError(key)\n",
      "\u001b[0;31mInvalidIndexError\u001b[0m: (array([False, False, False, False, False, False, False, False, False,\n        True, False, False, False, False, False, False, False, False,\n       False, False, False,  True, False, False, False, False, False,\n       False,  True, False, False, False, False, False, False, False,\n       False, False, False,  True, False, False, False, False, False,\n       False, False, False, False, False, False, False, False, False,\n       False, False, False, False, False,  True, False, False, False,\n       False, False, False, False, False, False, False, False, False,\n       False, False,  True, False, False,  True, False, False, False,\n       False, False, False, False, False, False,  True, False, False,\n       False, False, False, False,  True, False, False, False, False,\n       False, False, False, False, False, False, False, False, False,\n       False, False,  True, False, False, False,  True, False, False,\n       False,  True, False, False, False, False, False, False, False,\n       False,  True, False, False, False, False, False, False, False,\n        True,  True, False, False, False, False, False, False, False,\n       False,  True, False, False, False, False, False,  True, False,\n       False, False, False, False, False, False, False, False,  True,\n       False, False, False, False, False, False, False,  True,  True,\n       False, False, False, False, False, False, False,  True, False,\n       False, False, False, False, False, False, False, False, False,\n       False, False,  True, False,  True, False, False,  True, False,\n        True, False, False, False, False, False, False, False, False,\n       False, False, False, False, False, False, False, False, False,\n       False, False, False, False,  True,  True, False, False, False,\n       False, False, False, False, False,  True, False,  True, False,\n       False, False, False, False, False,  True, False,  True, False,\n       False, False, False,  True, False, False,  True, False, False,\n       False, False, False,  True, False, False,  True,  True,  True,\n       False, False, False, False, False, False, False,  True,  True,\n       False,  True,  True, False, False, False,  True, False, False,\n       False, False, False, False, False, False, False, False, False,\n       False, False, False, False,  True, False, False, False, False,\n       False, False, False, False, False, False, False, False, False,\n       False, False,  True, False, False, False, False, False, False,\n       False, False,  True,  True,  True, False, False, False, False,\n       False, False, False, False, False, False, False, False, False,\n       False, False, False, False, False, False,  True,  True, False,\n       False, False, False, False,  True, False, False, False,  True,\n       False, False,  True, False, False,  True, False, False, False,\n       False, False, False, False,  True, False, False, False,  True,\n       False, False, False, False,  True,  True, False, False, False,\n       False, False, False, False, False, False, False, False, False,\n       False, False,  True, False, False,  True, False, False, False,\n       False, False,  True, False, False, False,  True, False, False,\n       False,  True, False, False, False,  True, False,  True,  True,\n       False, False,  True, False,  True, False,  True, False,  True,\n       False, False, False,  True, False, False, False, False, False,\n        True,  True, False, False, False, False, False, False, False,\n       False, False, False, False,  True, False,  True, False, False,\n       False, False, False, False, False, False, False,  True, False,\n       False, False,  True,  True, False, False, False, False, False,\n       False, False,  True,  True, False, False,  True, False, False,\n        True, False, False, False,  True, False, False, False, False,\n       False, False, False, False, False, False, False,  True, False,\n       False, False, False, False, False,  True, False, False, False,\n       False,  True,  True, False, False, False,  True,  True, False,\n       False, False, False,  True, False]), 0)"
     ]
    }
   ],
   "source": [
    "plt.scatter( x[y_kmeans==0,0], x[y_kmeans==0,1], s=100, c='red', label='Cluster1' )\n",
    "plt.scatter( x[y_kmeans==1,0], x[y_kmeans==1,1], s=100, c='yellow', label='Cluster2' )\n",
    "plt.scatter( x[y_kmeans==2,0], x[y_kmeans==2,1], s=100, c='green', label='Cluster3' )\n",
    "plt.scatter( x[y_kmeans==3,0], x[y_kmeans==3,1], s=100, c='black', label='Cluster4' )\n",
    "plt.scatter( x[y_kmeans==4,0], x[y_kmeans==4,1], s=100, c='pink', label='Cluster5' )\n",
    "plt.scatter( x[y_kmeans==5,0], x[y_kmeans==5,1], s=100, c='blue', label='Cluster6' )\n",
    "\n",
    "\n",
    "plt.show()"
   ]
  }
 ],
 "metadata": {
  "kernelspec": {
   "display_name": "Python 3",
   "language": "python",
   "name": "python3"
  },
  "language_info": {
   "codemirror_mode": {
    "name": "ipython",
    "version": 3
   },
   "file_extension": ".py",
   "mimetype": "text/x-python",
   "name": "python",
   "nbconvert_exporter": "python",
   "pygments_lexer": "ipython3",
   "version": "3.11.1"
  },
  "orig_nbformat": 4
 },
 "nbformat": 4,
 "nbformat_minor": 2
}
