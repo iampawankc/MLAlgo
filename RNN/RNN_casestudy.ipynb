{
 "cells": [
  {
   "cell_type": "markdown",
   "metadata": {},
   "source": [
    "## Case Study\n",
    "#### Understand the problem statement\n",
    "1. Import relavent packages\n",
    "2. Load the data\n",
    "3. Data pre-processing and EDA\n",
    "4. Create training and test splits\n",
    "5. Define architecture RNN/LSTM/GRU\n",
    "6. Compiling the model\n",
    "7. Fit the model -  train the model on training dataset\n",
    "8. Evaluation the model - loss value, accuracy\n",
    "9. Making prediction - Unseen dataset \n"
   ]
  },
  {
   "cell_type": "code",
   "execution_count": 1,
   "metadata": {},
   "outputs": [],
   "source": [
    "import os\n",
    "import numpy as np\n",
    "import pandas as pd\n",
    "import matplotlib.pyplot as plt\n",
    "import seaborn as sns\n",
    "import re   #Regex\n",
    "\n",
    "from sklearn.model_selection import train_test_split\n",
    "from sklearn.metrics import confusion_matrix, accuracy_score, classification_report\n",
    "\n",
    "import tensorflow as tf\n",
    "from tensorflow import keras\n",
    "from keras.layers import Dense, SimpleRNN, LSTM, GRU, Embedding\n",
    "from keras.preprocessing.text import Tokenizer\n",
    "from keras.preprocessing.sequence import pad_sequences\n",
    "from keras.models import Sequential, Model\n",
    "\n",
    "import warnings\n",
    "warnings.filterwarnings('ignore')"
   ]
  },
  {
   "cell_type": "code",
   "execution_count": 5,
   "metadata": {},
   "outputs": [],
   "source": [
    "#Importing the dataset \n",
    "df_train = pd.read_csv('/Users/pawankumarkc/Documents/vscode_workspace/MLAlgo/datasets/RNN/tweets_train.csv')\n",
    "df_test = pd.read_csv('/Users/pawankumarkc/Documents/vscode_workspace/MLAlgo/datasets/RNN/tweets_test.csv')"
   ]
  },
  {
   "cell_type": "code",
   "execution_count": 6,
   "metadata": {},
   "outputs": [
    {
     "data": {
      "text/html": [
       "<div>\n",
       "<style scoped>\n",
       "    .dataframe tbody tr th:only-of-type {\n",
       "        vertical-align: middle;\n",
       "    }\n",
       "\n",
       "    .dataframe tbody tr th {\n",
       "        vertical-align: top;\n",
       "    }\n",
       "\n",
       "    .dataframe thead th {\n",
       "        text-align: right;\n",
       "    }\n",
       "</style>\n",
       "<table border=\"1\" class=\"dataframe\">\n",
       "  <thead>\n",
       "    <tr style=\"text-align: right;\">\n",
       "      <th></th>\n",
       "      <th>user_name</th>\n",
       "      <th>user_location</th>\n",
       "      <th>user_description</th>\n",
       "      <th>user_created</th>\n",
       "      <th>user_followers</th>\n",
       "      <th>user_friends</th>\n",
       "      <th>user_favourites</th>\n",
       "      <th>user_verified</th>\n",
       "      <th>date</th>\n",
       "      <th>hashtags</th>\n",
       "      <th>source</th>\n",
       "      <th>is_retweet</th>\n",
       "      <th>clean_text</th>\n",
       "      <th>Sentiment</th>\n",
       "    </tr>\n",
       "  </thead>\n",
       "  <tbody>\n",
       "    <tr>\n",
       "      <th>0</th>\n",
       "      <td>Romy 👑</td>\n",
       "      <td>Bolton - England</td>\n",
       "      <td>Tables turn, bridges burn, you live and learn.</td>\n",
       "      <td>2009-06-15 09:00:39</td>\n",
       "      <td>525</td>\n",
       "      <td>896</td>\n",
       "      <td>3854</td>\n",
       "      <td>False</td>\n",
       "      <td>2020-09-19 15:19:32</td>\n",
       "      <td>['TheSocialDilemma']</td>\n",
       "      <td>Twitter for Android</td>\n",
       "      <td>False</td>\n",
       "      <td>TheSocialDilemma is an eye opener isn t it ple...</td>\n",
       "      <td>Neutral</td>\n",
       "    </tr>\n",
       "    <tr>\n",
       "      <th>1</th>\n",
       "      <td>TLynn Peterson</td>\n",
       "      <td>Black Canyon City, Arizona</td>\n",
       "      <td>Acquired disability ♿ after an accident. Livin...</td>\n",
       "      <td>2013-05-29 00:17:46</td>\n",
       "      <td>5045</td>\n",
       "      <td>5374</td>\n",
       "      <td>48152</td>\n",
       "      <td>False</td>\n",
       "      <td>2020-09-13 00:31:46</td>\n",
       "      <td>['TheSocialDilemma']</td>\n",
       "      <td>Twitter for Android</td>\n",
       "      <td>False</td>\n",
       "      <td>TheSocialDilemma If we don t agree on what is ...</td>\n",
       "      <td>Positive</td>\n",
       "    </tr>\n",
       "    <tr>\n",
       "      <th>2</th>\n",
       "      <td>Rutger Kosters</td>\n",
       "      <td>Netherlands</td>\n",
       "      <td>Cloud Solution Architect @NetApp | VCDX #209 |...</td>\n",
       "      <td>2014-10-07 09:34:10</td>\n",
       "      <td>574</td>\n",
       "      <td>251</td>\n",
       "      <td>1070</td>\n",
       "      <td>False</td>\n",
       "      <td>2020-09-09 21:10:33</td>\n",
       "      <td>['TheSocialDilemma']</td>\n",
       "      <td>Twitter for Android</td>\n",
       "      <td>False</td>\n",
       "      <td>Watching TheSocialDilemma scary to see social ...</td>\n",
       "      <td>Negative</td>\n",
       "    </tr>\n",
       "    <tr>\n",
       "      <th>3</th>\n",
       "      <td>IDFWU🗯🇿🇼🇿🇦</td>\n",
       "      <td>East London, South Africa</td>\n",
       "      <td>YOU HAVE OPTIONS, YOU CAN’T JUST TAKE WHAT LIF...</td>\n",
       "      <td>2012-08-22 11:09:06</td>\n",
       "      <td>706</td>\n",
       "      <td>618</td>\n",
       "      <td>1320</td>\n",
       "      <td>False</td>\n",
       "      <td>2020-09-11 04:33:08</td>\n",
       "      <td>NaN</td>\n",
       "      <td>Twitter for Android</td>\n",
       "      <td>False</td>\n",
       "      <td>You check your social media before you pee in ...</td>\n",
       "      <td>Positive</td>\n",
       "    </tr>\n",
       "    <tr>\n",
       "      <th>4</th>\n",
       "      <td>Treebel</td>\n",
       "      <td>NaN</td>\n",
       "      <td>NaN</td>\n",
       "      <td>2010-09-25 07:25:31</td>\n",
       "      <td>9</td>\n",
       "      <td>13</td>\n",
       "      <td>55</td>\n",
       "      <td>False</td>\n",
       "      <td>2020-09-17 16:27:38</td>\n",
       "      <td>['thesocialdilemma']</td>\n",
       "      <td>Twitter for iPhone</td>\n",
       "      <td>False</td>\n",
       "      <td>watch thesocialdilemma and see what s actually...</td>\n",
       "      <td>Negative</td>\n",
       "    </tr>\n",
       "  </tbody>\n",
       "</table>\n",
       "</div>"
      ],
      "text/plain": [
       "        user_name               user_location  \\\n",
       "0          Romy 👑            Bolton - England   \n",
       "1  TLynn Peterson  Black Canyon City, Arizona   \n",
       "2  Rutger Kosters                 Netherlands   \n",
       "3      IDFWU🗯🇿🇼🇿🇦   East London, South Africa   \n",
       "4         Treebel                         NaN   \n",
       "\n",
       "                                    user_description         user_created  \\\n",
       "0     Tables turn, bridges burn, you live and learn.  2009-06-15 09:00:39   \n",
       "1  Acquired disability ♿ after an accident. Livin...  2013-05-29 00:17:46   \n",
       "2  Cloud Solution Architect @NetApp | VCDX #209 |...  2014-10-07 09:34:10   \n",
       "3  YOU HAVE OPTIONS, YOU CAN’T JUST TAKE WHAT LIF...  2012-08-22 11:09:06   \n",
       "4                                                NaN  2010-09-25 07:25:31   \n",
       "\n",
       "   user_followers  user_friends  user_favourites  user_verified  \\\n",
       "0             525           896             3854          False   \n",
       "1            5045          5374            48152          False   \n",
       "2             574           251             1070          False   \n",
       "3             706           618             1320          False   \n",
       "4               9            13               55          False   \n",
       "\n",
       "                  date              hashtags               source  is_retweet  \\\n",
       "0  2020-09-19 15:19:32  ['TheSocialDilemma']  Twitter for Android       False   \n",
       "1  2020-09-13 00:31:46  ['TheSocialDilemma']  Twitter for Android       False   \n",
       "2  2020-09-09 21:10:33  ['TheSocialDilemma']  Twitter for Android       False   \n",
       "3  2020-09-11 04:33:08                   NaN  Twitter for Android       False   \n",
       "4  2020-09-17 16:27:38  ['thesocialdilemma']   Twitter for iPhone       False   \n",
       "\n",
       "                                          clean_text Sentiment  \n",
       "0  TheSocialDilemma is an eye opener isn t it ple...   Neutral  \n",
       "1  TheSocialDilemma If we don t agree on what is ...  Positive  \n",
       "2  Watching TheSocialDilemma scary to see social ...  Negative  \n",
       "3  You check your social media before you pee in ...  Positive  \n",
       "4  watch thesocialdilemma and see what s actually...  Negative  "
      ]
     },
     "execution_count": 6,
     "metadata": {},
     "output_type": "execute_result"
    }
   ],
   "source": [
    "df_train.head()"
   ]
  },
  {
   "cell_type": "code",
   "execution_count": 8,
   "metadata": {},
   "outputs": [
    {
     "data": {
      "text/plain": [
       "Index(['user_name', 'user_location', 'user_description', 'user_created',\n",
       "       'user_followers', 'user_friends', 'user_favourites', 'user_verified',\n",
       "       'date', 'hashtags', 'source', 'is_retweet', 'clean_text', 'Sentiment'],\n",
       "      dtype='object')"
      ]
     },
     "execution_count": 8,
     "metadata": {},
     "output_type": "execute_result"
    }
   ],
   "source": [
    "df_train.columns"
   ]
  },
  {
   "cell_type": "code",
   "execution_count": 9,
   "metadata": {},
   "outputs": [
    {
     "data": {
      "text/plain": [
       "Index(['user_name', 'user_location', 'user_description', 'user_created',\n",
       "       'user_followers', 'user_friends', 'user_favourites', 'user_verified',\n",
       "       'date', 'hashtags', 'source', 'is_retweet', 'clean_text'],\n",
       "      dtype='object')"
      ]
     },
     "execution_count": 9,
     "metadata": {},
     "output_type": "execute_result"
    }
   ],
   "source": [
    "df_test.columns"
   ]
  },
  {
   "cell_type": "code",
   "execution_count": 10,
   "metadata": {},
   "outputs": [
    {
     "name": "stdout",
     "output_type": "stream",
     "text": [
      "(3068, 13) (17000, 14)\n"
     ]
    }
   ],
   "source": [
    "print(df_test.shape, df_train.shape)"
   ]
  },
  {
   "cell_type": "code",
   "execution_count": 11,
   "metadata": {},
   "outputs": [
    {
     "data": {
      "text/plain": [
       "Positive    8059\n",
       "Neutral     5927\n",
       "Negative    3014\n",
       "Name: Sentiment, dtype: int64"
      ]
     },
     "execution_count": 11,
     "metadata": {},
     "output_type": "execute_result"
    }
   ],
   "source": [
    "df_train['Sentiment'].value_counts()"
   ]
  },
  {
   "cell_type": "code",
   "execution_count": 13,
   "metadata": {},
   "outputs": [
    {
     "name": "stdout",
     "output_type": "stream",
     "text": [
      "47.41 17.73 34.86\n"
     ]
    }
   ],
   "source": [
    "pos = round(df_train['Sentiment'].value_counts()[0]/len(df_train)*100,2)\n",
    "neu = round(df_train['Sentiment'].value_counts()[1]/len(df_train)*100,2)\n",
    "neg = round(df_train['Sentiment'].value_counts()[2]/len(df_train)*100,2)\n",
    "\n",
    "print(pos, neg, neu)"
   ]
  },
  {
   "cell_type": "code",
   "execution_count": 14,
   "metadata": {},
   "outputs": [
    {
     "data": {
      "text/plain": [
       "100.0"
      ]
     },
     "execution_count": 14,
     "metadata": {},
     "output_type": "execute_result"
    }
   ],
   "source": [
    "pos+neg+neu"
   ]
  },
  {
   "cell_type": "code",
   "execution_count": 16,
   "metadata": {},
   "outputs": [
    {
     "data": {
      "text/html": [
       "<div>\n",
       "<style scoped>\n",
       "    .dataframe tbody tr th:only-of-type {\n",
       "        vertical-align: middle;\n",
       "    }\n",
       "\n",
       "    .dataframe tbody tr th {\n",
       "        vertical-align: top;\n",
       "    }\n",
       "\n",
       "    .dataframe thead th {\n",
       "        text-align: right;\n",
       "    }\n",
       "</style>\n",
       "<table border=\"1\" class=\"dataframe\">\n",
       "  <thead>\n",
       "    <tr style=\"text-align: right;\">\n",
       "      <th></th>\n",
       "      <th>clean_text</th>\n",
       "      <th>Sentiment</th>\n",
       "    </tr>\n",
       "  </thead>\n",
       "  <tbody>\n",
       "    <tr>\n",
       "      <th>0</th>\n",
       "      <td>TheSocialDilemma is an eye opener isn t it ple...</td>\n",
       "      <td>Neutral</td>\n",
       "    </tr>\n",
       "    <tr>\n",
       "      <th>1</th>\n",
       "      <td>TheSocialDilemma If we don t agree on what is ...</td>\n",
       "      <td>Positive</td>\n",
       "    </tr>\n",
       "    <tr>\n",
       "      <th>2</th>\n",
       "      <td>Watching TheSocialDilemma scary to see social ...</td>\n",
       "      <td>Negative</td>\n",
       "    </tr>\n",
       "    <tr>\n",
       "      <th>3</th>\n",
       "      <td>You check your social media before you pee in ...</td>\n",
       "      <td>Positive</td>\n",
       "    </tr>\n",
       "    <tr>\n",
       "      <th>4</th>\n",
       "      <td>watch thesocialdilemma and see what s actually...</td>\n",
       "      <td>Negative</td>\n",
       "    </tr>\n",
       "  </tbody>\n",
       "</table>\n",
       "</div>"
      ],
      "text/plain": [
       "                                          clean_text Sentiment\n",
       "0  TheSocialDilemma is an eye opener isn t it ple...   Neutral\n",
       "1  TheSocialDilemma If we don t agree on what is ...  Positive\n",
       "2  Watching TheSocialDilemma scary to see social ...  Negative\n",
       "3  You check your social media before you pee in ...  Positive\n",
       "4  watch thesocialdilemma and see what s actually...  Negative"
      ]
     },
     "execution_count": 16,
     "metadata": {},
     "output_type": "execute_result"
    }
   ],
   "source": [
    "# Select relavent columns for predication\n",
    "df_train = df_train[['clean_text', 'Sentiment']]\n",
    "df_train.head()"
   ]
  },
  {
   "cell_type": "code",
   "execution_count": 18,
   "metadata": {},
   "outputs": [
    {
     "data": {
      "text/html": [
       "<div>\n",
       "<style scoped>\n",
       "    .dataframe tbody tr th:only-of-type {\n",
       "        vertical-align: middle;\n",
       "    }\n",
       "\n",
       "    .dataframe tbody tr th {\n",
       "        vertical-align: top;\n",
       "    }\n",
       "\n",
       "    .dataframe thead th {\n",
       "        text-align: right;\n",
       "    }\n",
       "</style>\n",
       "<table border=\"1\" class=\"dataframe\">\n",
       "  <thead>\n",
       "    <tr style=\"text-align: right;\">\n",
       "      <th></th>\n",
       "      <th>clean_text</th>\n",
       "      <th>Sentiment</th>\n",
       "      <th>label</th>\n",
       "    </tr>\n",
       "  </thead>\n",
       "  <tbody>\n",
       "    <tr>\n",
       "      <th>0</th>\n",
       "      <td>TheSocialDilemma is an eye opener isn t it ple...</td>\n",
       "      <td>Neutral</td>\n",
       "      <td>0</td>\n",
       "    </tr>\n",
       "    <tr>\n",
       "      <th>1</th>\n",
       "      <td>TheSocialDilemma If we don t agree on what is ...</td>\n",
       "      <td>Positive</td>\n",
       "      <td>1</td>\n",
       "    </tr>\n",
       "    <tr>\n",
       "      <th>2</th>\n",
       "      <td>Watching TheSocialDilemma scary to see social ...</td>\n",
       "      <td>Negative</td>\n",
       "      <td>2</td>\n",
       "    </tr>\n",
       "    <tr>\n",
       "      <th>3</th>\n",
       "      <td>You check your social media before you pee in ...</td>\n",
       "      <td>Positive</td>\n",
       "      <td>1</td>\n",
       "    </tr>\n",
       "    <tr>\n",
       "      <th>4</th>\n",
       "      <td>watch thesocialdilemma and see what s actually...</td>\n",
       "      <td>Negative</td>\n",
       "      <td>2</td>\n",
       "    </tr>\n",
       "  </tbody>\n",
       "</table>\n",
       "</div>"
      ],
      "text/plain": [
       "                                          clean_text Sentiment  label\n",
       "0  TheSocialDilemma is an eye opener isn t it ple...   Neutral      0\n",
       "1  TheSocialDilemma If we don t agree on what is ...  Positive      1\n",
       "2  Watching TheSocialDilemma scary to see social ...  Negative      2\n",
       "3  You check your social media before you pee in ...  Positive      1\n",
       "4  watch thesocialdilemma and see what s actually...  Negative      2"
      ]
     },
     "execution_count": 18,
     "metadata": {},
     "output_type": "execute_result"
    }
   ],
   "source": [
    "#Create label column using label encoding\n",
    "\n",
    "lab = {'Neutral':0, 'Positive':1, 'Negative':2}\n",
    "df_train['label'] = df_train['Sentiment'].map(lab)\n",
    "df_train.head()"
   ]
  },
  {
   "cell_type": "code",
   "execution_count": 19,
   "metadata": {},
   "outputs": [
    {
     "data": {
      "text/html": [
       "<div>\n",
       "<style scoped>\n",
       "    .dataframe tbody tr th:only-of-type {\n",
       "        vertical-align: middle;\n",
       "    }\n",
       "\n",
       "    .dataframe tbody tr th {\n",
       "        vertical-align: top;\n",
       "    }\n",
       "\n",
       "    .dataframe thead th {\n",
       "        text-align: right;\n",
       "    }\n",
       "</style>\n",
       "<table border=\"1\" class=\"dataframe\">\n",
       "  <thead>\n",
       "    <tr style=\"text-align: right;\">\n",
       "      <th></th>\n",
       "      <th>clean_text</th>\n",
       "      <th>label</th>\n",
       "    </tr>\n",
       "  </thead>\n",
       "  <tbody>\n",
       "    <tr>\n",
       "      <th>0</th>\n",
       "      <td>TheSocialDilemma is an eye opener isn t it ple...</td>\n",
       "      <td>0</td>\n",
       "    </tr>\n",
       "    <tr>\n",
       "      <th>1</th>\n",
       "      <td>TheSocialDilemma If we don t agree on what is ...</td>\n",
       "      <td>1</td>\n",
       "    </tr>\n",
       "    <tr>\n",
       "      <th>2</th>\n",
       "      <td>Watching TheSocialDilemma scary to see social ...</td>\n",
       "      <td>2</td>\n",
       "    </tr>\n",
       "    <tr>\n",
       "      <th>3</th>\n",
       "      <td>You check your social media before you pee in ...</td>\n",
       "      <td>1</td>\n",
       "    </tr>\n",
       "    <tr>\n",
       "      <th>4</th>\n",
       "      <td>watch thesocialdilemma and see what s actually...</td>\n",
       "      <td>2</td>\n",
       "    </tr>\n",
       "  </tbody>\n",
       "</table>\n",
       "</div>"
      ],
      "text/plain": [
       "                                          clean_text  label\n",
       "0  TheSocialDilemma is an eye opener isn t it ple...      0\n",
       "1  TheSocialDilemma If we don t agree on what is ...      1\n",
       "2  Watching TheSocialDilemma scary to see social ...      2\n",
       "3  You check your social media before you pee in ...      1\n",
       "4  watch thesocialdilemma and see what s actually...      2"
      ]
     },
     "execution_count": 19,
     "metadata": {},
     "output_type": "execute_result"
    }
   ],
   "source": [
    "df_train = df_train[['clean_text', 'label']]\n",
    "df_train.head()"
   ]
  },
  {
   "cell_type": "code",
   "execution_count": 21,
   "metadata": {},
   "outputs": [
    {
     "data": {
      "text/plain": [
       "clean_text    8\n",
       "label         0\n",
       "dtype: int64"
      ]
     },
     "execution_count": 21,
     "metadata": {},
     "output_type": "execute_result"
    }
   ],
   "source": [
    "#looking for missing data\n",
    "\n",
    "df_train.isnull().sum()"
   ]
  },
  {
   "cell_type": "code",
   "execution_count": 22,
   "metadata": {},
   "outputs": [
    {
     "data": {
      "text/plain": [
       "clean_text    0\n",
       "label         0\n",
       "dtype: int64"
      ]
     },
     "execution_count": 22,
     "metadata": {},
     "output_type": "execute_result"
    }
   ],
   "source": [
    "#Dropping the missing values\n",
    "\n",
    "df_train.dropna(inplace=True)\n",
    "df_train.isnull().sum()"
   ]
  },
  {
   "cell_type": "code",
   "execution_count": 23,
   "metadata": {},
   "outputs": [
    {
     "name": "stdout",
     "output_type": "stream",
     "text": [
      "<class 'pandas.core.frame.DataFrame'>\n",
      "Int64Index: 16992 entries, 0 to 16999\n",
      "Data columns (total 2 columns):\n",
      " #   Column      Non-Null Count  Dtype \n",
      "---  ------      --------------  ----- \n",
      " 0   clean_text  16992 non-null  object\n",
      " 1   label       16992 non-null  int64 \n",
      "dtypes: int64(1), object(1)\n",
      "memory usage: 398.2+ KB\n"
     ]
    }
   ],
   "source": [
    "df_train.info()"
   ]
  },
  {
   "cell_type": "code",
   "execution_count": 25,
   "metadata": {},
   "outputs": [
    {
     "data": {
      "text/plain": [
       "<_TensorSliceDataset element_spec=(TensorSpec(shape=(), dtype=tf.string, name=None), TensorSpec(shape=(), dtype=tf.int32, name=None))>"
      ]
     },
     "execution_count": 25,
     "metadata": {},
     "output_type": "execute_result"
    }
   ],
   "source": [
    "# Convert training dataset into tensorflow dataset format\n",
    "\n",
    "train_data = (\n",
    "    tf.data.Dataset.from_tensor_slices(\n",
    "        (\n",
    "            tf.cast(df_train['clean_text'].values, tf.string),\n",
    "            tf.cast(df_train['label'].values, tf.int32)\n",
    "        )\n",
    "    )\n",
    ")\n",
    "\n",
    "train_data"
   ]
  },
  {
   "cell_type": "code",
   "execution_count": 26,
   "metadata": {},
   "outputs": [
    {
     "name": "stdout",
     "output_type": "stream",
     "text": [
      "example : b'TheSocialDilemma is an eye opener isn t it please ignore the irony of me tweeting about it'\n",
      "label : 0\n",
      "example : b'TheSocialDilemma If we don t agree on what is true or that there is such a thing as truth we re toast This is'\n",
      "label : 1\n",
      "example : b'Watching TheSocialDilemma scary to see social media is fucking up the mental health of Gen X'\n",
      "label : 2\n",
      "example : b'You check your social media before you pee in the morning or whilst you are peeing Those are only 2 choices you ha'\n",
      "label : 1\n",
      "example : b'watch thesocialdilemma and see what s actually going on And share it s scary but 100 true'\n",
      "label : 2\n"
     ]
    }
   ],
   "source": [
    "for example, label in train_data.take(5):\n",
    "    print(\"example :\", example.numpy())\n",
    "    print(\"label :\", label.numpy())\n"
   ]
  },
  {
   "cell_type": "code",
   "execution_count": 27,
   "metadata": {},
   "outputs": [],
   "source": [
    "buffer_size = 10000\n",
    "batch_size = 64"
   ]
  },
  {
   "cell_type": "code",
   "execution_count": 28,
   "metadata": {},
   "outputs": [],
   "source": [
    "#Create batched of the datset\n",
    "\n",
    "train_dataset = train_data.shuffle(buffer_size).batch(batch_size).prefetch(tf.data.AUTOTUNE)"
   ]
  },
  {
   "cell_type": "code",
   "execution_count": 30,
   "metadata": {},
   "outputs": [
    {
     "name": "stdout",
     "output_type": "stream",
     "text": [
      "Example : [b'Tip Want to stay away from social media for a good amount of time Watch Snowden and TheSocialDilemma on back to back'\n",
      " b'Hey y all Whatcha watchin TheSocialDilemma on Netflix got me like'\n",
      " b'I am TheSocialDilemma We all are TheSocialDilemma Whole world is in TheSocialDilemma Still we don t give'\n",
      " b'A fascist country would label a city something it s not because that city is defiant against said'\n",
      " b'Dark side of Social media TheSocialDilemma a must watch documentary in Netflix released today'\n",
      " b'They may not pack the same drama but they re equally eyeopening TheSocialDilemma'\n",
      " b'Recommend watching TheSocialDilemma if you are reading this Twitter knows what you re thinking already Worse it'\n",
      " b'FakeNews travels 6x faster on Twitter then REAL news TheSocialDilemma'\n",
      " b'The one thing that stuck with me the most was the rise in teenage suicide Whoooaaaaa that really hit me hard TheSocialDilemma'\n",
      " b'So we watched TheSocialDilemma and we have deleted our Instagram and Snapchat account Facebook next'\n",
      " b'Thursdaythoughts today from the CarlosWatsonShow catch s topchef who dishes out the 2 mo'\n",
      " b'yoooo watch TheSocialDilemma on Netflix Lots of info I knew already but it really makes you think and basically we are doomed'\n",
      " b'TheSocialDilemma definitely worth watching'\n",
      " b'It s ironic posting this on a social platform but I want to challenge you to watch TheSocialDilemma this week'\n",
      " b'If you want to control a population there has never been a tool as effective as Facebook TheSocialDilemma'\n",
      " b'Everyone must see socialdilemma TheSocialDilemma'\n",
      " b'Watched TheSocialDilemma tonight I feel like most people under the age of 35 know the manipulation factors about'\n",
      " b'Can t believe we re watching TheSocialDilemma shits for reallll keep your eyes'\n",
      " b'I don t watch documentaries very often but I watched TheSocialDilemma and it was a sobering reminder Distilled'\n",
      " b'The Social Dilemma Presents Interesting Questions In A Puzzling Manner TheSocialDilemma FilmTwitter'\n",
      " b'what would happen if we all posted the same thing at the same time TheSocialDilemma'\n",
      " b'Nice try with the documentary on the The Social dilemma I was finding it good but suddenl'\n",
      " b'Watching The Social Dilemma on Netflix with Matti and I m deeply disturbed TheSocialDilemma'\n",
      " b'I know that the issues of the supercomputers are worst than what they described I know Capital is more importan'\n",
      " b'Technology amp Drug companies call it s customer as Users TheSocialDilemma'\n",
      " b'If you re not paying for the product then you are the product TheSocialDilemma'\n",
      " b'It s not the technology being existential threat It s the ability of the technology to bring out the worst in the'\n",
      " b'What it gravitats towards is 1 Data privacy isn t the issue issue is unregulated data assessment which gives p'\n",
      " b'Do your own independent research especially on things that are provocative and political read all sides of the sto'\n",
      " b'Me uses my companies avatar to my advantage every day while I work to get more people to buy our product Also m'\n",
      " b'How many of yall turned off notifications after watching TheSocialDilemma'\n",
      " b'If you haven t seen it well do it and rethink a lot of things you do online TheSocialDilemma'\n",
      " b'Omg Gen Z I see why y all are so fucked up now TheSocialDilemma'\n",
      " b'First step towards saner side of life turn off your notifications TheSocialDilemma'\n",
      " b'despite the offer still being live even now the customer service team will not issue the 24 re'\n",
      " b'This thread is excellent and expresses many extremely problematic things about TheSocialDilemma I was disturbed a'\n",
      " b'Bye bye FB phone app goodbye mindless scrolling buh bye filters and hello new anxiety about being subtly manipul'\n",
      " b'Have you watched TheSocialDilemma'\n",
      " b'TheSocialDilemma Must watch Netflix documentary for knowing the threat by social Media the ai influence ur v'\n",
      " b'Watching TheSocialDilemma while on my phone It s confirmed The Man got me But things they suggested to help'\n",
      " b'Have you seen this I m curious about what you thought of it especially if you work in social media Hot takes onl'\n",
      " b'Irony is Netflix releasing a documentary on how technology is making us spend more time in front of screen TheSocialDilemma'\n",
      " b'I m totally interested in what the people in the netflix docu TheSocialDilemma say like who makes'\n",
      " b'TheSocialDilemma well done Netflix'\n",
      " b'How do you wake up from the matrix if you don t know you are in the matrix TheSocialDilemma'\n",
      " b'It s ironic how I checked my notifications thrice while watching this We are more profitable to a corporation i'\n",
      " b'YOU are part of the problem Let THAT sink in Trump2020 TrumpPressConference TrumpLiedPeopleDied TrumpKnew'\n",
      " b'Watched the on this weekend Eye opening doc on the dangers of how social media and its al'\n",
      " b'That moment you log back onto Twitter right after watching TheSocialDilemma'\n",
      " b'Do yourself a favour watch TheSocialDilemma'\n",
      " b'Cockroaches can survive a nuclear war but they die when you hit them with a newspaper See how dangerous media is'\n",
      " b'Who s seen TheSocialDilemma on Netflix It s scary'\n",
      " b'Good eveining and good night my lovely bro the friends TheSocialDilemma TuesdayThoughts Thala'\n",
      " b'This Tim Randall man is fineeee TheSocialDilemma'\n",
      " b'Fake news spreads 6x faster than real facts Mandatory watch thesocialdilemma covid19 thelucifereffect'\n",
      " b'Wow TheSocialDilemma is fascinating Also very disturbing'\n",
      " b'Thank you it was so interesting frightening eye opening inspiring to listen to you in this documenta'\n",
      " b'Twitter you need to take responsibility for the misinformation happening on your platform You are responsible'\n",
      " b'Everyone should watch this documentary TheSocialDilemma'\n",
      " b'The Social Dilemma on Netflix is scary but don t be scared There is a tech solution that will make you smile Ex'\n",
      " b'The Social Dilemma brilliant new amp much needed Netflix documentary An absolute must watch about social media powe'\n",
      " b'Trying to watch thesocialdilemma on Netflix because my brother said it was good but I just don t give af lol'\n",
      " b'It s a great documentary Shows how much social media is driving us and the cons of it which even founde'\n",
      " b'In the chapter on Input Output I conclude by saying that what is truly unsavory about social media is not that ou']\n",
      "**********************\n",
      "Label : [1 0 0 0 2 0 2 1 1 0 0 1 1 1 1 0 1 0 1 1 0 1 1 2 0 0 2 0 1 1 1 0 2 1 1 1 2\n",
      " 0 1 1 1 1 1 0 0 1 0 1 1 0 2 2 1 0 2 1 0 0 0 2 1 1 1 1]\n",
      "**********************\n",
      "Length : 64\n"
     ]
    }
   ],
   "source": [
    "for example, label in train_dataset.take(1):\n",
    "    print('Example :', example.numpy())\n",
    "    print('**********************')\n",
    "    print('Label :', label.numpy())\n",
    "    print('**********************')\n",
    "    print('Length :', len(label.numpy()))\n",
    "\n"
   ]
  },
  {
   "cell_type": "code",
   "execution_count": 36,
   "metadata": {},
   "outputs": [],
   "source": [
    "#Creating training and validation split\n",
    "\n",
    "val_dataset = train_dataset.take(100)\n",
    "train_dataset = train_dataset.skip(100)"
   ]
  },
  {
   "cell_type": "code",
   "execution_count": 31,
   "metadata": {},
   "outputs": [
    {
     "data": {
      "text/plain": [
       "array(['', '[UNK]', 'thesocialdilemma', 'the', 'i', 'to', 'on', 'and',\n",
       "       'you', 'a', 'is', 'it', 'social', 'watch', 'of', 'netflix', 's',\n",
       "       'this', 'media', 'that'], dtype='<U16')"
      ]
     },
     "execution_count": 31,
     "metadata": {},
     "output_type": "execute_result"
    }
   ],
   "source": [
    "# Create the text encoder\n",
    "\n",
    "vocab_size = 1000\n",
    "encoder = keras.layers.experimental.preprocessing.TextVectorization(max_tokens=vocab_size)\n",
    "#1000 features for each vocab. Converting to vector format\n",
    "encoder.adapt(train_dataset.map(lambda text, label: text))\n",
    "\n",
    "vocab = np.array(encoder.get_vocabulary())\n",
    "vocab[0:20]\n"
   ]
  },
  {
   "cell_type": "code",
   "execution_count": 32,
   "metadata": {},
   "outputs": [
    {
     "data": {
      "text/plain": [
       "array([ 17,   1,  10,   9, 893,   1])"
      ]
     },
     "execution_count": 32,
     "metadata": {},
     "output_type": "execute_result"
    }
   ],
   "source": [
    "encoded_example = encoder(\"This pen is a nice pen\").numpy()\n",
    "encoded_example"
   ]
  },
  {
   "cell_type": "code",
   "execution_count": 33,
   "metadata": {},
   "outputs": [
    {
     "name": "stdout",
     "output_type": "stream",
     "text": [
      "Model: \"sequential\"\n",
      "_________________________________________________________________\n",
      " Layer (type)                Output Shape              Param #   \n",
      "=================================================================\n",
      " text_vectorization (TextVe  (None, None)              0         \n",
      " ctorization)                                                    \n",
      "                                                                 \n",
      " embedding (Embedding)       (None, None, 64)          64000     \n",
      "                                                                 \n",
      " simple_rnn (SimpleRNN)      (None, 64)                8256      \n",
      "                                                                 \n",
      " dense (Dense)               (None, 64)                4160      \n",
      "                                                                 \n",
      " dense_1 (Dense)             (None, 3)                 195       \n",
      "                                                                 \n",
      "=================================================================\n",
      "Total params: 76611 (299.26 KB)\n",
      "Trainable params: 76611 (299.26 KB)\n",
      "Non-trainable params: 0 (0.00 Byte)\n",
      "_________________________________________________________________\n"
     ]
    }
   ],
   "source": [
    "#Defining RNN architecture\n",
    "\n",
    "model = Sequential([\n",
    "    encoder, \n",
    "    Embedding(input_dim=len(encoder.get_vocabulary()),\n",
    "        output_dim=64,\n",
    "        mask_zero = True),\n",
    "        SimpleRNN(64), \n",
    "    Dense(64, activation='relu'),\n",
    "    Dense(3, activation='softmax')\n",
    "])   \n",
    "\n",
    "model.summary()"
   ]
  },
  {
   "cell_type": "code",
   "execution_count": 41,
   "metadata": {},
   "outputs": [],
   "source": [
    "#Compiling RNN model\n",
    "\n",
    "model.compile(optimizer='adam', loss='sparse_categorical_crossentropy', metrics=['accuracy'])"
   ]
  },
  {
   "cell_type": "code",
   "execution_count": 42,
   "metadata": {},
   "outputs": [
    {
     "name": "stdout",
     "output_type": "stream",
     "text": [
      "Epoch 1/25\n",
      "166/166 [==============================] - 1s 6ms/step - loss: 0.7749 - accuracy: 0.6679 - val_loss: 0.5442 - val_accuracy: 0.7862\n",
      "Epoch 2/25\n",
      "166/166 [==============================] - 1s 6ms/step - loss: 0.4776 - accuracy: 0.8269 - val_loss: 0.3900 - val_accuracy: 0.8650\n",
      "Epoch 3/25\n",
      "166/166 [==============================] - 1s 6ms/step - loss: 0.3716 - accuracy: 0.8738 - val_loss: 0.3250 - val_accuracy: 0.8886\n",
      "Epoch 4/25\n",
      "166/166 [==============================] - 1s 6ms/step - loss: 0.3176 - accuracy: 0.8937 - val_loss: 0.2830 - val_accuracy: 0.9067\n",
      "Epoch 5/25\n",
      "166/166 [==============================] - 1s 6ms/step - loss: 0.2852 - accuracy: 0.9030 - val_loss: 0.2443 - val_accuracy: 0.9192\n",
      "Epoch 6/25\n",
      "166/166 [==============================] - 1s 6ms/step - loss: 0.2303 - accuracy: 0.9204 - val_loss: 0.2096 - val_accuracy: 0.9302\n",
      "Epoch 7/25\n",
      "166/166 [==============================] - 1s 6ms/step - loss: 0.2092 - accuracy: 0.9305 - val_loss: 0.1843 - val_accuracy: 0.9430\n",
      "Epoch 8/25\n",
      "166/166 [==============================] - 1s 6ms/step - loss: 0.1909 - accuracy: 0.9396 - val_loss: 0.1489 - val_accuracy: 0.9486\n",
      "Epoch 9/25\n",
      "166/166 [==============================] - 1s 6ms/step - loss: 0.1644 - accuracy: 0.9443 - val_loss: 0.1438 - val_accuracy: 0.9538\n",
      "Epoch 10/25\n",
      "166/166 [==============================] - 1s 6ms/step - loss: 0.1404 - accuracy: 0.9521 - val_loss: 0.1120 - val_accuracy: 0.9669\n",
      "Epoch 11/25\n",
      "166/166 [==============================] - 1s 6ms/step - loss: 0.1182 - accuracy: 0.9602 - val_loss: 0.2228 - val_accuracy: 0.9302\n",
      "Epoch 12/25\n",
      "166/166 [==============================] - 1s 6ms/step - loss: 0.1221 - accuracy: 0.9605 - val_loss: 0.0859 - val_accuracy: 0.9727\n",
      "Epoch 13/25\n",
      "166/166 [==============================] - 1s 6ms/step - loss: 0.0943 - accuracy: 0.9701 - val_loss: 0.0867 - val_accuracy: 0.9709\n",
      "Epoch 14/25\n",
      "166/166 [==============================] - 1s 6ms/step - loss: 0.0863 - accuracy: 0.9703 - val_loss: 0.0849 - val_accuracy: 0.9744\n",
      "Epoch 15/25\n",
      "166/166 [==============================] - 1s 6ms/step - loss: 0.0817 - accuracy: 0.9760 - val_loss: 0.0612 - val_accuracy: 0.9806\n",
      "Epoch 16/25\n",
      "166/166 [==============================] - 1s 6ms/step - loss: 0.0725 - accuracy: 0.9772 - val_loss: 0.0606 - val_accuracy: 0.9808\n",
      "Epoch 17/25\n",
      "166/166 [==============================] - 1s 6ms/step - loss: 0.0689 - accuracy: 0.9787 - val_loss: 0.1045 - val_accuracy: 0.9630\n",
      "Epoch 18/25\n",
      "166/166 [==============================] - 1s 6ms/step - loss: 0.0671 - accuracy: 0.9788 - val_loss: 0.0583 - val_accuracy: 0.9817\n",
      "Epoch 19/25\n",
      "166/166 [==============================] - 1s 6ms/step - loss: 0.0641 - accuracy: 0.9789 - val_loss: 0.0799 - val_accuracy: 0.9722\n",
      "Epoch 20/25\n",
      "166/166 [==============================] - 1s 6ms/step - loss: 0.0708 - accuracy: 0.9761 - val_loss: 0.0494 - val_accuracy: 0.9837\n",
      "Epoch 21/25\n",
      "166/166 [==============================] - 1s 6ms/step - loss: 0.0471 - accuracy: 0.9845 - val_loss: 0.0360 - val_accuracy: 0.9891\n",
      "Epoch 22/25\n",
      "166/166 [==============================] - 1s 6ms/step - loss: 0.0732 - accuracy: 0.9763 - val_loss: 0.2443 - val_accuracy: 0.9205\n",
      "Epoch 23/25\n",
      "166/166 [==============================] - 1s 6ms/step - loss: 0.0652 - accuracy: 0.9785 - val_loss: 0.0424 - val_accuracy: 0.9866\n",
      "Epoch 24/25\n",
      "166/166 [==============================] - 1s 6ms/step - loss: 0.0361 - accuracy: 0.9888 - val_loss: 0.0335 - val_accuracy: 0.9884\n",
      "Epoch 25/25\n",
      "166/166 [==============================] - 1s 6ms/step - loss: 0.0360 - accuracy: 0.9877 - val_loss: 0.0357 - val_accuracy: 0.9894\n"
     ]
    }
   ],
   "source": [
    "#Training the model\n",
    "epohcs = 25\n",
    "results = model.fit(train_dataset, epochs=epohcs, validation_data=val_dataset)"
   ]
  },
  {
   "cell_type": "code",
   "execution_count": null,
   "metadata": {},
   "outputs": [],
   "source": [
    "#Prediction \n",
    "\n",
    "## Clean the predict data and do predication and test accuracy again"
   ]
  },
  {
   "cell_type": "code",
   "execution_count": 44,
   "metadata": {},
   "outputs": [
    {
     "name": "stdout",
     "output_type": "stream",
     "text": [
      "166/166 [==============================] - 0s 2ms/step - loss: 0.0330 - accuracy: 0.9894\n",
      "Test loss : 0.03304298222064972\n",
      "Test accuracy : 0.9894259572029114\n"
     ]
    }
   ],
   "source": [
    "test_loss, test_accu = model.evaluate(train_dataset)\n",
    "print('Test loss :',test_loss)\n",
    "print('Test accuracy :',test_accu)\n"
   ]
  },
  {
   "cell_type": "code",
   "execution_count": 45,
   "metadata": {},
   "outputs": [
    {
     "data": {
      "image/png": "[encoded data removed]",
      "text/plain": [
       "<Figure size 1000x800 with 1 Axes>"
      ]
     },
     "metadata": {},
     "output_type": "display_data"
    }
   ],
   "source": [
    "N = np.arange(0, epohcs)\n",
    "plt.style.use('ggplot')\n",
    "plt.figure(figsize=[10, 8])\n",
    "plt.plot(N, results.history['loss'], label='Train_loss')\n",
    "plt.plot(N, results.history['val_loss'], label='val_loss')\n",
    "plt.title(\"RNN training and validation loss\")\n",
    "plt.xlabel(\"Epoch #\", weight='bold')\n",
    "plt.ylabel(\"Loss\", weight='bold')\n",
    "plt.legend()\n",
    "plt.show()"
   ]
  },
  {
   "cell_type": "code",
   "execution_count": 46,
   "metadata": {},
   "outputs": [
    {
     "data": {
      "image/png": "[encoded data removed]",
      "text/plain": [
       "<Figure size 1000x800 with 1 Axes>"
      ]
     },
     "metadata": {},
     "output_type": "display_data"
    }
   ],
   "source": [
    "N = np.arange(0, epohcs)\n",
    "plt.style.use('ggplot')\n",
    "plt.figure(figsize=[10, 8])\n",
    "plt.plot(N, results.history['accuracy'], label='Train_accuracy')\n",
    "plt.plot(N, results.history['val_accuracy'], label='val_accuracy')\n",
    "plt.title(\"RNN training and validation accuracy\")\n",
    "plt.xlabel(\"Epoch #\", weight='bold')\n",
    "plt.ylabel(\"Loss\", weight='bold')\n",
    "plt.legend()\n",
    "plt.show()"
   ]
  },
  {
   "cell_type": "code",
   "execution_count": 49,
   "metadata": {},
   "outputs": [
    {
     "name": "stdout",
     "output_type": "stream",
     "text": [
      "1/1 [==============================] - 0s 10ms/step\n",
      "[[3.4379667e-08 1.0000000e+00 1.5796685e-10]]\n",
      "Positive\n"
     ]
    }
   ],
   "source": [
    "# Predict on a sample text\n",
    "\n",
    "sample_text = ('The movie was good, I would recommend the movie')\n",
    "predict = model.predict(np.array([sample_text]))\n",
    "\n",
    "print(predict)\n",
    "\n",
    "#Add final predication to dataframe\n",
    "if np.argmax(predict) == 0:\n",
    "    print('Neutral')\n",
    "elif np.argmax(predict) == 1:\n",
    "    print('Positive')\n",
    "else:\n",
    "    print('Negative')"
   ]
  },
  {
   "cell_type": "code",
   "execution_count": 52,
   "metadata": {},
   "outputs": [
    {
     "name": "stdout",
     "output_type": "stream",
     "text": [
      "1/1 [==============================] - 0s 12ms/step\n",
      "[[0.02444489 0.02125793 0.9542972 ]]\n",
      "Negative\n"
     ]
    }
   ],
   "source": [
    "sample_text = ('worst movie, dont waste your money')\n",
    "predict = model.predict(np.array([sample_text]))\n",
    "\n",
    "print(predict)\n",
    "\n",
    "#Add final predication to dataframe\n",
    "if np.argmax(predict) == 0:\n",
    "    print('Neutral')\n",
    "elif np.argmax(predict) == 1:\n",
    "    print('Positive')\n",
    "else:\n",
    "    print('Negative')"
   ]
  },
  {
   "cell_type": "code",
   "execution_count": 53,
   "metadata": {},
   "outputs": [
    {
     "ename": "NotImplementedError",
     "evalue": "Save or restore weights that is not an instance of `tf.Variable` is not supported in h5, use `save_format='tf'` instead. Received a model or layer TextVectorization with weights [<keras.src.layers.preprocessing.index_lookup.VocabWeightHandler object at 0x29c60dcd0>]",
     "output_type": "error",
     "traceback": [
      "\u001b[0;31m---------------------------------------------------------------------------\u001b[0m",
      "\u001b[0;31mNotImplementedError\u001b[0m                       Traceback (most recent call last)",
      "\u001b[1;32m/Users/pawankumarkc/Documents/vscode_workspace/MLAlgo/RNN/RNN_casestudy.ipynb Cell 34\u001b[0m line \u001b[0;36m1\n\u001b[0;32m----> <a href='vscode-notebook-cell:/Users/pawankumarkc/Documents/vscode_workspace/MLAlgo/RNN/RNN_casestudy.ipynb#X50sZmlsZQ%3D%3D?line=0'>1</a>\u001b[0m model\u001b[39m.\u001b[39;49msave(\u001b[39m'\u001b[39;49m\u001b[39mSentiment_RNN.model\u001b[39;49m\u001b[39m'\u001b[39;49m, save_format\u001b[39m=\u001b[39;49m\u001b[39m'\u001b[39;49m\u001b[39mh5\u001b[39;49m\u001b[39m'\u001b[39;49m)\n",
      "File \u001b[0;32m/Library/Frameworks/Python.framework/Versions/3.11/lib/python3.11/site-packages/keras/src/utils/traceback_utils.py:70\u001b[0m, in \u001b[0;36mfilter_traceback.<locals>.error_handler\u001b[0;34m(*args, **kwargs)\u001b[0m\n\u001b[1;32m     67\u001b[0m     filtered_tb \u001b[39m=\u001b[39m _process_traceback_frames(e\u001b[39m.\u001b[39m__traceback__)\n\u001b[1;32m     68\u001b[0m     \u001b[39m# To get the full stack trace, call:\u001b[39;00m\n\u001b[1;32m     69\u001b[0m     \u001b[39m# `tf.debugging.disable_traceback_filtering()`\u001b[39;00m\n\u001b[0;32m---> 70\u001b[0m     \u001b[39mraise\u001b[39;00m e\u001b[39m.\u001b[39mwith_traceback(filtered_tb) \u001b[39mfrom\u001b[39;00m \u001b[39mNone\u001b[39m\n\u001b[1;32m     71\u001b[0m \u001b[39mfinally\u001b[39;00m:\n\u001b[1;32m     72\u001b[0m     \u001b[39mdel\u001b[39;00m filtered_tb\n",
      "File \u001b[0;32m/Library/Frameworks/Python.framework/Versions/3.11/lib/python3.11/site-packages/keras/src/saving/legacy/hdf5_format.py:1110\u001b[0m, in \u001b[0;36m_legacy_weights\u001b[0;34m(layer)\u001b[0m\n\u001b[1;32m   1108\u001b[0m weights \u001b[39m=\u001b[39m layer\u001b[39m.\u001b[39mtrainable_weights \u001b[39m+\u001b[39m layer\u001b[39m.\u001b[39mnon_trainable_weights\n\u001b[1;32m   1109\u001b[0m \u001b[39mif\u001b[39;00m \u001b[39many\u001b[39m(\u001b[39mnot\u001b[39;00m \u001b[39misinstance\u001b[39m(w, tf\u001b[39m.\u001b[39mVariable) \u001b[39mfor\u001b[39;00m w \u001b[39min\u001b[39;00m weights):\n\u001b[0;32m-> 1110\u001b[0m     \u001b[39mraise\u001b[39;00m \u001b[39mNotImplementedError\u001b[39;00m(\n\u001b[1;32m   1111\u001b[0m         \u001b[39m\"\u001b[39m\u001b[39mSave or restore weights that is not an instance of `tf.Variable` \u001b[39m\u001b[39m\"\u001b[39m\n\u001b[1;32m   1112\u001b[0m         \u001b[39m\"\u001b[39m\u001b[39mis not supported in h5, use `save_format=\u001b[39m\u001b[39m'\u001b[39m\u001b[39mtf\u001b[39m\u001b[39m'\u001b[39m\u001b[39m` instead. Received \u001b[39m\u001b[39m\"\u001b[39m\n\u001b[1;32m   1113\u001b[0m         \u001b[39mf\u001b[39m\u001b[39m\"\u001b[39m\u001b[39ma model or layer \u001b[39m\u001b[39m{\u001b[39;00mlayer\u001b[39m.\u001b[39m\u001b[39m__class__\u001b[39m\u001b[39m.\u001b[39m\u001b[39m__name__\u001b[39m\u001b[39m}\u001b[39;00m\u001b[39m \u001b[39m\u001b[39m\"\u001b[39m\n\u001b[1;32m   1114\u001b[0m         \u001b[39mf\u001b[39m\u001b[39m\"\u001b[39m\u001b[39mwith weights \u001b[39m\u001b[39m{\u001b[39;00mweights\u001b[39m}\u001b[39;00m\u001b[39m\"\u001b[39m\n\u001b[1;32m   1115\u001b[0m     )\n\u001b[1;32m   1116\u001b[0m \u001b[39mreturn\u001b[39;00m weights\n",
      "\u001b[0;31mNotImplementedError\u001b[0m: Save or restore weights that is not an instance of `tf.Variable` is not supported in h5, use `save_format='tf'` instead. Received a model or layer TextVectorization with weights [<keras.src.layers.preprocessing.index_lookup.VocabWeightHandler object at 0x29c60dcd0>]"
     ]
    }
   ],
   "source": [
    "model.save('Sentiment_RNN.model', save_format='h5')"
   ]
  }
 ],
 "metadata": {
  "kernelspec": {
   "display_name": "Python 3",
   "language": "python",
   "name": "python3"
  },
  "language_info": {
   "codemirror_mode": {
    "name": "ipython",
    "version": 3
   },
   "file_extension": ".py",
   "mimetype": "text/x-python",
   "name": "python",
   "nbconvert_exporter": "python",
   "pygments_lexer": "ipython3",
   "version": "3.11.1"
  }
 },
 "nbformat": 4,
 "nbformat_minor": 2
}
