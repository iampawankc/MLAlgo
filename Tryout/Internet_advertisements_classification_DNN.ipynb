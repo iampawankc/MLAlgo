{
 "cells": [
  {
   "cell_type": "code",
   "execution_count": 1,
   "metadata": {},
   "outputs": [],
   "source": [
    "import pandas as pd\n",
    "import numpy as np\n",
    "import matplotlib.pyplot as plt"
   ]
  },
  {
   "cell_type": "code",
   "execution_count": 2,
   "metadata": {},
   "outputs": [
    {
     "name": "stderr",
     "output_type": "stream",
     "text": [
      "/var/folders/xf/kbnr5k6x1jdf2_jb1xc41d580000gn/T/ipykernel_1098/1448111459.py:1: DtypeWarning: Columns (3) have mixed types. Specify dtype option on import or set low_memory=False.\n",
      "  dataset = pd.read_csv('/Users/pawankumarkc/Documents/vscode_workspace/MLAlgo/datasets/InternetAdvertisements/ad.data')\n"
     ]
    },
    {
     "data": {
      "text/html": [
       "<div>\n",
       "<style scoped>\n",
       "    .dataframe tbody tr th:only-of-type {\n",
       "        vertical-align: middle;\n",
       "    }\n",
       "\n",
       "    .dataframe tbody tr th {\n",
       "        vertical-align: top;\n",
       "    }\n",
       "\n",
       "    .dataframe thead th {\n",
       "        text-align: right;\n",
       "    }\n",
       "</style>\n",
       "<table border=\"1\" class=\"dataframe\">\n",
       "  <thead>\n",
       "    <tr style=\"text-align: right;\">\n",
       "      <th></th>\n",
       "      <th>125</th>\n",
       "      <th>125.1</th>\n",
       "      <th>1.0</th>\n",
       "      <th>1</th>\n",
       "      <th>0</th>\n",
       "      <th>0.1</th>\n",
       "      <th>0.2</th>\n",
       "      <th>0.3</th>\n",
       "      <th>0.4</th>\n",
       "      <th>0.5</th>\n",
       "      <th>...</th>\n",
       "      <th>0.1532</th>\n",
       "      <th>0.1533</th>\n",
       "      <th>0.1534</th>\n",
       "      <th>0.1535</th>\n",
       "      <th>0.1536</th>\n",
       "      <th>0.1537</th>\n",
       "      <th>0.1538</th>\n",
       "      <th>0.1539</th>\n",
       "      <th>0.1540</th>\n",
       "      <th>ad.</th>\n",
       "    </tr>\n",
       "  </thead>\n",
       "  <tbody>\n",
       "    <tr>\n",
       "      <th>0</th>\n",
       "      <td>57</td>\n",
       "      <td>468</td>\n",
       "      <td>8.2105</td>\n",
       "      <td>1</td>\n",
       "      <td>0</td>\n",
       "      <td>0</td>\n",
       "      <td>0</td>\n",
       "      <td>0</td>\n",
       "      <td>0</td>\n",
       "      <td>0</td>\n",
       "      <td>...</td>\n",
       "      <td>0</td>\n",
       "      <td>0</td>\n",
       "      <td>0</td>\n",
       "      <td>0</td>\n",
       "      <td>0</td>\n",
       "      <td>0</td>\n",
       "      <td>0</td>\n",
       "      <td>0</td>\n",
       "      <td>0</td>\n",
       "      <td>ad.</td>\n",
       "    </tr>\n",
       "    <tr>\n",
       "      <th>1</th>\n",
       "      <td>33</td>\n",
       "      <td>230</td>\n",
       "      <td>6.9696</td>\n",
       "      <td>1</td>\n",
       "      <td>0</td>\n",
       "      <td>0</td>\n",
       "      <td>0</td>\n",
       "      <td>0</td>\n",
       "      <td>0</td>\n",
       "      <td>0</td>\n",
       "      <td>...</td>\n",
       "      <td>0</td>\n",
       "      <td>0</td>\n",
       "      <td>0</td>\n",
       "      <td>0</td>\n",
       "      <td>0</td>\n",
       "      <td>0</td>\n",
       "      <td>0</td>\n",
       "      <td>0</td>\n",
       "      <td>0</td>\n",
       "      <td>ad.</td>\n",
       "    </tr>\n",
       "    <tr>\n",
       "      <th>2</th>\n",
       "      <td>60</td>\n",
       "      <td>468</td>\n",
       "      <td>7.8</td>\n",
       "      <td>1</td>\n",
       "      <td>0</td>\n",
       "      <td>0</td>\n",
       "      <td>0</td>\n",
       "      <td>0</td>\n",
       "      <td>0</td>\n",
       "      <td>0</td>\n",
       "      <td>...</td>\n",
       "      <td>0</td>\n",
       "      <td>0</td>\n",
       "      <td>0</td>\n",
       "      <td>0</td>\n",
       "      <td>0</td>\n",
       "      <td>0</td>\n",
       "      <td>0</td>\n",
       "      <td>0</td>\n",
       "      <td>0</td>\n",
       "      <td>ad.</td>\n",
       "    </tr>\n",
       "    <tr>\n",
       "      <th>3</th>\n",
       "      <td>60</td>\n",
       "      <td>468</td>\n",
       "      <td>7.8</td>\n",
       "      <td>1</td>\n",
       "      <td>0</td>\n",
       "      <td>0</td>\n",
       "      <td>0</td>\n",
       "      <td>0</td>\n",
       "      <td>0</td>\n",
       "      <td>0</td>\n",
       "      <td>...</td>\n",
       "      <td>0</td>\n",
       "      <td>0</td>\n",
       "      <td>0</td>\n",
       "      <td>0</td>\n",
       "      <td>0</td>\n",
       "      <td>0</td>\n",
       "      <td>0</td>\n",
       "      <td>0</td>\n",
       "      <td>0</td>\n",
       "      <td>ad.</td>\n",
       "    </tr>\n",
       "    <tr>\n",
       "      <th>4</th>\n",
       "      <td>60</td>\n",
       "      <td>468</td>\n",
       "      <td>7.8</td>\n",
       "      <td>1</td>\n",
       "      <td>0</td>\n",
       "      <td>0</td>\n",
       "      <td>0</td>\n",
       "      <td>0</td>\n",
       "      <td>0</td>\n",
       "      <td>0</td>\n",
       "      <td>...</td>\n",
       "      <td>0</td>\n",
       "      <td>0</td>\n",
       "      <td>0</td>\n",
       "      <td>0</td>\n",
       "      <td>0</td>\n",
       "      <td>0</td>\n",
       "      <td>0</td>\n",
       "      <td>0</td>\n",
       "      <td>0</td>\n",
       "      <td>ad.</td>\n",
       "    </tr>\n",
       "  </tbody>\n",
       "</table>\n",
       "<p>5 rows × 1559 columns</p>\n",
       "</div>"
      ],
      "text/plain": [
       "    125  125.1     1.0  1  0  0.1  0.2  0.3  0.4  0.5  ...  0.1532  0.1533  \\\n",
       "0    57    468  8.2105  1  0    0    0    0    0    0  ...       0       0   \n",
       "1    33    230  6.9696  1  0    0    0    0    0    0  ...       0       0   \n",
       "2    60    468     7.8  1  0    0    0    0    0    0  ...       0       0   \n",
       "3    60    468     7.8  1  0    0    0    0    0    0  ...       0       0   \n",
       "4    60    468     7.8  1  0    0    0    0    0    0  ...       0       0   \n",
       "\n",
       "   0.1534  0.1535  0.1536  0.1537  0.1538  0.1539  0.1540  ad.  \n",
       "0       0       0       0       0       0       0       0  ad.  \n",
       "1       0       0       0       0       0       0       0  ad.  \n",
       "2       0       0       0       0       0       0       0  ad.  \n",
       "3       0       0       0       0       0       0       0  ad.  \n",
       "4       0       0       0       0       0       0       0  ad.  \n",
       "\n",
       "[5 rows x 1559 columns]"
      ]
     },
     "execution_count": 2,
     "metadata": {},
     "output_type": "execute_result"
    }
   ],
   "source": [
    "dataset = pd.read_csv('/Users/pawankumarkc/Documents/vscode_workspace/MLAlgo/datasets/InternetAdvertisements/ad.data')\n",
    "dataset.head()"
   ]
  },
  {
   "cell_type": "code",
   "execution_count": 3,
   "metadata": {},
   "outputs": [
    {
     "data": {
      "text/plain": [
       "(3278, 1559)"
      ]
     },
     "execution_count": 3,
     "metadata": {},
     "output_type": "execute_result"
    }
   ],
   "source": [
    "dataset.shape"
   ]
  },
  {
   "cell_type": "code",
   "execution_count": 4,
   "metadata": {},
   "outputs": [
    {
     "data": {
      "text/plain": [
       "<bound method DataFrame.info of        125  125.1     1.0  1  0  0.1  0.2  0.3  0.4  0.5  ...  0.1532  0.1533  \\\n",
       "0       57    468  8.2105  1  0    0    0    0    0    0  ...       0       0   \n",
       "1       33    230  6.9696  1  0    0    0    0    0    0  ...       0       0   \n",
       "2       60    468     7.8  1  0    0    0    0    0    0  ...       0       0   \n",
       "3       60    468     7.8  1  0    0    0    0    0    0  ...       0       0   \n",
       "4       60    468     7.8  1  0    0    0    0    0    0  ...       0       0   \n",
       "...    ...    ...     ... .. ..  ...  ...  ...  ...  ...  ...     ...     ...   \n",
       "3273   170     94  0.5529  0  0    0    0    0    0    0  ...       0       0   \n",
       "3274   101    140  1.3861  1  0    0    0    0    0    0  ...       0       0   \n",
       "3275    23    120  5.2173  1  0    0    0    0    0    0  ...       0       0   \n",
       "3276     ?      ?       ?  1  0    0    0    0    0    0  ...       0       0   \n",
       "3277    40     40     1.0  1  0    0    0    0    0    0  ...       0       0   \n",
       "\n",
       "      0.1534  0.1535  0.1536  0.1537  0.1538  0.1539  0.1540     ad.  \n",
       "0          0       0       0       0       0       0       0     ad.  \n",
       "1          0       0       0       0       0       0       0     ad.  \n",
       "2          0       0       0       0       0       0       0     ad.  \n",
       "3          0       0       0       0       0       0       0     ad.  \n",
       "4          0       0       0       0       0       0       0     ad.  \n",
       "...      ...     ...     ...     ...     ...     ...     ...     ...  \n",
       "3273       0       0       0       0       0       0       0  nonad.  \n",
       "3274       0       0       0       0       0       0       0  nonad.  \n",
       "3275       0       0       0       0       0       0       0  nonad.  \n",
       "3276       0       0       0       0       0       0       0  nonad.  \n",
       "3277       0       0       0       0       0       0       0  nonad.  \n",
       "\n",
       "[3278 rows x 1559 columns]>"
      ]
     },
     "execution_count": 4,
     "metadata": {},
     "output_type": "execute_result"
    }
   ],
   "source": [
    "dataset.info"
   ]
  },
  {
   "cell_type": "code",
   "execution_count": 5,
   "metadata": {},
   "outputs": [
    {
     "data": {
      "text/plain": [
       " 125      0\n",
       " 125.1    0\n",
       "   1.0    0\n",
       "1         0\n",
       "0         0\n",
       "         ..\n",
       "0.1537    0\n",
       "0.1538    0\n",
       "0.1539    0\n",
       "0.1540    0\n",
       "ad.       0\n",
       "Length: 1559, dtype: int64"
      ]
     },
     "execution_count": 5,
     "metadata": {},
     "output_type": "execute_result"
    }
   ],
   "source": [
    "dataset.isnull().sum()"
   ]
  }
 ],
 "metadata": {
  "kernelspec": {
   "display_name": "Python 3",
   "language": "python",
   "name": "python3"
  },
  "language_info": {
   "codemirror_mode": {
    "name": "ipython",
    "version": 3
   },
   "file_extension": ".py",
   "mimetype": "text/x-python",
   "name": "python",
   "nbconvert_exporter": "python",
   "pygments_lexer": "ipython3",
   "version": "3.11.1"
  },
  "orig_nbformat": 4
 },
 "nbformat": 4,
 "nbformat_minor": 2
}
